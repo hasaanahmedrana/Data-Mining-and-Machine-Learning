{
 "cells": [
  {
   "cell_type": "markdown",
   "id": "cd931747499eb99d",
   "metadata": {},
   "source": [
    "# Preprocessing\n",
    "Link to data set: https://www.kaggle.com/datasets/muhammadalirazazaidi/screen-time-data-productivity-and-attention-span"
   ]
  },
  {
   "cell_type": "code",
   "id": "3dc9044ec4606805",
   "metadata": {
    "ExecuteTime": {
     "end_time": "2025-02-17T17:40:04.701519Z",
     "start_time": "2025-02-17T17:40:04.519463Z"
    }
   },
   "source": [
    "import sklearn\n",
    "print(sklearn.__version__)"
   ],
   "outputs": [
    {
     "name": "stdout",
     "output_type": "stream",
     "text": [
      "1.6.0\n"
     ]
    }
   ],
   "execution_count": 29
  },
  {
   "cell_type": "code",
   "id": "initial_id",
   "metadata": {
    "ExecuteTime": {
     "end_time": "2025-02-17T17:40:04.758224Z",
     "start_time": "2025-02-17T17:40:04.701519Z"
    }
   },
   "source": [
    "import pandas as pd\n",
    "from sklearn.preprocessing import OneHotEncoder, OrdinalEncoder\n",
    "from sklearn.compose import ColumnTransformer\n",
    "from sklearn.preprocessing import StandardScaler, MinMaxScaler\n",
    "from sklearn.model_selection import train_test_split"
   ],
   "outputs": [],
   "execution_count": 30
  },
  {
   "cell_type": "code",
   "id": "b583ede73983f16c",
   "metadata": {
    "ExecuteTime": {
     "end_time": "2025-02-17T17:40:04.775206Z",
     "start_time": "2025-02-17T17:40:04.758224Z"
    }
   },
   "source": [
    "# Load the data"
   ],
   "outputs": [],
   "execution_count": 31
  },
  {
   "cell_type": "code",
   "id": "6f27301dff2e133e",
   "metadata": {
    "ExecuteTime": {
     "end_time": "2025-02-17T17:40:05.050417Z",
     "start_time": "2025-02-17T17:40:04.775206Z"
    }
   },
   "source": [
    "data = pd.read_csv('screen_time.csv')\n",
    "data = data.drop(columns=['Unnamed: 0'])"
   ],
   "outputs": [],
   "execution_count": 32
  },
  {
   "metadata": {
    "ExecuteTime": {
     "end_time": "2025-02-17T17:40:05.085120Z",
     "start_time": "2025-02-17T17:40:05.050417Z"
    }
   },
   "cell_type": "code",
   "source": "data.shape",
   "id": "90c800aea61632c6",
   "outputs": [
    {
     "data": {
      "text/plain": [
       "(200, 15)"
      ]
     },
     "execution_count": 33,
     "metadata": {},
     "output_type": "execute_result"
    }
   ],
   "execution_count": 33
  },
  {
   "cell_type": "code",
   "id": "6f4adeb02c36f1e9",
   "metadata": {
    "ExecuteTime": {
     "end_time": "2025-02-17T17:40:05.165399Z",
     "start_time": "2025-02-17T17:40:05.085120Z"
    }
   },
   "source": [
    "data.head()"
   ],
   "outputs": [
    {
     "data": {
      "text/plain": [
       "      Age Group  Gender Education Level    Occupation Average Screen Time  \\\n",
       "0         18–24    Male   Undergraduate       Student        More than 10   \n",
       "1         18–24    Male   Undergraduate  Professional                8-10   \n",
       "2  45 and above  Female        Graduate  Professional                 4–6   \n",
       "3         25–34    Male   Undergraduate  Professional                8-10   \n",
       "4  45 and above    Male        Graduate  Professional                8-10   \n",
       "\n",
       "       Device                                    Screen Activity  \\\n",
       "0  Smartphone  Entertainment (gaming, streaming, social media...   \n",
       "1  Smartphone  Entertainment (gaming, streaming, social media...   \n",
       "2  Smartphone                              Academic/Work-related   \n",
       "3   Laptop/PC                              Academic/Work-related   \n",
       "4   Laptop/PC                              Academic/Work-related   \n",
       "\n",
       "                                        App Category       Screen Time Period  \\\n",
       "0  Social Media (e.g., Facebook, Instagram, Linke...     Evening (6 PM–10 PM)   \n",
       "1                 Streaming (e.g., YouTube, Netflix)  Late night (10 PM–6 AM)   \n",
       "2  Social Media (e.g., Facebook, Instagram, Linke...   Afternoon (12 PM–6 PM)   \n",
       "3  Social Media (e.g., Facebook, Instagram, Linke...   Afternoon (12 PM–6 PM)   \n",
       "4      Productivity (e.g., Microsoft Office, Notion)   Afternoon (12 PM–6 PM)   \n",
       "\n",
       "                     Environment  \\\n",
       "0                Quite workplace   \n",
       "1                Quite workplace   \n",
       "2  I can work in any environment   \n",
       "3                Quite workplace   \n",
       "4  I can work in any environment   \n",
       "\n",
       "                                        Productivity    Attention Span  \\\n",
       "0                              Moderately productive     10–30 minutes   \n",
       "1                              Moderately productive  More than 1 hour   \n",
       "2                              Moderately productive     10–30 minutes   \n",
       "3  Extremely productive, i efficiently complete m...     10–30 minutes   \n",
       "4  Extremely productive, i efficiently complete m...     30–60 minutes   \n",
       "\n",
       "                                   Work Strategy  \\\n",
       "0                            Take regular breaks   \n",
       "1  None, i prefer to work without any strategies   \n",
       "2                            Take regular breaks   \n",
       "3  None, i prefer to work without any strategies   \n",
       "4  None, i prefer to work without any strategies   \n",
       "\n",
       "                    Notification Handling  \\\n",
       "0   Check them briefly and resume my work   \n",
       "1  Ignore them until my task is completed   \n",
       "2   Check them briefly and resume my work   \n",
       "3  Ignore them until my task is completed   \n",
       "4   Check them briefly and resume my work   \n",
       "\n",
       "                 Usage of Productivity Apps  \n",
       "0  Yes, but i did not find them of any help  \n",
       "1                     No, i do not use them  \n",
       "2                     No, i do not use them  \n",
       "3                     No, i do not use them  \n",
       "4                     No, i do not use them  "
      ],
      "text/html": [
       "<div>\n",
       "<style scoped>\n",
       "    .dataframe tbody tr th:only-of-type {\n",
       "        vertical-align: middle;\n",
       "    }\n",
       "\n",
       "    .dataframe tbody tr th {\n",
       "        vertical-align: top;\n",
       "    }\n",
       "\n",
       "    .dataframe thead th {\n",
       "        text-align: right;\n",
       "    }\n",
       "</style>\n",
       "<table border=\"1\" class=\"dataframe\">\n",
       "  <thead>\n",
       "    <tr style=\"text-align: right;\">\n",
       "      <th></th>\n",
       "      <th>Age Group</th>\n",
       "      <th>Gender</th>\n",
       "      <th>Education Level</th>\n",
       "      <th>Occupation</th>\n",
       "      <th>Average Screen Time</th>\n",
       "      <th>Device</th>\n",
       "      <th>Screen Activity</th>\n",
       "      <th>App Category</th>\n",
       "      <th>Screen Time Period</th>\n",
       "      <th>Environment</th>\n",
       "      <th>Productivity</th>\n",
       "      <th>Attention Span</th>\n",
       "      <th>Work Strategy</th>\n",
       "      <th>Notification Handling</th>\n",
       "      <th>Usage of Productivity Apps</th>\n",
       "    </tr>\n",
       "  </thead>\n",
       "  <tbody>\n",
       "    <tr>\n",
       "      <th>0</th>\n",
       "      <td>18–24</td>\n",
       "      <td>Male</td>\n",
       "      <td>Undergraduate</td>\n",
       "      <td>Student</td>\n",
       "      <td>More than 10</td>\n",
       "      <td>Smartphone</td>\n",
       "      <td>Entertainment (gaming, streaming, social media...</td>\n",
       "      <td>Social Media (e.g., Facebook, Instagram, Linke...</td>\n",
       "      <td>Evening (6 PM–10 PM)</td>\n",
       "      <td>Quite workplace</td>\n",
       "      <td>Moderately productive</td>\n",
       "      <td>10–30 minutes</td>\n",
       "      <td>Take regular breaks</td>\n",
       "      <td>Check them briefly and resume my work</td>\n",
       "      <td>Yes, but i did not find them of any help</td>\n",
       "    </tr>\n",
       "    <tr>\n",
       "      <th>1</th>\n",
       "      <td>18–24</td>\n",
       "      <td>Male</td>\n",
       "      <td>Undergraduate</td>\n",
       "      <td>Professional</td>\n",
       "      <td>8-10</td>\n",
       "      <td>Smartphone</td>\n",
       "      <td>Entertainment (gaming, streaming, social media...</td>\n",
       "      <td>Streaming (e.g., YouTube, Netflix)</td>\n",
       "      <td>Late night (10 PM–6 AM)</td>\n",
       "      <td>Quite workplace</td>\n",
       "      <td>Moderately productive</td>\n",
       "      <td>More than 1 hour</td>\n",
       "      <td>None, i prefer to work without any strategies</td>\n",
       "      <td>Ignore them until my task is completed</td>\n",
       "      <td>No, i do not use them</td>\n",
       "    </tr>\n",
       "    <tr>\n",
       "      <th>2</th>\n",
       "      <td>45 and above</td>\n",
       "      <td>Female</td>\n",
       "      <td>Graduate</td>\n",
       "      <td>Professional</td>\n",
       "      <td>4–6</td>\n",
       "      <td>Smartphone</td>\n",
       "      <td>Academic/Work-related</td>\n",
       "      <td>Social Media (e.g., Facebook, Instagram, Linke...</td>\n",
       "      <td>Afternoon (12 PM–6 PM)</td>\n",
       "      <td>I can work in any environment</td>\n",
       "      <td>Moderately productive</td>\n",
       "      <td>10–30 minutes</td>\n",
       "      <td>Take regular breaks</td>\n",
       "      <td>Check them briefly and resume my work</td>\n",
       "      <td>No, i do not use them</td>\n",
       "    </tr>\n",
       "    <tr>\n",
       "      <th>3</th>\n",
       "      <td>25–34</td>\n",
       "      <td>Male</td>\n",
       "      <td>Undergraduate</td>\n",
       "      <td>Professional</td>\n",
       "      <td>8-10</td>\n",
       "      <td>Laptop/PC</td>\n",
       "      <td>Academic/Work-related</td>\n",
       "      <td>Social Media (e.g., Facebook, Instagram, Linke...</td>\n",
       "      <td>Afternoon (12 PM–6 PM)</td>\n",
       "      <td>Quite workplace</td>\n",
       "      <td>Extremely productive, i efficiently complete m...</td>\n",
       "      <td>10–30 minutes</td>\n",
       "      <td>None, i prefer to work without any strategies</td>\n",
       "      <td>Ignore them until my task is completed</td>\n",
       "      <td>No, i do not use them</td>\n",
       "    </tr>\n",
       "    <tr>\n",
       "      <th>4</th>\n",
       "      <td>45 and above</td>\n",
       "      <td>Male</td>\n",
       "      <td>Graduate</td>\n",
       "      <td>Professional</td>\n",
       "      <td>8-10</td>\n",
       "      <td>Laptop/PC</td>\n",
       "      <td>Academic/Work-related</td>\n",
       "      <td>Productivity (e.g., Microsoft Office, Notion)</td>\n",
       "      <td>Afternoon (12 PM–6 PM)</td>\n",
       "      <td>I can work in any environment</td>\n",
       "      <td>Extremely productive, i efficiently complete m...</td>\n",
       "      <td>30–60 minutes</td>\n",
       "      <td>None, i prefer to work without any strategies</td>\n",
       "      <td>Check them briefly and resume my work</td>\n",
       "      <td>No, i do not use them</td>\n",
       "    </tr>\n",
       "  </tbody>\n",
       "</table>\n",
       "</div>"
      ]
     },
     "execution_count": 34,
     "metadata": {},
     "output_type": "execute_result"
    }
   ],
   "execution_count": 34
  },
  {
   "cell_type": "code",
   "id": "dc9d41c06871775f",
   "metadata": {
    "ExecuteTime": {
     "end_time": "2025-02-17T17:40:05.279901Z",
     "start_time": "2025-02-17T17:40:05.166785Z"
    }
   },
   "source": [
    "data.info()"
   ],
   "outputs": [
    {
     "name": "stdout",
     "output_type": "stream",
     "text": [
      "<class 'pandas.core.frame.DataFrame'>\n",
      "RangeIndex: 200 entries, 0 to 199\n",
      "Data columns (total 15 columns):\n",
      " #   Column                      Non-Null Count  Dtype \n",
      "---  ------                      --------------  ----- \n",
      " 0   Age Group                   200 non-null    object\n",
      " 1   Gender                      200 non-null    object\n",
      " 2   Education Level             200 non-null    object\n",
      " 3   Occupation                  200 non-null    object\n",
      " 4   Average Screen Time         200 non-null    object\n",
      " 5   Device                      200 non-null    object\n",
      " 6   Screen Activity             200 non-null    object\n",
      " 7   App Category                200 non-null    object\n",
      " 8   Screen Time Period          200 non-null    object\n",
      " 9   Environment                 198 non-null    object\n",
      " 10  Productivity                200 non-null    object\n",
      " 11  Attention Span              200 non-null    object\n",
      " 12  Work Strategy               197 non-null    object\n",
      " 13  Notification Handling       199 non-null    object\n",
      " 14  Usage of Productivity Apps  200 non-null    object\n",
      "dtypes: object(15)\n",
      "memory usage: 23.6+ KB\n"
     ]
    }
   ],
   "execution_count": 35
  },
  {
   "cell_type": "code",
   "id": "bc13823bb4514826",
   "metadata": {
    "ExecuteTime": {
     "end_time": "2025-02-17T17:40:05.347952Z",
     "start_time": "2025-02-17T17:40:05.279901Z"
    }
   },
   "source": [
    "data.describe()"
   ],
   "outputs": [
    {
     "data": {
      "text/plain": [
       "       Age Group Gender Education Level Occupation Average Screen Time  \\\n",
       "count        200    200             200        200                 200   \n",
       "unique         5      2               3          2                   6   \n",
       "top        18–24   Male   Undergraduate    Student                 6–8   \n",
       "freq         126    132             106        124                  51   \n",
       "\n",
       "            Device                                    Screen Activity  \\\n",
       "count          200                                                200   \n",
       "unique           4                                                  2   \n",
       "top     Smartphone  Entertainment (gaming, streaming, social media...   \n",
       "freq           126                                                112   \n",
       "\n",
       "                                             App Category  \\\n",
       "count                                                 200   \n",
       "unique                                                  5   \n",
       "top     Social Media (e.g., Facebook, Instagram, Linke...   \n",
       "freq                                                  100   \n",
       "\n",
       "          Screen Time Period      Environment           Productivity  \\\n",
       "count                    200              198                    200   \n",
       "unique                     4                4                      3   \n",
       "top     Evening (6 PM–10 PM)  Quite workplace  Moderately productive   \n",
       "freq                      95               99                    107   \n",
       "\n",
       "       Attention Span                                  Work Strategy  \\\n",
       "count             200                                            197   \n",
       "unique              4                                              4   \n",
       "top     10–30 minutes  None, i prefer to work without any strategies   \n",
       "freq               64                                             71   \n",
       "\n",
       "                        Notification Handling Usage of Productivity Apps  \n",
       "count                                     199                        200  \n",
       "unique                                      4                          3  \n",
       "top     Check them briefly and resume my work      No, i do not use them  \n",
       "freq                                       72                        123  "
      ],
      "text/html": [
       "<div>\n",
       "<style scoped>\n",
       "    .dataframe tbody tr th:only-of-type {\n",
       "        vertical-align: middle;\n",
       "    }\n",
       "\n",
       "    .dataframe tbody tr th {\n",
       "        vertical-align: top;\n",
       "    }\n",
       "\n",
       "    .dataframe thead th {\n",
       "        text-align: right;\n",
       "    }\n",
       "</style>\n",
       "<table border=\"1\" class=\"dataframe\">\n",
       "  <thead>\n",
       "    <tr style=\"text-align: right;\">\n",
       "      <th></th>\n",
       "      <th>Age Group</th>\n",
       "      <th>Gender</th>\n",
       "      <th>Education Level</th>\n",
       "      <th>Occupation</th>\n",
       "      <th>Average Screen Time</th>\n",
       "      <th>Device</th>\n",
       "      <th>Screen Activity</th>\n",
       "      <th>App Category</th>\n",
       "      <th>Screen Time Period</th>\n",
       "      <th>Environment</th>\n",
       "      <th>Productivity</th>\n",
       "      <th>Attention Span</th>\n",
       "      <th>Work Strategy</th>\n",
       "      <th>Notification Handling</th>\n",
       "      <th>Usage of Productivity Apps</th>\n",
       "    </tr>\n",
       "  </thead>\n",
       "  <tbody>\n",
       "    <tr>\n",
       "      <th>count</th>\n",
       "      <td>200</td>\n",
       "      <td>200</td>\n",
       "      <td>200</td>\n",
       "      <td>200</td>\n",
       "      <td>200</td>\n",
       "      <td>200</td>\n",
       "      <td>200</td>\n",
       "      <td>200</td>\n",
       "      <td>200</td>\n",
       "      <td>198</td>\n",
       "      <td>200</td>\n",
       "      <td>200</td>\n",
       "      <td>197</td>\n",
       "      <td>199</td>\n",
       "      <td>200</td>\n",
       "    </tr>\n",
       "    <tr>\n",
       "      <th>unique</th>\n",
       "      <td>5</td>\n",
       "      <td>2</td>\n",
       "      <td>3</td>\n",
       "      <td>2</td>\n",
       "      <td>6</td>\n",
       "      <td>4</td>\n",
       "      <td>2</td>\n",
       "      <td>5</td>\n",
       "      <td>4</td>\n",
       "      <td>4</td>\n",
       "      <td>3</td>\n",
       "      <td>4</td>\n",
       "      <td>4</td>\n",
       "      <td>4</td>\n",
       "      <td>3</td>\n",
       "    </tr>\n",
       "    <tr>\n",
       "      <th>top</th>\n",
       "      <td>18–24</td>\n",
       "      <td>Male</td>\n",
       "      <td>Undergraduate</td>\n",
       "      <td>Student</td>\n",
       "      <td>6–8</td>\n",
       "      <td>Smartphone</td>\n",
       "      <td>Entertainment (gaming, streaming, social media...</td>\n",
       "      <td>Social Media (e.g., Facebook, Instagram, Linke...</td>\n",
       "      <td>Evening (6 PM–10 PM)</td>\n",
       "      <td>Quite workplace</td>\n",
       "      <td>Moderately productive</td>\n",
       "      <td>10–30 minutes</td>\n",
       "      <td>None, i prefer to work without any strategies</td>\n",
       "      <td>Check them briefly and resume my work</td>\n",
       "      <td>No, i do not use them</td>\n",
       "    </tr>\n",
       "    <tr>\n",
       "      <th>freq</th>\n",
       "      <td>126</td>\n",
       "      <td>132</td>\n",
       "      <td>106</td>\n",
       "      <td>124</td>\n",
       "      <td>51</td>\n",
       "      <td>126</td>\n",
       "      <td>112</td>\n",
       "      <td>100</td>\n",
       "      <td>95</td>\n",
       "      <td>99</td>\n",
       "      <td>107</td>\n",
       "      <td>64</td>\n",
       "      <td>71</td>\n",
       "      <td>72</td>\n",
       "      <td>123</td>\n",
       "    </tr>\n",
       "  </tbody>\n",
       "</table>\n",
       "</div>"
      ]
     },
     "execution_count": 36,
     "metadata": {},
     "output_type": "execute_result"
    }
   ],
   "execution_count": 36
  },
  {
   "cell_type": "markdown",
   "id": "8fce4ac766a7e28a",
   "metadata": {},
   "source": [
    "#### Step 1: Check for missing values"
   ]
  },
  {
   "cell_type": "code",
   "id": "e79bb64e585d0b80",
   "metadata": {
    "ExecuteTime": {
     "end_time": "2025-02-17T17:40:05.369675Z",
     "start_time": "2025-02-17T17:40:05.347952Z"
    }
   },
   "source": [
    "data.isnull().sum()"
   ],
   "outputs": [
    {
     "data": {
      "text/plain": [
       "Age Group                     0\n",
       "Gender                        0\n",
       "Education Level               0\n",
       "Occupation                    0\n",
       "Average Screen Time           0\n",
       "Device                        0\n",
       "Screen Activity               0\n",
       "App Category                  0\n",
       "Screen Time Period            0\n",
       "Environment                   2\n",
       "Productivity                  0\n",
       "Attention Span                0\n",
       "Work Strategy                 3\n",
       "Notification Handling         1\n",
       "Usage of Productivity Apps    0\n",
       "dtype: int64"
      ]
     },
     "execution_count": 37,
     "metadata": {},
     "output_type": "execute_result"
    }
   ],
   "execution_count": 37
  },
  {
   "cell_type": "code",
   "id": "045d20cb-623b-43a6-8667-a5e908717ffa",
   "metadata": {
    "ExecuteTime": {
     "end_time": "2025-02-17T17:40:05.383824Z",
     "start_time": "2025-02-17T17:40:05.369675Z"
    }
   },
   "source": [
    "list(data.columns[1:])"
   ],
   "outputs": [
    {
     "data": {
      "text/plain": [
       "['Gender',\n",
       " 'Education Level',\n",
       " 'Occupation',\n",
       " 'Average Screen Time',\n",
       " 'Device',\n",
       " 'Screen Activity',\n",
       " 'App Category',\n",
       " 'Screen Time Period',\n",
       " 'Environment',\n",
       " 'Productivity',\n",
       " 'Attention Span',\n",
       " 'Work Strategy',\n",
       " 'Notification Handling',\n",
       " 'Usage of Productivity Apps']"
      ]
     },
     "execution_count": 38,
     "metadata": {},
     "output_type": "execute_result"
    }
   ],
   "execution_count": 38
  },
  {
   "cell_type": "code",
   "id": "26e43983-fa75-4f98-b3d5-d758252a2382",
   "metadata": {
    "ExecuteTime": {
     "end_time": "2025-02-17T17:40:05.417505Z",
     "start_time": "2025-02-17T17:40:05.383824Z"
    }
   },
   "source": [
    "for col in (list(data.columns[1:])):\n",
    "    data[col].fillna(data[col].mode()[0], inplace=True)"
   ],
   "outputs": [
    {
     "name": "stderr",
     "output_type": "stream",
     "text": [
      "C:\\Users\\PMLS\\AppData\\Local\\Temp\\ipykernel_17384\\3798162817.py:2: FutureWarning: A value is trying to be set on a copy of a DataFrame or Series through chained assignment using an inplace method.\n",
      "The behavior will change in pandas 3.0. This inplace method will never work because the intermediate object on which we are setting values always behaves as a copy.\n",
      "\n",
      "For example, when doing 'df[col].method(value, inplace=True)', try using 'df.method({col: value}, inplace=True)' or df[col] = df[col].method(value) instead, to perform the operation inplace on the original object.\n",
      "\n",
      "\n",
      "  data[col].fillna(data[col].mode()[0], inplace=True)\n"
     ]
    }
   ],
   "execution_count": 39
  },
  {
   "cell_type": "code",
   "id": "5134d25f-4615-4b87-96a8-e11be8750728",
   "metadata": {
    "ExecuteTime": {
     "end_time": "2025-02-17T17:40:05.433791Z",
     "start_time": "2025-02-17T17:40:05.417505Z"
    }
   },
   "source": [
    "data.isnull().sum()"
   ],
   "outputs": [
    {
     "data": {
      "text/plain": [
       "Age Group                     0\n",
       "Gender                        0\n",
       "Education Level               0\n",
       "Occupation                    0\n",
       "Average Screen Time           0\n",
       "Device                        0\n",
       "Screen Activity               0\n",
       "App Category                  0\n",
       "Screen Time Period            0\n",
       "Environment                   0\n",
       "Productivity                  0\n",
       "Attention Span                0\n",
       "Work Strategy                 0\n",
       "Notification Handling         0\n",
       "Usage of Productivity Apps    0\n",
       "dtype: int64"
      ]
     },
     "execution_count": 40,
     "metadata": {},
     "output_type": "execute_result"
    }
   ],
   "execution_count": 40
  },
  {
   "cell_type": "markdown",
   "id": "35c0ea63f966ba96",
   "metadata": {},
   "source": "#### Step 2: Preparing for Encoding the categorical variables"
  },
  {
   "cell_type": "code",
   "id": "2803b14fbd66de09",
   "metadata": {
    "ExecuteTime": {
     "end_time": "2025-02-17T17:40:05.453365Z",
     "start_time": "2025-02-17T17:40:05.433791Z"
    }
   },
   "source": [
    "data.head()"
   ],
   "outputs": [
    {
     "data": {
      "text/plain": [
       "      Age Group  Gender Education Level    Occupation Average Screen Time  \\\n",
       "0         18–24    Male   Undergraduate       Student        More than 10   \n",
       "1         18–24    Male   Undergraduate  Professional                8-10   \n",
       "2  45 and above  Female        Graduate  Professional                 4–6   \n",
       "3         25–34    Male   Undergraduate  Professional                8-10   \n",
       "4  45 and above    Male        Graduate  Professional                8-10   \n",
       "\n",
       "       Device                                    Screen Activity  \\\n",
       "0  Smartphone  Entertainment (gaming, streaming, social media...   \n",
       "1  Smartphone  Entertainment (gaming, streaming, social media...   \n",
       "2  Smartphone                              Academic/Work-related   \n",
       "3   Laptop/PC                              Academic/Work-related   \n",
       "4   Laptop/PC                              Academic/Work-related   \n",
       "\n",
       "                                        App Category       Screen Time Period  \\\n",
       "0  Social Media (e.g., Facebook, Instagram, Linke...     Evening (6 PM–10 PM)   \n",
       "1                 Streaming (e.g., YouTube, Netflix)  Late night (10 PM–6 AM)   \n",
       "2  Social Media (e.g., Facebook, Instagram, Linke...   Afternoon (12 PM–6 PM)   \n",
       "3  Social Media (e.g., Facebook, Instagram, Linke...   Afternoon (12 PM–6 PM)   \n",
       "4      Productivity (e.g., Microsoft Office, Notion)   Afternoon (12 PM–6 PM)   \n",
       "\n",
       "                     Environment  \\\n",
       "0                Quite workplace   \n",
       "1                Quite workplace   \n",
       "2  I can work in any environment   \n",
       "3                Quite workplace   \n",
       "4  I can work in any environment   \n",
       "\n",
       "                                        Productivity    Attention Span  \\\n",
       "0                              Moderately productive     10–30 minutes   \n",
       "1                              Moderately productive  More than 1 hour   \n",
       "2                              Moderately productive     10–30 minutes   \n",
       "3  Extremely productive, i efficiently complete m...     10–30 minutes   \n",
       "4  Extremely productive, i efficiently complete m...     30–60 minutes   \n",
       "\n",
       "                                   Work Strategy  \\\n",
       "0                            Take regular breaks   \n",
       "1  None, i prefer to work without any strategies   \n",
       "2                            Take regular breaks   \n",
       "3  None, i prefer to work without any strategies   \n",
       "4  None, i prefer to work without any strategies   \n",
       "\n",
       "                    Notification Handling  \\\n",
       "0   Check them briefly and resume my work   \n",
       "1  Ignore them until my task is completed   \n",
       "2   Check them briefly and resume my work   \n",
       "3  Ignore them until my task is completed   \n",
       "4   Check them briefly and resume my work   \n",
       "\n",
       "                 Usage of Productivity Apps  \n",
       "0  Yes, but i did not find them of any help  \n",
       "1                     No, i do not use them  \n",
       "2                     No, i do not use them  \n",
       "3                     No, i do not use them  \n",
       "4                     No, i do not use them  "
      ],
      "text/html": [
       "<div>\n",
       "<style scoped>\n",
       "    .dataframe tbody tr th:only-of-type {\n",
       "        vertical-align: middle;\n",
       "    }\n",
       "\n",
       "    .dataframe tbody tr th {\n",
       "        vertical-align: top;\n",
       "    }\n",
       "\n",
       "    .dataframe thead th {\n",
       "        text-align: right;\n",
       "    }\n",
       "</style>\n",
       "<table border=\"1\" class=\"dataframe\">\n",
       "  <thead>\n",
       "    <tr style=\"text-align: right;\">\n",
       "      <th></th>\n",
       "      <th>Age Group</th>\n",
       "      <th>Gender</th>\n",
       "      <th>Education Level</th>\n",
       "      <th>Occupation</th>\n",
       "      <th>Average Screen Time</th>\n",
       "      <th>Device</th>\n",
       "      <th>Screen Activity</th>\n",
       "      <th>App Category</th>\n",
       "      <th>Screen Time Period</th>\n",
       "      <th>Environment</th>\n",
       "      <th>Productivity</th>\n",
       "      <th>Attention Span</th>\n",
       "      <th>Work Strategy</th>\n",
       "      <th>Notification Handling</th>\n",
       "      <th>Usage of Productivity Apps</th>\n",
       "    </tr>\n",
       "  </thead>\n",
       "  <tbody>\n",
       "    <tr>\n",
       "      <th>0</th>\n",
       "      <td>18–24</td>\n",
       "      <td>Male</td>\n",
       "      <td>Undergraduate</td>\n",
       "      <td>Student</td>\n",
       "      <td>More than 10</td>\n",
       "      <td>Smartphone</td>\n",
       "      <td>Entertainment (gaming, streaming, social media...</td>\n",
       "      <td>Social Media (e.g., Facebook, Instagram, Linke...</td>\n",
       "      <td>Evening (6 PM–10 PM)</td>\n",
       "      <td>Quite workplace</td>\n",
       "      <td>Moderately productive</td>\n",
       "      <td>10–30 minutes</td>\n",
       "      <td>Take regular breaks</td>\n",
       "      <td>Check them briefly and resume my work</td>\n",
       "      <td>Yes, but i did not find them of any help</td>\n",
       "    </tr>\n",
       "    <tr>\n",
       "      <th>1</th>\n",
       "      <td>18–24</td>\n",
       "      <td>Male</td>\n",
       "      <td>Undergraduate</td>\n",
       "      <td>Professional</td>\n",
       "      <td>8-10</td>\n",
       "      <td>Smartphone</td>\n",
       "      <td>Entertainment (gaming, streaming, social media...</td>\n",
       "      <td>Streaming (e.g., YouTube, Netflix)</td>\n",
       "      <td>Late night (10 PM–6 AM)</td>\n",
       "      <td>Quite workplace</td>\n",
       "      <td>Moderately productive</td>\n",
       "      <td>More than 1 hour</td>\n",
       "      <td>None, i prefer to work without any strategies</td>\n",
       "      <td>Ignore them until my task is completed</td>\n",
       "      <td>No, i do not use them</td>\n",
       "    </tr>\n",
       "    <tr>\n",
       "      <th>2</th>\n",
       "      <td>45 and above</td>\n",
       "      <td>Female</td>\n",
       "      <td>Graduate</td>\n",
       "      <td>Professional</td>\n",
       "      <td>4–6</td>\n",
       "      <td>Smartphone</td>\n",
       "      <td>Academic/Work-related</td>\n",
       "      <td>Social Media (e.g., Facebook, Instagram, Linke...</td>\n",
       "      <td>Afternoon (12 PM–6 PM)</td>\n",
       "      <td>I can work in any environment</td>\n",
       "      <td>Moderately productive</td>\n",
       "      <td>10–30 minutes</td>\n",
       "      <td>Take regular breaks</td>\n",
       "      <td>Check them briefly and resume my work</td>\n",
       "      <td>No, i do not use them</td>\n",
       "    </tr>\n",
       "    <tr>\n",
       "      <th>3</th>\n",
       "      <td>25–34</td>\n",
       "      <td>Male</td>\n",
       "      <td>Undergraduate</td>\n",
       "      <td>Professional</td>\n",
       "      <td>8-10</td>\n",
       "      <td>Laptop/PC</td>\n",
       "      <td>Academic/Work-related</td>\n",
       "      <td>Social Media (e.g., Facebook, Instagram, Linke...</td>\n",
       "      <td>Afternoon (12 PM–6 PM)</td>\n",
       "      <td>Quite workplace</td>\n",
       "      <td>Extremely productive, i efficiently complete m...</td>\n",
       "      <td>10–30 minutes</td>\n",
       "      <td>None, i prefer to work without any strategies</td>\n",
       "      <td>Ignore them until my task is completed</td>\n",
       "      <td>No, i do not use them</td>\n",
       "    </tr>\n",
       "    <tr>\n",
       "      <th>4</th>\n",
       "      <td>45 and above</td>\n",
       "      <td>Male</td>\n",
       "      <td>Graduate</td>\n",
       "      <td>Professional</td>\n",
       "      <td>8-10</td>\n",
       "      <td>Laptop/PC</td>\n",
       "      <td>Academic/Work-related</td>\n",
       "      <td>Productivity (e.g., Microsoft Office, Notion)</td>\n",
       "      <td>Afternoon (12 PM–6 PM)</td>\n",
       "      <td>I can work in any environment</td>\n",
       "      <td>Extremely productive, i efficiently complete m...</td>\n",
       "      <td>30–60 minutes</td>\n",
       "      <td>None, i prefer to work without any strategies</td>\n",
       "      <td>Check them briefly and resume my work</td>\n",
       "      <td>No, i do not use them</td>\n",
       "    </tr>\n",
       "  </tbody>\n",
       "</table>\n",
       "</div>"
      ]
     },
     "execution_count": 41,
     "metadata": {},
     "output_type": "execute_result"
    }
   ],
   "execution_count": 41
  },
  {
   "cell_type": "code",
   "id": "997000a653e67bc1",
   "metadata": {
    "ExecuteTime": {
     "end_time": "2025-02-17T17:40:05.465211Z",
     "start_time": "2025-02-17T17:40:05.453365Z"
    }
   },
   "source": [
    "one_hot_encoder = OneHotEncoder(sparse_output=False) "
   ],
   "outputs": [],
   "execution_count": 42
  },
  {
   "cell_type": "code",
   "id": "cf57eb681fed2a98",
   "metadata": {
    "ExecuteTime": {
     "end_time": "2025-02-17T17:40:05.484352Z",
     "start_time": "2025-02-17T17:40:05.465211Z"
    }
   },
   "source": [
    "categorial_cols = data.select_dtypes(include=['object', 'category']).columns.tolist()\n",
    "print(len(categorial_cols))"
   ],
   "outputs": [
    {
     "name": "stdout",
     "output_type": "stream",
     "text": [
      "15\n"
     ]
    }
   ],
   "execution_count": 43
  },
  {
   "cell_type": "code",
   "id": "ad5003350a78d9e",
   "metadata": {
    "ExecuteTime": {
     "end_time": "2025-02-17T17:40:05.495683Z",
     "start_time": "2025-02-17T17:40:05.484352Z"
    }
   },
   "source": [
    "ordinal_cols = [\"Age Group\", \"Education Level\", \"Average Screen Time\", \"Productivity\", \"Attention Span\"]\n",
    "ordinal_cols_index = [data.columns.get_loc(col) for col in ordinal_cols]\n",
    "print(ordinal_cols_index)"
   ],
   "outputs": [
    {
     "name": "stdout",
     "output_type": "stream",
     "text": [
      "[0, 2, 4, 10, 11]\n"
     ]
    }
   ],
   "execution_count": 44
  },
  {
   "cell_type": "code",
   "id": "acc160cb-f594-4808-a1c0-b4237f4f5032",
   "metadata": {
    "ExecuteTime": {
     "end_time": "2025-02-17T17:40:05.509379Z",
     "start_time": "2025-02-17T17:40:05.495683Z"
    }
   },
   "source": [
    "nominal_columns = [\n",
    "    \"Gender\", \"Occupation\", \"Device\", \"Screen Activity\", \"App Category\",\n",
    "    \"Screen Time Period\", \"Environment\", \"Work Strategy\",\n",
    "    \"Notification Handling\", \"Usage of Productivity Apps\"]\n",
    "nominal_columns_index = [data.columns.get_loc(col) for col in nominal_columns]"
   ],
   "outputs": [],
   "execution_count": 45
  },
  {
   "metadata": {
    "ExecuteTime": {
     "end_time": "2025-02-17T17:40:05.528452Z",
     "start_time": "2025-02-17T17:40:05.509379Z"
    }
   },
   "cell_type": "code",
   "source": [
    "ordinal_categories = [['Below 18','18–24','25–34','35–44','45 and above'],\n",
    "['High school or below','Undergraduate', 'Graduate'],\n",
    "['Less than 2','2–4' ,'4–6' ,'6–8' ,'More than 10' ,'8-10'],\n",
    "['Unproductive, i might not have completed the task and got carried away','Moderately productive','Extremely productive, i efficiently complete my tasks'],\n",
    "['Less than 10 minutes','10–30 minutes' ,'30–60 minutes','More than 1 hour']]\n",
    "ordinal_columns = [\"Age Group\", \"Education Level\", \"Average Screen Time\", \"Productivity\", \"Attention Span\"]"
   ],
   "id": "4673cd25b19b8b57",
   "outputs": [],
   "execution_count": 46
  },
  {
   "cell_type": "markdown",
   "id": "5e77a90e874cba78",
   "metadata": {},
   "source": [
    "#### Step 3:  Apply Label Encoding to ordinal columns"
   ]
  },
  {
   "cell_type": "code",
   "id": "15adafa7a0bae65e",
   "metadata": {
    "ExecuteTime": {
     "end_time": "2025-02-17T17:40:05.551313Z",
     "start_time": "2025-02-17T17:40:05.528452Z"
    }
   },
   "source": [
    "for i in ordinal_cols:\n",
    "    print(data[i].unique())"
   ],
   "outputs": [
    {
     "name": "stdout",
     "output_type": "stream",
     "text": [
      "['18–24' '45 and above' '25–34' 'Below 18' '35–44']\n",
      "['Undergraduate' 'Graduate' 'High school or below']\n",
      "['More than 10' '8-10' '4–6' '6–8' '2–4' 'Less than 2']\n",
      "['Moderately productive'\n",
      " 'Extremely productive, i efficiently complete my tasks'\n",
      " 'Unproductive, i might not have completed the task and got carried away']\n",
      "['10–30 minutes' 'More than 1 hour' '30–60 minutes' 'Less than 10 minutes']\n"
     ]
    }
   ],
   "execution_count": 47
  },
  {
   "cell_type": "code",
   "id": "794c2c4ce8b9a7fe",
   "metadata": {
    "ExecuteTime": {
     "end_time": "2025-02-17T17:40:05.613680Z",
     "start_time": "2025-02-17T17:40:05.551313Z"
    }
   },
   "source": [
    "encoder = OrdinalEncoder(categories=ordinal_categories)\n",
    "data[ordinal_columns] = encoder.fit_transform(data[ordinal_columns])\n",
    "\n",
    "data[ordinal_columns] = data[ordinal_columns].astype(int)"
   ],
   "outputs": [],
   "execution_count": 48
  },
  {
   "cell_type": "code",
   "id": "32fbe8323413aa5a",
   "metadata": {
    "ExecuteTime": {
     "end_time": "2025-02-17T17:40:05.637670Z",
     "start_time": "2025-02-17T17:40:05.613680Z"
    }
   },
   "source": [
    "data.head()"
   ],
   "outputs": [
    {
     "data": {
      "text/plain": [
       "   Age Group  Gender  Education Level    Occupation  Average Screen Time  \\\n",
       "0          1    Male                1       Student                    4   \n",
       "1          1    Male                1  Professional                    5   \n",
       "2          4  Female                2  Professional                    2   \n",
       "3          2    Male                1  Professional                    5   \n",
       "4          4    Male                2  Professional                    5   \n",
       "\n",
       "       Device                                    Screen Activity  \\\n",
       "0  Smartphone  Entertainment (gaming, streaming, social media...   \n",
       "1  Smartphone  Entertainment (gaming, streaming, social media...   \n",
       "2  Smartphone                              Academic/Work-related   \n",
       "3   Laptop/PC                              Academic/Work-related   \n",
       "4   Laptop/PC                              Academic/Work-related   \n",
       "\n",
       "                                        App Category       Screen Time Period  \\\n",
       "0  Social Media (e.g., Facebook, Instagram, Linke...     Evening (6 PM–10 PM)   \n",
       "1                 Streaming (e.g., YouTube, Netflix)  Late night (10 PM–6 AM)   \n",
       "2  Social Media (e.g., Facebook, Instagram, Linke...   Afternoon (12 PM–6 PM)   \n",
       "3  Social Media (e.g., Facebook, Instagram, Linke...   Afternoon (12 PM–6 PM)   \n",
       "4      Productivity (e.g., Microsoft Office, Notion)   Afternoon (12 PM–6 PM)   \n",
       "\n",
       "                     Environment  Productivity  Attention Span  \\\n",
       "0                Quite workplace             1               1   \n",
       "1                Quite workplace             1               3   \n",
       "2  I can work in any environment             1               1   \n",
       "3                Quite workplace             2               1   \n",
       "4  I can work in any environment             2               2   \n",
       "\n",
       "                                   Work Strategy  \\\n",
       "0                            Take regular breaks   \n",
       "1  None, i prefer to work without any strategies   \n",
       "2                            Take regular breaks   \n",
       "3  None, i prefer to work without any strategies   \n",
       "4  None, i prefer to work without any strategies   \n",
       "\n",
       "                    Notification Handling  \\\n",
       "0   Check them briefly and resume my work   \n",
       "1  Ignore them until my task is completed   \n",
       "2   Check them briefly and resume my work   \n",
       "3  Ignore them until my task is completed   \n",
       "4   Check them briefly and resume my work   \n",
       "\n",
       "                 Usage of Productivity Apps  \n",
       "0  Yes, but i did not find them of any help  \n",
       "1                     No, i do not use them  \n",
       "2                     No, i do not use them  \n",
       "3                     No, i do not use them  \n",
       "4                     No, i do not use them  "
      ],
      "text/html": [
       "<div>\n",
       "<style scoped>\n",
       "    .dataframe tbody tr th:only-of-type {\n",
       "        vertical-align: middle;\n",
       "    }\n",
       "\n",
       "    .dataframe tbody tr th {\n",
       "        vertical-align: top;\n",
       "    }\n",
       "\n",
       "    .dataframe thead th {\n",
       "        text-align: right;\n",
       "    }\n",
       "</style>\n",
       "<table border=\"1\" class=\"dataframe\">\n",
       "  <thead>\n",
       "    <tr style=\"text-align: right;\">\n",
       "      <th></th>\n",
       "      <th>Age Group</th>\n",
       "      <th>Gender</th>\n",
       "      <th>Education Level</th>\n",
       "      <th>Occupation</th>\n",
       "      <th>Average Screen Time</th>\n",
       "      <th>Device</th>\n",
       "      <th>Screen Activity</th>\n",
       "      <th>App Category</th>\n",
       "      <th>Screen Time Period</th>\n",
       "      <th>Environment</th>\n",
       "      <th>Productivity</th>\n",
       "      <th>Attention Span</th>\n",
       "      <th>Work Strategy</th>\n",
       "      <th>Notification Handling</th>\n",
       "      <th>Usage of Productivity Apps</th>\n",
       "    </tr>\n",
       "  </thead>\n",
       "  <tbody>\n",
       "    <tr>\n",
       "      <th>0</th>\n",
       "      <td>1</td>\n",
       "      <td>Male</td>\n",
       "      <td>1</td>\n",
       "      <td>Student</td>\n",
       "      <td>4</td>\n",
       "      <td>Smartphone</td>\n",
       "      <td>Entertainment (gaming, streaming, social media...</td>\n",
       "      <td>Social Media (e.g., Facebook, Instagram, Linke...</td>\n",
       "      <td>Evening (6 PM–10 PM)</td>\n",
       "      <td>Quite workplace</td>\n",
       "      <td>1</td>\n",
       "      <td>1</td>\n",
       "      <td>Take regular breaks</td>\n",
       "      <td>Check them briefly and resume my work</td>\n",
       "      <td>Yes, but i did not find them of any help</td>\n",
       "    </tr>\n",
       "    <tr>\n",
       "      <th>1</th>\n",
       "      <td>1</td>\n",
       "      <td>Male</td>\n",
       "      <td>1</td>\n",
       "      <td>Professional</td>\n",
       "      <td>5</td>\n",
       "      <td>Smartphone</td>\n",
       "      <td>Entertainment (gaming, streaming, social media...</td>\n",
       "      <td>Streaming (e.g., YouTube, Netflix)</td>\n",
       "      <td>Late night (10 PM–6 AM)</td>\n",
       "      <td>Quite workplace</td>\n",
       "      <td>1</td>\n",
       "      <td>3</td>\n",
       "      <td>None, i prefer to work without any strategies</td>\n",
       "      <td>Ignore them until my task is completed</td>\n",
       "      <td>No, i do not use them</td>\n",
       "    </tr>\n",
       "    <tr>\n",
       "      <th>2</th>\n",
       "      <td>4</td>\n",
       "      <td>Female</td>\n",
       "      <td>2</td>\n",
       "      <td>Professional</td>\n",
       "      <td>2</td>\n",
       "      <td>Smartphone</td>\n",
       "      <td>Academic/Work-related</td>\n",
       "      <td>Social Media (e.g., Facebook, Instagram, Linke...</td>\n",
       "      <td>Afternoon (12 PM–6 PM)</td>\n",
       "      <td>I can work in any environment</td>\n",
       "      <td>1</td>\n",
       "      <td>1</td>\n",
       "      <td>Take regular breaks</td>\n",
       "      <td>Check them briefly and resume my work</td>\n",
       "      <td>No, i do not use them</td>\n",
       "    </tr>\n",
       "    <tr>\n",
       "      <th>3</th>\n",
       "      <td>2</td>\n",
       "      <td>Male</td>\n",
       "      <td>1</td>\n",
       "      <td>Professional</td>\n",
       "      <td>5</td>\n",
       "      <td>Laptop/PC</td>\n",
       "      <td>Academic/Work-related</td>\n",
       "      <td>Social Media (e.g., Facebook, Instagram, Linke...</td>\n",
       "      <td>Afternoon (12 PM–6 PM)</td>\n",
       "      <td>Quite workplace</td>\n",
       "      <td>2</td>\n",
       "      <td>1</td>\n",
       "      <td>None, i prefer to work without any strategies</td>\n",
       "      <td>Ignore them until my task is completed</td>\n",
       "      <td>No, i do not use them</td>\n",
       "    </tr>\n",
       "    <tr>\n",
       "      <th>4</th>\n",
       "      <td>4</td>\n",
       "      <td>Male</td>\n",
       "      <td>2</td>\n",
       "      <td>Professional</td>\n",
       "      <td>5</td>\n",
       "      <td>Laptop/PC</td>\n",
       "      <td>Academic/Work-related</td>\n",
       "      <td>Productivity (e.g., Microsoft Office, Notion)</td>\n",
       "      <td>Afternoon (12 PM–6 PM)</td>\n",
       "      <td>I can work in any environment</td>\n",
       "      <td>2</td>\n",
       "      <td>2</td>\n",
       "      <td>None, i prefer to work without any strategies</td>\n",
       "      <td>Check them briefly and resume my work</td>\n",
       "      <td>No, i do not use them</td>\n",
       "    </tr>\n",
       "  </tbody>\n",
       "</table>\n",
       "</div>"
      ]
     },
     "execution_count": 49,
     "metadata": {},
     "output_type": "execute_result"
    }
   ],
   "execution_count": 49
  },
  {
   "cell_type": "markdown",
   "id": "b74912b4b6c99e56",
   "metadata": {},
   "source": [
    "#### Step 4: Apply one-hot encoding to nominal columns"
   ]
  },
  {
   "cell_type": "code",
   "id": "d6034abbe740f20d",
   "metadata": {
    "ExecuteTime": {
     "end_time": "2025-02-17T17:40:05.703868Z",
     "start_time": "2025-02-17T17:40:05.637670Z"
    }
   },
   "source": [
    "column_transformer = ColumnTransformer(\n",
    "    transformers=[('onehot', OneHotEncoder(sparse_output=False), nominal_columns)  # Apply OneHotEncoder to categorical columns\n",
    "    ],remainder='passthrough')\n",
    "\n",
    "df = column_transformer.fit_transform(data)\n",
    "encoded_col_names = column_transformer.get_feature_names_out()\n",
    "df = pd.DataFrame(df, columns=encoded_col_names, index=data.index)"
   ],
   "outputs": [],
   "execution_count": 50
  },
  {
   "cell_type": "code",
   "id": "8f35ef28314866a8",
   "metadata": {
    "ExecuteTime": {
     "end_time": "2025-02-17T17:40:05.747471Z",
     "start_time": "2025-02-17T17:40:05.703868Z"
    }
   },
   "source": [
    "df.head()"
   ],
   "outputs": [
    {
     "data": {
      "text/plain": [
       "   onehot__Gender_Female  onehot__Gender_Male  \\\n",
       "0                    0.0                  1.0   \n",
       "1                    0.0                  1.0   \n",
       "2                    1.0                  0.0   \n",
       "3                    0.0                  1.0   \n",
       "4                    0.0                  1.0   \n",
       "\n",
       "   onehot__Occupation_Professional  onehot__Occupation_Student  \\\n",
       "0                              0.0                         1.0   \n",
       "1                              1.0                         0.0   \n",
       "2                              1.0                         0.0   \n",
       "3                              1.0                         0.0   \n",
       "4                              1.0                         0.0   \n",
       "\n",
       "   onehot__Device_Laptop/PC  onehot__Device_Smartphone  onehot__Device_Tablet  \\\n",
       "0                       0.0                        1.0                    0.0   \n",
       "1                       0.0                        1.0                    0.0   \n",
       "2                       0.0                        1.0                    0.0   \n",
       "3                       1.0                        0.0                    0.0   \n",
       "4                       1.0                        0.0                    0.0   \n",
       "\n",
       "   onehot__Device_Television  onehot__Screen Activity_Academic/Work-related  \\\n",
       "0                        0.0                                            0.0   \n",
       "1                        0.0                                            0.0   \n",
       "2                        0.0                                            1.0   \n",
       "3                        0.0                                            1.0   \n",
       "4                        0.0                                            1.0   \n",
       "\n",
       "   onehot__Screen Activity_Entertainment (gaming, streaming, social media, etc.)  \\\n",
       "0                                                1.0                               \n",
       "1                                                1.0                               \n",
       "2                                                0.0                               \n",
       "3                                                0.0                               \n",
       "4                                                0.0                               \n",
       "\n",
       "   ...  \\\n",
       "0  ...   \n",
       "1  ...   \n",
       "2  ...   \n",
       "3  ...   \n",
       "4  ...   \n",
       "\n",
       "   onehot__Notification Handling_Spend time interacting with the notifications  \\\n",
       "0                                                0.0                             \n",
       "1                                                0.0                             \n",
       "2                                                0.0                             \n",
       "3                                                0.0                             \n",
       "4                                                0.0                             \n",
       "\n",
       "   onehot__Notification Handling_Turn off notifications altogether  \\\n",
       "0                                                0.0                 \n",
       "1                                                0.0                 \n",
       "2                                                0.0                 \n",
       "3                                                0.0                 \n",
       "4                                                0.0                 \n",
       "\n",
       "   onehot__Usage of Productivity Apps_No, i do not use them  \\\n",
       "0                                                0.0          \n",
       "1                                                1.0          \n",
       "2                                                1.0          \n",
       "3                                                1.0          \n",
       "4                                                1.0          \n",
       "\n",
       "   onehot__Usage of Productivity Apps_Yes, but i did not find them of any help  \\\n",
       "0                                                1.0                             \n",
       "1                                                0.0                             \n",
       "2                                                0.0                             \n",
       "3                                                0.0                             \n",
       "4                                                0.0                             \n",
       "\n",
       "   onehot__Usage of Productivity Apps_Yes, they are extremely helpful  \\\n",
       "0                                                0.0                    \n",
       "1                                                0.0                    \n",
       "2                                                0.0                    \n",
       "3                                                0.0                    \n",
       "4                                                0.0                    \n",
       "\n",
       "   remainder__Age Group  remainder__Education Level  \\\n",
       "0                   1.0                         1.0   \n",
       "1                   1.0                         1.0   \n",
       "2                   4.0                         2.0   \n",
       "3                   2.0                         1.0   \n",
       "4                   4.0                         2.0   \n",
       "\n",
       "   remainder__Average Screen Time  remainder__Productivity  \\\n",
       "0                             4.0                      1.0   \n",
       "1                             5.0                      1.0   \n",
       "2                             2.0                      1.0   \n",
       "3                             5.0                      2.0   \n",
       "4                             5.0                      2.0   \n",
       "\n",
       "   remainder__Attention Span  \n",
       "0                        1.0  \n",
       "1                        3.0  \n",
       "2                        1.0  \n",
       "3                        1.0  \n",
       "4                        2.0  \n",
       "\n",
       "[5 rows x 39 columns]"
      ],
      "text/html": [
       "<div>\n",
       "<style scoped>\n",
       "    .dataframe tbody tr th:only-of-type {\n",
       "        vertical-align: middle;\n",
       "    }\n",
       "\n",
       "    .dataframe tbody tr th {\n",
       "        vertical-align: top;\n",
       "    }\n",
       "\n",
       "    .dataframe thead th {\n",
       "        text-align: right;\n",
       "    }\n",
       "</style>\n",
       "<table border=\"1\" class=\"dataframe\">\n",
       "  <thead>\n",
       "    <tr style=\"text-align: right;\">\n",
       "      <th></th>\n",
       "      <th>onehot__Gender_Female</th>\n",
       "      <th>onehot__Gender_Male</th>\n",
       "      <th>onehot__Occupation_Professional</th>\n",
       "      <th>onehot__Occupation_Student</th>\n",
       "      <th>onehot__Device_Laptop/PC</th>\n",
       "      <th>onehot__Device_Smartphone</th>\n",
       "      <th>onehot__Device_Tablet</th>\n",
       "      <th>onehot__Device_Television</th>\n",
       "      <th>onehot__Screen Activity_Academic/Work-related</th>\n",
       "      <th>onehot__Screen Activity_Entertainment (gaming, streaming, social media, etc.)</th>\n",
       "      <th>...</th>\n",
       "      <th>onehot__Notification Handling_Spend time interacting with the notifications</th>\n",
       "      <th>onehot__Notification Handling_Turn off notifications altogether</th>\n",
       "      <th>onehot__Usage of Productivity Apps_No, i do not use them</th>\n",
       "      <th>onehot__Usage of Productivity Apps_Yes, but i did not find them of any help</th>\n",
       "      <th>onehot__Usage of Productivity Apps_Yes, they are extremely helpful</th>\n",
       "      <th>remainder__Age Group</th>\n",
       "      <th>remainder__Education Level</th>\n",
       "      <th>remainder__Average Screen Time</th>\n",
       "      <th>remainder__Productivity</th>\n",
       "      <th>remainder__Attention Span</th>\n",
       "    </tr>\n",
       "  </thead>\n",
       "  <tbody>\n",
       "    <tr>\n",
       "      <th>0</th>\n",
       "      <td>0.0</td>\n",
       "      <td>1.0</td>\n",
       "      <td>0.0</td>\n",
       "      <td>1.0</td>\n",
       "      <td>0.0</td>\n",
       "      <td>1.0</td>\n",
       "      <td>0.0</td>\n",
       "      <td>0.0</td>\n",
       "      <td>0.0</td>\n",
       "      <td>1.0</td>\n",
       "      <td>...</td>\n",
       "      <td>0.0</td>\n",
       "      <td>0.0</td>\n",
       "      <td>0.0</td>\n",
       "      <td>1.0</td>\n",
       "      <td>0.0</td>\n",
       "      <td>1.0</td>\n",
       "      <td>1.0</td>\n",
       "      <td>4.0</td>\n",
       "      <td>1.0</td>\n",
       "      <td>1.0</td>\n",
       "    </tr>\n",
       "    <tr>\n",
       "      <th>1</th>\n",
       "      <td>0.0</td>\n",
       "      <td>1.0</td>\n",
       "      <td>1.0</td>\n",
       "      <td>0.0</td>\n",
       "      <td>0.0</td>\n",
       "      <td>1.0</td>\n",
       "      <td>0.0</td>\n",
       "      <td>0.0</td>\n",
       "      <td>0.0</td>\n",
       "      <td>1.0</td>\n",
       "      <td>...</td>\n",
       "      <td>0.0</td>\n",
       "      <td>0.0</td>\n",
       "      <td>1.0</td>\n",
       "      <td>0.0</td>\n",
       "      <td>0.0</td>\n",
       "      <td>1.0</td>\n",
       "      <td>1.0</td>\n",
       "      <td>5.0</td>\n",
       "      <td>1.0</td>\n",
       "      <td>3.0</td>\n",
       "    </tr>\n",
       "    <tr>\n",
       "      <th>2</th>\n",
       "      <td>1.0</td>\n",
       "      <td>0.0</td>\n",
       "      <td>1.0</td>\n",
       "      <td>0.0</td>\n",
       "      <td>0.0</td>\n",
       "      <td>1.0</td>\n",
       "      <td>0.0</td>\n",
       "      <td>0.0</td>\n",
       "      <td>1.0</td>\n",
       "      <td>0.0</td>\n",
       "      <td>...</td>\n",
       "      <td>0.0</td>\n",
       "      <td>0.0</td>\n",
       "      <td>1.0</td>\n",
       "      <td>0.0</td>\n",
       "      <td>0.0</td>\n",
       "      <td>4.0</td>\n",
       "      <td>2.0</td>\n",
       "      <td>2.0</td>\n",
       "      <td>1.0</td>\n",
       "      <td>1.0</td>\n",
       "    </tr>\n",
       "    <tr>\n",
       "      <th>3</th>\n",
       "      <td>0.0</td>\n",
       "      <td>1.0</td>\n",
       "      <td>1.0</td>\n",
       "      <td>0.0</td>\n",
       "      <td>1.0</td>\n",
       "      <td>0.0</td>\n",
       "      <td>0.0</td>\n",
       "      <td>0.0</td>\n",
       "      <td>1.0</td>\n",
       "      <td>0.0</td>\n",
       "      <td>...</td>\n",
       "      <td>0.0</td>\n",
       "      <td>0.0</td>\n",
       "      <td>1.0</td>\n",
       "      <td>0.0</td>\n",
       "      <td>0.0</td>\n",
       "      <td>2.0</td>\n",
       "      <td>1.0</td>\n",
       "      <td>5.0</td>\n",
       "      <td>2.0</td>\n",
       "      <td>1.0</td>\n",
       "    </tr>\n",
       "    <tr>\n",
       "      <th>4</th>\n",
       "      <td>0.0</td>\n",
       "      <td>1.0</td>\n",
       "      <td>1.0</td>\n",
       "      <td>0.0</td>\n",
       "      <td>1.0</td>\n",
       "      <td>0.0</td>\n",
       "      <td>0.0</td>\n",
       "      <td>0.0</td>\n",
       "      <td>1.0</td>\n",
       "      <td>0.0</td>\n",
       "      <td>...</td>\n",
       "      <td>0.0</td>\n",
       "      <td>0.0</td>\n",
       "      <td>1.0</td>\n",
       "      <td>0.0</td>\n",
       "      <td>0.0</td>\n",
       "      <td>4.0</td>\n",
       "      <td>2.0</td>\n",
       "      <td>5.0</td>\n",
       "      <td>2.0</td>\n",
       "      <td>2.0</td>\n",
       "    </tr>\n",
       "  </tbody>\n",
       "</table>\n",
       "<p>5 rows × 39 columns</p>\n",
       "</div>"
      ]
     },
     "execution_count": 51,
     "metadata": {},
     "output_type": "execute_result"
    }
   ],
   "execution_count": 51
  },
  {
   "metadata": {},
   "cell_type": "markdown",
   "source": "",
   "id": "4da0a28de159f06e"
  },
  {
   "metadata": {},
   "cell_type": "markdown",
   "source": "No Normalization is required as no numerical columns are present in the dataset.",
   "id": "ac5758d423190c71"
  },
  {
   "metadata": {},
   "cell_type": "markdown",
   "source": "#### Step 5: Split the data into training and testing sets",
   "id": "abc717bcae212fcf"
  },
  {
   "metadata": {},
   "cell_type": "markdown",
   "source": "The target variable is \"Attention Span\"",
   "id": "7a7fff89ca51623"
  },
  {
   "metadata": {
    "ExecuteTime": {
     "end_time": "2025-02-17T17:40:05.760753Z",
     "start_time": "2025-02-17T17:40:05.747471Z"
    }
   },
   "cell_type": "code",
   "source": "df.columns",
   "id": "bb9f871021b03fe3",
   "outputs": [
    {
     "data": {
      "text/plain": [
       "Index(['onehot__Gender_Female', 'onehot__Gender_Male',\n",
       "       'onehot__Occupation_Professional', 'onehot__Occupation_Student',\n",
       "       'onehot__Device_Laptop/PC', 'onehot__Device_Smartphone',\n",
       "       'onehot__Device_Tablet', 'onehot__Device_Television',\n",
       "       'onehot__Screen Activity_Academic/Work-related',\n",
       "       'onehot__Screen Activity_Entertainment (gaming, streaming, social media, etc.)',\n",
       "       'onehot__App Category_Gaming',\n",
       "       'onehot__App Category_Messaging (e.g., WhatsApp, Messenger)',\n",
       "       'onehot__App Category_Productivity (e.g., Microsoft Office, Notion)',\n",
       "       'onehot__App Category_Social Media (e.g., Facebook, Instagram, LinkedIn, Twitter)',\n",
       "       'onehot__App Category_Streaming (e.g., YouTube, Netflix)',\n",
       "       'onehot__Screen Time Period_Afternoon (12 PM–6 PM)',\n",
       "       'onehot__Screen Time Period_Evening (6 PM–10 PM)',\n",
       "       'onehot__Screen Time Period_Late night (10 PM–6 AM)',\n",
       "       'onehot__Screen Time Period_Morning (6 AM–12 PM)',\n",
       "       'onehot__Environment_Background noise/music',\n",
       "       'onehot__Environment_Collaborative/team setting',\n",
       "       'onehot__Environment_I can work in any environment',\n",
       "       'onehot__Environment_Quite workplace',\n",
       "       'onehot__Work Strategy_Eliminate all distractions',\n",
       "       'onehot__Work Strategy_None, i prefer to work without any strategies',\n",
       "       'onehot__Work Strategy_Take regular breaks',\n",
       "       'onehot__Work Strategy_Use some productivity tool (e.g, timers, blockers)',\n",
       "       'onehot__Notification Handling_Check them briefly and resume my work',\n",
       "       'onehot__Notification Handling_Ignore them until my task is completed',\n",
       "       'onehot__Notification Handling_Spend time interacting with the notifications',\n",
       "       'onehot__Notification Handling_Turn off notifications altogether',\n",
       "       'onehot__Usage of Productivity Apps_No, i do not use them',\n",
       "       'onehot__Usage of Productivity Apps_Yes, but i did not find them of any help',\n",
       "       'onehot__Usage of Productivity Apps_Yes, they are extremely helpful',\n",
       "       'remainder__Age Group', 'remainder__Education Level',\n",
       "       'remainder__Average Screen Time', 'remainder__Productivity',\n",
       "       'remainder__Attention Span'],\n",
       "      dtype='object')"
      ]
     },
     "execution_count": 52,
     "metadata": {},
     "output_type": "execute_result"
    }
   ],
   "execution_count": 52
  },
  {
   "metadata": {},
   "cell_type": "markdown",
   "source": "",
   "id": "d9c3a87418becb43"
  },
  {
   "metadata": {
    "ExecuteTime": {
     "end_time": "2025-02-17T17:40:05.774053Z",
     "start_time": "2025-02-17T17:40:05.760753Z"
    }
   },
   "cell_type": "code",
   "source": [
    "X = df.drop(columns=['remainder__Attention Span'])\n",
    "y = df['remainder__Attention Span']"
   ],
   "id": "14e965e9d5824f67",
   "outputs": [],
   "execution_count": 53
  },
  {
   "metadata": {
    "ExecuteTime": {
     "end_time": "2025-02-17T17:40:05.805906Z",
     "start_time": "2025-02-17T17:40:05.774053Z"
    }
   },
   "cell_type": "code",
   "source": "X_train, X_test, y_train, y_test = train_test_split(X, y, test_size=0.2, random_state=42)",
   "id": "1f8ae3ed6e6618c2",
   "outputs": [],
   "execution_count": 54
  },
  {
   "metadata": {
    "ExecuteTime": {
     "end_time": "2025-02-17T17:40:05.817780Z",
     "start_time": "2025-02-17T17:40:05.805906Z"
    }
   },
   "cell_type": "code",
   "source": [
    "print(\"Training Set:\", X_train.shape, y_train.shape)\n",
    "print(\"Testing Set:\", X_test.shape, y_test.shape)"
   ],
   "id": "877625ba45b96666",
   "outputs": [
    {
     "name": "stdout",
     "output_type": "stream",
     "text": [
      "Training Set: (160, 38) (160,)\n",
      "Testing Set: (40, 38) (40,)\n"
     ]
    }
   ],
   "execution_count": 55
  },
  {
   "metadata": {
    "ExecuteTime": {
     "end_time": "2025-02-17T17:40:05.824195Z",
     "start_time": "2025-02-17T17:40:05.817780Z"
    }
   },
   "cell_type": "code",
   "source": "",
   "id": "13d7b10ebb43c3bd",
   "outputs": [],
   "execution_count": 55
  }
 ],
 "metadata": {
  "kernelspec": {
   "display_name": "Python 3 (ipykernel)",
   "language": "python",
   "name": "python3"
  },
  "language_info": {
   "codemirror_mode": {
    "name": "ipython",
    "version": 3
   },
   "file_extension": ".py",
   "mimetype": "text/x-python",
   "name": "python",
   "nbconvert_exporter": "python",
   "pygments_lexer": "ipython3",
   "version": "3.12.7"
  }
 },
 "nbformat": 4,
 "nbformat_minor": 5
}
