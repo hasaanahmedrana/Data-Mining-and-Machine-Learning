{
 "cells": [
  {
   "cell_type": "markdown",
   "id": "cd931747499eb99d",
   "metadata": {},
   "source": [
    "# Preprocessing\n",
    "Link to data set: https://www.kaggle.com/datasets/muhammadalirazazaidi/screen-time-data-productivity-and-attention-span"
   ]
  },
  {
   "cell_type": "code",
   "id": "3dc9044ec4606805",
   "metadata": {
    "ExecuteTime": {
     "end_time": "2025-02-17T17:40:04.701519Z",
     "start_time": "2025-02-17T17:40:04.519463Z"
    }
   },
   "source": [
    "import sklearn\n",
    "print(sklearn.__version__)"
   ],
   "execution_count": 29,
   "outputs": []
  },
  {
   "cell_type": "code",
   "id": "initial_id",
   "metadata": {
    "ExecuteTime": {
     "end_time": "2025-02-17T17:40:04.758224Z",
     "start_time": "2025-02-17T17:40:04.701519Z"
    }
   },
   "source": [
    "import pandas as pd\n",
    "from sklearn.preprocessing import OneHotEncoder, OrdinalEncoder\n",
    "from sklearn.compose import ColumnTransformer\n",
    "from sklearn.preprocessing import StandardScaler, MinMaxScaler\n",
    "from sklearn.model_selection import train_test_split"
   ],
   "execution_count": 30,
   "outputs": []
  },
  {
   "cell_type": "code",
   "id": "b583ede73983f16c",
   "metadata": {
    "ExecuteTime": {
     "end_time": "2025-02-17T17:40:04.775206Z",
     "start_time": "2025-02-17T17:40:04.758224Z"
    }
   },
   "source": [
    "# Load the data"
   ],
   "execution_count": 31,
   "outputs": []
  },
  {
   "cell_type": "code",
   "id": "6f27301dff2e133e",
   "metadata": {
    "ExecuteTime": {
     "end_time": "2025-02-17T17:40:05.050417Z",
     "start_time": "2025-02-17T17:40:04.775206Z"
    }
   },
   "source": [
    "data = pd.read_csv('screen_time.csv')\n",
    "data = data.drop(columns=['Unnamed: 0'])"
   ],
   "execution_count": 32,
   "outputs": []
  },
  {
   "metadata": {
    "ExecuteTime": {
     "end_time": "2025-02-17T17:40:05.085120Z",
     "start_time": "2025-02-17T17:40:05.050417Z"
    }
   },
   "cell_type": "code",
   "source": "data.shape",
   "id": "90c800aea61632c6",
   "execution_count": 33,
   "outputs": []
  },
  {
   "cell_type": "code",
   "id": "6f4adeb02c36f1e9",
   "metadata": {
    "ExecuteTime": {
     "end_time": "2025-02-17T17:40:05.165399Z",
     "start_time": "2025-02-17T17:40:05.085120Z"
    }
   },
   "source": [
    "data.head()"
   ],
   "execution_count": 34,
   "outputs": []
  },
  {
   "cell_type": "code",
   "id": "dc9d41c06871775f",
   "metadata": {
    "ExecuteTime": {
     "end_time": "2025-02-17T17:40:05.279901Z",
     "start_time": "2025-02-17T17:40:05.166785Z"
    }
   },
   "source": [
    "data.info()"
   ],
   "execution_count": 35,
   "outputs": []
  },
  {
   "cell_type": "code",
   "id": "bc13823bb4514826",
   "metadata": {
    "ExecuteTime": {
     "end_time": "2025-02-17T17:40:05.347952Z",
     "start_time": "2025-02-17T17:40:05.279901Z"
    }
   },
   "source": [
    "data.describe()"
   ],
   "execution_count": 36,
   "outputs": []
  },
  {
   "cell_type": "markdown",
   "id": "8fce4ac766a7e28a",
   "metadata": {},
   "source": [
    "#### Step 1: Check for missing values"
   ]
  },
  {
   "cell_type": "code",
   "id": "e79bb64e585d0b80",
   "metadata": {
    "ExecuteTime": {
     "end_time": "2025-02-17T17:40:05.369675Z",
     "start_time": "2025-02-17T17:40:05.347952Z"
    }
   },
   "source": [
    "data.isnull().sum()"
   ],
   "execution_count": 37,
   "outputs": []
  },
  {
   "cell_type": "code",
   "id": "045d20cb-623b-43a6-8667-a5e908717ffa",
   "metadata": {
    "ExecuteTime": {
     "end_time": "2025-02-17T17:40:05.383824Z",
     "start_time": "2025-02-17T17:40:05.369675Z"
    }
   },
   "source": [
    "list(data.columns[1:])"
   ],
   "execution_count": 38,
   "outputs": []
  },
  {
   "cell_type": "code",
   "id": "26e43983-fa75-4f98-b3d5-d758252a2382",
   "metadata": {
    "ExecuteTime": {
     "end_time": "2025-02-17T17:40:05.417505Z",
     "start_time": "2025-02-17T17:40:05.383824Z"
    }
   },
   "source": [
    "for col in (list(data.columns[1:])):\n",
    "    data[col].fillna(data[col].mode()[0], inplace=True)"
   ],
   "execution_count": 39,
   "outputs": []
  },
  {
   "cell_type": "code",
   "id": "5134d25f-4615-4b87-96a8-e11be8750728",
   "metadata": {
    "ExecuteTime": {
     "end_time": "2025-02-17T17:40:05.433791Z",
     "start_time": "2025-02-17T17:40:05.417505Z"
    }
   },
   "source": [
    "data.isnull().sum()"
   ],
   "execution_count": 40,
   "outputs": []
  },
  {
   "cell_type": "markdown",
   "id": "35c0ea63f966ba96",
   "metadata": {},
   "source": "#### Step 2: Preparing for Encoding the categorical variables"
  },
  {
   "cell_type": "code",
   "id": "2803b14fbd66de09",
   "metadata": {
    "ExecuteTime": {
     "end_time": "2025-02-17T17:40:05.453365Z",
     "start_time": "2025-02-17T17:40:05.433791Z"
    }
   },
   "source": [
    "data.head()"
   ],
   "execution_count": 41,
   "outputs": []
  },
  {
   "cell_type": "code",
   "id": "997000a653e67bc1",
   "metadata": {
    "ExecuteTime": {
     "end_time": "2025-02-17T17:40:05.465211Z",
     "start_time": "2025-02-17T17:40:05.453365Z"
    }
   },
   "source": [
    "one_hot_encoder = OneHotEncoder(sparse_output=False) "
   ],
   "execution_count": 42,
   "outputs": []
  },
  {
   "cell_type": "code",
   "id": "cf57eb681fed2a98",
   "metadata": {
    "ExecuteTime": {
     "end_time": "2025-02-17T17:40:05.484352Z",
     "start_time": "2025-02-17T17:40:05.465211Z"
    }
   },
   "source": [
    "categorial_cols = data.select_dtypes(include=['object', 'category']).columns.tolist()\n",
    "print(len(categorial_cols))"
   ],
   "execution_count": 43,
   "outputs": []
  },
  {
   "cell_type": "code",
   "id": "ad5003350a78d9e",
   "metadata": {
    "ExecuteTime": {
     "end_time": "2025-02-17T17:40:05.495683Z",
     "start_time": "2025-02-17T17:40:05.484352Z"
    }
   },
   "source": [
    "ordinal_cols = [\"Age Group\", \"Education Level\", \"Average Screen Time\", \"Productivity\", \"Attention Span\"]\n",
    "ordinal_cols_index = [data.columns.get_loc(col) for col in ordinal_cols]\n",
    "print(ordinal_cols_index)"
   ],
   "execution_count": 44,
   "outputs": []
  },
  {
   "cell_type": "code",
   "id": "acc160cb-f594-4808-a1c0-b4237f4f5032",
   "metadata": {
    "ExecuteTime": {
     "end_time": "2025-02-17T17:40:05.509379Z",
     "start_time": "2025-02-17T17:40:05.495683Z"
    }
   },
   "source": [
    "nominal_columns = [\n",
    "    \"Gender\", \"Occupation\", \"Device\", \"Screen Activity\", \"App Category\",\n",
    "    \"Screen Time Period\", \"Environment\", \"Work Strategy\",\n",
    "    \"Notification Handling\", \"Usage of Productivity Apps\"]\n",
    "nominal_columns_index = [data.columns.get_loc(col) for col in nominal_columns]"
   ],
   "execution_count": 45,
   "outputs": []
  },
  {
   "metadata": {
    "ExecuteTime": {
     "end_time": "2025-02-17T17:40:05.528452Z",
     "start_time": "2025-02-17T17:40:05.509379Z"
    }
   },
   "cell_type": "code",
   "source": [
    "ordinal_categories = [['Below 18','18–24','25–34','35–44','45 and above'],\n",
    "['High school or below','Undergraduate', 'Graduate'],\n",
    "['Less than 2','2–4' ,'4–6' ,'6–8' ,'More than 10' ,'8-10'],\n",
    "['Unproductive, i might not have completed the task and got carried away','Moderately productive','Extremely productive, i efficiently complete my tasks'],\n",
    "['Less than 10 minutes','10–30 minutes' ,'30–60 minutes','More than 1 hour']]\n",
    "ordinal_columns = [\"Age Group\", \"Education Level\", \"Average Screen Time\", \"Productivity\", \"Attention Span\"]"
   ],
   "id": "4673cd25b19b8b57",
   "execution_count": 46,
   "outputs": []
  },
  {
   "cell_type": "markdown",
   "id": "5e77a90e874cba78",
   "metadata": {},
   "source": [
    "#### Step 3:  Apply Label Encoding to ordinal columns"
   ]
  },
  {
   "cell_type": "code",
   "id": "15adafa7a0bae65e",
   "metadata": {
    "ExecuteTime": {
     "end_time": "2025-02-17T17:40:05.551313Z",
     "start_time": "2025-02-17T17:40:05.528452Z"
    }
   },
   "source": [
    "for i in ordinal_cols:\n",
    "    print(data[i].unique())"
   ],
   "execution_count": 47,
   "outputs": []
  },
  {
   "cell_type": "code",
   "id": "794c2c4ce8b9a7fe",
   "metadata": {
    "ExecuteTime": {
     "end_time": "2025-02-17T17:40:05.613680Z",
     "start_time": "2025-02-17T17:40:05.551313Z"
    }
   },
   "source": [
    "encoder = OrdinalEncoder(categories=ordinal_categories)\n",
    "data[ordinal_columns] = encoder.fit_transform(data[ordinal_columns])\n",
    "\n",
    "data[ordinal_columns] = data[ordinal_columns].astype(int)"
   ],
   "execution_count": 48,
   "outputs": []
  },
  {
   "cell_type": "code",
   "id": "32fbe8323413aa5a",
   "metadata": {
    "ExecuteTime": {
     "end_time": "2025-02-17T17:40:05.637670Z",
     "start_time": "2025-02-17T17:40:05.613680Z"
    }
   },
   "source": [
    "data.head()"
   ],
   "execution_count": 49,
   "outputs": []
  },
  {
   "cell_type": "markdown",
   "id": "b74912b4b6c99e56",
   "metadata": {},
   "source": [
    "#### Step 4: Apply one-hot encoding to nominal columns"
   ]
  },
  {
   "cell_type": "code",
   "id": "d6034abbe740f20d",
   "metadata": {
    "ExecuteTime": {
     "end_time": "2025-02-17T17:40:05.703868Z",
     "start_time": "2025-02-17T17:40:05.637670Z"
    }
   },
   "source": [
    "column_transformer = ColumnTransformer(\n",
    "    transformers=[('onehot', OneHotEncoder(sparse_output=False), nominal_columns)  # Apply OneHotEncoder to categorical columns\n",
    "    ],remainder='passthrough')\n",
    "\n",
    "df = column_transformer.fit_transform(data)\n",
    "encoded_col_names = column_transformer.get_feature_names_out()\n",
    "df = pd.DataFrame(df, columns=encoded_col_names, index=data.index)"
   ],
   "execution_count": 50,
   "outputs": []
  },
  {
   "cell_type": "code",
   "id": "8f35ef28314866a8",
   "metadata": {
    "ExecuteTime": {
     "end_time": "2025-02-17T17:40:05.747471Z",
     "start_time": "2025-02-17T17:40:05.703868Z"
    }
   },
   "source": [
    "df.head()"
   ],
   "execution_count": 51,
   "outputs": []
  },
  {
   "metadata": {},
   "cell_type": "markdown",
   "source": "",
   "id": "4da0a28de159f06e"
  },
  {
   "metadata": {},
   "cell_type": "markdown",
   "source": "No Normalization is required as no numerical columns are present in the dataset.",
   "id": "ac5758d423190c71"
  },
  {
   "metadata": {},
   "cell_type": "markdown",
   "source": "#### Step 5: Split the data into training and testing sets",
   "id": "abc717bcae212fcf"
  },
  {
   "metadata": {},
   "cell_type": "markdown",
   "source": "The target variable is \"Attention Span\"",
   "id": "7a7fff89ca51623"
  },
  {
   "metadata": {
    "ExecuteTime": {
     "end_time": "2025-02-17T17:40:05.760753Z",
     "start_time": "2025-02-17T17:40:05.747471Z"
    }
   },
   "cell_type": "code",
   "source": "df.columns",
   "id": "bb9f871021b03fe3",
   "execution_count": 52,
   "outputs": []
  },
  {
   "metadata": {},
   "cell_type": "markdown",
   "source": "",
   "id": "d9c3a87418becb43"
  },
  {
   "metadata": {
    "ExecuteTime": {
     "end_time": "2025-02-17T17:40:05.774053Z",
     "start_time": "2025-02-17T17:40:05.760753Z"
    }
   },
   "cell_type": "code",
   "source": [
    "X = df.drop(columns=['remainder__Attention Span'])\n",
    "y = df['remainder__Attention Span']"
   ],
   "id": "14e965e9d5824f67",
   "execution_count": 53,
   "outputs": []
  },
  {
   "metadata": {
    "ExecuteTime": {
     "end_time": "2025-02-17T17:40:05.805906Z",
     "start_time": "2025-02-17T17:40:05.774053Z"
    }
   },
   "cell_type": "code",
   "source": "X_train, X_test, y_train, y_test = train_test_split(X, y, test_size=0.2, random_state=42)",
   "id": "1f8ae3ed6e6618c2",
   "execution_count": 54,
   "outputs": []
  },
  {
   "metadata": {
    "ExecuteTime": {
     "end_time": "2025-02-17T17:40:05.817780Z",
     "start_time": "2025-02-17T17:40:05.805906Z"
    }
   },
   "cell_type": "code",
   "source": [
    "print(\"Training Set:\", X_train.shape, y_train.shape)\n",
    "print(\"Testing Set:\", X_test.shape, y_test.shape)"
   ],
   "id": "877625ba45b96666",
   "execution_count": 55,
   "outputs": []
  },
  {
   "metadata": {
    "ExecuteTime": {
     "end_time": "2025-02-17T17:40:05.824195Z",
     "start_time": "2025-02-17T17:40:05.817780Z"
    }
   },
   "cell_type": "code",
   "source": "",
   "id": "13d7b10ebb43c3bd",
   "execution_count": 55,
   "outputs": []
  }
 ],
 "metadata": {
  "kernelspec": {
   "display_name": "Python 3 (ipykernel)",
   "language": "python",
   "name": "python3"
  },
  "language_info": {
   "codemirror_mode": {
    "name": "ipython",
    "version": 3
   },
   "file_extension": ".py",
   "mimetype": "text/x-python",
   "name": "python",
   "nbconvert_exporter": "python",
   "pygments_lexer": "ipython3",
   "version": "3.12.7"
  }
 },
 "nbformat": 4,
 "nbformat_minor": 5
}
