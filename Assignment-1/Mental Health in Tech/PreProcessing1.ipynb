{
 "cells": [
  {
   "metadata": {},
   "cell_type": "markdown",
   "source": [
    "# Preprocessing\n",
    "Link to data set: https://www.kaggle.com/datasets/osmi/mental-health-in-tech-survey\n"
   ],
   "id": "9a50881745ec8d53"
  },
  {
   "metadata": {
    "ExecuteTime": {
     "end_time": "2025-02-17T17:40:29.005024Z",
     "start_time": "2025-02-17T17:40:28.995198Z"
    }
   },
   "cell_type": "code",
   "source": [
    "import pandas as pd\n",
    "from sklearn.model_selection import train_test_split\n",
    "from sklearn.preprocessing import OrdinalEncoder, OneHotEncoder\n",
    "from sklearn.compose import ColumnTransformer"
   ],
   "id": "initial_id",
   "execution_count": 40,
   "outputs": []
  },
  {
   "metadata": {
    "ExecuteTime": {
     "end_time": "2025-02-17T17:40:29.393250Z",
     "start_time": "2025-02-17T17:40:29.246574Z"
    }
   },
   "cell_type": "code",
   "source": [
    "file_path = \"mental_health.csv\" \n",
    "data = pd.read_csv(file_path)"
   ],
   "id": "fdab65a63d939d4",
   "execution_count": 41,
   "outputs": []
  },
  {
   "metadata": {
    "ExecuteTime": {
     "end_time": "2025-02-17T17:40:29.439335Z",
     "start_time": "2025-02-17T17:40:29.393250Z"
    }
   },
   "cell_type": "code",
   "source": "data.shape",
   "id": "256d3e19fbe5f681",
   "execution_count": 42,
   "outputs": []
  },
  {
   "metadata": {
    "ExecuteTime": {
     "end_time": "2025-02-17T17:40:29.472524Z",
     "start_time": "2025-02-17T17:40:29.439335Z"
    }
   },
   "cell_type": "code",
   "source": "data.head()",
   "id": "3745f5841baf7f42",
   "execution_count": 43,
   "outputs": []
  },
  {
   "metadata": {
    "ExecuteTime": {
     "end_time": "2025-02-17T17:40:29.490552Z",
     "start_time": "2025-02-17T17:40:29.472524Z"
    }
   },
   "cell_type": "code",
   "source": "data.dtypes",
   "id": "49cdb035627902d0",
   "execution_count": 44,
   "outputs": []
  },
  {
   "metadata": {
    "ExecuteTime": {
     "end_time": "2025-02-17T17:40:29.537238Z",
     "start_time": "2025-02-17T17:40:29.490552Z"
    }
   },
   "cell_type": "code",
   "source": "data.describe()",
   "id": "c9c68bb60c6dafe1",
   "execution_count": 45,
   "outputs": []
  },
  {
   "metadata": {
    "ExecuteTime": {
     "end_time": "2025-02-17T17:40:29.582733Z",
     "start_time": "2025-02-17T17:40:29.537238Z"
    }
   },
   "cell_type": "code",
   "source": "data.info()",
   "id": "94d680b78da59b9c",
   "execution_count": 46,
   "outputs": []
  },
  {
   "metadata": {},
   "cell_type": "markdown",
   "source": "#### Step 1: Check for missing values",
   "id": "756dfbea1b552404"
  },
  {
   "metadata": {
    "ExecuteTime": {
     "end_time": "2025-02-17T17:40:29.595618Z",
     "start_time": "2025-02-17T17:40:29.582733Z"
    }
   },
   "cell_type": "code",
   "source": "data.isnull().sum()",
   "id": "c00a51768c35dbd1",
   "execution_count": 47,
   "outputs": []
  },
  {
   "metadata": {},
   "cell_type": "markdown",
   "source": "Removing all the columns with more than 50% missing values and the columns which are not relevant for the analysis.",
   "id": "6e62a78954e4014a"
  },
  {
   "metadata": {
    "ExecuteTime": {
     "end_time": "2025-02-17T17:40:29.627775Z",
     "start_time": "2025-02-17T17:40:29.595618Z"
    }
   },
   "cell_type": "code",
   "source": [
    "\n",
    "df = data[[  #'Timestamp',\n",
    "        'Age', 'Gender', 'Country',\n",
    "        #'state', 'self_employed',    \n",
    "        'family_history', 'treatment', \n",
    "        'work_interfere', 'no_employees',\n",
    "        #'remote_work','tech_company','benefits', \n",
    "        'care_options',\n",
    "        #'wellness_program',\n",
    "        'seek_help', 'anonymity', 'leave',\n",
    "        'mental_health_consequence', 'phys_health_consequence', 'coworkers',\n",
    "        'supervisor', 'mental_health_interview', 'phys_health_interview',\n",
    "        'mental_vs_physical',\n",
    "        # 'obs_consequence',\n",
    "        #'comments']\n",
    "]].copy()\n",
    "df"
   ],
   "id": "9f5e0d14-ceb0-44fc-be97-507944629533",
   "execution_count": 48,
   "outputs": []
  },
  {
   "metadata": {},
   "cell_type": "markdown",
   "source": "Renaming columns for better understanding",
   "id": "ab1e3c7a7397e364"
  },
  {
   "metadata": {
    "ExecuteTime": {
     "end_time": "2025-02-17T17:40:29.638333Z",
     "start_time": "2025-02-17T17:40:29.627775Z"
    }
   },
   "cell_type": "code",
   "source": [
    "df.rename(columns={\n",
    "                'family_history':'Family History',\n",
    "                'treatment':'Treatment',\n",
    "                'work_interfere':'Work Interfere',\n",
    "                'no_employees':'No. of Employees',\n",
    "                'care_options':'Care Options',\n",
    "                'seek_help':'Seek Help',\n",
    "                'anonymity':'Anonymity',\n",
    "                'leave':'Leave',\n",
    "                'mental_health_consequence':'Mental Health Consequence',\n",
    "                'phys_health_consequence':'Physical Health Consequence',\n",
    "                'coworkers':'Coworkers',\n",
    "                'supervisor':'Supervisor',\n",
    "                'mental_health_interview':'Mental Health Interview',\n",
    "                'mental_vs_physical':'Mental vs Physical',\n",
    "                'phys_health_interview':'Physical Health Interview'},\n",
    "                \n",
    "inplace=True)\n",
    "\n"
   ],
   "id": "ab47336f-954b-4953-bc5a-bcaf63aa8c07",
   "execution_count": 49,
   "outputs": []
  },
  {
   "metadata": {
    "ExecuteTime": {
     "end_time": "2025-02-17T17:40:29.662228Z",
     "start_time": "2025-02-17T17:40:29.640249Z"
    }
   },
   "cell_type": "code",
   "source": "df.head()",
   "id": "0d9cc595-1af0-405a-b5b4-54f6d344e9b2",
   "execution_count": 50,
   "outputs": []
  },
  {
   "metadata": {
    "ExecuteTime": {
     "end_time": "2025-02-17T17:40:29.678395Z",
     "start_time": "2025-02-17T17:40:29.662228Z"
    }
   },
   "cell_type": "code",
   "source": "df.isna().sum()",
   "id": "fb7416278578ce5a",
   "execution_count": 51,
   "outputs": []
  },
  {
   "metadata": {},
   "cell_type": "markdown",
   "source": "Resolving Missing Values",
   "id": "bd1d2b3a4fc8c524"
  },
  {
   "metadata": {
    "ExecuteTime": {
     "end_time": "2025-02-17T17:40:29.693798Z",
     "start_time": "2025-02-17T17:40:29.678395Z"
    }
   },
   "cell_type": "code",
   "source": [
    "work_interfere_mode = df['Work Interfere'].mode()[0]\n",
    "df['Work Interfere'] = df['Work Interfere'].fillna(work_interfere_mode)\n",
    "print(df['Work Interfere'].isna().sum())"
   ],
   "id": "75537730e61faf73",
   "execution_count": 52,
   "outputs": []
  },
  {
   "metadata": {},
   "cell_type": "markdown",
   "source": "Checking for duplicate values and removing them",
   "id": "e42c8d66580afebe"
  },
  {
   "metadata": {
    "ExecuteTime": {
     "end_time": "2025-02-17T17:40:29.726878Z",
     "start_time": "2025-02-17T17:40:29.693798Z"
    }
   },
   "cell_type": "code",
   "source": "df.loc[df.duplicated]",
   "id": "1c9058b2529a302e",
   "execution_count": 53,
   "outputs": []
  },
  {
   "metadata": {
    "ExecuteTime": {
     "end_time": "2025-02-17T17:40:29.750936Z",
     "start_time": "2025-02-17T17:40:29.726878Z"
    }
   },
   "cell_type": "code",
   "source": [
    "df.drop_duplicates(inplace=True)\n",
    "df.loc[df.duplicated]"
   ],
   "id": "2909c927ecacd9ee",
   "execution_count": 54,
   "outputs": []
  },
  {
   "metadata": {},
   "cell_type": "markdown",
   "source": "Cleaning All the Values in Gender Column",
   "id": "f5a68fb90027c8fe"
  },
  {
   "metadata": {
    "ExecuteTime": {
     "end_time": "2025-02-17T17:40:29.878236Z",
     "start_time": "2025-02-17T17:40:29.766628Z"
    }
   },
   "cell_type": "code",
   "source": [
    "df.Gender = df.Gender.str.lower()\n",
    "male = [\"male\", \"m\", \"male-ish\", \"maile\", \"mal\", \"male (cis)\", \"make\", \"male \", \"man\",\"msle\", \"mail\", \"malr\",\"cis man\", \"cis male\"]\n",
    "female = [\"cis female\", \"f\", \"female\", \"woman\",  \"femake\", \"female \",\"cis-female/femme\", \"female (cis)\", \"femail\"]\n",
    "other = [\"trans-female\", \"something kinda male?\", \"queer/she/they\", \"non-binary\",\"nah\", \"all\", \"enby\", \"fluid\", \n",
    "         \"genderqueer\", \"androgyne\", \"agender\", \"male leaning androgynous\", \"guy (-ish) ^_^\", \"trans woman\", \"neuter\", \n",
    "         \"female (trans)\", \"queer\", \"ostensibly male, unsure what that really means\", \"p\", \"a little about you\"]\n",
    "def categorize_gender(gender):\n",
    "    if gender in female:\n",
    "        return 'Female'\n",
    "    elif gender in male:\n",
    "        return 'Male'\n",
    "    else:\n",
    "        return 'Other'\n",
    "\n",
    "# Apply the function to the Gender column\n",
    "df['Gender'] = df['Gender'].apply(categorize_gender)\n",
    "df.groupby('Gender').size().to_frame().reset_index().rename(columns={0: 'Count'}).style.background_gradient(cmap='Blues')"
   ],
   "id": "a65d5b3762a37058",
   "execution_count": 55,
   "outputs": []
  },
  {
   "metadata": {},
   "cell_type": "markdown",
   "source": [
    "<h5>Handling Outliers in Age:</h5>\n",
    "To facilitate analysis by age, we create a new feature called 'Age Group' that categorizes individuals into 5-year intervals"
   ],
   "id": "6e0af74392f6eb80"
  },
  {
   "metadata": {
    "ExecuteTime": {
     "end_time": "2025-02-17T17:40:30.176578Z",
     "start_time": "2025-02-17T17:40:30.104863Z"
    }
   },
   "cell_type": "code",
   "source": [
    "Q1 = df['Age'].quantile(0.25)\n",
    "Q3 = df['Age'].quantile(0.99)\n",
    "IQR = Q3 - Q1\n",
    "lower_bound = Q1 - 1.5 * IQR\n",
    "upper_bound = Q3 + 1.5 * IQR\n",
    "df = df[(df['Age'] >= lower_bound) & (df['Age'] <= upper_bound)]\n",
    "df = df[df['Age'] >= 20]\n",
    "bins = list(range(20, 71, 5)) + [float('inf')]\n",
    "labels = [f'{i}-{i+4}' for i in range(20, 70, 5)] + ['70+']\n",
    "df['Age Group'] = pd.cut(df['Age'], bins=bins, labels=labels, right=False)\n"
   ],
   "id": "f2c389e78d015f5e",
   "execution_count": 56,
   "outputs": []
  },
  {
   "metadata": {
    "ExecuteTime": {
     "end_time": "2025-02-17T17:40:30.378519Z",
     "start_time": "2025-02-17T17:40:30.367464Z"
    }
   },
   "cell_type": "code",
   "source": "df.shape",
   "id": "2a17cca3ed6c76d9",
   "execution_count": 57,
   "outputs": []
  },
  {
   "metadata": {
    "ExecuteTime": {
     "end_time": "2025-02-17T17:40:30.861530Z",
     "start_time": "2025-02-17T17:40:30.826343Z"
    }
   },
   "cell_type": "code",
   "source": [
    "df['Mental vs Physical'] = df['Mental vs Physical'].replace({'Don\\'t know': 'Not Sure'})\n",
    "df['Mental vs Physical'].value_counts()"
   ],
   "id": "fbda8b447cbd1b9",
   "execution_count": 58,
   "outputs": []
  },
  {
   "metadata": {
    "ExecuteTime": {
     "end_time": "2025-02-17T17:40:31.360486Z",
     "start_time": "2025-02-17T17:40:31.346359Z"
    }
   },
   "cell_type": "code",
   "source": "print(df['Work Interfere'].unique())",
   "id": "ec107da98a30f82f",
   "execution_count": 59,
   "outputs": []
  },
  {
   "metadata": {
    "ExecuteTime": {
     "end_time": "2025-02-17T17:40:31.437593Z",
     "start_time": "2025-02-17T17:40:31.417867Z"
    }
   },
   "cell_type": "code",
   "source": [
    "work_interfere_counts = df['Work Interfere'].value_counts().reset_index()\n",
    "work_interfere_counts.columns = ['Work Interfere', 'count']\n"
   ],
   "id": "899c85e177b6c9b1",
   "execution_count": 60,
   "outputs": []
  },
  {
   "metadata": {
    "ExecuteTime": {
     "end_time": "2025-02-17T17:40:31.562481Z",
     "start_time": "2025-02-17T17:40:31.551622Z"
    }
   },
   "cell_type": "code",
   "source": "print(df['Work Interfere'].unique())",
   "id": "811225b7524ea127",
   "execution_count": 61,
   "outputs": []
  },
  {
   "metadata": {},
   "cell_type": "markdown",
   "source": "Confirming no missing values.",
   "id": "6e1f9d15075e4a9"
  },
  {
   "metadata": {
    "ExecuteTime": {
     "end_time": "2025-02-17T17:40:31.624730Z",
     "start_time": "2025-02-17T17:40:31.603028Z"
    }
   },
   "cell_type": "code",
   "source": "df.isnull().sum()",
   "id": "a8789acfdc409ce1",
   "execution_count": 62,
   "outputs": []
  },
  {
   "metadata": {
    "ExecuteTime": {
     "end_time": "2025-02-17T17:40:31.978280Z",
     "start_time": "2025-02-17T17:40:31.873787Z"
    }
   },
   "cell_type": "code",
   "source": "df['Age Group'].value_counts()",
   "id": "833a43f761ebb5a4",
   "execution_count": 63,
   "outputs": []
  },
  {
   "metadata": {},
   "cell_type": "markdown",
   "source": "#### Step 2: Preparing for Encoding the categorical variables",
   "id": "2c72794aa8775ac4"
  },
  {
   "metadata": {
    "ExecuteTime": {
     "end_time": "2025-02-17T17:40:32.010493Z",
     "start_time": "2025-02-17T17:40:31.994032Z"
    }
   },
   "cell_type": "code",
   "source": "df.columns",
   "id": "4ddc70564218bae5",
   "execution_count": 64,
   "outputs": []
  },
  {
   "metadata": {
    "ExecuteTime": {
     "end_time": "2025-02-17T17:40:32.068383Z",
     "start_time": "2025-02-17T17:40:32.042859Z"
    }
   },
   "cell_type": "code",
   "source": "df.drop(columns=['Age'], inplace=True)",
   "id": "3a4945edf489136e",
   "execution_count": 65,
   "outputs": []
  },
  {
   "metadata": {
    "ExecuteTime": {
     "end_time": "2025-02-17T17:40:32.138005Z",
     "start_time": "2025-02-17T17:40:32.115320Z"
    }
   },
   "cell_type": "code",
   "source": [
    "ordinal_columns = ['Work Interfere', 'No. of Employees', 'Leave','Treatment']\n",
    "\n",
    "nominal_columns = ['Gender', 'Country', 'Family History',\n",
    "        'Care Options', 'Seek Help','Anonymity','Mental Health Consequence',\n",
    "       'Physical Health Consequence', 'Coworkers', 'Supervisor',\n",
    "       'Mental Health Interview', 'Physical Health Interview',\n",
    "       'Mental vs Physical', 'Age Group']"
   ],
   "id": "f73497993832aef3",
   "execution_count": 66,
   "outputs": []
  },
  {
   "metadata": {
    "ExecuteTime": {
     "end_time": "2025-02-17T17:40:32.250761Z",
     "start_time": "2025-02-17T17:40:32.243575Z"
    }
   },
   "cell_type": "code",
   "source": "print(df['Work Interfere'].unique())",
   "id": "a85ef5cdba2241ed",
   "execution_count": 67,
   "outputs": []
  },
  {
   "metadata": {
    "ExecuteTime": {
     "end_time": "2025-02-17T17:40:32.349234Z",
     "start_time": "2025-02-17T17:40:32.331975Z"
    }
   },
   "cell_type": "code",
   "source": [
    "for i in ordinal_columns:\n",
    "    print(df[i].unique())"
   ],
   "id": "dee860ad91e2f943",
   "execution_count": 68,
   "outputs": []
  },
  {
   "metadata": {
    "ExecuteTime": {
     "end_time": "2025-02-17T17:40:32.366800Z",
     "start_time": "2025-02-17T17:40:32.349234Z"
    }
   },
   "cell_type": "code",
   "source": [
    "ordinal_categories = [[\"Never\", \"Rarely\", \"Sometimes\", \"Often\"],\n",
    "                      [\"1-5\", \"6-25\", \"26-100\", \"100-500\", \"500-1000\", \"More than 1000\"],\n",
    "                      [\"Very easy\", \"Somewhat easy\", \"Don't know\", \"Somewhat difficult\", \"Very difficult\"],\n",
    "                      [\"No\", \"Yes\"]]"
   ],
   "id": "23981b8f39d27810",
   "execution_count": 69,
   "outputs": []
  },
  {
   "metadata": {},
   "cell_type": "markdown",
   "source": "#### Step 3:  Apply Label Encoding to ordinal columns\n",
   "id": "94d114b3f08ea146"
  },
  {
   "metadata": {
    "ExecuteTime": {
     "end_time": "2025-02-17T17:40:32.464407Z",
     "start_time": "2025-02-17T17:40:32.397556Z"
    }
   },
   "cell_type": "code",
   "source": [
    "encoder = OrdinalEncoder(categories=ordinal_categories)\n",
    "df[ordinal_columns] = encoder.fit_transform(df[ordinal_columns])\n",
    "df[ordinal_columns] = df[ordinal_columns].astype(int)"
   ],
   "id": "6a0bc42ab5c31570",
   "execution_count": 70,
   "outputs": []
  },
  {
   "metadata": {
    "ExecuteTime": {
     "end_time": "2025-02-17T17:40:32.510696Z",
     "start_time": "2025-02-17T17:40:32.494431Z"
    }
   },
   "cell_type": "code",
   "source": "df.head()",
   "id": "8437ed0b0edd044f",
   "execution_count": 71,
   "outputs": []
  },
  {
   "metadata": {},
   "cell_type": "markdown",
   "source": "#### Step 4: Apply one-hot encoding to nominal columns",
   "id": "36bfe68347d7c9ca"
  },
  {
   "metadata": {
    "ExecuteTime": {
     "end_time": "2025-02-17T17:40:32.618196Z",
     "start_time": "2025-02-17T17:40:32.526468Z"
    }
   },
   "cell_type": "code",
   "source": [
    "column_transformer = ColumnTransformer(\n",
    "    transformers=[('onehot', OneHotEncoder(sparse_output=False), nominal_columns)],\n",
    "    remainder='passthrough')\n",
    "df_transformed = column_transformer.fit_transform(df[nominal_columns])\n",
    "encoded_col_names = column_transformer.get_feature_names_out()\n",
    "df_encoded = pd.DataFrame(df_transformed, columns=encoded_col_names, index=df.index)\n",
    "df = pd.concat([df_encoded, df.drop(columns=nominal_columns)], axis=1)\n"
   ],
   "id": "28c03db0028c7ed",
   "execution_count": 72,
   "outputs": []
  },
  {
   "metadata": {
    "ExecuteTime": {
     "end_time": "2025-02-17T17:40:32.639045Z",
     "start_time": "2025-02-17T17:40:32.618196Z"
    }
   },
   "cell_type": "code",
   "source": "df.head()",
   "id": "f10c33629077f4a4",
   "execution_count": 73,
   "outputs": []
  },
  {
   "metadata": {},
   "cell_type": "markdown",
   "source": [
    "\n",
    "No Normalization is required as no numerical columns are present in the dataset."
   ],
   "id": "d3550b09213884ff"
  },
  {
   "metadata": {},
   "cell_type": "markdown",
   "source": "#### Step 5: Split the data into training and testing sets",
   "id": "62585591fae200aa"
  },
  {
   "metadata": {},
   "cell_type": "markdown",
   "source": "The target variable is \"Treatment\" and the rest of the columns are the features.",
   "id": "e5e3437efda3d693"
  },
  {
   "metadata": {
    "ExecuteTime": {
     "end_time": "2025-02-17T17:40:32.653877Z",
     "start_time": "2025-02-17T17:40:32.639045Z"
    }
   },
   "cell_type": "code",
   "source": [
    "X = df.drop(columns=['Treatment'])\n",
    "y = df['Treatment']\n"
   ],
   "id": "9632877a57929a0c",
   "execution_count": 74,
   "outputs": []
  },
  {
   "metadata": {
    "ExecuteTime": {
     "end_time": "2025-02-17T17:40:32.793671Z",
     "start_time": "2025-02-17T17:40:32.758899Z"
    }
   },
   "cell_type": "code",
   "source": "X_train, X_test, y_train, y_test = train_test_split(X, y, test_size=0.2, random_state=42)",
   "id": "f85ceb48601a1e9c",
   "execution_count": 75,
   "outputs": []
  },
  {
   "metadata": {
    "ExecuteTime": {
     "end_time": "2025-02-17T17:40:32.859537Z",
     "start_time": "2025-02-17T17:40:32.843307Z"
    }
   },
   "cell_type": "code",
   "source": [
    "print(\"Training Set:\", X_train.shape, y_train.shape)\n",
    "print(\"Testing Set:\", X_test.shape, y_test.shape)"
   ],
   "id": "9fde6d0f626c7cd1",
   "execution_count": 76,
   "outputs": []
  }
 ],
 "metadata": {
  "kernelspec": {
   "display_name": "Python 3 (ipykernel)",
   "language": "python",
   "name": "python3"
  },
  "language_info": {
   "codemirror_mode": {
    "name": "ipython",
    "version": 3
   },
   "file_extension": ".py",
   "mimetype": "text/x-python",
   "name": "python",
   "nbconvert_exporter": "python",
   "pygments_lexer": "ipython3",
   "version": "3.12.7"
  }
 },
 "nbformat": 4,
 "nbformat_minor": 5
}
