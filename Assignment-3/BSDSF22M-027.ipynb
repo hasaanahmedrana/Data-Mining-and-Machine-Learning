{
 "cells": [
  {
   "cell_type": "code",
   "id": "initial_id",
   "metadata": {
    "collapsed": true,
    "ExecuteTime": {
     "end_time": "2025-03-11T02:02:09.854965Z",
     "start_time": "2025-03-11T02:02:09.754010Z"
    }
   },
   "source": [
    "import numpy as np\n",
    "import pandas as pd\n",
    "from sklearn.model_selection import train_test_split\n",
    "from sklearn.linear_model import LinearRegression\n",
    "from sklearn.metrics import mean_squared_error, r2_score\n",
    "from sklearn.preprocessing import LabelEncoder, StandardScaler, OrdinalEncoder, OneHotEncoder\n",
    "from sklearn.compose import ColumnTransformer\n",
    "from statsmodels import api as sm\n",
    "from sklearn.metrics import r2_score, mean_squared_error\n",
    "import warnings\n",
    "warnings.simplefilter(action='ignore', category=FutureWarning)"
   ],
   "outputs": [],
   "execution_count": 73
  },
  {
   "metadata": {},
   "cell_type": "markdown",
   "source": "Link to data set: https://www.kaggle.com/datasets/asinow/car-price-dataset",
   "id": "18dccc68c82b84d"
  },
  {
   "metadata": {},
   "cell_type": "markdown",
   "source": "# Preprocessing",
   "id": "3918a9788969f9bb"
  },
  {
   "metadata": {
    "ExecuteTime": {
     "end_time": "2025-03-11T02:02:13.649076Z",
     "start_time": "2025-03-11T02:02:13.421511Z"
    }
   },
   "cell_type": "code",
   "source": "data = pd.read_csv(\"car_price_dataset.csv\")",
   "id": "8555f245fc979da3",
   "outputs": [],
   "execution_count": 74
  },
  {
   "metadata": {
    "ExecuteTime": {
     "end_time": "2025-03-11T02:02:13.697751Z",
     "start_time": "2025-03-11T02:02:13.649076Z"
    }
   },
   "cell_type": "code",
   "source": "data.shape",
   "id": "2742a0c93616ef41",
   "outputs": [
    {
     "data": {
      "text/plain": [
       "(10000, 10)"
      ]
     },
     "execution_count": 75,
     "metadata": {},
     "output_type": "execute_result"
    }
   ],
   "execution_count": 75
  },
  {
   "metadata": {
    "ExecuteTime": {
     "end_time": "2025-03-11T02:02:14.143090Z",
     "start_time": "2025-03-11T02:02:14.076570Z"
    }
   },
   "cell_type": "code",
   "source": "data.head()",
   "id": "2a190762645184b0",
   "outputs": [
    {
     "data": {
      "text/plain": [
       "        Brand   Model  Year  Engine_Size Fuel_Type    Transmission  Mileage  \\\n",
       "0         Kia     Rio  2020          4.2    Diesel          Manual   289944   \n",
       "1   Chevrolet  Malibu  2012          2.0    Hybrid       Automatic     5356   \n",
       "2    Mercedes     GLA  2020          4.2    Diesel       Automatic   231440   \n",
       "3        Audi      Q5  2023          2.0  Electric          Manual   160971   \n",
       "4  Volkswagen    Golf  2003          2.6    Hybrid  Semi-Automatic   286618   \n",
       "\n",
       "   Doors  Owner_Count  Price  \n",
       "0      3            5   8501  \n",
       "1      2            3  12092  \n",
       "2      4            2  11171  \n",
       "3      2            1  11780  \n",
       "4      3            3   2867  "
      ],
      "text/html": [
       "<div>\n",
       "<style scoped>\n",
       "    .dataframe tbody tr th:only-of-type {\n",
       "        vertical-align: middle;\n",
       "    }\n",
       "\n",
       "    .dataframe tbody tr th {\n",
       "        vertical-align: top;\n",
       "    }\n",
       "\n",
       "    .dataframe thead th {\n",
       "        text-align: right;\n",
       "    }\n",
       "</style>\n",
       "<table border=\"1\" class=\"dataframe\">\n",
       "  <thead>\n",
       "    <tr style=\"text-align: right;\">\n",
       "      <th></th>\n",
       "      <th>Brand</th>\n",
       "      <th>Model</th>\n",
       "      <th>Year</th>\n",
       "      <th>Engine_Size</th>\n",
       "      <th>Fuel_Type</th>\n",
       "      <th>Transmission</th>\n",
       "      <th>Mileage</th>\n",
       "      <th>Doors</th>\n",
       "      <th>Owner_Count</th>\n",
       "      <th>Price</th>\n",
       "    </tr>\n",
       "  </thead>\n",
       "  <tbody>\n",
       "    <tr>\n",
       "      <th>0</th>\n",
       "      <td>Kia</td>\n",
       "      <td>Rio</td>\n",
       "      <td>2020</td>\n",
       "      <td>4.2</td>\n",
       "      <td>Diesel</td>\n",
       "      <td>Manual</td>\n",
       "      <td>289944</td>\n",
       "      <td>3</td>\n",
       "      <td>5</td>\n",
       "      <td>8501</td>\n",
       "    </tr>\n",
       "    <tr>\n",
       "      <th>1</th>\n",
       "      <td>Chevrolet</td>\n",
       "      <td>Malibu</td>\n",
       "      <td>2012</td>\n",
       "      <td>2.0</td>\n",
       "      <td>Hybrid</td>\n",
       "      <td>Automatic</td>\n",
       "      <td>5356</td>\n",
       "      <td>2</td>\n",
       "      <td>3</td>\n",
       "      <td>12092</td>\n",
       "    </tr>\n",
       "    <tr>\n",
       "      <th>2</th>\n",
       "      <td>Mercedes</td>\n",
       "      <td>GLA</td>\n",
       "      <td>2020</td>\n",
       "      <td>4.2</td>\n",
       "      <td>Diesel</td>\n",
       "      <td>Automatic</td>\n",
       "      <td>231440</td>\n",
       "      <td>4</td>\n",
       "      <td>2</td>\n",
       "      <td>11171</td>\n",
       "    </tr>\n",
       "    <tr>\n",
       "      <th>3</th>\n",
       "      <td>Audi</td>\n",
       "      <td>Q5</td>\n",
       "      <td>2023</td>\n",
       "      <td>2.0</td>\n",
       "      <td>Electric</td>\n",
       "      <td>Manual</td>\n",
       "      <td>160971</td>\n",
       "      <td>2</td>\n",
       "      <td>1</td>\n",
       "      <td>11780</td>\n",
       "    </tr>\n",
       "    <tr>\n",
       "      <th>4</th>\n",
       "      <td>Volkswagen</td>\n",
       "      <td>Golf</td>\n",
       "      <td>2003</td>\n",
       "      <td>2.6</td>\n",
       "      <td>Hybrid</td>\n",
       "      <td>Semi-Automatic</td>\n",
       "      <td>286618</td>\n",
       "      <td>3</td>\n",
       "      <td>3</td>\n",
       "      <td>2867</td>\n",
       "    </tr>\n",
       "  </tbody>\n",
       "</table>\n",
       "</div>"
      ]
     },
     "execution_count": 76,
     "metadata": {},
     "output_type": "execute_result"
    }
   ],
   "execution_count": 76
  },
  {
   "metadata": {
    "ExecuteTime": {
     "end_time": "2025-03-11T02:02:14.652142Z",
     "start_time": "2025-03-11T02:02:14.412241Z"
    }
   },
   "cell_type": "code",
   "source": "data.info()",
   "id": "dd115fcc2af97b5",
   "outputs": [
    {
     "name": "stdout",
     "output_type": "stream",
     "text": [
      "<class 'pandas.core.frame.DataFrame'>\n",
      "RangeIndex: 10000 entries, 0 to 9999\n",
      "Data columns (total 10 columns):\n",
      " #   Column        Non-Null Count  Dtype  \n",
      "---  ------        --------------  -----  \n",
      " 0   Brand         10000 non-null  object \n",
      " 1   Model         10000 non-null  object \n",
      " 2   Year          10000 non-null  int64  \n",
      " 3   Engine_Size   10000 non-null  float64\n",
      " 4   Fuel_Type     10000 non-null  object \n",
      " 5   Transmission  10000 non-null  object \n",
      " 6   Mileage       10000 non-null  int64  \n",
      " 7   Doors         10000 non-null  int64  \n",
      " 8   Owner_Count   10000 non-null  int64  \n",
      " 9   Price         10000 non-null  int64  \n",
      "dtypes: float64(1), int64(5), object(4)\n",
      "memory usage: 781.4+ KB\n"
     ]
    }
   ],
   "execution_count": 77
  },
  {
   "metadata": {},
   "cell_type": "markdown",
   "source": "#### Step 1: Check for missing values",
   "id": "98f360c92b27a720"
  },
  {
   "metadata": {
    "ExecuteTime": {
     "end_time": "2025-03-11T02:02:15.012580Z",
     "start_time": "2025-03-11T02:02:14.946497Z"
    }
   },
   "cell_type": "code",
   "source": [
    "print(\"\\nMissing values in the dataset:\")\n",
    "data.isnull().sum()"
   ],
   "id": "681d7e3210cd574e",
   "outputs": [
    {
     "name": "stdout",
     "output_type": "stream",
     "text": [
      "\n",
      "Missing values in the dataset:\n"
     ]
    },
    {
     "data": {
      "text/plain": [
       "Brand           0\n",
       "Model           0\n",
       "Year            0\n",
       "Engine_Size     0\n",
       "Fuel_Type       0\n",
       "Transmission    0\n",
       "Mileage         0\n",
       "Doors           0\n",
       "Owner_Count     0\n",
       "Price           0\n",
       "dtype: int64"
      ]
     },
     "execution_count": 78,
     "metadata": {},
     "output_type": "execute_result"
    }
   ],
   "execution_count": 78
  },
  {
   "metadata": {},
   "cell_type": "markdown",
   "source": "#### Step 2: Handling missing values",
   "id": "6244dadfc03ecf67"
  },
  {
   "metadata": {},
   "cell_type": "markdown",
   "source": "Data contains No missing Value. No need to handle missing values.",
   "id": "2767e988fff3e6a"
  },
  {
   "metadata": {},
   "cell_type": "markdown",
   "source": "#### Step 3 Setting up for Encoding Categorical Columns.\n",
   "id": "d0bf47b60e8ae476"
  },
  {
   "metadata": {
    "ExecuteTime": {
     "end_time": "2025-03-11T02:02:15.643858Z",
     "start_time": "2025-03-11T02:02:15.595231Z"
    }
   },
   "cell_type": "code",
   "source": [
    "categoricals = data.select_dtypes(include=['object']).columns.tolist()\n",
    "categoricals"
   ],
   "id": "caad7c5e3226025e",
   "outputs": [
    {
     "data": {
      "text/plain": [
       "['Brand', 'Model', 'Fuel_Type', 'Transmission']"
      ]
     },
     "execution_count": 79,
     "metadata": {},
     "output_type": "execute_result"
    }
   ],
   "execution_count": 79
  },
  {
   "metadata": {},
   "cell_type": "markdown",
   "source": "All the categorical columns are Nominal.",
   "id": "fd5f518a257c27cc"
  },
  {
   "metadata": {
    "ExecuteTime": {
     "end_time": "2025-03-11T02:02:16.282371Z",
     "start_time": "2025-03-11T02:02:16.231047Z"
    }
   },
   "cell_type": "code",
   "source": [
    "for each in categoricals:\n",
    "    print(each, len(data[each].unique().tolist()))"
   ],
   "id": "4f696e530fe410fb",
   "outputs": [
    {
     "name": "stdout",
     "output_type": "stream",
     "text": [
      "Brand 10\n",
      "Model 30\n",
      "Fuel_Type 4\n",
      "Transmission 3\n"
     ]
    }
   ],
   "execution_count": 80
  },
  {
   "metadata": {},
   "cell_type": "markdown",
   "source": "Grouping rare categories to avoid overfitting and reduce cardinality.",
   "id": "f098bdb8c95d8a71"
  },
  {
   "metadata": {
    "ExecuteTime": {
     "end_time": "2025-03-11T02:02:17.782159Z",
     "start_time": "2025-03-11T02:02:17.605066Z"
    }
   },
   "cell_type": "code",
   "source": [
    "threshold = 25\n",
    "data[categoricals] = data[categoricals].apply(\n",
    "    lambda each: each.where(each.isin(each.value_counts().nlargest(threshold).index), \"Other\"))"
   ],
   "id": "60a1032364647c0a",
   "outputs": [],
   "execution_count": 81
  },
  {
   "metadata": {
    "ExecuteTime": {
     "end_time": "2025-03-11T02:02:18.338627Z",
     "start_time": "2025-03-11T02:02:18.303010Z"
    }
   },
   "cell_type": "code",
   "source": [
    "for each in categoricals:\n",
    "    print(each, len(data[each].unique().tolist()))"
   ],
   "id": "7fc8e382ec5d8c33",
   "outputs": [
    {
     "name": "stdout",
     "output_type": "stream",
     "text": [
      "Brand 10\n",
      "Model 26\n",
      "Fuel_Type 4\n",
      "Transmission 3\n"
     ]
    }
   ],
   "execution_count": 82
  },
  {
   "metadata": {
    "ExecuteTime": {
     "end_time": "2025-03-11T02:02:18.642744Z",
     "start_time": "2025-03-11T02:02:18.584119Z"
    }
   },
   "cell_type": "code",
   "source": "data.head()",
   "id": "b1a5390ccea34491",
   "outputs": [
    {
     "data": {
      "text/plain": [
       "        Brand   Model  Year  Engine_Size Fuel_Type    Transmission  Mileage  \\\n",
       "0         Kia     Rio  2020          4.2    Diesel          Manual   289944   \n",
       "1   Chevrolet  Malibu  2012          2.0    Hybrid       Automatic     5356   \n",
       "2    Mercedes   Other  2020          4.2    Diesel       Automatic   231440   \n",
       "3        Audi      Q5  2023          2.0  Electric          Manual   160971   \n",
       "4  Volkswagen    Golf  2003          2.6    Hybrid  Semi-Automatic   286618   \n",
       "\n",
       "   Doors  Owner_Count  Price  \n",
       "0      3            5   8501  \n",
       "1      2            3  12092  \n",
       "2      4            2  11171  \n",
       "3      2            1  11780  \n",
       "4      3            3   2867  "
      ],
      "text/html": [
       "<div>\n",
       "<style scoped>\n",
       "    .dataframe tbody tr th:only-of-type {\n",
       "        vertical-align: middle;\n",
       "    }\n",
       "\n",
       "    .dataframe tbody tr th {\n",
       "        vertical-align: top;\n",
       "    }\n",
       "\n",
       "    .dataframe thead th {\n",
       "        text-align: right;\n",
       "    }\n",
       "</style>\n",
       "<table border=\"1\" class=\"dataframe\">\n",
       "  <thead>\n",
       "    <tr style=\"text-align: right;\">\n",
       "      <th></th>\n",
       "      <th>Brand</th>\n",
       "      <th>Model</th>\n",
       "      <th>Year</th>\n",
       "      <th>Engine_Size</th>\n",
       "      <th>Fuel_Type</th>\n",
       "      <th>Transmission</th>\n",
       "      <th>Mileage</th>\n",
       "      <th>Doors</th>\n",
       "      <th>Owner_Count</th>\n",
       "      <th>Price</th>\n",
       "    </tr>\n",
       "  </thead>\n",
       "  <tbody>\n",
       "    <tr>\n",
       "      <th>0</th>\n",
       "      <td>Kia</td>\n",
       "      <td>Rio</td>\n",
       "      <td>2020</td>\n",
       "      <td>4.2</td>\n",
       "      <td>Diesel</td>\n",
       "      <td>Manual</td>\n",
       "      <td>289944</td>\n",
       "      <td>3</td>\n",
       "      <td>5</td>\n",
       "      <td>8501</td>\n",
       "    </tr>\n",
       "    <tr>\n",
       "      <th>1</th>\n",
       "      <td>Chevrolet</td>\n",
       "      <td>Malibu</td>\n",
       "      <td>2012</td>\n",
       "      <td>2.0</td>\n",
       "      <td>Hybrid</td>\n",
       "      <td>Automatic</td>\n",
       "      <td>5356</td>\n",
       "      <td>2</td>\n",
       "      <td>3</td>\n",
       "      <td>12092</td>\n",
       "    </tr>\n",
       "    <tr>\n",
       "      <th>2</th>\n",
       "      <td>Mercedes</td>\n",
       "      <td>Other</td>\n",
       "      <td>2020</td>\n",
       "      <td>4.2</td>\n",
       "      <td>Diesel</td>\n",
       "      <td>Automatic</td>\n",
       "      <td>231440</td>\n",
       "      <td>4</td>\n",
       "      <td>2</td>\n",
       "      <td>11171</td>\n",
       "    </tr>\n",
       "    <tr>\n",
       "      <th>3</th>\n",
       "      <td>Audi</td>\n",
       "      <td>Q5</td>\n",
       "      <td>2023</td>\n",
       "      <td>2.0</td>\n",
       "      <td>Electric</td>\n",
       "      <td>Manual</td>\n",
       "      <td>160971</td>\n",
       "      <td>2</td>\n",
       "      <td>1</td>\n",
       "      <td>11780</td>\n",
       "    </tr>\n",
       "    <tr>\n",
       "      <th>4</th>\n",
       "      <td>Volkswagen</td>\n",
       "      <td>Golf</td>\n",
       "      <td>2003</td>\n",
       "      <td>2.6</td>\n",
       "      <td>Hybrid</td>\n",
       "      <td>Semi-Automatic</td>\n",
       "      <td>286618</td>\n",
       "      <td>3</td>\n",
       "      <td>3</td>\n",
       "      <td>2867</td>\n",
       "    </tr>\n",
       "  </tbody>\n",
       "</table>\n",
       "</div>"
      ]
     },
     "execution_count": 83,
     "metadata": {},
     "output_type": "execute_result"
    }
   ],
   "execution_count": 83
  },
  {
   "metadata": {},
   "cell_type": "markdown",
   "source": "#### Step 4: Applying One-Hot Encoding to nominal columns",
   "id": "84e70becb55d2a8e"
  },
  {
   "metadata": {
    "ExecuteTime": {
     "end_time": "2025-03-11T02:02:19.032408Z",
     "start_time": "2025-03-11T02:02:18.942372Z"
    }
   },
   "cell_type": "code",
   "source": "data = pd.get_dummies(data, columns=categoricals, drop_first=True)",
   "id": "5a9fea7084ac2e8",
   "outputs": [],
   "execution_count": 84
  },
  {
   "metadata": {},
   "cell_type": "markdown",
   "source": "Dropped the first column to avoid  <h5>Dummy Variable Trap</h5>",
   "id": "563bb48d086c5af9"
  },
  {
   "metadata": {
    "ExecuteTime": {
     "end_time": "2025-03-11T02:02:19.577390Z",
     "start_time": "2025-03-11T02:02:19.556950Z"
    }
   },
   "cell_type": "code",
   "source": [
    "X = data.drop(columns=['Price']) # All columns except Target column\n",
    "y = data['Price'] # Target column"
   ],
   "id": "c7dcb12c07ff5ec8",
   "outputs": [],
   "execution_count": 85
  },
  {
   "metadata": {},
   "cell_type": "markdown",
   "source": "#### Step 5: Split data into train and test sets",
   "id": "fa1b7bc2d9610a52"
  },
  {
   "metadata": {
    "ExecuteTime": {
     "end_time": "2025-03-11T02:02:20.267967Z",
     "start_time": "2025-03-11T02:02:20.146989Z"
    }
   },
   "cell_type": "code",
   "source": "X_train, X_test, y_train, y_test = train_test_split(X, y, test_size=0.2, random_state=42)",
   "id": "b481d0f2c1f5ac38",
   "outputs": [],
   "execution_count": 86
  },
  {
   "metadata": {},
   "cell_type": "markdown",
   "source": "#### Step 6: Standardize numerical features",
   "id": "cb1c15f87958590e"
  },
  {
   "metadata": {
    "ExecuteTime": {
     "end_time": "2025-03-11T02:02:22.257118Z",
     "start_time": "2025-03-11T02:02:22.077640Z"
    }
   },
   "cell_type": "code",
   "source": [
    "scaler = StandardScaler()\n",
    "X_train = scaler.fit_transform(X_train)\n",
    "X_test  = scaler.transform(X_test)"
   ],
   "id": "ee456babbc572a9f",
   "outputs": [],
   "execution_count": 87
  },
  {
   "metadata": {},
   "cell_type": "markdown",
   "source": "# Applying  Multiple Linear Regression",
   "id": "7f1ca9ad71cd6bf"
  },
  {
   "metadata": {
    "ExecuteTime": {
     "end_time": "2025-03-11T02:02:22.830308Z",
     "start_time": "2025-03-11T02:02:22.813711Z"
    }
   },
   "cell_type": "code",
   "source": "Results = {}",
   "id": "4748d0ffeab7c16e",
   "outputs": [],
   "execution_count": 88
  },
  {
   "metadata": {
    "ExecuteTime": {
     "end_time": "2025-03-11T02:02:23.295008Z",
     "start_time": "2025-03-11T02:02:23.271399Z"
    }
   },
   "cell_type": "code",
   "source": [
    "cols =  data.columns.tolist()\n",
    "cols"
   ],
   "id": "40634166013c0a7d",
   "outputs": [
    {
     "data": {
      "text/plain": [
       "['Year',\n",
       " 'Engine_Size',\n",
       " 'Mileage',\n",
       " 'Doors',\n",
       " 'Owner_Count',\n",
       " 'Price',\n",
       " 'Brand_BMW',\n",
       " 'Brand_Chevrolet',\n",
       " 'Brand_Ford',\n",
       " 'Brand_Honda',\n",
       " 'Brand_Hyundai',\n",
       " 'Brand_Kia',\n",
       " 'Brand_Mercedes',\n",
       " 'Brand_Toyota',\n",
       " 'Brand_Volkswagen',\n",
       " 'Model_5 Series',\n",
       " 'Model_A3',\n",
       " 'Model_A4',\n",
       " 'Model_Accord',\n",
       " 'Model_Camry',\n",
       " 'Model_Civic',\n",
       " 'Model_Corolla',\n",
       " 'Model_E-Class',\n",
       " 'Model_Elantra',\n",
       " 'Model_Equinox',\n",
       " 'Model_Explorer',\n",
       " 'Model_Fiesta',\n",
       " 'Model_Focus',\n",
       " 'Model_Golf',\n",
       " 'Model_Impala',\n",
       " 'Model_Malibu',\n",
       " 'Model_Optima',\n",
       " 'Model_Other',\n",
       " 'Model_Passat',\n",
       " 'Model_Q5',\n",
       " 'Model_RAV4',\n",
       " 'Model_Rio',\n",
       " 'Model_Sonata',\n",
       " 'Model_Tiguan',\n",
       " 'Model_Tucson',\n",
       " 'Fuel_Type_Electric',\n",
       " 'Fuel_Type_Hybrid',\n",
       " 'Fuel_Type_Petrol',\n",
       " 'Transmission_Manual',\n",
       " 'Transmission_Semi-Automatic']"
      ]
     },
     "execution_count": 89,
     "metadata": {},
     "output_type": "execute_result"
    }
   ],
   "execution_count": 89
  },
  {
   "metadata": {},
   "cell_type": "markdown",
   "source": "### All Variables (No Feature Selection)",
   "id": "bff6ef448f4c9a45"
  },
  {
   "metadata": {
    "ExecuteTime": {
     "end_time": "2025-03-11T02:02:24.051027Z",
     "start_time": "2025-03-11T02:02:24.033812Z"
    }
   },
   "cell_type": "code",
   "source": "regressor =  LinearRegression()",
   "id": "5a0c03fa8a65f865",
   "outputs": [],
   "execution_count": 90
  },
  {
   "metadata": {
    "ExecuteTime": {
     "end_time": "2025-03-11T02:02:25.883852Z",
     "start_time": "2025-03-11T02:02:24.892877Z"
    }
   },
   "cell_type": "code",
   "source": "regressor.fit(X_train, y_train)",
   "id": "eb93a729da29d680",
   "outputs": [
    {
     "data": {
      "text/plain": [
       "LinearRegression()"
      ],
      "text/html": [
       "<style>#sk-container-id-3 {\n",
       "  /* Definition of color scheme common for light and dark mode */\n",
       "  --sklearn-color-text: #000;\n",
       "  --sklearn-color-text-muted: #666;\n",
       "  --sklearn-color-line: gray;\n",
       "  /* Definition of color scheme for unfitted estimators */\n",
       "  --sklearn-color-unfitted-level-0: #fff5e6;\n",
       "  --sklearn-color-unfitted-level-1: #f6e4d2;\n",
       "  --sklearn-color-unfitted-level-2: #ffe0b3;\n",
       "  --sklearn-color-unfitted-level-3: chocolate;\n",
       "  /* Definition of color scheme for fitted estimators */\n",
       "  --sklearn-color-fitted-level-0: #f0f8ff;\n",
       "  --sklearn-color-fitted-level-1: #d4ebff;\n",
       "  --sklearn-color-fitted-level-2: #b3dbfd;\n",
       "  --sklearn-color-fitted-level-3: cornflowerblue;\n",
       "\n",
       "  /* Specific color for light theme */\n",
       "  --sklearn-color-text-on-default-background: var(--sg-text-color, var(--theme-code-foreground, var(--jp-content-font-color1, black)));\n",
       "  --sklearn-color-background: var(--sg-background-color, var(--theme-background, var(--jp-layout-color0, white)));\n",
       "  --sklearn-color-border-box: var(--sg-text-color, var(--theme-code-foreground, var(--jp-content-font-color1, black)));\n",
       "  --sklearn-color-icon: #696969;\n",
       "\n",
       "  @media (prefers-color-scheme: dark) {\n",
       "    /* Redefinition of color scheme for dark theme */\n",
       "    --sklearn-color-text-on-default-background: var(--sg-text-color, var(--theme-code-foreground, var(--jp-content-font-color1, white)));\n",
       "    --sklearn-color-background: var(--sg-background-color, var(--theme-background, var(--jp-layout-color0, #111)));\n",
       "    --sklearn-color-border-box: var(--sg-text-color, var(--theme-code-foreground, var(--jp-content-font-color1, white)));\n",
       "    --sklearn-color-icon: #878787;\n",
       "  }\n",
       "}\n",
       "\n",
       "#sk-container-id-3 {\n",
       "  color: var(--sklearn-color-text);\n",
       "}\n",
       "\n",
       "#sk-container-id-3 pre {\n",
       "  padding: 0;\n",
       "}\n",
       "\n",
       "#sk-container-id-3 input.sk-hidden--visually {\n",
       "  border: 0;\n",
       "  clip: rect(1px 1px 1px 1px);\n",
       "  clip: rect(1px, 1px, 1px, 1px);\n",
       "  height: 1px;\n",
       "  margin: -1px;\n",
       "  overflow: hidden;\n",
       "  padding: 0;\n",
       "  position: absolute;\n",
       "  width: 1px;\n",
       "}\n",
       "\n",
       "#sk-container-id-3 div.sk-dashed-wrapped {\n",
       "  border: 1px dashed var(--sklearn-color-line);\n",
       "  margin: 0 0.4em 0.5em 0.4em;\n",
       "  box-sizing: border-box;\n",
       "  padding-bottom: 0.4em;\n",
       "  background-color: var(--sklearn-color-background);\n",
       "}\n",
       "\n",
       "#sk-container-id-3 div.sk-container {\n",
       "  /* jupyter's `normalize.less` sets `[hidden] { display: none; }`\n",
       "     but bootstrap.min.css set `[hidden] { display: none !important; }`\n",
       "     so we also need the `!important` here to be able to override the\n",
       "     default hidden behavior on the sphinx rendered scikit-learn.org.\n",
       "     See: https://github.com/scikit-learn/scikit-learn/issues/21755 */\n",
       "  display: inline-block !important;\n",
       "  position: relative;\n",
       "}\n",
       "\n",
       "#sk-container-id-3 div.sk-text-repr-fallback {\n",
       "  display: none;\n",
       "}\n",
       "\n",
       "div.sk-parallel-item,\n",
       "div.sk-serial,\n",
       "div.sk-item {\n",
       "  /* draw centered vertical line to link estimators */\n",
       "  background-image: linear-gradient(var(--sklearn-color-text-on-default-background), var(--sklearn-color-text-on-default-background));\n",
       "  background-size: 2px 100%;\n",
       "  background-repeat: no-repeat;\n",
       "  background-position: center center;\n",
       "}\n",
       "\n",
       "/* Parallel-specific style estimator block */\n",
       "\n",
       "#sk-container-id-3 div.sk-parallel-item::after {\n",
       "  content: \"\";\n",
       "  width: 100%;\n",
       "  border-bottom: 2px solid var(--sklearn-color-text-on-default-background);\n",
       "  flex-grow: 1;\n",
       "}\n",
       "\n",
       "#sk-container-id-3 div.sk-parallel {\n",
       "  display: flex;\n",
       "  align-items: stretch;\n",
       "  justify-content: center;\n",
       "  background-color: var(--sklearn-color-background);\n",
       "  position: relative;\n",
       "}\n",
       "\n",
       "#sk-container-id-3 div.sk-parallel-item {\n",
       "  display: flex;\n",
       "  flex-direction: column;\n",
       "}\n",
       "\n",
       "#sk-container-id-3 div.sk-parallel-item:first-child::after {\n",
       "  align-self: flex-end;\n",
       "  width: 50%;\n",
       "}\n",
       "\n",
       "#sk-container-id-3 div.sk-parallel-item:last-child::after {\n",
       "  align-self: flex-start;\n",
       "  width: 50%;\n",
       "}\n",
       "\n",
       "#sk-container-id-3 div.sk-parallel-item:only-child::after {\n",
       "  width: 0;\n",
       "}\n",
       "\n",
       "/* Serial-specific style estimator block */\n",
       "\n",
       "#sk-container-id-3 div.sk-serial {\n",
       "  display: flex;\n",
       "  flex-direction: column;\n",
       "  align-items: center;\n",
       "  background-color: var(--sklearn-color-background);\n",
       "  padding-right: 1em;\n",
       "  padding-left: 1em;\n",
       "}\n",
       "\n",
       "\n",
       "/* Toggleable style: style used for estimator/Pipeline/ColumnTransformer box that is\n",
       "clickable and can be expanded/collapsed.\n",
       "- Pipeline and ColumnTransformer use this feature and define the default style\n",
       "- Estimators will overwrite some part of the style using the `sk-estimator` class\n",
       "*/\n",
       "\n",
       "/* Pipeline and ColumnTransformer style (default) */\n",
       "\n",
       "#sk-container-id-3 div.sk-toggleable {\n",
       "  /* Default theme specific background. It is overwritten whether we have a\n",
       "  specific estimator or a Pipeline/ColumnTransformer */\n",
       "  background-color: var(--sklearn-color-background);\n",
       "}\n",
       "\n",
       "/* Toggleable label */\n",
       "#sk-container-id-3 label.sk-toggleable__label {\n",
       "  cursor: pointer;\n",
       "  display: flex;\n",
       "  width: 100%;\n",
       "  margin-bottom: 0;\n",
       "  padding: 0.5em;\n",
       "  box-sizing: border-box;\n",
       "  text-align: center;\n",
       "  align-items: start;\n",
       "  justify-content: space-between;\n",
       "  gap: 0.5em;\n",
       "}\n",
       "\n",
       "#sk-container-id-3 label.sk-toggleable__label .caption {\n",
       "  font-size: 0.6rem;\n",
       "  font-weight: lighter;\n",
       "  color: var(--sklearn-color-text-muted);\n",
       "}\n",
       "\n",
       "#sk-container-id-3 label.sk-toggleable__label-arrow:before {\n",
       "  /* Arrow on the left of the label */\n",
       "  content: \"▸\";\n",
       "  float: left;\n",
       "  margin-right: 0.25em;\n",
       "  color: var(--sklearn-color-icon);\n",
       "}\n",
       "\n",
       "#sk-container-id-3 label.sk-toggleable__label-arrow:hover:before {\n",
       "  color: var(--sklearn-color-text);\n",
       "}\n",
       "\n",
       "/* Toggleable content - dropdown */\n",
       "\n",
       "#sk-container-id-3 div.sk-toggleable__content {\n",
       "  max-height: 0;\n",
       "  max-width: 0;\n",
       "  overflow: hidden;\n",
       "  text-align: left;\n",
       "  /* unfitted */\n",
       "  background-color: var(--sklearn-color-unfitted-level-0);\n",
       "}\n",
       "\n",
       "#sk-container-id-3 div.sk-toggleable__content.fitted {\n",
       "  /* fitted */\n",
       "  background-color: var(--sklearn-color-fitted-level-0);\n",
       "}\n",
       "\n",
       "#sk-container-id-3 div.sk-toggleable__content pre {\n",
       "  margin: 0.2em;\n",
       "  border-radius: 0.25em;\n",
       "  color: var(--sklearn-color-text);\n",
       "  /* unfitted */\n",
       "  background-color: var(--sklearn-color-unfitted-level-0);\n",
       "}\n",
       "\n",
       "#sk-container-id-3 div.sk-toggleable__content.fitted pre {\n",
       "  /* unfitted */\n",
       "  background-color: var(--sklearn-color-fitted-level-0);\n",
       "}\n",
       "\n",
       "#sk-container-id-3 input.sk-toggleable__control:checked~div.sk-toggleable__content {\n",
       "  /* Expand drop-down */\n",
       "  max-height: 200px;\n",
       "  max-width: 100%;\n",
       "  overflow: auto;\n",
       "}\n",
       "\n",
       "#sk-container-id-3 input.sk-toggleable__control:checked~label.sk-toggleable__label-arrow:before {\n",
       "  content: \"▾\";\n",
       "}\n",
       "\n",
       "/* Pipeline/ColumnTransformer-specific style */\n",
       "\n",
       "#sk-container-id-3 div.sk-label input.sk-toggleable__control:checked~label.sk-toggleable__label {\n",
       "  color: var(--sklearn-color-text);\n",
       "  background-color: var(--sklearn-color-unfitted-level-2);\n",
       "}\n",
       "\n",
       "#sk-container-id-3 div.sk-label.fitted input.sk-toggleable__control:checked~label.sk-toggleable__label {\n",
       "  background-color: var(--sklearn-color-fitted-level-2);\n",
       "}\n",
       "\n",
       "/* Estimator-specific style */\n",
       "\n",
       "/* Colorize estimator box */\n",
       "#sk-container-id-3 div.sk-estimator input.sk-toggleable__control:checked~label.sk-toggleable__label {\n",
       "  /* unfitted */\n",
       "  background-color: var(--sklearn-color-unfitted-level-2);\n",
       "}\n",
       "\n",
       "#sk-container-id-3 div.sk-estimator.fitted input.sk-toggleable__control:checked~label.sk-toggleable__label {\n",
       "  /* fitted */\n",
       "  background-color: var(--sklearn-color-fitted-level-2);\n",
       "}\n",
       "\n",
       "#sk-container-id-3 div.sk-label label.sk-toggleable__label,\n",
       "#sk-container-id-3 div.sk-label label {\n",
       "  /* The background is the default theme color */\n",
       "  color: var(--sklearn-color-text-on-default-background);\n",
       "}\n",
       "\n",
       "/* On hover, darken the color of the background */\n",
       "#sk-container-id-3 div.sk-label:hover label.sk-toggleable__label {\n",
       "  color: var(--sklearn-color-text);\n",
       "  background-color: var(--sklearn-color-unfitted-level-2);\n",
       "}\n",
       "\n",
       "/* Label box, darken color on hover, fitted */\n",
       "#sk-container-id-3 div.sk-label.fitted:hover label.sk-toggleable__label.fitted {\n",
       "  color: var(--sklearn-color-text);\n",
       "  background-color: var(--sklearn-color-fitted-level-2);\n",
       "}\n",
       "\n",
       "/* Estimator label */\n",
       "\n",
       "#sk-container-id-3 div.sk-label label {\n",
       "  font-family: monospace;\n",
       "  font-weight: bold;\n",
       "  display: inline-block;\n",
       "  line-height: 1.2em;\n",
       "}\n",
       "\n",
       "#sk-container-id-3 div.sk-label-container {\n",
       "  text-align: center;\n",
       "}\n",
       "\n",
       "/* Estimator-specific */\n",
       "#sk-container-id-3 div.sk-estimator {\n",
       "  font-family: monospace;\n",
       "  border: 1px dotted var(--sklearn-color-border-box);\n",
       "  border-radius: 0.25em;\n",
       "  box-sizing: border-box;\n",
       "  margin-bottom: 0.5em;\n",
       "  /* unfitted */\n",
       "  background-color: var(--sklearn-color-unfitted-level-0);\n",
       "}\n",
       "\n",
       "#sk-container-id-3 div.sk-estimator.fitted {\n",
       "  /* fitted */\n",
       "  background-color: var(--sklearn-color-fitted-level-0);\n",
       "}\n",
       "\n",
       "/* on hover */\n",
       "#sk-container-id-3 div.sk-estimator:hover {\n",
       "  /* unfitted */\n",
       "  background-color: var(--sklearn-color-unfitted-level-2);\n",
       "}\n",
       "\n",
       "#sk-container-id-3 div.sk-estimator.fitted:hover {\n",
       "  /* fitted */\n",
       "  background-color: var(--sklearn-color-fitted-level-2);\n",
       "}\n",
       "\n",
       "/* Specification for estimator info (e.g. \"i\" and \"?\") */\n",
       "\n",
       "/* Common style for \"i\" and \"?\" */\n",
       "\n",
       ".sk-estimator-doc-link,\n",
       "a:link.sk-estimator-doc-link,\n",
       "a:visited.sk-estimator-doc-link {\n",
       "  float: right;\n",
       "  font-size: smaller;\n",
       "  line-height: 1em;\n",
       "  font-family: monospace;\n",
       "  background-color: var(--sklearn-color-background);\n",
       "  border-radius: 1em;\n",
       "  height: 1em;\n",
       "  width: 1em;\n",
       "  text-decoration: none !important;\n",
       "  margin-left: 0.5em;\n",
       "  text-align: center;\n",
       "  /* unfitted */\n",
       "  border: var(--sklearn-color-unfitted-level-1) 1pt solid;\n",
       "  color: var(--sklearn-color-unfitted-level-1);\n",
       "}\n",
       "\n",
       ".sk-estimator-doc-link.fitted,\n",
       "a:link.sk-estimator-doc-link.fitted,\n",
       "a:visited.sk-estimator-doc-link.fitted {\n",
       "  /* fitted */\n",
       "  border: var(--sklearn-color-fitted-level-1) 1pt solid;\n",
       "  color: var(--sklearn-color-fitted-level-1);\n",
       "}\n",
       "\n",
       "/* On hover */\n",
       "div.sk-estimator:hover .sk-estimator-doc-link:hover,\n",
       ".sk-estimator-doc-link:hover,\n",
       "div.sk-label-container:hover .sk-estimator-doc-link:hover,\n",
       ".sk-estimator-doc-link:hover {\n",
       "  /* unfitted */\n",
       "  background-color: var(--sklearn-color-unfitted-level-3);\n",
       "  color: var(--sklearn-color-background);\n",
       "  text-decoration: none;\n",
       "}\n",
       "\n",
       "div.sk-estimator.fitted:hover .sk-estimator-doc-link.fitted:hover,\n",
       ".sk-estimator-doc-link.fitted:hover,\n",
       "div.sk-label-container:hover .sk-estimator-doc-link.fitted:hover,\n",
       ".sk-estimator-doc-link.fitted:hover {\n",
       "  /* fitted */\n",
       "  background-color: var(--sklearn-color-fitted-level-3);\n",
       "  color: var(--sklearn-color-background);\n",
       "  text-decoration: none;\n",
       "}\n",
       "\n",
       "/* Span, style for the box shown on hovering the info icon */\n",
       ".sk-estimator-doc-link span {\n",
       "  display: none;\n",
       "  z-index: 9999;\n",
       "  position: relative;\n",
       "  font-weight: normal;\n",
       "  right: .2ex;\n",
       "  padding: .5ex;\n",
       "  margin: .5ex;\n",
       "  width: min-content;\n",
       "  min-width: 20ex;\n",
       "  max-width: 50ex;\n",
       "  color: var(--sklearn-color-text);\n",
       "  box-shadow: 2pt 2pt 4pt #999;\n",
       "  /* unfitted */\n",
       "  background: var(--sklearn-color-unfitted-level-0);\n",
       "  border: .5pt solid var(--sklearn-color-unfitted-level-3);\n",
       "}\n",
       "\n",
       ".sk-estimator-doc-link.fitted span {\n",
       "  /* fitted */\n",
       "  background: var(--sklearn-color-fitted-level-0);\n",
       "  border: var(--sklearn-color-fitted-level-3);\n",
       "}\n",
       "\n",
       ".sk-estimator-doc-link:hover span {\n",
       "  display: block;\n",
       "}\n",
       "\n",
       "/* \"?\"-specific style due to the `<a>` HTML tag */\n",
       "\n",
       "#sk-container-id-3 a.estimator_doc_link {\n",
       "  float: right;\n",
       "  font-size: 1rem;\n",
       "  line-height: 1em;\n",
       "  font-family: monospace;\n",
       "  background-color: var(--sklearn-color-background);\n",
       "  border-radius: 1rem;\n",
       "  height: 1rem;\n",
       "  width: 1rem;\n",
       "  text-decoration: none;\n",
       "  /* unfitted */\n",
       "  color: var(--sklearn-color-unfitted-level-1);\n",
       "  border: var(--sklearn-color-unfitted-level-1) 1pt solid;\n",
       "}\n",
       "\n",
       "#sk-container-id-3 a.estimator_doc_link.fitted {\n",
       "  /* fitted */\n",
       "  border: var(--sklearn-color-fitted-level-1) 1pt solid;\n",
       "  color: var(--sklearn-color-fitted-level-1);\n",
       "}\n",
       "\n",
       "/* On hover */\n",
       "#sk-container-id-3 a.estimator_doc_link:hover {\n",
       "  /* unfitted */\n",
       "  background-color: var(--sklearn-color-unfitted-level-3);\n",
       "  color: var(--sklearn-color-background);\n",
       "  text-decoration: none;\n",
       "}\n",
       "\n",
       "#sk-container-id-3 a.estimator_doc_link.fitted:hover {\n",
       "  /* fitted */\n",
       "  background-color: var(--sklearn-color-fitted-level-3);\n",
       "}\n",
       "</style><div id=\"sk-container-id-3\" class=\"sk-top-container\"><div class=\"sk-text-repr-fallback\"><pre>LinearRegression()</pre><b>In a Jupyter environment, please rerun this cell to show the HTML representation or trust the notebook. <br />On GitHub, the HTML representation is unable to render, please try loading this page with nbviewer.org.</b></div><div class=\"sk-container\" hidden><div class=\"sk-item\"><div class=\"sk-estimator fitted sk-toggleable\"><input class=\"sk-toggleable__control sk-hidden--visually\" id=\"sk-estimator-id-3\" type=\"checkbox\" checked><label for=\"sk-estimator-id-3\" class=\"sk-toggleable__label fitted sk-toggleable__label-arrow\"><div><div>LinearRegression</div></div><div><a class=\"sk-estimator-doc-link fitted\" rel=\"noreferrer\" target=\"_blank\" href=\"https://scikit-learn.org/1.6/modules/generated/sklearn.linear_model.LinearRegression.html\">?<span>Documentation for LinearRegression</span></a><span class=\"sk-estimator-doc-link fitted\">i<span>Fitted</span></span></div></label><div class=\"sk-toggleable__content fitted\"><pre>LinearRegression()</pre></div> </div></div></div></div>"
      ]
     },
     "execution_count": 91,
     "metadata": {},
     "output_type": "execute_result"
    }
   ],
   "execution_count": 91
  },
  {
   "metadata": {
    "ExecuteTime": {
     "end_time": "2025-03-11T02:02:25.921039Z",
     "start_time": "2025-03-11T02:02:25.891366Z"
    }
   },
   "cell_type": "code",
   "source": "y_pred = regressor.predict(X_test)",
   "id": "71c63d1fb1e25234",
   "outputs": [],
   "execution_count": 92
  },
  {
   "metadata": {
    "ExecuteTime": {
     "end_time": "2025-03-11T02:02:26.227297Z",
     "start_time": "2025-03-11T02:02:26.176971Z"
    }
   },
   "cell_type": "code",
   "source": [
    "mse = mean_squared_error(y_test, y_pred)\n",
    "r2 = r2_score(y_test, y_pred)\n",
    "Results['All Variables'] = [mse, r2]\n",
    "mse, r2"
   ],
   "id": "1874af45b8efc764",
   "outputs": [
    {
     "data": {
      "text/plain": [
       "(4213.587770470056, 0.9995413937681955)"
      ]
     },
     "execution_count": 93,
     "metadata": {},
     "output_type": "execute_result"
    }
   ],
   "execution_count": 93
  },
  {
   "metadata": {
    "ExecuteTime": {
     "end_time": "2025-03-11T02:02:26.371654Z",
     "start_time": "2025-03-11T02:02:26.332067Z"
    }
   },
   "cell_type": "code",
   "source": "X_train",
   "id": "51e17353d6703ee6",
   "outputs": [
    {
     "data": {
      "text/plain": [
       "array([[-0.6553775 ,  0.17613484, -1.33393191, ..., -0.56945944,\n",
       "        -0.71514348,  1.42207221],\n",
       "       [-0.22042852,  1.56362082,  0.87031347, ..., -0.56945944,\n",
       "        -0.71514348,  1.42207221],\n",
       "       [-0.80036049, -0.95119752, -1.57078105, ..., -0.56945944,\n",
       "        -0.71514348,  1.42207221],\n",
       "       ...,\n",
       "       [-0.80036049,  1.3034672 , -1.10112397, ...,  1.7560513 ,\n",
       "        -0.71514348,  1.42207221],\n",
       "       [ 0.64946944,  1.21674933,  1.33525966, ..., -0.56945944,\n",
       "        -0.71514348,  1.42207221],\n",
       "       [ 1.3743844 , -1.12463327,  0.76531146, ..., -0.56945944,\n",
       "        -0.71514348,  1.42207221]])"
      ]
     },
     "execution_count": 94,
     "metadata": {},
     "output_type": "execute_result"
    }
   ],
   "execution_count": 94
  },
  {
   "metadata": {
    "ExecuteTime": {
     "end_time": "2025-03-11T02:02:26.890439Z",
     "start_time": "2025-03-11T02:02:26.848022Z"
    }
   },
   "cell_type": "code",
   "source": [
    "X_train_const = sm.add_constant(X_train)\n",
    "X_test_const = sm.add_constant(X_test)\n",
    "cols.remove('Price')\n",
    "cols.insert(0, 'intercept')"
   ],
   "id": "9860054ae7684c2c",
   "outputs": [],
   "execution_count": 95
  },
  {
   "metadata": {
    "ExecuteTime": {
     "end_time": "2025-03-11T02:02:29.510495Z",
     "start_time": "2025-03-11T02:02:29.488882Z"
    }
   },
   "cell_type": "code",
   "source": "X_train_const",
   "id": "5ab7461c5365b579",
   "outputs": [
    {
     "data": {
      "text/plain": [
       "array([[ 1.        , -0.6553775 ,  0.17613484, ..., -0.56945944,\n",
       "        -0.71514348,  1.42207221],\n",
       "       [ 1.        , -0.22042852,  1.56362082, ..., -0.56945944,\n",
       "        -0.71514348,  1.42207221],\n",
       "       [ 1.        , -0.80036049, -0.95119752, ..., -0.56945944,\n",
       "        -0.71514348,  1.42207221],\n",
       "       ...,\n",
       "       [ 1.        , -0.80036049,  1.3034672 , ...,  1.7560513 ,\n",
       "        -0.71514348,  1.42207221],\n",
       "       [ 1.        ,  0.64946944,  1.21674933, ..., -0.56945944,\n",
       "        -0.71514348,  1.42207221],\n",
       "       [ 1.        ,  1.3743844 , -1.12463327, ..., -0.56945944,\n",
       "        -0.71514348,  1.42207221]])"
      ]
     },
     "execution_count": 96,
     "metadata": {},
     "output_type": "execute_result"
    }
   ],
   "execution_count": 96
  },
  {
   "metadata": {
    "ExecuteTime": {
     "end_time": "2025-03-11T02:02:30.259214Z",
     "start_time": "2025-03-11T02:02:29.998494Z"
    }
   },
   "cell_type": "code",
   "source": [
    "model_all = sm.OLS(y_train, X_train_const).fit()\n",
    "y_pred_all = model_all.predict(X_test_const)"
   ],
   "id": "5a5dede0c42af023",
   "outputs": [],
   "execution_count": 97
  },
  {
   "metadata": {
    "ExecuteTime": {
     "end_time": "2025-03-11T02:02:30.748089Z",
     "start_time": "2025-03-11T02:02:30.518522Z"
    }
   },
   "cell_type": "code",
   "source": [
    "mse_all = mean_squared_error(y_test, y_pred_all)\n",
    "r2_all = r2_score(y_test, y_pred_all)\n",
    "model_all.summary(), mse_all, r2_all"
   ],
   "id": "242736f17d90711",
   "outputs": [
    {
     "data": {
      "text/plain": [
       "(<class 'statsmodels.iolib.summary.Summary'>\n",
       " \"\"\"\n",
       "                             OLS Regression Results                            \n",
       " ==============================================================================\n",
       " Dep. Variable:                  Price   R-squared:                       0.999\n",
       " Model:                            OLS   Adj. R-squared:                  0.999\n",
       " Method:                 Least Squares   F-statistic:                 2.529e+05\n",
       " Date:                Tue, 11 Mar 2025   Prob (F-statistic):               0.00\n",
       " Time:                        07:02:30   Log-Likelihood:                -47360.\n",
       " No. Observations:                8000   AIC:                         9.480e+04\n",
       " Df Residuals:                    7961   BIC:                         9.507e+04\n",
       " Df Model:                          38                                         \n",
       " Covariance Type:            nonrobust                                         \n",
       " ==============================================================================\n",
       "                  coef    std err          t      P>|t|      [0.025      0.975]\n",
       " ------------------------------------------------------------------------------\n",
       " const       8828.7452      1.010   8741.789      0.000    8826.765    8830.725\n",
       " x1          2058.8882      1.012   2034.781      0.000    2056.905    2060.872\n",
       " x2          1144.3550      1.012   1130.306      0.000    1142.370    1146.340\n",
       " x3         -1721.8599      1.013  -1700.247      0.000   -1723.845   -1719.875\n",
       " x4            -0.9996      1.013     -0.987      0.324      -2.985       0.986\n",
       " x5             0.2237      1.013      0.221      0.825      -1.763       2.210\n",
       " x6            -0.4666      1.112     -0.420      0.675      -2.646       1.713\n",
       " x7             0.1090      0.749      0.146      0.884      -1.359       1.577\n",
       " x8             0.7070      0.756      0.935      0.350      -0.775       2.189\n",
       " x9            -0.4701      2.051     -0.229      0.819      -4.491       3.551\n",
       " x10            0.3486      0.754      0.462      0.644      -1.129       1.826\n",
       " x11           -1.0280      2.038     -0.504      0.614      -5.022       2.966\n",
       " x12            0.2854      1.704      0.168      0.867      -3.054       3.625\n",
       " x13            0.4838      0.743      0.651      0.515      -0.973       1.941\n",
       " x14            0.2438      0.756      0.322      0.747      -1.238       1.726\n",
       " x15           -0.4632      1.405     -0.330      0.742      -3.217       2.290\n",
       " x16           -0.0261      1.172     -0.022      0.982      -2.323       2.271\n",
       " x17           -0.4942      1.177     -0.420      0.675      -2.802       1.813\n",
       " x18            2.0031      2.120      0.945      0.345      -2.153       6.160\n",
       " x19           -0.8859      0.912     -0.971      0.331      -2.674       0.902\n",
       " x20            3.5251      2.003      1.760      0.078      -0.401       7.451\n",
       " x21           -0.0454      0.909     -0.050      0.960      -1.827       1.736\n",
       " x22            0.4381      1.848      0.237      0.813      -3.184       4.060\n",
       " x23           -0.1776      0.910     -0.195      0.845      -1.961       1.605\n",
       " x24           -0.2162      0.920     -0.235      0.814      -2.019       1.586\n",
       " x25            0.7959      0.917      0.868      0.386      -1.003       2.594\n",
       " x26            0.0285      0.905      0.031      0.975      -1.745       1.802\n",
       " x27            0.3802      0.918      0.414      0.679      -1.419       2.179\n",
       " x28           -0.0524      0.918     -0.057      0.954      -1.852       1.747\n",
       " x29            0.1055      0.906      0.116      0.907      -1.671       1.882\n",
       " x30            0.2810      0.912      0.308      0.758      -1.506       2.068\n",
       " x31            2.7556      2.064      1.335      0.182      -1.290       6.801\n",
       " x32            3.6128      2.863      1.262      0.207      -1.999       9.225\n",
       " x33            0.2152      0.915      0.235      0.814      -1.578       2.008\n",
       " x34            0.1494      1.176      0.127      0.899      -2.156       2.455\n",
       " x35            1.7517      0.913      1.919      0.055      -0.038       3.541\n",
       " x36            2.6213      2.009      1.305      0.192      -1.317       6.560\n",
       " x37            0.0377      0.913      0.041      0.967      -1.751       1.827\n",
       " x38            0.2376      0.907      0.262      0.793      -1.541       2.016\n",
       " x39            0.7390      0.917      0.806      0.420      -1.058       2.536\n",
       " x40          870.7602      1.240    702.113      0.000     868.329     873.191\n",
       " x41          424.8263      1.234    344.208      0.000     422.407     427.246\n",
       " x42            0.0756      1.234      0.061      0.951      -2.343       2.494\n",
       " x43         -704.7733      1.170   -602.251      0.000    -707.067    -702.479\n",
       " x44         -702.0938      1.172   -599.138      0.000    -704.391    -699.797\n",
       " ==============================================================================\n",
       " Omnibus:                    15469.448   Durbin-Watson:                   1.997\n",
       " Prob(Omnibus):                  0.000   Jarque-Bera (JB):         26555788.503\n",
       " Skew:                          15.341   Prob(JB):                         0.00\n",
       " Kurtosis:                     283.581   Cond. No.                     4.93e+15\n",
       " ==============================================================================\n",
       " \n",
       " Notes:\n",
       " [1] Standard Errors assume that the covariance matrix of the errors is correctly specified.\n",
       " [2] The smallest eigenvalue is 7.15e-28. This might indicate that there are\n",
       " strong multicollinearity problems or that the design matrix is singular.\n",
       " \"\"\",\n",
       " 4213.587770469688,\n",
       " 0.9995413937681955)"
      ]
     },
     "execution_count": 98,
     "metadata": {},
     "output_type": "execute_result"
    }
   ],
   "execution_count": 98
  },
  {
   "metadata": {},
   "cell_type": "markdown",
   "source": "### Backward Elimination",
   "id": "8f05b5d7e30f59ee"
  },
  {
   "metadata": {},
   "cell_type": "markdown",
   "source": "Iteratively remove features with p-value > 0.05",
   "id": "129c3f63c97805d6"
  },
  {
   "metadata": {
    "ExecuteTime": {
     "end_time": "2025-03-11T02:02:33.721386Z",
     "start_time": "2025-03-11T02:02:30.849390Z"
    }
   },
   "cell_type": "code",
   "source": [
    "X_train = pd.DataFrame(X_train)\n",
    "X_test = pd.DataFrame(X_test)\n",
    "\n",
    "X_train.reset_index(drop=True, inplace=True)\n",
    "y_train.reset_index(drop=True, inplace=True)\n",
    "\n",
    "X_train_const = sm.add_constant(X_train)\n",
    "X_test_const = sm.add_constant(X_test)\n",
    "\n",
    "X_opt = X_train_const.copy()\n",
    "\n",
    "while True:\n",
    "    model = sm.OLS(y_train, X_opt).fit()\n",
    "    p_values = model.pvalues\n",
    "\n",
    "    max_p_value = p_values.max()\n",
    "    if max_p_value > 0.05:  \n",
    "        feature_to_remove = p_values.idxmax()\n",
    "        X_opt.drop(columns=[feature_to_remove], inplace=True)\n",
    "    else:\n",
    "        break  \n"
   ],
   "id": "919a89ceeb70ef81",
   "outputs": [],
   "execution_count": 99
  },
  {
   "metadata": {
    "ExecuteTime": {
     "end_time": "2025-03-11T02:02:33.751332Z",
     "start_time": "2025-03-11T02:02:33.725779Z"
    }
   },
   "cell_type": "code",
   "source": [
    "selected_indices =  X_opt.columns.tolist()\n",
    "selected_indices = selected_indices[1:]\n",
    "selected_columns = [cols[each] for each in selected_indices]\n",
    "print('Selected Columns from backward elimination:', selected_columns)\n",
    "print(len(selected_columns))"
   ],
   "id": "592cea360d300dbb",
   "outputs": [
    {
     "name": "stdout",
     "output_type": "stream",
     "text": [
      "Selected Columns from backward elimination: ['intercept', 'Year', 'Engine_Size', 'Model_Camry', 'Model_Optima', 'Model_Tucson', 'Fuel_Type_Electric', 'Fuel_Type_Petrol', 'Transmission_Manual']\n",
      "9\n"
     ]
    }
   ],
   "execution_count": 100
  },
  {
   "metadata": {
    "ExecuteTime": {
     "end_time": "2025-03-11T02:02:33.812082Z",
     "start_time": "2025-03-11T02:02:33.756567Z"
    }
   },
   "cell_type": "code",
   "source": [
    "model_backward = sm.OLS(y_train, X_opt).fit()\n",
    "y_pred_backward = model_backward.predict(X_test_const[X_opt.columns]) \n",
    "\n",
    "mse = mean_squared_error(y_test, y_pred_backward)\n",
    "r2  = r2_score(y_test, y_pred_backward)\n",
    "Results['Backward Elimination'] = [mse, r2] "
   ],
   "id": "637fc422c8413375",
   "outputs": [],
   "execution_count": 101
  },
  {
   "metadata": {
    "ExecuteTime": {
     "end_time": "2025-03-11T02:02:33.894935Z",
     "start_time": "2025-03-11T02:02:33.822527Z"
    }
   },
   "cell_type": "code",
   "source": "print(model_backward.summary())",
   "id": "df2bf4b395cacab5",
   "outputs": [
    {
     "name": "stdout",
     "output_type": "stream",
     "text": [
      "                            OLS Regression Results                            \n",
      "==============================================================================\n",
      "Dep. Variable:                  Price   R-squared:                       0.999\n",
      "Model:                            OLS   Adj. R-squared:                  0.999\n",
      "Method:                 Least Squares   F-statistic:                 1.069e+06\n",
      "Date:                Tue, 11 Mar 2025   Prob (F-statistic):               0.00\n",
      "Time:                        07:02:33   Log-Likelihood:                -47368.\n",
      "No. Observations:                8000   AIC:                         9.476e+04\n",
      "Df Residuals:                    7990   BIC:                         9.483e+04\n",
      "Df Model:                           9                                         \n",
      "Covariance Type:            nonrobust                                         \n",
      "==============================================================================\n",
      "                 coef    std err          t      P>|t|      [0.025      0.975]\n",
      "------------------------------------------------------------------------------\n",
      "const       8828.7453      1.009   8748.344      0.000    8826.767    8830.724\n",
      "0           2058.8663      1.010   2038.432      0.000    2056.886    2060.846\n",
      "1           1144.3533      1.010   1132.729      0.000    1142.373    1146.334\n",
      "2          -1721.8677      1.010  -1704.149      0.000   -1723.848   -1719.887\n",
      "19             2.7806      1.013      2.744      0.006       0.794       4.767\n",
      "31             2.3320      1.013      2.301      0.021       0.346       4.318\n",
      "39           870.6904      1.072    812.297      0.000     868.589     872.792\n",
      "40           424.7570      1.072    396.186      0.000     422.655     426.859\n",
      "42          -704.7793      1.168   -603.439      0.000    -707.069    -702.490\n",
      "43          -702.0780      1.169   -600.644      0.000    -704.369    -699.787\n",
      "==============================================================================\n",
      "Omnibus:                    15488.124   Durbin-Watson:                   1.998\n",
      "Prob(Omnibus):                  0.000   Jarque-Bera (JB):         26712196.783\n",
      "Skew:                          15.382   Prob(JB):                         0.00\n",
      "Kurtosis:                     284.407   Cond. No.                         1.75\n",
      "==============================================================================\n",
      "\n",
      "Notes:\n",
      "[1] Standard Errors assume that the covariance matrix of the errors is correctly specified.\n"
     ]
    }
   ],
   "execution_count": 102
  },
  {
   "metadata": {},
   "cell_type": "markdown",
   "source": "### Forward Selection",
   "id": "a62f21f9d8dee155"
  },
  {
   "metadata": {
    "ExecuteTime": {
     "end_time": "2025-03-11T02:03:17.362512Z",
     "start_time": "2025-03-11T02:02:33.901719Z"
    }
   },
   "cell_type": "code",
   "source": [
    "from sklearn.feature_selection import f_regression\n",
    "selected_features = ['const']\n",
    "remaining_features = list(X_train.columns)\n",
    "best_score = 0\n",
    "while remaining_features:\n",
    "    scores = {}\n",
    "    for feature in remaining_features:\n",
    "        temp_features = selected_features + [feature]\n",
    "        model = sm.OLS(y_train, X_train_const[temp_features]).fit()\n",
    "        scores[feature] = model.rsquared\n",
    "    best_feature = max(scores, key=scores.get)\n",
    "    if scores[best_feature] > best_score:\n",
    "        best_score = scores[best_feature]\n",
    "        selected_features.append(best_feature)\n",
    "        remaining_features.remove(best_feature)\n",
    "    else:\n",
    "        break\n",
    "\n",
    "X_train_forward = X_train_const[selected_features]\n",
    "X_test_forward = X_test_const[selected_features]\n"
   ],
   "id": "8a3ee32f861cec68",
   "outputs": [],
   "execution_count": 103
  },
  {
   "metadata": {
    "ExecuteTime": {
     "end_time": "2025-03-11T02:03:17.498026Z",
     "start_time": "2025-03-11T02:03:17.362512Z"
    }
   },
   "cell_type": "code",
   "source": [
    "model_forward = sm.OLS(y_train, X_train_forward).fit()\n",
    "y_pred_forward = model_forward.predict(X_test_forward)\n",
    "\n",
    "mse_forward = mean_squared_error(y_test, y_pred_forward)\n",
    "r2_forward = r2_score(y_test, y_pred_forward)"
   ],
   "id": "95b519bd01522c76",
   "outputs": [],
   "execution_count": 104
  },
  {
   "metadata": {
    "ExecuteTime": {
     "end_time": "2025-03-11T02:03:17.516833Z",
     "start_time": "2025-03-11T02:03:17.498026Z"
    }
   },
   "cell_type": "code",
   "source": "Results['Forward Selection'] = [mse_forward, r2_forward]",
   "id": "35a6c3c54c0e646c",
   "outputs": [],
   "execution_count": 105
  },
  {
   "metadata": {
    "ExecuteTime": {
     "end_time": "2025-03-11T02:03:18.804144Z",
     "start_time": "2025-03-11T02:03:17.516833Z"
    }
   },
   "cell_type": "code",
   "source": [
    "selected_features  = selected_features[1:]\n",
    "Selected_Columns = [cols[int(each)] for each in selected_features]\n",
    "print('Selected Columns from forward selection:', Selected_Columns)\n",
    "print(len(Selected_columns))"
   ],
   "id": "9adeca7e444e3985",
   "outputs": [
    {
     "name": "stdout",
     "output_type": "stream",
     "text": [
      "Selected Columns from forward selection: ['intercept', 'Engine_Size', 'Year', 'Model_Tucson', 'Fuel_Type_Electric', 'Fuel_Type_Petrol', 'Transmission_Manual', 'Model_Camry', 'Model_Optima', 'Brand_Hyundai', 'Model_Q5', 'Model_A4', 'Brand_Chevrolet', 'Brand_Kia', 'Mileage', 'Model_Tiguan', 'Brand_Volkswagen', 'Model_Malibu', 'Model_RAV4', 'Model_Accord', 'Model_A3', 'Model_Equinox', 'Owner_Count', 'Model_Elantra', 'Model_Explorer', 'Model_5 Series', 'Doors', 'Model_E-Class', 'Brand_Ford', 'Model_Corolla', 'Model_Focus', 'Brand_Toyota', 'Model_Impala', 'Model_Passat', 'Brand_BMW', 'Fuel_Type_Hybrid', 'Model_Other', 'Brand_Honda']\n"
     ]
    },
    {
     "ename": "NameError",
     "evalue": "name 'Selected_columns' is not defined",
     "output_type": "error",
     "traceback": [
      "\u001B[1;31m---------------------------------------------------------------------------\u001B[0m",
      "\u001B[1;31mNameError\u001B[0m                                 Traceback (most recent call last)",
      "Cell \u001B[1;32mIn[106], line 4\u001B[0m\n\u001B[0;32m      2\u001B[0m Selected_Columns \u001B[38;5;241m=\u001B[39m [cols[\u001B[38;5;28mint\u001B[39m(each)] \u001B[38;5;28;01mfor\u001B[39;00m each \u001B[38;5;129;01min\u001B[39;00m selected_features]\n\u001B[0;32m      3\u001B[0m \u001B[38;5;28mprint\u001B[39m(\u001B[38;5;124m'\u001B[39m\u001B[38;5;124mSelected Columns from forward selection:\u001B[39m\u001B[38;5;124m'\u001B[39m, Selected_Columns)\n\u001B[1;32m----> 4\u001B[0m \u001B[38;5;28mprint\u001B[39m(\u001B[38;5;28mlen\u001B[39m(\u001B[43mSelected_columns\u001B[49m))\n",
      "\u001B[1;31mNameError\u001B[0m: name 'Selected_columns' is not defined"
     ]
    }
   ],
   "execution_count": 106
  },
  {
   "metadata": {},
   "cell_type": "code",
   "source": "model_forward.summary()",
   "id": "970f17b7856c1d91",
   "outputs": [],
   "execution_count": null
  },
  {
   "metadata": {},
   "cell_type": "markdown",
   "source": "### Bidirectional Elimination",
   "id": "63f0969077ef593a"
  },
  {
   "metadata": {},
   "cell_type": "code",
   "source": [
    "def bidirectional_elimination(X=X_train_const, y=y_train, significance_level=0.05):\n",
    "    selected_features = []\n",
    "    remaining_features = list(X.columns)\n",
    "    remaining_features.remove('const')  # Exclude intercept from selection\n",
    "\n",
    "    best_score = 0  # Track the best model score\n",
    "\n",
    "    while remaining_features:\n",
    "        # Forward Selection: Add the most significant feature\n",
    "        best_feature = None\n",
    "        best_pval = float('inf')\n",
    "        \n",
    "        for feature in remaining_features:\n",
    "            temp_features = selected_features + [feature]\n",
    "            X_temp = sm.add_constant(X[temp_features])\n",
    "            model = sm.OLS(y, X_temp).fit()\n",
    "            pval = model.pvalues[feature]\n",
    "\n",
    "            if pval < best_pval:\n",
    "                best_pval = pval\n",
    "                best_feature = feature\n",
    "                \n",
    "        if best_pval < significance_level:\n",
    "            selected_features.append(best_feature)\n",
    "            remaining_features.remove(best_feature)\n",
    "            \n",
    "            # Backward Elimination: Remove insignificant features while ensuring score improvement\n",
    "            while len(selected_features) > 0:\n",
    "                X_temp = sm.add_constant(X[selected_features])\n",
    "                model = sm.OLS(y, X_temp).fit()\n",
    "                pvalues = model.pvalues.drop('const')\n",
    "                \n",
    "                worst_pval_feature = pvalues.idxmax()\n",
    "                worst_pval = pvalues.max()\n",
    "                \n",
    "                if worst_pval > significance_level and model.rsquared_adj > best_score: #Check if removal improves score\n",
    "                    selected_features.remove(worst_pval_feature)\n",
    "                    best_score = model.rsquared_adj  # Update best score\n",
    "                else:\n",
    "                    break\n",
    "        else:\n",
    "            break\n",
    "\n",
    "    return selected_features"
   ],
   "id": "1fbbb70d553779a3",
   "outputs": [],
   "execution_count": null
  },
  {
   "metadata": {},
   "cell_type": "code",
   "source": [
    "selected_indices = bidirectional_elimination()\n",
    "selected_columns = [cols[int(each)] for each in selected_indices]\n",
    "print(\"Selected Features:\", selected_columns)\n",
    "print(len(selected_columns))"
   ],
   "id": "1fecd844bacae239",
   "outputs": [],
   "execution_count": null
  },
  {
   "metadata": {},
   "cell_type": "code",
   "source": [
    "X_train_bidirectional = X_train_const[selected_indices]\n",
    "X_test_bidirectional = X_test_const[selected_indices]"
   ],
   "id": "feff4da9ac77fb32",
   "outputs": [],
   "execution_count": null
  },
  {
   "metadata": {},
   "cell_type": "code",
   "source": [
    "model_bidirectional = sm.OLS(y_train, X_train_bidirectional).fit()\n",
    "y_pred_bidirectional = model_bidirectional.predict(X_test_bidirectional)\n"
   ],
   "id": "9216d18e4c97cf80",
   "outputs": [],
   "execution_count": null
  },
  {
   "metadata": {},
   "cell_type": "code",
   "source": [
    "mse_bidirectional = mean_squared_error(y_test, y_pred_bidirectional)\n",
    "r2_bidirectional = r2_score(y_test, y_pred_bidirectional)\n",
    "Results['Bidirectional Elimination'] = [mse_bidirectional, r2_bidirectional]"
   ],
   "id": "b5455dacd203182d",
   "outputs": [],
   "execution_count": null
  },
  {
   "metadata": {},
   "cell_type": "code",
   "source": "model_bidirectional.summary()",
   "id": "4bed26851e348db0",
   "outputs": [],
   "execution_count": null
  },
  {
   "metadata": {},
   "cell_type": "markdown",
   "source": "#  Results",
   "id": "6492122930937014"
  },
  {
   "metadata": {},
   "cell_type": "code",
   "source": [
    "for i,j in Results.items():\n",
    "    print(f'{i}: MSE: {j[0]} R2: {j[1]}')"
   ],
   "id": "b9e463b6d04a58cb",
   "outputs": [],
   "execution_count": null
  },
  {
   "metadata": {},
   "cell_type": "markdown",
   "source": [
    "## Key Findings:\n",
    "- The models using all variables, backward elimination, and forward selection perform exceptionally well, with R² values close to 1, indicating that the models explain almost all the variance in the target variable.\n",
    "\n",
    "- The bidirectional elimination approach did not perform well, suggesting that this method may not be appropriate for this dataset or that the implementation needs further refinement."
   ],
   "id": "ec016cf3747ed2e7"
  },
  {
   "metadata": {},
   "cell_type": "code",
   "source": "",
   "id": "aa64703e7fcd0470",
   "outputs": [],
   "execution_count": null
  }
 ],
 "metadata": {
  "kernelspec": {
   "display_name": "Python 3",
   "language": "python",
   "name": "python3"
  },
  "language_info": {
   "codemirror_mode": {
    "name": "ipython",
    "version": 2
   },
   "file_extension": ".py",
   "mimetype": "text/x-python",
   "name": "python",
   "nbconvert_exporter": "python",
   "pygments_lexer": "ipython2",
   "version": "2.7.6"
  }
 },
 "nbformat": 4,
 "nbformat_minor": 5
}
