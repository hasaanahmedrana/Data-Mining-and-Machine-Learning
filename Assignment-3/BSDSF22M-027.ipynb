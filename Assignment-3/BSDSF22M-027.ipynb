{
 "cells": [
  {
   "cell_type": "code",
   "id": "initial_id",
   "metadata": {
    "collapsed": true,
    "ExecuteTime": {
     "end_time": "2025-03-09T16:59:16.794223Z",
     "start_time": "2025-03-09T16:59:16.773077Z"
    }
   },
   "source": [
    "import numpy as np\n",
    "import pandas as pd\n",
    "from sklearn.model_selection import train_test_split\n",
    "from sklearn.linear_model import LinearRegression\n",
    "from sklearn.metrics import mean_squared_error, r2_score\n",
    "from sklearn.preprocessing import LabelEncoder, StandardScaler, OrdinalEncoder, OneHotEncoder\n",
    "from sklearn.compose import ColumnTransformer\n",
    "from statsmodels import api as sm\n",
    "from sklearn.metrics import r2_score, mean_squared_error\n",
    "import warnings\n",
    "warnings.simplefilter(action='ignore', category=FutureWarning)"
   ],
   "outputs": [],
   "execution_count": 296
  },
  {
   "metadata": {},
   "cell_type": "markdown",
   "source": "Link to data set: https://www.kaggle.com/datasets/asinow/car-price-dataset",
   "id": "18dccc68c82b84d"
  },
  {
   "metadata": {},
   "cell_type": "markdown",
   "source": "# Preprocessing",
   "id": "3918a9788969f9bb"
  },
  {
   "metadata": {
    "ExecuteTime": {
     "end_time": "2025-03-09T16:59:18.723565Z",
     "start_time": "2025-03-09T16:59:18.514162Z"
    }
   },
   "cell_type": "code",
   "source": "data = pd.read_csv(\"car_price_dataset.csv\")",
   "id": "8555f245fc979da3",
   "outputs": [],
   "execution_count": 297
  },
  {
   "metadata": {
    "ExecuteTime": {
     "end_time": "2025-03-09T16:59:18.762931Z",
     "start_time": "2025-03-09T16:59:18.733795Z"
    }
   },
   "cell_type": "code",
   "source": "data.shape",
   "id": "2742a0c93616ef41",
   "outputs": [
    {
     "data": {
      "text/plain": [
       "(10000, 10)"
      ]
     },
     "execution_count": 298,
     "metadata": {},
     "output_type": "execute_result"
    }
   ],
   "execution_count": 298
  },
  {
   "metadata": {
    "ExecuteTime": {
     "end_time": "2025-03-09T16:59:18.972454Z",
     "start_time": "2025-03-09T16:59:18.886048Z"
    }
   },
   "cell_type": "code",
   "source": "data.head()",
   "id": "2a190762645184b0",
   "outputs": [
    {
     "data": {
      "text/plain": [
       "        Brand   Model  Year  Engine_Size Fuel_Type    Transmission  Mileage  \\\n",
       "0         Kia     Rio  2020          4.2    Diesel          Manual   289944   \n",
       "1   Chevrolet  Malibu  2012          2.0    Hybrid       Automatic     5356   \n",
       "2    Mercedes     GLA  2020          4.2    Diesel       Automatic   231440   \n",
       "3        Audi      Q5  2023          2.0  Electric          Manual   160971   \n",
       "4  Volkswagen    Golf  2003          2.6    Hybrid  Semi-Automatic   286618   \n",
       "\n",
       "   Doors  Owner_Count  Price  \n",
       "0      3            5   8501  \n",
       "1      2            3  12092  \n",
       "2      4            2  11171  \n",
       "3      2            1  11780  \n",
       "4      3            3   2867  "
      ],
      "text/html": [
       "<div>\n",
       "<style scoped>\n",
       "    .dataframe tbody tr th:only-of-type {\n",
       "        vertical-align: middle;\n",
       "    }\n",
       "\n",
       "    .dataframe tbody tr th {\n",
       "        vertical-align: top;\n",
       "    }\n",
       "\n",
       "    .dataframe thead th {\n",
       "        text-align: right;\n",
       "    }\n",
       "</style>\n",
       "<table border=\"1\" class=\"dataframe\">\n",
       "  <thead>\n",
       "    <tr style=\"text-align: right;\">\n",
       "      <th></th>\n",
       "      <th>Brand</th>\n",
       "      <th>Model</th>\n",
       "      <th>Year</th>\n",
       "      <th>Engine_Size</th>\n",
       "      <th>Fuel_Type</th>\n",
       "      <th>Transmission</th>\n",
       "      <th>Mileage</th>\n",
       "      <th>Doors</th>\n",
       "      <th>Owner_Count</th>\n",
       "      <th>Price</th>\n",
       "    </tr>\n",
       "  </thead>\n",
       "  <tbody>\n",
       "    <tr>\n",
       "      <th>0</th>\n",
       "      <td>Kia</td>\n",
       "      <td>Rio</td>\n",
       "      <td>2020</td>\n",
       "      <td>4.2</td>\n",
       "      <td>Diesel</td>\n",
       "      <td>Manual</td>\n",
       "      <td>289944</td>\n",
       "      <td>3</td>\n",
       "      <td>5</td>\n",
       "      <td>8501</td>\n",
       "    </tr>\n",
       "    <tr>\n",
       "      <th>1</th>\n",
       "      <td>Chevrolet</td>\n",
       "      <td>Malibu</td>\n",
       "      <td>2012</td>\n",
       "      <td>2.0</td>\n",
       "      <td>Hybrid</td>\n",
       "      <td>Automatic</td>\n",
       "      <td>5356</td>\n",
       "      <td>2</td>\n",
       "      <td>3</td>\n",
       "      <td>12092</td>\n",
       "    </tr>\n",
       "    <tr>\n",
       "      <th>2</th>\n",
       "      <td>Mercedes</td>\n",
       "      <td>GLA</td>\n",
       "      <td>2020</td>\n",
       "      <td>4.2</td>\n",
       "      <td>Diesel</td>\n",
       "      <td>Automatic</td>\n",
       "      <td>231440</td>\n",
       "      <td>4</td>\n",
       "      <td>2</td>\n",
       "      <td>11171</td>\n",
       "    </tr>\n",
       "    <tr>\n",
       "      <th>3</th>\n",
       "      <td>Audi</td>\n",
       "      <td>Q5</td>\n",
       "      <td>2023</td>\n",
       "      <td>2.0</td>\n",
       "      <td>Electric</td>\n",
       "      <td>Manual</td>\n",
       "      <td>160971</td>\n",
       "      <td>2</td>\n",
       "      <td>1</td>\n",
       "      <td>11780</td>\n",
       "    </tr>\n",
       "    <tr>\n",
       "      <th>4</th>\n",
       "      <td>Volkswagen</td>\n",
       "      <td>Golf</td>\n",
       "      <td>2003</td>\n",
       "      <td>2.6</td>\n",
       "      <td>Hybrid</td>\n",
       "      <td>Semi-Automatic</td>\n",
       "      <td>286618</td>\n",
       "      <td>3</td>\n",
       "      <td>3</td>\n",
       "      <td>2867</td>\n",
       "    </tr>\n",
       "  </tbody>\n",
       "</table>\n",
       "</div>"
      ]
     },
     "execution_count": 299,
     "metadata": {},
     "output_type": "execute_result"
    }
   ],
   "execution_count": 299
  },
  {
   "metadata": {
    "ExecuteTime": {
     "end_time": "2025-03-09T16:59:19.532017Z",
     "start_time": "2025-03-09T16:59:19.374034Z"
    }
   },
   "cell_type": "code",
   "source": "data.info()",
   "id": "dd115fcc2af97b5",
   "outputs": [
    {
     "name": "stdout",
     "output_type": "stream",
     "text": [
      "<class 'pandas.core.frame.DataFrame'>\n",
      "RangeIndex: 10000 entries, 0 to 9999\n",
      "Data columns (total 10 columns):\n",
      " #   Column        Non-Null Count  Dtype  \n",
      "---  ------        --------------  -----  \n",
      " 0   Brand         10000 non-null  object \n",
      " 1   Model         10000 non-null  object \n",
      " 2   Year          10000 non-null  int64  \n",
      " 3   Engine_Size   10000 non-null  float64\n",
      " 4   Fuel_Type     10000 non-null  object \n",
      " 5   Transmission  10000 non-null  object \n",
      " 6   Mileage       10000 non-null  int64  \n",
      " 7   Doors         10000 non-null  int64  \n",
      " 8   Owner_Count   10000 non-null  int64  \n",
      " 9   Price         10000 non-null  int64  \n",
      "dtypes: float64(1), int64(5), object(4)\n",
      "memory usage: 781.4+ KB\n"
     ]
    }
   ],
   "execution_count": 300
  },
  {
   "metadata": {},
   "cell_type": "markdown",
   "source": "#### Step 1: Check for missing values",
   "id": "98f360c92b27a720"
  },
  {
   "metadata": {
    "ExecuteTime": {
     "end_time": "2025-03-09T16:59:19.746808Z",
     "start_time": "2025-03-09T16:59:19.709721Z"
    }
   },
   "cell_type": "code",
   "source": [
    "print(\"\\nMissing values in the dataset:\")\n",
    "data.isnull().sum()"
   ],
   "id": "681d7e3210cd574e",
   "outputs": [
    {
     "name": "stdout",
     "output_type": "stream",
     "text": [
      "\n",
      "Missing values in the dataset:\n"
     ]
    },
    {
     "data": {
      "text/plain": [
       "Brand           0\n",
       "Model           0\n",
       "Year            0\n",
       "Engine_Size     0\n",
       "Fuel_Type       0\n",
       "Transmission    0\n",
       "Mileage         0\n",
       "Doors           0\n",
       "Owner_Count     0\n",
       "Price           0\n",
       "dtype: int64"
      ]
     },
     "execution_count": 301,
     "metadata": {},
     "output_type": "execute_result"
    }
   ],
   "execution_count": 301
  },
  {
   "metadata": {},
   "cell_type": "markdown",
   "source": "#### Step 2: Handling missing values",
   "id": "6244dadfc03ecf67"
  },
  {
   "metadata": {},
   "cell_type": "markdown",
   "source": "Data contains No missing Value. No need to handle missing values.",
   "id": "2767e988fff3e6a"
  },
  {
   "metadata": {},
   "cell_type": "markdown",
   "source": "#### Step 3 Setting up for Encoding Categorical Columns.\n",
   "id": "d0bf47b60e8ae476"
  },
  {
   "metadata": {
    "ExecuteTime": {
     "end_time": "2025-03-09T16:59:19.941016Z",
     "start_time": "2025-03-09T16:59:19.908951Z"
    }
   },
   "cell_type": "code",
   "source": [
    "categoricals = data.select_dtypes(include=['object']).columns.tolist()\n",
    "categoricals"
   ],
   "id": "caad7c5e3226025e",
   "outputs": [
    {
     "data": {
      "text/plain": [
       "['Brand', 'Model', 'Fuel_Type', 'Transmission']"
      ]
     },
     "execution_count": 302,
     "metadata": {},
     "output_type": "execute_result"
    }
   ],
   "execution_count": 302
  },
  {
   "metadata": {},
   "cell_type": "markdown",
   "source": "All the categorical columns are Nominal.",
   "id": "fd5f518a257c27cc"
  },
  {
   "metadata": {
    "ExecuteTime": {
     "end_time": "2025-03-09T16:59:20.200476Z",
     "start_time": "2025-03-09T16:59:20.173330Z"
    }
   },
   "cell_type": "code",
   "source": [
    "for each in categoricals:\n",
    "    print(each, len(data[each].unique().tolist()))"
   ],
   "id": "4f696e530fe410fb",
   "outputs": [
    {
     "name": "stdout",
     "output_type": "stream",
     "text": [
      "Brand 10\n",
      "Model 30\n",
      "Fuel_Type 4\n",
      "Transmission 3\n"
     ]
    }
   ],
   "execution_count": 303
  },
  {
   "metadata": {},
   "cell_type": "markdown",
   "source": "Grouping rare categories to avoid overfitting and reduce cardinality.",
   "id": "f098bdb8c95d8a71"
  },
  {
   "metadata": {
    "ExecuteTime": {
     "end_time": "2025-03-09T16:59:20.663375Z",
     "start_time": "2025-03-09T16:59:20.578484Z"
    }
   },
   "cell_type": "code",
   "source": [
    "threshold = 25\n",
    "data[categoricals] = data[categoricals].apply(\n",
    "    lambda each: each.where(each.isin(each.value_counts().nlargest(threshold).index), \"Other\"))"
   ],
   "id": "60a1032364647c0a",
   "outputs": [],
   "execution_count": 304
  },
  {
   "metadata": {
    "ExecuteTime": {
     "end_time": "2025-03-09T16:59:20.812864Z",
     "start_time": "2025-03-09T16:59:20.793870Z"
    }
   },
   "cell_type": "code",
   "source": [
    "for each in categoricals:\n",
    "    print(each, len(data[each].unique().tolist()))"
   ],
   "id": "7fc8e382ec5d8c33",
   "outputs": [
    {
     "name": "stdout",
     "output_type": "stream",
     "text": [
      "Brand 10\n",
      "Model 26\n",
      "Fuel_Type 4\n",
      "Transmission 3\n"
     ]
    }
   ],
   "execution_count": 305
  },
  {
   "metadata": {
    "ExecuteTime": {
     "end_time": "2025-03-09T16:59:20.946667Z",
     "start_time": "2025-03-09T16:59:20.921135Z"
    }
   },
   "cell_type": "code",
   "source": "data.head()",
   "id": "b1a5390ccea34491",
   "outputs": [
    {
     "data": {
      "text/plain": [
       "        Brand   Model  Year  Engine_Size Fuel_Type    Transmission  Mileage  \\\n",
       "0         Kia     Rio  2020          4.2    Diesel          Manual   289944   \n",
       "1   Chevrolet  Malibu  2012          2.0    Hybrid       Automatic     5356   \n",
       "2    Mercedes   Other  2020          4.2    Diesel       Automatic   231440   \n",
       "3        Audi      Q5  2023          2.0  Electric          Manual   160971   \n",
       "4  Volkswagen    Golf  2003          2.6    Hybrid  Semi-Automatic   286618   \n",
       "\n",
       "   Doors  Owner_Count  Price  \n",
       "0      3            5   8501  \n",
       "1      2            3  12092  \n",
       "2      4            2  11171  \n",
       "3      2            1  11780  \n",
       "4      3            3   2867  "
      ],
      "text/html": [
       "<div>\n",
       "<style scoped>\n",
       "    .dataframe tbody tr th:only-of-type {\n",
       "        vertical-align: middle;\n",
       "    }\n",
       "\n",
       "    .dataframe tbody tr th {\n",
       "        vertical-align: top;\n",
       "    }\n",
       "\n",
       "    .dataframe thead th {\n",
       "        text-align: right;\n",
       "    }\n",
       "</style>\n",
       "<table border=\"1\" class=\"dataframe\">\n",
       "  <thead>\n",
       "    <tr style=\"text-align: right;\">\n",
       "      <th></th>\n",
       "      <th>Brand</th>\n",
       "      <th>Model</th>\n",
       "      <th>Year</th>\n",
       "      <th>Engine_Size</th>\n",
       "      <th>Fuel_Type</th>\n",
       "      <th>Transmission</th>\n",
       "      <th>Mileage</th>\n",
       "      <th>Doors</th>\n",
       "      <th>Owner_Count</th>\n",
       "      <th>Price</th>\n",
       "    </tr>\n",
       "  </thead>\n",
       "  <tbody>\n",
       "    <tr>\n",
       "      <th>0</th>\n",
       "      <td>Kia</td>\n",
       "      <td>Rio</td>\n",
       "      <td>2020</td>\n",
       "      <td>4.2</td>\n",
       "      <td>Diesel</td>\n",
       "      <td>Manual</td>\n",
       "      <td>289944</td>\n",
       "      <td>3</td>\n",
       "      <td>5</td>\n",
       "      <td>8501</td>\n",
       "    </tr>\n",
       "    <tr>\n",
       "      <th>1</th>\n",
       "      <td>Chevrolet</td>\n",
       "      <td>Malibu</td>\n",
       "      <td>2012</td>\n",
       "      <td>2.0</td>\n",
       "      <td>Hybrid</td>\n",
       "      <td>Automatic</td>\n",
       "      <td>5356</td>\n",
       "      <td>2</td>\n",
       "      <td>3</td>\n",
       "      <td>12092</td>\n",
       "    </tr>\n",
       "    <tr>\n",
       "      <th>2</th>\n",
       "      <td>Mercedes</td>\n",
       "      <td>Other</td>\n",
       "      <td>2020</td>\n",
       "      <td>4.2</td>\n",
       "      <td>Diesel</td>\n",
       "      <td>Automatic</td>\n",
       "      <td>231440</td>\n",
       "      <td>4</td>\n",
       "      <td>2</td>\n",
       "      <td>11171</td>\n",
       "    </tr>\n",
       "    <tr>\n",
       "      <th>3</th>\n",
       "      <td>Audi</td>\n",
       "      <td>Q5</td>\n",
       "      <td>2023</td>\n",
       "      <td>2.0</td>\n",
       "      <td>Electric</td>\n",
       "      <td>Manual</td>\n",
       "      <td>160971</td>\n",
       "      <td>2</td>\n",
       "      <td>1</td>\n",
       "      <td>11780</td>\n",
       "    </tr>\n",
       "    <tr>\n",
       "      <th>4</th>\n",
       "      <td>Volkswagen</td>\n",
       "      <td>Golf</td>\n",
       "      <td>2003</td>\n",
       "      <td>2.6</td>\n",
       "      <td>Hybrid</td>\n",
       "      <td>Semi-Automatic</td>\n",
       "      <td>286618</td>\n",
       "      <td>3</td>\n",
       "      <td>3</td>\n",
       "      <td>2867</td>\n",
       "    </tr>\n",
       "  </tbody>\n",
       "</table>\n",
       "</div>"
      ]
     },
     "execution_count": 306,
     "metadata": {},
     "output_type": "execute_result"
    }
   ],
   "execution_count": 306
  },
  {
   "metadata": {},
   "cell_type": "markdown",
   "source": "#### Step 4: Applying One-Hot Encoding to nominal columns",
   "id": "84e70becb55d2a8e"
  },
  {
   "metadata": {
    "ExecuteTime": {
     "end_time": "2025-03-09T16:59:21.169625Z",
     "start_time": "2025-03-09T16:59:21.113565Z"
    }
   },
   "cell_type": "code",
   "source": "data = pd.get_dummies(data, columns=categoricals, drop_first=True)",
   "id": "5a9fea7084ac2e8",
   "outputs": [],
   "execution_count": 307
  },
  {
   "metadata": {},
   "cell_type": "markdown",
   "source": "Dropped the first column to avoid  <h5>Dummy Variable Trap</h5>",
   "id": "563bb48d086c5af9"
  },
  {
   "metadata": {
    "ExecuteTime": {
     "end_time": "2025-03-09T16:59:21.318277Z",
     "start_time": "2025-03-09T16:59:21.293280Z"
    }
   },
   "cell_type": "code",
   "source": [
    "X = data.drop(columns=['Price']) # All columns except Target column\n",
    "y = data['Price'] # Target column"
   ],
   "id": "c7dcb12c07ff5ec8",
   "outputs": [],
   "execution_count": 308
  },
  {
   "metadata": {},
   "cell_type": "markdown",
   "source": "#### Step 5: Split data into train and test sets",
   "id": "fa1b7bc2d9610a52"
  },
  {
   "metadata": {
    "ExecuteTime": {
     "end_time": "2025-03-09T16:59:21.597800Z",
     "start_time": "2025-03-09T16:59:21.484329Z"
    }
   },
   "cell_type": "code",
   "source": "X_train, X_test, y_train, y_test = train_test_split(X, y, test_size=0.2, random_state=42)",
   "id": "b481d0f2c1f5ac38",
   "outputs": [],
   "execution_count": 309
  },
  {
   "metadata": {},
   "cell_type": "markdown",
   "source": "#### Step 6: Standardize numerical features",
   "id": "cb1c15f87958590e"
  },
  {
   "metadata": {
    "ExecuteTime": {
     "end_time": "2025-03-09T16:59:22.144095Z",
     "start_time": "2025-03-09T16:59:22.016099Z"
    }
   },
   "cell_type": "code",
   "source": [
    "scaler = StandardScaler()\n",
    "X_train = scaler.fit_transform(X_train)\n",
    "X_test  = scaler.transform(X_test)"
   ],
   "id": "ee456babbc572a9f",
   "outputs": [],
   "execution_count": 310
  },
  {
   "metadata": {},
   "cell_type": "markdown",
   "source": "# Applying  Multiple Linear Regression",
   "id": "7f1ca9ad71cd6bf"
  },
  {
   "metadata": {
    "ExecuteTime": {
     "end_time": "2025-03-09T16:59:22.291285Z",
     "start_time": "2025-03-09T16:59:22.278373Z"
    }
   },
   "cell_type": "code",
   "source": "Results = {}",
   "id": "4748d0ffeab7c16e",
   "outputs": [],
   "execution_count": 311
  },
  {
   "metadata": {
    "ExecuteTime": {
     "end_time": "2025-03-09T16:59:22.445155Z",
     "start_time": "2025-03-09T16:59:22.426730Z"
    }
   },
   "cell_type": "code",
   "source": [
    "cols =  data.columns.tolist()\n",
    "cols"
   ],
   "id": "40634166013c0a7d",
   "outputs": [
    {
     "data": {
      "text/plain": [
       "['Year',\n",
       " 'Engine_Size',\n",
       " 'Mileage',\n",
       " 'Doors',\n",
       " 'Owner_Count',\n",
       " 'Price',\n",
       " 'Brand_BMW',\n",
       " 'Brand_Chevrolet',\n",
       " 'Brand_Ford',\n",
       " 'Brand_Honda',\n",
       " 'Brand_Hyundai',\n",
       " 'Brand_Kia',\n",
       " 'Brand_Mercedes',\n",
       " 'Brand_Toyota',\n",
       " 'Brand_Volkswagen',\n",
       " 'Model_5 Series',\n",
       " 'Model_A3',\n",
       " 'Model_A4',\n",
       " 'Model_Accord',\n",
       " 'Model_Camry',\n",
       " 'Model_Civic',\n",
       " 'Model_Corolla',\n",
       " 'Model_E-Class',\n",
       " 'Model_Elantra',\n",
       " 'Model_Equinox',\n",
       " 'Model_Explorer',\n",
       " 'Model_Fiesta',\n",
       " 'Model_Focus',\n",
       " 'Model_Golf',\n",
       " 'Model_Impala',\n",
       " 'Model_Malibu',\n",
       " 'Model_Optima',\n",
       " 'Model_Other',\n",
       " 'Model_Passat',\n",
       " 'Model_Q5',\n",
       " 'Model_RAV4',\n",
       " 'Model_Rio',\n",
       " 'Model_Sonata',\n",
       " 'Model_Tiguan',\n",
       " 'Model_Tucson',\n",
       " 'Fuel_Type_Electric',\n",
       " 'Fuel_Type_Hybrid',\n",
       " 'Fuel_Type_Petrol',\n",
       " 'Transmission_Manual',\n",
       " 'Transmission_Semi-Automatic']"
      ]
     },
     "execution_count": 312,
     "metadata": {},
     "output_type": "execute_result"
    }
   ],
   "execution_count": 312
  },
  {
   "metadata": {},
   "cell_type": "markdown",
   "source": "### All Variables (No Feature Selection)",
   "id": "bff6ef448f4c9a45"
  },
  {
   "metadata": {
    "ExecuteTime": {
     "end_time": "2025-03-09T16:59:22.690342Z",
     "start_time": "2025-03-09T16:59:22.676157Z"
    }
   },
   "cell_type": "code",
   "source": "regressor =  LinearRegression()",
   "id": "5a0c03fa8a65f865",
   "outputs": [],
   "execution_count": 313
  },
  {
   "metadata": {
    "ExecuteTime": {
     "end_time": "2025-03-09T16:59:23.376676Z",
     "start_time": "2025-03-09T16:59:22.800337Z"
    }
   },
   "cell_type": "code",
   "source": "regressor.fit(X_train, y_train)",
   "id": "eb93a729da29d680",
   "outputs": [
    {
     "data": {
      "text/plain": [
       "LinearRegression()"
      ],
      "text/html": [
       "<style>#sk-container-id-7 {\n",
       "  /* Definition of color scheme common for light and dark mode */\n",
       "  --sklearn-color-text: #000;\n",
       "  --sklearn-color-text-muted: #666;\n",
       "  --sklearn-color-line: gray;\n",
       "  /* Definition of color scheme for unfitted estimators */\n",
       "  --sklearn-color-unfitted-level-0: #fff5e6;\n",
       "  --sklearn-color-unfitted-level-1: #f6e4d2;\n",
       "  --sklearn-color-unfitted-level-2: #ffe0b3;\n",
       "  --sklearn-color-unfitted-level-3: chocolate;\n",
       "  /* Definition of color scheme for fitted estimators */\n",
       "  --sklearn-color-fitted-level-0: #f0f8ff;\n",
       "  --sklearn-color-fitted-level-1: #d4ebff;\n",
       "  --sklearn-color-fitted-level-2: #b3dbfd;\n",
       "  --sklearn-color-fitted-level-3: cornflowerblue;\n",
       "\n",
       "  /* Specific color for light theme */\n",
       "  --sklearn-color-text-on-default-background: var(--sg-text-color, var(--theme-code-foreground, var(--jp-content-font-color1, black)));\n",
       "  --sklearn-color-background: var(--sg-background-color, var(--theme-background, var(--jp-layout-color0, white)));\n",
       "  --sklearn-color-border-box: var(--sg-text-color, var(--theme-code-foreground, var(--jp-content-font-color1, black)));\n",
       "  --sklearn-color-icon: #696969;\n",
       "\n",
       "  @media (prefers-color-scheme: dark) {\n",
       "    /* Redefinition of color scheme for dark theme */\n",
       "    --sklearn-color-text-on-default-background: var(--sg-text-color, var(--theme-code-foreground, var(--jp-content-font-color1, white)));\n",
       "    --sklearn-color-background: var(--sg-background-color, var(--theme-background, var(--jp-layout-color0, #111)));\n",
       "    --sklearn-color-border-box: var(--sg-text-color, var(--theme-code-foreground, var(--jp-content-font-color1, white)));\n",
       "    --sklearn-color-icon: #878787;\n",
       "  }\n",
       "}\n",
       "\n",
       "#sk-container-id-7 {\n",
       "  color: var(--sklearn-color-text);\n",
       "}\n",
       "\n",
       "#sk-container-id-7 pre {\n",
       "  padding: 0;\n",
       "}\n",
       "\n",
       "#sk-container-id-7 input.sk-hidden--visually {\n",
       "  border: 0;\n",
       "  clip: rect(1px 1px 1px 1px);\n",
       "  clip: rect(1px, 1px, 1px, 1px);\n",
       "  height: 1px;\n",
       "  margin: -1px;\n",
       "  overflow: hidden;\n",
       "  padding: 0;\n",
       "  position: absolute;\n",
       "  width: 1px;\n",
       "}\n",
       "\n",
       "#sk-container-id-7 div.sk-dashed-wrapped {\n",
       "  border: 1px dashed var(--sklearn-color-line);\n",
       "  margin: 0 0.4em 0.5em 0.4em;\n",
       "  box-sizing: border-box;\n",
       "  padding-bottom: 0.4em;\n",
       "  background-color: var(--sklearn-color-background);\n",
       "}\n",
       "\n",
       "#sk-container-id-7 div.sk-container {\n",
       "  /* jupyter's `normalize.less` sets `[hidden] { display: none; }`\n",
       "     but bootstrap.min.css set `[hidden] { display: none !important; }`\n",
       "     so we also need the `!important` here to be able to override the\n",
       "     default hidden behavior on the sphinx rendered scikit-learn.org.\n",
       "     See: https://github.com/scikit-learn/scikit-learn/issues/21755 */\n",
       "  display: inline-block !important;\n",
       "  position: relative;\n",
       "}\n",
       "\n",
       "#sk-container-id-7 div.sk-text-repr-fallback {\n",
       "  display: none;\n",
       "}\n",
       "\n",
       "div.sk-parallel-item,\n",
       "div.sk-serial,\n",
       "div.sk-item {\n",
       "  /* draw centered vertical line to link estimators */\n",
       "  background-image: linear-gradient(var(--sklearn-color-text-on-default-background), var(--sklearn-color-text-on-default-background));\n",
       "  background-size: 2px 100%;\n",
       "  background-repeat: no-repeat;\n",
       "  background-position: center center;\n",
       "}\n",
       "\n",
       "/* Parallel-specific style estimator block */\n",
       "\n",
       "#sk-container-id-7 div.sk-parallel-item::after {\n",
       "  content: \"\";\n",
       "  width: 100%;\n",
       "  border-bottom: 2px solid var(--sklearn-color-text-on-default-background);\n",
       "  flex-grow: 1;\n",
       "}\n",
       "\n",
       "#sk-container-id-7 div.sk-parallel {\n",
       "  display: flex;\n",
       "  align-items: stretch;\n",
       "  justify-content: center;\n",
       "  background-color: var(--sklearn-color-background);\n",
       "  position: relative;\n",
       "}\n",
       "\n",
       "#sk-container-id-7 div.sk-parallel-item {\n",
       "  display: flex;\n",
       "  flex-direction: column;\n",
       "}\n",
       "\n",
       "#sk-container-id-7 div.sk-parallel-item:first-child::after {\n",
       "  align-self: flex-end;\n",
       "  width: 50%;\n",
       "}\n",
       "\n",
       "#sk-container-id-7 div.sk-parallel-item:last-child::after {\n",
       "  align-self: flex-start;\n",
       "  width: 50%;\n",
       "}\n",
       "\n",
       "#sk-container-id-7 div.sk-parallel-item:only-child::after {\n",
       "  width: 0;\n",
       "}\n",
       "\n",
       "/* Serial-specific style estimator block */\n",
       "\n",
       "#sk-container-id-7 div.sk-serial {\n",
       "  display: flex;\n",
       "  flex-direction: column;\n",
       "  align-items: center;\n",
       "  background-color: var(--sklearn-color-background);\n",
       "  padding-right: 1em;\n",
       "  padding-left: 1em;\n",
       "}\n",
       "\n",
       "\n",
       "/* Toggleable style: style used for estimator/Pipeline/ColumnTransformer box that is\n",
       "clickable and can be expanded/collapsed.\n",
       "- Pipeline and ColumnTransformer use this feature and define the default style\n",
       "- Estimators will overwrite some part of the style using the `sk-estimator` class\n",
       "*/\n",
       "\n",
       "/* Pipeline and ColumnTransformer style (default) */\n",
       "\n",
       "#sk-container-id-7 div.sk-toggleable {\n",
       "  /* Default theme specific background. It is overwritten whether we have a\n",
       "  specific estimator or a Pipeline/ColumnTransformer */\n",
       "  background-color: var(--sklearn-color-background);\n",
       "}\n",
       "\n",
       "/* Toggleable label */\n",
       "#sk-container-id-7 label.sk-toggleable__label {\n",
       "  cursor: pointer;\n",
       "  display: flex;\n",
       "  width: 100%;\n",
       "  margin-bottom: 0;\n",
       "  padding: 0.5em;\n",
       "  box-sizing: border-box;\n",
       "  text-align: center;\n",
       "  align-items: start;\n",
       "  justify-content: space-between;\n",
       "  gap: 0.5em;\n",
       "}\n",
       "\n",
       "#sk-container-id-7 label.sk-toggleable__label .caption {\n",
       "  font-size: 0.6rem;\n",
       "  font-weight: lighter;\n",
       "  color: var(--sklearn-color-text-muted);\n",
       "}\n",
       "\n",
       "#sk-container-id-7 label.sk-toggleable__label-arrow:before {\n",
       "  /* Arrow on the left of the label */\n",
       "  content: \"▸\";\n",
       "  float: left;\n",
       "  margin-right: 0.25em;\n",
       "  color: var(--sklearn-color-icon);\n",
       "}\n",
       "\n",
       "#sk-container-id-7 label.sk-toggleable__label-arrow:hover:before {\n",
       "  color: var(--sklearn-color-text);\n",
       "}\n",
       "\n",
       "/* Toggleable content - dropdown */\n",
       "\n",
       "#sk-container-id-7 div.sk-toggleable__content {\n",
       "  max-height: 0;\n",
       "  max-width: 0;\n",
       "  overflow: hidden;\n",
       "  text-align: left;\n",
       "  /* unfitted */\n",
       "  background-color: var(--sklearn-color-unfitted-level-0);\n",
       "}\n",
       "\n",
       "#sk-container-id-7 div.sk-toggleable__content.fitted {\n",
       "  /* fitted */\n",
       "  background-color: var(--sklearn-color-fitted-level-0);\n",
       "}\n",
       "\n",
       "#sk-container-id-7 div.sk-toggleable__content pre {\n",
       "  margin: 0.2em;\n",
       "  border-radius: 0.25em;\n",
       "  color: var(--sklearn-color-text);\n",
       "  /* unfitted */\n",
       "  background-color: var(--sklearn-color-unfitted-level-0);\n",
       "}\n",
       "\n",
       "#sk-container-id-7 div.sk-toggleable__content.fitted pre {\n",
       "  /* unfitted */\n",
       "  background-color: var(--sklearn-color-fitted-level-0);\n",
       "}\n",
       "\n",
       "#sk-container-id-7 input.sk-toggleable__control:checked~div.sk-toggleable__content {\n",
       "  /* Expand drop-down */\n",
       "  max-height: 200px;\n",
       "  max-width: 100%;\n",
       "  overflow: auto;\n",
       "}\n",
       "\n",
       "#sk-container-id-7 input.sk-toggleable__control:checked~label.sk-toggleable__label-arrow:before {\n",
       "  content: \"▾\";\n",
       "}\n",
       "\n",
       "/* Pipeline/ColumnTransformer-specific style */\n",
       "\n",
       "#sk-container-id-7 div.sk-label input.sk-toggleable__control:checked~label.sk-toggleable__label {\n",
       "  color: var(--sklearn-color-text);\n",
       "  background-color: var(--sklearn-color-unfitted-level-2);\n",
       "}\n",
       "\n",
       "#sk-container-id-7 div.sk-label.fitted input.sk-toggleable__control:checked~label.sk-toggleable__label {\n",
       "  background-color: var(--sklearn-color-fitted-level-2);\n",
       "}\n",
       "\n",
       "/* Estimator-specific style */\n",
       "\n",
       "/* Colorize estimator box */\n",
       "#sk-container-id-7 div.sk-estimator input.sk-toggleable__control:checked~label.sk-toggleable__label {\n",
       "  /* unfitted */\n",
       "  background-color: var(--sklearn-color-unfitted-level-2);\n",
       "}\n",
       "\n",
       "#sk-container-id-7 div.sk-estimator.fitted input.sk-toggleable__control:checked~label.sk-toggleable__label {\n",
       "  /* fitted */\n",
       "  background-color: var(--sklearn-color-fitted-level-2);\n",
       "}\n",
       "\n",
       "#sk-container-id-7 div.sk-label label.sk-toggleable__label,\n",
       "#sk-container-id-7 div.sk-label label {\n",
       "  /* The background is the default theme color */\n",
       "  color: var(--sklearn-color-text-on-default-background);\n",
       "}\n",
       "\n",
       "/* On hover, darken the color of the background */\n",
       "#sk-container-id-7 div.sk-label:hover label.sk-toggleable__label {\n",
       "  color: var(--sklearn-color-text);\n",
       "  background-color: var(--sklearn-color-unfitted-level-2);\n",
       "}\n",
       "\n",
       "/* Label box, darken color on hover, fitted */\n",
       "#sk-container-id-7 div.sk-label.fitted:hover label.sk-toggleable__label.fitted {\n",
       "  color: var(--sklearn-color-text);\n",
       "  background-color: var(--sklearn-color-fitted-level-2);\n",
       "}\n",
       "\n",
       "/* Estimator label */\n",
       "\n",
       "#sk-container-id-7 div.sk-label label {\n",
       "  font-family: monospace;\n",
       "  font-weight: bold;\n",
       "  display: inline-block;\n",
       "  line-height: 1.2em;\n",
       "}\n",
       "\n",
       "#sk-container-id-7 div.sk-label-container {\n",
       "  text-align: center;\n",
       "}\n",
       "\n",
       "/* Estimator-specific */\n",
       "#sk-container-id-7 div.sk-estimator {\n",
       "  font-family: monospace;\n",
       "  border: 1px dotted var(--sklearn-color-border-box);\n",
       "  border-radius: 0.25em;\n",
       "  box-sizing: border-box;\n",
       "  margin-bottom: 0.5em;\n",
       "  /* unfitted */\n",
       "  background-color: var(--sklearn-color-unfitted-level-0);\n",
       "}\n",
       "\n",
       "#sk-container-id-7 div.sk-estimator.fitted {\n",
       "  /* fitted */\n",
       "  background-color: var(--sklearn-color-fitted-level-0);\n",
       "}\n",
       "\n",
       "/* on hover */\n",
       "#sk-container-id-7 div.sk-estimator:hover {\n",
       "  /* unfitted */\n",
       "  background-color: var(--sklearn-color-unfitted-level-2);\n",
       "}\n",
       "\n",
       "#sk-container-id-7 div.sk-estimator.fitted:hover {\n",
       "  /* fitted */\n",
       "  background-color: var(--sklearn-color-fitted-level-2);\n",
       "}\n",
       "\n",
       "/* Specification for estimator info (e.g. \"i\" and \"?\") */\n",
       "\n",
       "/* Common style for \"i\" and \"?\" */\n",
       "\n",
       ".sk-estimator-doc-link,\n",
       "a:link.sk-estimator-doc-link,\n",
       "a:visited.sk-estimator-doc-link {\n",
       "  float: right;\n",
       "  font-size: smaller;\n",
       "  line-height: 1em;\n",
       "  font-family: monospace;\n",
       "  background-color: var(--sklearn-color-background);\n",
       "  border-radius: 1em;\n",
       "  height: 1em;\n",
       "  width: 1em;\n",
       "  text-decoration: none !important;\n",
       "  margin-left: 0.5em;\n",
       "  text-align: center;\n",
       "  /* unfitted */\n",
       "  border: var(--sklearn-color-unfitted-level-1) 1pt solid;\n",
       "  color: var(--sklearn-color-unfitted-level-1);\n",
       "}\n",
       "\n",
       ".sk-estimator-doc-link.fitted,\n",
       "a:link.sk-estimator-doc-link.fitted,\n",
       "a:visited.sk-estimator-doc-link.fitted {\n",
       "  /* fitted */\n",
       "  border: var(--sklearn-color-fitted-level-1) 1pt solid;\n",
       "  color: var(--sklearn-color-fitted-level-1);\n",
       "}\n",
       "\n",
       "/* On hover */\n",
       "div.sk-estimator:hover .sk-estimator-doc-link:hover,\n",
       ".sk-estimator-doc-link:hover,\n",
       "div.sk-label-container:hover .sk-estimator-doc-link:hover,\n",
       ".sk-estimator-doc-link:hover {\n",
       "  /* unfitted */\n",
       "  background-color: var(--sklearn-color-unfitted-level-3);\n",
       "  color: var(--sklearn-color-background);\n",
       "  text-decoration: none;\n",
       "}\n",
       "\n",
       "div.sk-estimator.fitted:hover .sk-estimator-doc-link.fitted:hover,\n",
       ".sk-estimator-doc-link.fitted:hover,\n",
       "div.sk-label-container:hover .sk-estimator-doc-link.fitted:hover,\n",
       ".sk-estimator-doc-link.fitted:hover {\n",
       "  /* fitted */\n",
       "  background-color: var(--sklearn-color-fitted-level-3);\n",
       "  color: var(--sklearn-color-background);\n",
       "  text-decoration: none;\n",
       "}\n",
       "\n",
       "/* Span, style for the box shown on hovering the info icon */\n",
       ".sk-estimator-doc-link span {\n",
       "  display: none;\n",
       "  z-index: 9999;\n",
       "  position: relative;\n",
       "  font-weight: normal;\n",
       "  right: .2ex;\n",
       "  padding: .5ex;\n",
       "  margin: .5ex;\n",
       "  width: min-content;\n",
       "  min-width: 20ex;\n",
       "  max-width: 50ex;\n",
       "  color: var(--sklearn-color-text);\n",
       "  box-shadow: 2pt 2pt 4pt #999;\n",
       "  /* unfitted */\n",
       "  background: var(--sklearn-color-unfitted-level-0);\n",
       "  border: .5pt solid var(--sklearn-color-unfitted-level-3);\n",
       "}\n",
       "\n",
       ".sk-estimator-doc-link.fitted span {\n",
       "  /* fitted */\n",
       "  background: var(--sklearn-color-fitted-level-0);\n",
       "  border: var(--sklearn-color-fitted-level-3);\n",
       "}\n",
       "\n",
       ".sk-estimator-doc-link:hover span {\n",
       "  display: block;\n",
       "}\n",
       "\n",
       "/* \"?\"-specific style due to the `<a>` HTML tag */\n",
       "\n",
       "#sk-container-id-7 a.estimator_doc_link {\n",
       "  float: right;\n",
       "  font-size: 1rem;\n",
       "  line-height: 1em;\n",
       "  font-family: monospace;\n",
       "  background-color: var(--sklearn-color-background);\n",
       "  border-radius: 1rem;\n",
       "  height: 1rem;\n",
       "  width: 1rem;\n",
       "  text-decoration: none;\n",
       "  /* unfitted */\n",
       "  color: var(--sklearn-color-unfitted-level-1);\n",
       "  border: var(--sklearn-color-unfitted-level-1) 1pt solid;\n",
       "}\n",
       "\n",
       "#sk-container-id-7 a.estimator_doc_link.fitted {\n",
       "  /* fitted */\n",
       "  border: var(--sklearn-color-fitted-level-1) 1pt solid;\n",
       "  color: var(--sklearn-color-fitted-level-1);\n",
       "}\n",
       "\n",
       "/* On hover */\n",
       "#sk-container-id-7 a.estimator_doc_link:hover {\n",
       "  /* unfitted */\n",
       "  background-color: var(--sklearn-color-unfitted-level-3);\n",
       "  color: var(--sklearn-color-background);\n",
       "  text-decoration: none;\n",
       "}\n",
       "\n",
       "#sk-container-id-7 a.estimator_doc_link.fitted:hover {\n",
       "  /* fitted */\n",
       "  background-color: var(--sklearn-color-fitted-level-3);\n",
       "}\n",
       "</style><div id=\"sk-container-id-7\" class=\"sk-top-container\"><div class=\"sk-text-repr-fallback\"><pre>LinearRegression()</pre><b>In a Jupyter environment, please rerun this cell to show the HTML representation or trust the notebook. <br />On GitHub, the HTML representation is unable to render, please try loading this page with nbviewer.org.</b></div><div class=\"sk-container\" hidden><div class=\"sk-item\"><div class=\"sk-estimator fitted sk-toggleable\"><input class=\"sk-toggleable__control sk-hidden--visually\" id=\"sk-estimator-id-7\" type=\"checkbox\" checked><label for=\"sk-estimator-id-7\" class=\"sk-toggleable__label fitted sk-toggleable__label-arrow\"><div><div>LinearRegression</div></div><div><a class=\"sk-estimator-doc-link fitted\" rel=\"noreferrer\" target=\"_blank\" href=\"https://scikit-learn.org/1.6/modules/generated/sklearn.linear_model.LinearRegression.html\">?<span>Documentation for LinearRegression</span></a><span class=\"sk-estimator-doc-link fitted\">i<span>Fitted</span></span></div></label><div class=\"sk-toggleable__content fitted\"><pre>LinearRegression()</pre></div> </div></div></div></div>"
      ]
     },
     "execution_count": 314,
     "metadata": {},
     "output_type": "execute_result"
    }
   ],
   "execution_count": 314
  },
  {
   "metadata": {
    "ExecuteTime": {
     "end_time": "2025-03-09T16:59:23.401303Z",
     "start_time": "2025-03-09T16:59:23.385281Z"
    }
   },
   "cell_type": "code",
   "source": "y_pred = regressor.predict(X_test)",
   "id": "71c63d1fb1e25234",
   "outputs": [],
   "execution_count": 315
  },
  {
   "metadata": {
    "ExecuteTime": {
     "end_time": "2025-03-09T16:59:23.594509Z",
     "start_time": "2025-03-09T16:59:23.555117Z"
    }
   },
   "cell_type": "code",
   "source": [
    "mse = mean_squared_error(y_test, y_pred)\n",
    "r2 = r2_score(y_test, y_pred)\n",
    "Results['All Variables'] = [mse, r2]\n",
    "mse, r2"
   ],
   "id": "1874af45b8efc764",
   "outputs": [
    {
     "data": {
      "text/plain": [
       "(4213.587770470056, 0.9995413937681955)"
      ]
     },
     "execution_count": 316,
     "metadata": {},
     "output_type": "execute_result"
    }
   ],
   "execution_count": 316
  },
  {
   "metadata": {
    "ExecuteTime": {
     "end_time": "2025-03-09T16:59:23.867120Z",
     "start_time": "2025-03-09T16:59:23.840725Z"
    }
   },
   "cell_type": "code",
   "source": "X_train",
   "id": "51e17353d6703ee6",
   "outputs": [
    {
     "data": {
      "text/plain": [
       "array([[-0.6553775 ,  0.17613484, -1.33393191, ..., -0.56945944,\n",
       "        -0.71514348,  1.42207221],\n",
       "       [-0.22042852,  1.56362082,  0.87031347, ..., -0.56945944,\n",
       "        -0.71514348,  1.42207221],\n",
       "       [-0.80036049, -0.95119752, -1.57078105, ..., -0.56945944,\n",
       "        -0.71514348,  1.42207221],\n",
       "       ...,\n",
       "       [-0.80036049,  1.3034672 , -1.10112397, ...,  1.7560513 ,\n",
       "        -0.71514348,  1.42207221],\n",
       "       [ 0.64946944,  1.21674933,  1.33525966, ..., -0.56945944,\n",
       "        -0.71514348,  1.42207221],\n",
       "       [ 1.3743844 , -1.12463327,  0.76531146, ..., -0.56945944,\n",
       "        -0.71514348,  1.42207221]])"
      ]
     },
     "execution_count": 317,
     "metadata": {},
     "output_type": "execute_result"
    }
   ],
   "execution_count": 317
  },
  {
   "metadata": {
    "ExecuteTime": {
     "end_time": "2025-03-09T16:59:24.683492Z",
     "start_time": "2025-03-09T16:59:24.551614Z"
    }
   },
   "cell_type": "code",
   "source": [
    "X_train_const = sm.add_constant(X_train)\n",
    "X_test_const = sm.add_constant(X_test)\n",
    "cols.remove('Price')\n",
    "cols.insert(0, 'intercept')"
   ],
   "id": "9860054ae7684c2c",
   "outputs": [],
   "execution_count": 318
  },
  {
   "metadata": {
    "ExecuteTime": {
     "end_time": "2025-03-09T16:59:24.902498Z",
     "start_time": "2025-03-09T16:59:24.886534Z"
    }
   },
   "cell_type": "code",
   "source": "X_train_const",
   "id": "5ab7461c5365b579",
   "outputs": [
    {
     "data": {
      "text/plain": [
       "array([[ 1.        , -0.6553775 ,  0.17613484, ..., -0.56945944,\n",
       "        -0.71514348,  1.42207221],\n",
       "       [ 1.        , -0.22042852,  1.56362082, ..., -0.56945944,\n",
       "        -0.71514348,  1.42207221],\n",
       "       [ 1.        , -0.80036049, -0.95119752, ..., -0.56945944,\n",
       "        -0.71514348,  1.42207221],\n",
       "       ...,\n",
       "       [ 1.        , -0.80036049,  1.3034672 , ...,  1.7560513 ,\n",
       "        -0.71514348,  1.42207221],\n",
       "       [ 1.        ,  0.64946944,  1.21674933, ..., -0.56945944,\n",
       "        -0.71514348,  1.42207221],\n",
       "       [ 1.        ,  1.3743844 , -1.12463327, ..., -0.56945944,\n",
       "        -0.71514348,  1.42207221]])"
      ]
     },
     "execution_count": 319,
     "metadata": {},
     "output_type": "execute_result"
    }
   ],
   "execution_count": 319
  },
  {
   "metadata": {
    "ExecuteTime": {
     "end_time": "2025-03-09T16:59:25.722233Z",
     "start_time": "2025-03-09T16:59:25.200115Z"
    }
   },
   "cell_type": "code",
   "source": [
    "model_all = sm.OLS(y_train, X_train_const).fit()\n",
    "y_pred_all = model_all.predict(X_test_const)"
   ],
   "id": "5a5dede0c42af023",
   "outputs": [],
   "execution_count": 320
  },
  {
   "metadata": {
    "ExecuteTime": {
     "end_time": "2025-03-09T16:59:26.419426Z",
     "start_time": "2025-03-09T16:59:25.730226Z"
    }
   },
   "cell_type": "code",
   "source": [
    "mse_all = mean_squared_error(y_test, y_pred_all)\n",
    "r2_all = r2_score(y_test, y_pred_all)\n",
    "model_all.summary(), mse_all, r2_all"
   ],
   "id": "242736f17d90711",
   "outputs": [
    {
     "data": {
      "text/plain": [
       "(<class 'statsmodels.iolib.summary.Summary'>\n",
       " \"\"\"\n",
       "                             OLS Regression Results                            \n",
       " ==============================================================================\n",
       " Dep. Variable:                  Price   R-squared:                       0.999\n",
       " Model:                            OLS   Adj. R-squared:                  0.999\n",
       " Method:                 Least Squares   F-statistic:                 2.529e+05\n",
       " Date:                Sun, 09 Mar 2025   Prob (F-statistic):               0.00\n",
       " Time:                        21:59:26   Log-Likelihood:                -47360.\n",
       " No. Observations:                8000   AIC:                         9.480e+04\n",
       " Df Residuals:                    7961   BIC:                         9.507e+04\n",
       " Df Model:                          38                                         \n",
       " Covariance Type:            nonrobust                                         \n",
       " ==============================================================================\n",
       "                  coef    std err          t      P>|t|      [0.025      0.975]\n",
       " ------------------------------------------------------------------------------\n",
       " const       8828.7452      1.010   8741.789      0.000    8826.765    8830.725\n",
       " x1          2058.8882      1.012   2034.781      0.000    2056.905    2060.872\n",
       " x2          1144.3550      1.012   1130.306      0.000    1142.370    1146.340\n",
       " x3         -1721.8599      1.013  -1700.247      0.000   -1723.845   -1719.875\n",
       " x4            -0.9996      1.013     -0.987      0.324      -2.985       0.986\n",
       " x5             0.2237      1.013      0.221      0.825      -1.763       2.210\n",
       " x6            -0.4666      1.112     -0.420      0.675      -2.646       1.713\n",
       " x7             0.1090      0.749      0.146      0.884      -1.359       1.577\n",
       " x8             0.7070      0.756      0.935      0.350      -0.775       2.189\n",
       " x9            -0.4701      2.051     -0.229      0.819      -4.491       3.551\n",
       " x10            0.3486      0.754      0.462      0.644      -1.129       1.826\n",
       " x11           -1.0280      2.038     -0.504      0.614      -5.022       2.966\n",
       " x12            0.2854      1.704      0.168      0.867      -3.054       3.625\n",
       " x13            0.4838      0.743      0.651      0.515      -0.973       1.941\n",
       " x14            0.2438      0.756      0.322      0.747      -1.238       1.726\n",
       " x15           -0.4632      1.405     -0.330      0.742      -3.217       2.290\n",
       " x16           -0.0261      1.172     -0.022      0.982      -2.323       2.271\n",
       " x17           -0.4942      1.177     -0.420      0.675      -2.802       1.813\n",
       " x18            2.0031      2.120      0.945      0.345      -2.153       6.160\n",
       " x19           -0.8859      0.912     -0.971      0.331      -2.674       0.902\n",
       " x20            3.5251      2.003      1.760      0.078      -0.401       7.451\n",
       " x21           -0.0454      0.909     -0.050      0.960      -1.827       1.736\n",
       " x22            0.4381      1.848      0.237      0.813      -3.184       4.060\n",
       " x23           -0.1776      0.910     -0.195      0.845      -1.961       1.605\n",
       " x24           -0.2162      0.920     -0.235      0.814      -2.019       1.586\n",
       " x25            0.7959      0.917      0.868      0.386      -1.003       2.594\n",
       " x26            0.0285      0.905      0.031      0.975      -1.745       1.802\n",
       " x27            0.3802      0.918      0.414      0.679      -1.419       2.179\n",
       " x28           -0.0524      0.918     -0.057      0.954      -1.852       1.747\n",
       " x29            0.1055      0.906      0.116      0.907      -1.671       1.882\n",
       " x30            0.2810      0.912      0.308      0.758      -1.506       2.068\n",
       " x31            2.7556      2.064      1.335      0.182      -1.290       6.801\n",
       " x32            3.6128      2.863      1.262      0.207      -1.999       9.225\n",
       " x33            0.2152      0.915      0.235      0.814      -1.578       2.008\n",
       " x34            0.1494      1.176      0.127      0.899      -2.156       2.455\n",
       " x35            1.7517      0.913      1.919      0.055      -0.038       3.541\n",
       " x36            2.6213      2.009      1.305      0.192      -1.317       6.560\n",
       " x37            0.0377      0.913      0.041      0.967      -1.751       1.827\n",
       " x38            0.2376      0.907      0.262      0.793      -1.541       2.016\n",
       " x39            0.7390      0.917      0.806      0.420      -1.058       2.536\n",
       " x40          870.7602      1.240    702.113      0.000     868.329     873.191\n",
       " x41          424.8263      1.234    344.208      0.000     422.407     427.246\n",
       " x42            0.0756      1.234      0.061      0.951      -2.343       2.494\n",
       " x43         -704.7733      1.170   -602.251      0.000    -707.067    -702.479\n",
       " x44         -702.0938      1.172   -599.138      0.000    -704.391    -699.797\n",
       " ==============================================================================\n",
       " Omnibus:                    15469.448   Durbin-Watson:                   1.997\n",
       " Prob(Omnibus):                  0.000   Jarque-Bera (JB):         26555788.503\n",
       " Skew:                          15.341   Prob(JB):                         0.00\n",
       " Kurtosis:                     283.581   Cond. No.                     4.93e+15\n",
       " ==============================================================================\n",
       " \n",
       " Notes:\n",
       " [1] Standard Errors assume that the covariance matrix of the errors is correctly specified.\n",
       " [2] The smallest eigenvalue is 7.15e-28. This might indicate that there are\n",
       " strong multicollinearity problems or that the design matrix is singular.\n",
       " \"\"\",\n",
       " 4213.587770469688,\n",
       " 0.9995413937681955)"
      ]
     },
     "execution_count": 321,
     "metadata": {},
     "output_type": "execute_result"
    }
   ],
   "execution_count": 321
  },
  {
   "metadata": {},
   "cell_type": "markdown",
   "source": "### Backward Elimination",
   "id": "8f05b5d7e30f59ee"
  },
  {
   "metadata": {},
   "cell_type": "markdown",
   "source": "Iteratively remove features with p-value > 0.05",
   "id": "129c3f63c97805d6"
  },
  {
   "metadata": {
    "ExecuteTime": {
     "end_time": "2025-03-09T16:59:29.426981Z",
     "start_time": "2025-03-09T16:59:26.428171Z"
    }
   },
   "cell_type": "code",
   "source": [
    "X_train = pd.DataFrame(X_train)\n",
    "X_test = pd.DataFrame(X_test)\n",
    "\n",
    "X_train.reset_index(drop=True, inplace=True)\n",
    "y_train.reset_index(drop=True, inplace=True)\n",
    "\n",
    "X_train_const = sm.add_constant(X_train)\n",
    "X_test_const = sm.add_constant(X_test)\n",
    "\n",
    "X_opt = X_train_const.copy()\n",
    "\n",
    "while True:\n",
    "    model = sm.OLS(y_train, X_opt).fit()\n",
    "    p_values = model.pvalues\n",
    "\n",
    "    max_p_value = p_values.max()\n",
    "    if max_p_value > 0.05:  \n",
    "        feature_to_remove = p_values.idxmax()\n",
    "        X_opt.drop(columns=[feature_to_remove], inplace=True)\n",
    "    else:\n",
    "        break  \n"
   ],
   "id": "919a89ceeb70ef81",
   "outputs": [],
   "execution_count": 322
  },
  {
   "metadata": {
    "ExecuteTime": {
     "end_time": "2025-03-09T16:59:29.455298Z",
     "start_time": "2025-03-09T16:59:29.434301Z"
    }
   },
   "cell_type": "code",
   "source": [
    "selected_indices =  X_opt.columns.tolist()\n",
    "selected_indices = selected_indices[1:]\n",
    "selected_columns = [cols[each] for each in selected_indices]\n",
    "print('Selected Columns from backward elimination:', selected_columns)"
   ],
   "id": "592cea360d300dbb",
   "outputs": [
    {
     "name": "stdout",
     "output_type": "stream",
     "text": [
      "Selected Columns from backward elimination: ['intercept', 'Year', 'Engine_Size', 'Model_Camry', 'Model_Optima', 'Model_Tucson', 'Fuel_Type_Electric', 'Fuel_Type_Petrol', 'Transmission_Manual']\n"
     ]
    }
   ],
   "execution_count": 323
  },
  {
   "metadata": {
    "ExecuteTime": {
     "end_time": "2025-03-09T16:59:29.506917Z",
     "start_time": "2025-03-09T16:59:29.464065Z"
    }
   },
   "cell_type": "code",
   "source": [
    "model_backward = sm.OLS(y_train, X_opt).fit()\n",
    "y_pred_backward = model_backward.predict(X_test_const[X_opt.columns]) \n",
    "\n",
    "mse = mean_squared_error(y_test, y_pred_backward)\n",
    "r2  = r2_score(y_test, y_pred_backward)\n",
    "Results['Backward Elimination'] = [mse, r2] "
   ],
   "id": "637fc422c8413375",
   "outputs": [],
   "execution_count": 324
  },
  {
   "metadata": {
    "ExecuteTime": {
     "end_time": "2025-03-09T16:59:29.568593Z",
     "start_time": "2025-03-09T16:59:29.512862Z"
    }
   },
   "cell_type": "code",
   "source": "print(model_backward.summary())",
   "id": "df2bf4b395cacab5",
   "outputs": [
    {
     "name": "stdout",
     "output_type": "stream",
     "text": [
      "                            OLS Regression Results                            \n",
      "==============================================================================\n",
      "Dep. Variable:                  Price   R-squared:                       0.999\n",
      "Model:                            OLS   Adj. R-squared:                  0.999\n",
      "Method:                 Least Squares   F-statistic:                 1.069e+06\n",
      "Date:                Sun, 09 Mar 2025   Prob (F-statistic):               0.00\n",
      "Time:                        21:59:29   Log-Likelihood:                -47368.\n",
      "No. Observations:                8000   AIC:                         9.476e+04\n",
      "Df Residuals:                    7990   BIC:                         9.483e+04\n",
      "Df Model:                           9                                         \n",
      "Covariance Type:            nonrobust                                         \n",
      "==============================================================================\n",
      "                 coef    std err          t      P>|t|      [0.025      0.975]\n",
      "------------------------------------------------------------------------------\n",
      "const       8828.7453      1.009   8748.344      0.000    8826.767    8830.724\n",
      "0           2058.8663      1.010   2038.432      0.000    2056.886    2060.846\n",
      "1           1144.3533      1.010   1132.729      0.000    1142.373    1146.334\n",
      "2          -1721.8677      1.010  -1704.149      0.000   -1723.848   -1719.887\n",
      "19             2.7806      1.013      2.744      0.006       0.794       4.767\n",
      "31             2.3320      1.013      2.301      0.021       0.346       4.318\n",
      "39           870.6904      1.072    812.297      0.000     868.589     872.792\n",
      "40           424.7570      1.072    396.186      0.000     422.655     426.859\n",
      "42          -704.7793      1.168   -603.439      0.000    -707.069    -702.490\n",
      "43          -702.0780      1.169   -600.644      0.000    -704.369    -699.787\n",
      "==============================================================================\n",
      "Omnibus:                    15488.124   Durbin-Watson:                   1.998\n",
      "Prob(Omnibus):                  0.000   Jarque-Bera (JB):         26712196.783\n",
      "Skew:                          15.382   Prob(JB):                         0.00\n",
      "Kurtosis:                     284.407   Cond. No.                         1.75\n",
      "==============================================================================\n",
      "\n",
      "Notes:\n",
      "[1] Standard Errors assume that the covariance matrix of the errors is correctly specified.\n"
     ]
    }
   ],
   "execution_count": 325
  },
  {
   "metadata": {},
   "cell_type": "markdown",
   "source": "### Forward Selection",
   "id": "a62f21f9d8dee155"
  },
  {
   "metadata": {
    "ExecuteTime": {
     "end_time": "2025-03-09T17:00:00.150889Z",
     "start_time": "2025-03-09T16:59:29.575472Z"
    }
   },
   "cell_type": "code",
   "source": [
    "from sklearn.feature_selection import f_regression\n",
    "selected_features = ['const']\n",
    "remaining_features = list(X_train.columns)\n",
    "best_score = 0\n",
    "while remaining_features:\n",
    "    scores = {}\n",
    "    for feature in remaining_features:\n",
    "        temp_features = selected_features + [feature]\n",
    "        model = sm.OLS(y_train, X_train_const[temp_features]).fit()\n",
    "        scores[feature] = model.rsquared\n",
    "    best_feature = max(scores, key=scores.get)\n",
    "    if scores[best_feature] > best_score:\n",
    "        best_score = scores[best_feature]\n",
    "        selected_features.append(best_feature)\n",
    "        remaining_features.remove(best_feature)\n",
    "    else:\n",
    "        break\n",
    "\n",
    "X_train_forward = X_train_const[selected_features]\n",
    "X_test_forward = X_test_const[selected_features]\n"
   ],
   "id": "8a3ee32f861cec68",
   "outputs": [],
   "execution_count": 326
  },
  {
   "metadata": {
    "ExecuteTime": {
     "end_time": "2025-03-09T17:00:00.277025Z",
     "start_time": "2025-03-09T17:00:00.158879Z"
    }
   },
   "cell_type": "code",
   "source": [
    "model_forward = sm.OLS(y_train, X_train_forward).fit()\n",
    "y_pred_forward = model_forward.predict(X_test_forward)\n",
    "\n",
    "mse_forward = mean_squared_error(y_test, y_pred_forward)\n",
    "r2_forward = r2_score(y_test, y_pred_forward)"
   ],
   "id": "95b519bd01522c76",
   "outputs": [],
   "execution_count": 327
  },
  {
   "metadata": {
    "ExecuteTime": {
     "end_time": "2025-03-09T17:00:00.298852Z",
     "start_time": "2025-03-09T17:00:00.284028Z"
    }
   },
   "cell_type": "code",
   "source": "Results['Forward Selection'] = [mse_forward, r2_forward]",
   "id": "35a6c3c54c0e646c",
   "outputs": [],
   "execution_count": 328
  },
  {
   "metadata": {
    "ExecuteTime": {
     "end_time": "2025-03-09T17:00:00.324640Z",
     "start_time": "2025-03-09T17:00:00.305845Z"
    }
   },
   "cell_type": "code",
   "source": [
    "selected_features  = selected_features[1:]\n",
    "Selected_Columns = [cols[int(each)] for each in selected_features]\n",
    "print('Selected Columns from forward selection:', Selected_Columns)"
   ],
   "id": "9adeca7e444e3985",
   "outputs": [
    {
     "name": "stdout",
     "output_type": "stream",
     "text": [
      "Selected Columns from forward selection: ['intercept', 'Engine_Size', 'Year', 'Model_Tucson', 'Fuel_Type_Electric', 'Fuel_Type_Petrol', 'Transmission_Manual', 'Model_Camry', 'Model_Optima', 'Brand_Hyundai', 'Model_Q5', 'Model_A4', 'Brand_Chevrolet', 'Brand_Kia', 'Mileage', 'Model_Tiguan', 'Brand_Volkswagen', 'Model_Malibu', 'Model_RAV4', 'Model_Accord', 'Model_A3', 'Model_Equinox', 'Owner_Count', 'Model_Elantra', 'Model_Explorer', 'Model_5 Series', 'Doors', 'Model_E-Class', 'Brand_Ford', 'Model_Corolla', 'Model_Focus', 'Brand_Toyota', 'Model_Impala', 'Model_Passat', 'Brand_BMW', 'Fuel_Type_Hybrid', 'Model_Other', 'Brand_Honda']\n"
     ]
    }
   ],
   "execution_count": 329
  },
  {
   "metadata": {
    "ExecuteTime": {
     "end_time": "2025-03-09T17:00:00.524345Z",
     "start_time": "2025-03-09T17:00:00.336281Z"
    }
   },
   "cell_type": "code",
   "source": "model_forward.summary()",
   "id": "970f17b7856c1d91",
   "outputs": [
    {
     "data": {
      "text/plain": [
       "<class 'statsmodels.iolib.summary.Summary'>\n",
       "\"\"\"\n",
       "                            OLS Regression Results                            \n",
       "==============================================================================\n",
       "Dep. Variable:                  Price   R-squared:                       0.999\n",
       "Model:                            OLS   Adj. R-squared:                  0.999\n",
       "Method:                 Least Squares   F-statistic:                 2.529e+05\n",
       "Date:                Sun, 09 Mar 2025   Prob (F-statistic):               0.00\n",
       "Time:                        22:00:00   Log-Likelihood:                -47360.\n",
       "No. Observations:                8000   AIC:                         9.480e+04\n",
       "Df Residuals:                    7961   BIC:                         9.507e+04\n",
       "Df Model:                          38                                         \n",
       "Covariance Type:            nonrobust                                         \n",
       "==============================================================================\n",
       "                 coef    std err          t      P>|t|      [0.025      0.975]\n",
       "------------------------------------------------------------------------------\n",
       "const       8828.7452      1.010   8741.789      0.000    8826.765    8830.725\n",
       "0           2058.8882      1.012   2034.781      0.000    2056.905    2060.872\n",
       "2          -1721.8599      1.013  -1700.247      0.000   -1723.845   -1719.875\n",
       "1           1144.3550      1.012   1130.306      0.000    1142.370    1146.340\n",
       "39           870.7602      1.240    702.113      0.000     868.329     873.191\n",
       "40           424.8263      1.234    344.208      0.000     422.407     427.246\n",
       "42          -704.7733      1.170   -602.251      0.000    -707.067    -702.479\n",
       "43          -702.0938      1.172   -599.138      0.000    -704.391    -699.797\n",
       "19             3.5251      2.003      1.760      0.078      -0.401       7.451\n",
       "31             3.6128      2.863      1.262      0.207      -1.999       9.225\n",
       "10            -1.4360      3.351     -0.429      0.668      -8.005       5.133\n",
       "34             1.7962      1.392      1.291      0.197      -0.932       4.524\n",
       "17             2.0031      2.120      0.945      0.345      -2.153       6.160\n",
       "7              0.9354      2.395      0.391      0.696      -3.759       5.630\n",
       "11            -0.1140      3.049     -0.037      0.970      -6.091       5.863\n",
       "3             -0.9996      1.013     -0.987      0.324      -2.985       0.986\n",
       "38             0.7021      1.390      0.505      0.614      -2.023       3.427\n",
       "14            -0.4632      1.405     -0.330      0.742      -3.217       2.290\n",
       "30             2.7556      2.064      1.335      0.182      -1.290       6.801\n",
       "35             2.6213      2.009      1.305      0.192      -1.317       6.560\n",
       "18            -0.8412      1.394     -0.604      0.546      -3.574       1.891\n",
       "16            -0.7517      1.433     -0.524      0.600      -3.562       2.058\n",
       "24             0.4157      1.406      0.296      0.767      -2.340       3.171\n",
       "5             -0.8784      2.323     -0.378      0.705      -5.432       3.675\n",
       "23            -0.3148      1.361     -0.231      0.817      -2.983       2.353\n",
       "25            -0.3766      1.450     -0.260      0.795      -3.220       2.466\n",
       "15            -0.2787      1.420     -0.196      0.844      -3.063       2.506\n",
       "4              0.2237      1.013      0.221      0.825      -1.763       2.210\n",
       "22            -0.2158      1.414     -0.153      0.879      -2.987       2.555\n",
       "8             -0.8863      3.402     -0.260      0.794      -7.556       5.783\n",
       "21             0.4381      1.848      0.237      0.813      -3.184       4.060\n",
       "27            -0.2779      1.369     -0.203      0.839      -2.962       2.406\n",
       "13             0.2081      2.334      0.089      0.929      -4.368       4.784\n",
       "29             0.1784      1.385      0.129      0.898      -2.537       2.894\n",
       "33            -0.1072      1.431     -0.075      0.940      -2.912       2.698\n",
       "6             -0.1344      2.315     -0.058      0.954      -4.672       4.403\n",
       "41             0.0756      1.234      0.061      0.951      -2.343       2.494\n",
       "32            -0.0140      1.379     -0.010      0.992      -2.717       2.689\n",
       "9             -0.0073      2.359     -0.003      0.998      -4.631       4.617\n",
       "==============================================================================\n",
       "Omnibus:                    15469.448   Durbin-Watson:                   1.997\n",
       "Prob(Omnibus):                  0.000   Jarque-Bera (JB):         26555788.503\n",
       "Skew:                          15.341   Prob(JB):                         0.00\n",
       "Kurtosis:                     283.581   Cond. No.                         10.1\n",
       "==============================================================================\n",
       "\n",
       "Notes:\n",
       "[1] Standard Errors assume that the covariance matrix of the errors is correctly specified.\n",
       "\"\"\""
      ],
      "text/html": [
       "<table class=\"simpletable\">\n",
       "<caption>OLS Regression Results</caption>\n",
       "<tr>\n",
       "  <th>Dep. Variable:</th>          <td>Price</td>      <th>  R-squared:         </th> <td>   0.999</td> \n",
       "</tr>\n",
       "<tr>\n",
       "  <th>Model:</th>                   <td>OLS</td>       <th>  Adj. R-squared:    </th> <td>   0.999</td> \n",
       "</tr>\n",
       "<tr>\n",
       "  <th>Method:</th>             <td>Least Squares</td>  <th>  F-statistic:       </th> <td>2.529e+05</td>\n",
       "</tr>\n",
       "<tr>\n",
       "  <th>Date:</th>             <td>Sun, 09 Mar 2025</td> <th>  Prob (F-statistic):</th>  <td>  0.00</td>  \n",
       "</tr>\n",
       "<tr>\n",
       "  <th>Time:</th>                 <td>22:00:00</td>     <th>  Log-Likelihood:    </th> <td> -47360.</td> \n",
       "</tr>\n",
       "<tr>\n",
       "  <th>No. Observations:</th>      <td>  8000</td>      <th>  AIC:               </th> <td>9.480e+04</td>\n",
       "</tr>\n",
       "<tr>\n",
       "  <th>Df Residuals:</th>          <td>  7961</td>      <th>  BIC:               </th> <td>9.507e+04</td>\n",
       "</tr>\n",
       "<tr>\n",
       "  <th>Df Model:</th>              <td>    38</td>      <th>                     </th>     <td> </td>    \n",
       "</tr>\n",
       "<tr>\n",
       "  <th>Covariance Type:</th>      <td>nonrobust</td>    <th>                     </th>     <td> </td>    \n",
       "</tr>\n",
       "</table>\n",
       "<table class=\"simpletable\">\n",
       "<tr>\n",
       "    <td></td>       <th>coef</th>     <th>std err</th>      <th>t</th>      <th>P>|t|</th>  <th>[0.025</th>    <th>0.975]</th>  \n",
       "</tr>\n",
       "<tr>\n",
       "  <th>const</th> <td> 8828.7452</td> <td>    1.010</td> <td> 8741.789</td> <td> 0.000</td> <td> 8826.765</td> <td> 8830.725</td>\n",
       "</tr>\n",
       "<tr>\n",
       "  <th>0</th>     <td> 2058.8882</td> <td>    1.012</td> <td> 2034.781</td> <td> 0.000</td> <td> 2056.905</td> <td> 2060.872</td>\n",
       "</tr>\n",
       "<tr>\n",
       "  <th>2</th>     <td>-1721.8599</td> <td>    1.013</td> <td>-1700.247</td> <td> 0.000</td> <td>-1723.845</td> <td>-1719.875</td>\n",
       "</tr>\n",
       "<tr>\n",
       "  <th>1</th>     <td> 1144.3550</td> <td>    1.012</td> <td> 1130.306</td> <td> 0.000</td> <td> 1142.370</td> <td> 1146.340</td>\n",
       "</tr>\n",
       "<tr>\n",
       "  <th>39</th>    <td>  870.7602</td> <td>    1.240</td> <td>  702.113</td> <td> 0.000</td> <td>  868.329</td> <td>  873.191</td>\n",
       "</tr>\n",
       "<tr>\n",
       "  <th>40</th>    <td>  424.8263</td> <td>    1.234</td> <td>  344.208</td> <td> 0.000</td> <td>  422.407</td> <td>  427.246</td>\n",
       "</tr>\n",
       "<tr>\n",
       "  <th>42</th>    <td> -704.7733</td> <td>    1.170</td> <td> -602.251</td> <td> 0.000</td> <td> -707.067</td> <td> -702.479</td>\n",
       "</tr>\n",
       "<tr>\n",
       "  <th>43</th>    <td> -702.0938</td> <td>    1.172</td> <td> -599.138</td> <td> 0.000</td> <td> -704.391</td> <td> -699.797</td>\n",
       "</tr>\n",
       "<tr>\n",
       "  <th>19</th>    <td>    3.5251</td> <td>    2.003</td> <td>    1.760</td> <td> 0.078</td> <td>   -0.401</td> <td>    7.451</td>\n",
       "</tr>\n",
       "<tr>\n",
       "  <th>31</th>    <td>    3.6128</td> <td>    2.863</td> <td>    1.262</td> <td> 0.207</td> <td>   -1.999</td> <td>    9.225</td>\n",
       "</tr>\n",
       "<tr>\n",
       "  <th>10</th>    <td>   -1.4360</td> <td>    3.351</td> <td>   -0.429</td> <td> 0.668</td> <td>   -8.005</td> <td>    5.133</td>\n",
       "</tr>\n",
       "<tr>\n",
       "  <th>34</th>    <td>    1.7962</td> <td>    1.392</td> <td>    1.291</td> <td> 0.197</td> <td>   -0.932</td> <td>    4.524</td>\n",
       "</tr>\n",
       "<tr>\n",
       "  <th>17</th>    <td>    2.0031</td> <td>    2.120</td> <td>    0.945</td> <td> 0.345</td> <td>   -2.153</td> <td>    6.160</td>\n",
       "</tr>\n",
       "<tr>\n",
       "  <th>7</th>     <td>    0.9354</td> <td>    2.395</td> <td>    0.391</td> <td> 0.696</td> <td>   -3.759</td> <td>    5.630</td>\n",
       "</tr>\n",
       "<tr>\n",
       "  <th>11</th>    <td>   -0.1140</td> <td>    3.049</td> <td>   -0.037</td> <td> 0.970</td> <td>   -6.091</td> <td>    5.863</td>\n",
       "</tr>\n",
       "<tr>\n",
       "  <th>3</th>     <td>   -0.9996</td> <td>    1.013</td> <td>   -0.987</td> <td> 0.324</td> <td>   -2.985</td> <td>    0.986</td>\n",
       "</tr>\n",
       "<tr>\n",
       "  <th>38</th>    <td>    0.7021</td> <td>    1.390</td> <td>    0.505</td> <td> 0.614</td> <td>   -2.023</td> <td>    3.427</td>\n",
       "</tr>\n",
       "<tr>\n",
       "  <th>14</th>    <td>   -0.4632</td> <td>    1.405</td> <td>   -0.330</td> <td> 0.742</td> <td>   -3.217</td> <td>    2.290</td>\n",
       "</tr>\n",
       "<tr>\n",
       "  <th>30</th>    <td>    2.7556</td> <td>    2.064</td> <td>    1.335</td> <td> 0.182</td> <td>   -1.290</td> <td>    6.801</td>\n",
       "</tr>\n",
       "<tr>\n",
       "  <th>35</th>    <td>    2.6213</td> <td>    2.009</td> <td>    1.305</td> <td> 0.192</td> <td>   -1.317</td> <td>    6.560</td>\n",
       "</tr>\n",
       "<tr>\n",
       "  <th>18</th>    <td>   -0.8412</td> <td>    1.394</td> <td>   -0.604</td> <td> 0.546</td> <td>   -3.574</td> <td>    1.891</td>\n",
       "</tr>\n",
       "<tr>\n",
       "  <th>16</th>    <td>   -0.7517</td> <td>    1.433</td> <td>   -0.524</td> <td> 0.600</td> <td>   -3.562</td> <td>    2.058</td>\n",
       "</tr>\n",
       "<tr>\n",
       "  <th>24</th>    <td>    0.4157</td> <td>    1.406</td> <td>    0.296</td> <td> 0.767</td> <td>   -2.340</td> <td>    3.171</td>\n",
       "</tr>\n",
       "<tr>\n",
       "  <th>5</th>     <td>   -0.8784</td> <td>    2.323</td> <td>   -0.378</td> <td> 0.705</td> <td>   -5.432</td> <td>    3.675</td>\n",
       "</tr>\n",
       "<tr>\n",
       "  <th>23</th>    <td>   -0.3148</td> <td>    1.361</td> <td>   -0.231</td> <td> 0.817</td> <td>   -2.983</td> <td>    2.353</td>\n",
       "</tr>\n",
       "<tr>\n",
       "  <th>25</th>    <td>   -0.3766</td> <td>    1.450</td> <td>   -0.260</td> <td> 0.795</td> <td>   -3.220</td> <td>    2.466</td>\n",
       "</tr>\n",
       "<tr>\n",
       "  <th>15</th>    <td>   -0.2787</td> <td>    1.420</td> <td>   -0.196</td> <td> 0.844</td> <td>   -3.063</td> <td>    2.506</td>\n",
       "</tr>\n",
       "<tr>\n",
       "  <th>4</th>     <td>    0.2237</td> <td>    1.013</td> <td>    0.221</td> <td> 0.825</td> <td>   -1.763</td> <td>    2.210</td>\n",
       "</tr>\n",
       "<tr>\n",
       "  <th>22</th>    <td>   -0.2158</td> <td>    1.414</td> <td>   -0.153</td> <td> 0.879</td> <td>   -2.987</td> <td>    2.555</td>\n",
       "</tr>\n",
       "<tr>\n",
       "  <th>8</th>     <td>   -0.8863</td> <td>    3.402</td> <td>   -0.260</td> <td> 0.794</td> <td>   -7.556</td> <td>    5.783</td>\n",
       "</tr>\n",
       "<tr>\n",
       "  <th>21</th>    <td>    0.4381</td> <td>    1.848</td> <td>    0.237</td> <td> 0.813</td> <td>   -3.184</td> <td>    4.060</td>\n",
       "</tr>\n",
       "<tr>\n",
       "  <th>27</th>    <td>   -0.2779</td> <td>    1.369</td> <td>   -0.203</td> <td> 0.839</td> <td>   -2.962</td> <td>    2.406</td>\n",
       "</tr>\n",
       "<tr>\n",
       "  <th>13</th>    <td>    0.2081</td> <td>    2.334</td> <td>    0.089</td> <td> 0.929</td> <td>   -4.368</td> <td>    4.784</td>\n",
       "</tr>\n",
       "<tr>\n",
       "  <th>29</th>    <td>    0.1784</td> <td>    1.385</td> <td>    0.129</td> <td> 0.898</td> <td>   -2.537</td> <td>    2.894</td>\n",
       "</tr>\n",
       "<tr>\n",
       "  <th>33</th>    <td>   -0.1072</td> <td>    1.431</td> <td>   -0.075</td> <td> 0.940</td> <td>   -2.912</td> <td>    2.698</td>\n",
       "</tr>\n",
       "<tr>\n",
       "  <th>6</th>     <td>   -0.1344</td> <td>    2.315</td> <td>   -0.058</td> <td> 0.954</td> <td>   -4.672</td> <td>    4.403</td>\n",
       "</tr>\n",
       "<tr>\n",
       "  <th>41</th>    <td>    0.0756</td> <td>    1.234</td> <td>    0.061</td> <td> 0.951</td> <td>   -2.343</td> <td>    2.494</td>\n",
       "</tr>\n",
       "<tr>\n",
       "  <th>32</th>    <td>   -0.0140</td> <td>    1.379</td> <td>   -0.010</td> <td> 0.992</td> <td>   -2.717</td> <td>    2.689</td>\n",
       "</tr>\n",
       "<tr>\n",
       "  <th>9</th>     <td>   -0.0073</td> <td>    2.359</td> <td>   -0.003</td> <td> 0.998</td> <td>   -4.631</td> <td>    4.617</td>\n",
       "</tr>\n",
       "</table>\n",
       "<table class=\"simpletable\">\n",
       "<tr>\n",
       "  <th>Omnibus:</th>       <td>15469.448</td> <th>  Durbin-Watson:     </th>   <td>   1.997</td>  \n",
       "</tr>\n",
       "<tr>\n",
       "  <th>Prob(Omnibus):</th>  <td> 0.000</td>   <th>  Jarque-Bera (JB):  </th> <td>26555788.503</td>\n",
       "</tr>\n",
       "<tr>\n",
       "  <th>Skew:</th>           <td>15.341</td>   <th>  Prob(JB):          </th>   <td>    0.00</td>  \n",
       "</tr>\n",
       "<tr>\n",
       "  <th>Kurtosis:</th>       <td>283.581</td>  <th>  Cond. No.          </th>   <td>    10.1</td>  \n",
       "</tr>\n",
       "</table><br/><br/>Notes:<br/>[1] Standard Errors assume that the covariance matrix of the errors is correctly specified."
      ],
      "text/latex": "\\begin{center}\n\\begin{tabular}{lclc}\n\\toprule\n\\textbf{Dep. Variable:}    &      Price       & \\textbf{  R-squared:         } &      0.999    \\\\\n\\textbf{Model:}            &       OLS        & \\textbf{  Adj. R-squared:    } &      0.999    \\\\\n\\textbf{Method:}           &  Least Squares   & \\textbf{  F-statistic:       } &  2.529e+05    \\\\\n\\textbf{Date:}             & Sun, 09 Mar 2025 & \\textbf{  Prob (F-statistic):} &      0.00     \\\\\n\\textbf{Time:}             &     22:00:00     & \\textbf{  Log-Likelihood:    } &    -47360.    \\\\\n\\textbf{No. Observations:} &        8000      & \\textbf{  AIC:               } &  9.480e+04    \\\\\n\\textbf{Df Residuals:}     &        7961      & \\textbf{  BIC:               } &  9.507e+04    \\\\\n\\textbf{Df Model:}         &          38      & \\textbf{                     } &               \\\\\n\\textbf{Covariance Type:}  &    nonrobust     & \\textbf{                     } &               \\\\\n\\bottomrule\n\\end{tabular}\n\\begin{tabular}{lcccccc}\n               & \\textbf{coef} & \\textbf{std err} & \\textbf{t} & \\textbf{P$> |$t$|$} & \\textbf{[0.025} & \\textbf{0.975]}  \\\\\n\\midrule\n\\textbf{const} &    8828.7452  &        1.010     &  8741.789  &         0.000        &     8826.765    &     8830.725     \\\\\n\\textbf{0}     &    2058.8882  &        1.012     &  2034.781  &         0.000        &     2056.905    &     2060.872     \\\\\n\\textbf{2}     &   -1721.8599  &        1.013     & -1700.247  &         0.000        &    -1723.845    &    -1719.875     \\\\\n\\textbf{1}     &    1144.3550  &        1.012     &  1130.306  &         0.000        &     1142.370    &     1146.340     \\\\\n\\textbf{39}    &     870.7602  &        1.240     &   702.113  &         0.000        &      868.329    &      873.191     \\\\\n\\textbf{40}    &     424.8263  &        1.234     &   344.208  &         0.000        &      422.407    &      427.246     \\\\\n\\textbf{42}    &    -704.7733  &        1.170     &  -602.251  &         0.000        &     -707.067    &     -702.479     \\\\\n\\textbf{43}    &    -702.0938  &        1.172     &  -599.138  &         0.000        &     -704.391    &     -699.797     \\\\\n\\textbf{19}    &       3.5251  &        2.003     &     1.760  &         0.078        &       -0.401    &        7.451     \\\\\n\\textbf{31}    &       3.6128  &        2.863     &     1.262  &         0.207        &       -1.999    &        9.225     \\\\\n\\textbf{10}    &      -1.4360  &        3.351     &    -0.429  &         0.668        &       -8.005    &        5.133     \\\\\n\\textbf{34}    &       1.7962  &        1.392     &     1.291  &         0.197        &       -0.932    &        4.524     \\\\\n\\textbf{17}    &       2.0031  &        2.120     &     0.945  &         0.345        &       -2.153    &        6.160     \\\\\n\\textbf{7}     &       0.9354  &        2.395     &     0.391  &         0.696        &       -3.759    &        5.630     \\\\\n\\textbf{11}    &      -0.1140  &        3.049     &    -0.037  &         0.970        &       -6.091    &        5.863     \\\\\n\\textbf{3}     &      -0.9996  &        1.013     &    -0.987  &         0.324        &       -2.985    &        0.986     \\\\\n\\textbf{38}    &       0.7021  &        1.390     &     0.505  &         0.614        &       -2.023    &        3.427     \\\\\n\\textbf{14}    &      -0.4632  &        1.405     &    -0.330  &         0.742        &       -3.217    &        2.290     \\\\\n\\textbf{30}    &       2.7556  &        2.064     &     1.335  &         0.182        &       -1.290    &        6.801     \\\\\n\\textbf{35}    &       2.6213  &        2.009     &     1.305  &         0.192        &       -1.317    &        6.560     \\\\\n\\textbf{18}    &      -0.8412  &        1.394     &    -0.604  &         0.546        &       -3.574    &        1.891     \\\\\n\\textbf{16}    &      -0.7517  &        1.433     &    -0.524  &         0.600        &       -3.562    &        2.058     \\\\\n\\textbf{24}    &       0.4157  &        1.406     &     0.296  &         0.767        &       -2.340    &        3.171     \\\\\n\\textbf{5}     &      -0.8784  &        2.323     &    -0.378  &         0.705        &       -5.432    &        3.675     \\\\\n\\textbf{23}    &      -0.3148  &        1.361     &    -0.231  &         0.817        &       -2.983    &        2.353     \\\\\n\\textbf{25}    &      -0.3766  &        1.450     &    -0.260  &         0.795        &       -3.220    &        2.466     \\\\\n\\textbf{15}    &      -0.2787  &        1.420     &    -0.196  &         0.844        &       -3.063    &        2.506     \\\\\n\\textbf{4}     &       0.2237  &        1.013     &     0.221  &         0.825        &       -1.763    &        2.210     \\\\\n\\textbf{22}    &      -0.2158  &        1.414     &    -0.153  &         0.879        &       -2.987    &        2.555     \\\\\n\\textbf{8}     &      -0.8863  &        3.402     &    -0.260  &         0.794        &       -7.556    &        5.783     \\\\\n\\textbf{21}    &       0.4381  &        1.848     &     0.237  &         0.813        &       -3.184    &        4.060     \\\\\n\\textbf{27}    &      -0.2779  &        1.369     &    -0.203  &         0.839        &       -2.962    &        2.406     \\\\\n\\textbf{13}    &       0.2081  &        2.334     &     0.089  &         0.929        &       -4.368    &        4.784     \\\\\n\\textbf{29}    &       0.1784  &        1.385     &     0.129  &         0.898        &       -2.537    &        2.894     \\\\\n\\textbf{33}    &      -0.1072  &        1.431     &    -0.075  &         0.940        &       -2.912    &        2.698     \\\\\n\\textbf{6}     &      -0.1344  &        2.315     &    -0.058  &         0.954        &       -4.672    &        4.403     \\\\\n\\textbf{41}    &       0.0756  &        1.234     &     0.061  &         0.951        &       -2.343    &        2.494     \\\\\n\\textbf{32}    &      -0.0140  &        1.379     &    -0.010  &         0.992        &       -2.717    &        2.689     \\\\\n\\textbf{9}     &      -0.0073  &        2.359     &    -0.003  &         0.998        &       -4.631    &        4.617     \\\\\n\\bottomrule\n\\end{tabular}\n\\begin{tabular}{lclc}\n\\textbf{Omnibus:}       & 15469.448 & \\textbf{  Durbin-Watson:     } &      1.997    \\\\\n\\textbf{Prob(Omnibus):} &    0.000  & \\textbf{  Jarque-Bera (JB):  } & 26555788.503  \\\\\n\\textbf{Skew:}          &   15.341  & \\textbf{  Prob(JB):          } &       0.00    \\\\\n\\textbf{Kurtosis:}      &  283.581  & \\textbf{  Cond. No.          } &       10.1    \\\\\n\\bottomrule\n\\end{tabular}\n%\\caption{OLS Regression Results}\n\\end{center}\n\nNotes: \\newline\n [1] Standard Errors assume that the covariance matrix of the errors is correctly specified."
     },
     "execution_count": 330,
     "metadata": {},
     "output_type": "execute_result"
    }
   ],
   "execution_count": 330
  },
  {
   "metadata": {},
   "cell_type": "markdown",
   "source": "### Bidirectional Elimination",
   "id": "63f0969077ef593a"
  },
  {
   "metadata": {
    "ExecuteTime": {
     "end_time": "2025-03-09T17:01:56.611570Z",
     "start_time": "2025-03-09T17:01:56.571790Z"
    }
   },
   "cell_type": "code",
   "source": [
    "def bidirectional_elimination(X=X_train_const, y=y_train, significance_level=0.05):\n",
    "    selected_features = []\n",
    "    remaining_features = list(X.columns)\n",
    "    remaining_features.remove('const')  # Exclude intercept from selection\n",
    "\n",
    "    best_score = 0  # Track the best model score\n",
    "\n",
    "    while remaining_features:\n",
    "        # Forward Selection: Add the most significant feature\n",
    "        best_feature = None\n",
    "        best_pval = float('inf')\n",
    "        \n",
    "        for feature in remaining_features:\n",
    "            temp_features = selected_features + [feature]\n",
    "            X_temp = sm.add_constant(X[temp_features])\n",
    "            model = sm.OLS(y, X_temp).fit()\n",
    "            pval = model.pvalues[feature]\n",
    "\n",
    "            if pval < best_pval:\n",
    "                best_pval = pval\n",
    "                best_feature = feature\n",
    "                \n",
    "        if best_pval < significance_level:\n",
    "            selected_features.append(best_feature)\n",
    "            remaining_features.remove(best_feature)\n",
    "            \n",
    "            # Backward Elimination: Remove insignificant features while ensuring score improvement\n",
    "            while len(selected_features) > 0:\n",
    "                X_temp = sm.add_constant(X[selected_features])\n",
    "                model = sm.OLS(y, X_temp).fit()\n",
    "                pvalues = model.pvalues.drop('const')\n",
    "                \n",
    "                worst_pval_feature = pvalues.idxmax()\n",
    "                worst_pval = pvalues.max()\n",
    "                \n",
    "                if worst_pval > significance_level and model.rsquared_adj > best_score: #Check if removal improves score\n",
    "                    selected_features.remove(worst_pval_feature)\n",
    "                    best_score = model.rsquared_adj  # Update best score\n",
    "                else:\n",
    "                    break\n",
    "        else:\n",
    "            break\n",
    "\n",
    "    return selected_features"
   ],
   "id": "1fbbb70d553779a3",
   "outputs": [],
   "execution_count": 333
  },
  {
   "metadata": {
    "ExecuteTime": {
     "end_time": "2025-03-09T17:02:04.103450Z",
     "start_time": "2025-03-09T17:01:58.009180Z"
    }
   },
   "cell_type": "code",
   "source": [
    "selected_indices = bidirectional_elimination()\n",
    "selected_columns = [cols[int(each)] for each in selected_indices]\n",
    "print(\"Selected Features:\", selected_columns)"
   ],
   "id": "1fecd844bacae239",
   "outputs": [
    {
     "name": "stdout",
     "output_type": "stream",
     "text": [
      "Selected Features: ['intercept', 'Year', 'Engine_Size', 'Model_Tucson', 'Fuel_Type_Electric', 'Fuel_Type_Petrol', 'Transmission_Manual', 'Model_Camry', 'Model_Optima']\n"
     ]
    }
   ],
   "execution_count": 334
  },
  {
   "metadata": {
    "ExecuteTime": {
     "end_time": "2025-03-09T17:02:05.720074Z",
     "start_time": "2025-03-09T17:02:05.702709Z"
    }
   },
   "cell_type": "code",
   "source": [
    "X_train_bidirectional = X_train_const[selected_indices]\n",
    "X_test_bidirectional = X_test_const[selected_indices]"
   ],
   "id": "feff4da9ac77fb32",
   "outputs": [],
   "execution_count": 335
  },
  {
   "metadata": {
    "ExecuteTime": {
     "end_time": "2025-03-09T17:02:06.157203Z",
     "start_time": "2025-03-09T17:02:06.104946Z"
    }
   },
   "cell_type": "code",
   "source": [
    "model_bidirectional = sm.OLS(y_train, X_train_bidirectional).fit()\n",
    "y_pred_bidirectional = model_bidirectional.predict(X_test_bidirectional)\n"
   ],
   "id": "9216d18e4c97cf80",
   "outputs": [],
   "execution_count": 336
  },
  {
   "metadata": {
    "ExecuteTime": {
     "end_time": "2025-03-09T17:02:06.327540Z",
     "start_time": "2025-03-09T17:02:06.207170Z"
    }
   },
   "cell_type": "code",
   "source": [
    "mse_bidirectional = mean_squared_error(y_test, y_pred_bidirectional)\n",
    "r2_bidirectional = r2_score(y_test, y_pred_bidirectional)\n",
    "Results['Bidirectional Elimination'] = [mse_bidirectional, r2_bidirectional]"
   ],
   "id": "b5455dacd203182d",
   "outputs": [],
   "execution_count": 337
  },
  {
   "metadata": {
    "ExecuteTime": {
     "end_time": "2025-03-09T17:02:06.745402Z",
     "start_time": "2025-03-09T17:02:06.476420Z"
    }
   },
   "cell_type": "code",
   "source": "model_bidirectional.summary()",
   "id": "4bed26851e348db0",
   "outputs": [
    {
     "data": {
      "text/plain": [
       "<class 'statsmodels.iolib.summary.Summary'>\n",
       "\"\"\"\n",
       "                                 OLS Regression Results                                \n",
       "=======================================================================================\n",
       "Dep. Variable:                  Price   R-squared (uncentered):                   0.112\n",
       "Model:                            OLS   Adj. R-squared (uncentered):              0.111\n",
       "Method:                 Least Squares   F-statistic:                              111.6\n",
       "Date:                Sun, 09 Mar 2025   Prob (F-statistic):                   5.13e-198\n",
       "Time:                        22:02:06   Log-Likelihood:                         -84038.\n",
       "No. Observations:                8000   AIC:                                  1.681e+05\n",
       "Df Residuals:                    7991   BIC:                                  1.682e+05\n",
       "Df Model:                           9                                                  \n",
       "Covariance Type:            nonrobust                                                  \n",
       "==============================================================================\n",
       "                 coef    std err          t      P>|t|      [0.025      0.975]\n",
       "------------------------------------------------------------------------------\n",
       "0           2058.8663     98.851     20.828      0.000    1865.093    2252.640\n",
       "1           1144.3533     98.874     11.574      0.000     950.534    1338.172\n",
       "2          -1721.8677     98.887    -17.412      0.000   -1915.712   -1528.023\n",
       "39           870.6904    104.905      8.300      0.000     665.049    1076.332\n",
       "40           424.7570    104.928      4.048      0.000     219.072     630.442\n",
       "42          -704.7793    114.306     -6.166      0.000    -928.848    -480.711\n",
       "43          -702.0780    114.397     -6.137      0.000    -926.327    -477.829\n",
       "19             2.7806     99.179      0.028      0.978    -191.636     197.197\n",
       "31             2.3320     99.170      0.024      0.981    -192.067     196.731\n",
       "==============================================================================\n",
       "Omnibus:                    15488.124   Durbin-Watson:                   0.000\n",
       "Prob(Omnibus):                  0.000   Jarque-Bera (JB):         26712196.783\n",
       "Skew:                          15.382   Prob(JB):                         0.00\n",
       "Kurtosis:                     284.407   Cond. No.                         1.75\n",
       "==============================================================================\n",
       "\n",
       "Notes:\n",
       "[1] R² is computed without centering (uncentered) since the model does not contain a constant.\n",
       "[2] Standard Errors assume that the covariance matrix of the errors is correctly specified.\n",
       "\"\"\""
      ],
      "text/html": [
       "<table class=\"simpletable\">\n",
       "<caption>OLS Regression Results</caption>\n",
       "<tr>\n",
       "  <th>Dep. Variable:</th>          <td>Price</td>      <th>  R-squared (uncentered):</th>      <td>   0.112</td> \n",
       "</tr>\n",
       "<tr>\n",
       "  <th>Model:</th>                   <td>OLS</td>       <th>  Adj. R-squared (uncentered):</th> <td>   0.111</td> \n",
       "</tr>\n",
       "<tr>\n",
       "  <th>Method:</th>             <td>Least Squares</td>  <th>  F-statistic:       </th>          <td>   111.6</td> \n",
       "</tr>\n",
       "<tr>\n",
       "  <th>Date:</th>             <td>Sun, 09 Mar 2025</td> <th>  Prob (F-statistic):</th>          <td>5.13e-198</td>\n",
       "</tr>\n",
       "<tr>\n",
       "  <th>Time:</th>                 <td>22:02:06</td>     <th>  Log-Likelihood:    </th>          <td> -84038.</td> \n",
       "</tr>\n",
       "<tr>\n",
       "  <th>No. Observations:</th>      <td>  8000</td>      <th>  AIC:               </th>          <td>1.681e+05</td>\n",
       "</tr>\n",
       "<tr>\n",
       "  <th>Df Residuals:</th>          <td>  7991</td>      <th>  BIC:               </th>          <td>1.682e+05</td>\n",
       "</tr>\n",
       "<tr>\n",
       "  <th>Df Model:</th>              <td>     9</td>      <th>                     </th>              <td> </td>    \n",
       "</tr>\n",
       "<tr>\n",
       "  <th>Covariance Type:</th>      <td>nonrobust</td>    <th>                     </th>              <td> </td>    \n",
       "</tr>\n",
       "</table>\n",
       "<table class=\"simpletable\">\n",
       "<tr>\n",
       "   <td></td>     <th>coef</th>     <th>std err</th>      <th>t</th>      <th>P>|t|</th>  <th>[0.025</th>    <th>0.975]</th>  \n",
       "</tr>\n",
       "<tr>\n",
       "  <th>0</th>  <td> 2058.8663</td> <td>   98.851</td> <td>   20.828</td> <td> 0.000</td> <td> 1865.093</td> <td> 2252.640</td>\n",
       "</tr>\n",
       "<tr>\n",
       "  <th>1</th>  <td> 1144.3533</td> <td>   98.874</td> <td>   11.574</td> <td> 0.000</td> <td>  950.534</td> <td> 1338.172</td>\n",
       "</tr>\n",
       "<tr>\n",
       "  <th>2</th>  <td>-1721.8677</td> <td>   98.887</td> <td>  -17.412</td> <td> 0.000</td> <td>-1915.712</td> <td>-1528.023</td>\n",
       "</tr>\n",
       "<tr>\n",
       "  <th>39</th> <td>  870.6904</td> <td>  104.905</td> <td>    8.300</td> <td> 0.000</td> <td>  665.049</td> <td> 1076.332</td>\n",
       "</tr>\n",
       "<tr>\n",
       "  <th>40</th> <td>  424.7570</td> <td>  104.928</td> <td>    4.048</td> <td> 0.000</td> <td>  219.072</td> <td>  630.442</td>\n",
       "</tr>\n",
       "<tr>\n",
       "  <th>42</th> <td> -704.7793</td> <td>  114.306</td> <td>   -6.166</td> <td> 0.000</td> <td> -928.848</td> <td> -480.711</td>\n",
       "</tr>\n",
       "<tr>\n",
       "  <th>43</th> <td> -702.0780</td> <td>  114.397</td> <td>   -6.137</td> <td> 0.000</td> <td> -926.327</td> <td> -477.829</td>\n",
       "</tr>\n",
       "<tr>\n",
       "  <th>19</th> <td>    2.7806</td> <td>   99.179</td> <td>    0.028</td> <td> 0.978</td> <td> -191.636</td> <td>  197.197</td>\n",
       "</tr>\n",
       "<tr>\n",
       "  <th>31</th> <td>    2.3320</td> <td>   99.170</td> <td>    0.024</td> <td> 0.981</td> <td> -192.067</td> <td>  196.731</td>\n",
       "</tr>\n",
       "</table>\n",
       "<table class=\"simpletable\">\n",
       "<tr>\n",
       "  <th>Omnibus:</th>       <td>15488.124</td> <th>  Durbin-Watson:     </th>   <td>   0.000</td>  \n",
       "</tr>\n",
       "<tr>\n",
       "  <th>Prob(Omnibus):</th>  <td> 0.000</td>   <th>  Jarque-Bera (JB):  </th> <td>26712196.783</td>\n",
       "</tr>\n",
       "<tr>\n",
       "  <th>Skew:</th>           <td>15.382</td>   <th>  Prob(JB):          </th>   <td>    0.00</td>  \n",
       "</tr>\n",
       "<tr>\n",
       "  <th>Kurtosis:</th>       <td>284.407</td>  <th>  Cond. No.          </th>   <td>    1.75</td>  \n",
       "</tr>\n",
       "</table><br/><br/>Notes:<br/>[1] R² is computed without centering (uncentered) since the model does not contain a constant.<br/>[2] Standard Errors assume that the covariance matrix of the errors is correctly specified."
      ],
      "text/latex": "\\begin{center}\n\\begin{tabular}{lclc}\n\\toprule\n\\textbf{Dep. Variable:}    &      Price       & \\textbf{  R-squared (uncentered):}      &      0.112    \\\\\n\\textbf{Model:}            &       OLS        & \\textbf{  Adj. R-squared (uncentered):} &      0.111    \\\\\n\\textbf{Method:}           &  Least Squares   & \\textbf{  F-statistic:       }          &      111.6    \\\\\n\\textbf{Date:}             & Sun, 09 Mar 2025 & \\textbf{  Prob (F-statistic):}          &  5.13e-198    \\\\\n\\textbf{Time:}             &     22:02:06     & \\textbf{  Log-Likelihood:    }          &    -84038.    \\\\\n\\textbf{No. Observations:} &        8000      & \\textbf{  AIC:               }          &  1.681e+05    \\\\\n\\textbf{Df Residuals:}     &        7991      & \\textbf{  BIC:               }          &  1.682e+05    \\\\\n\\textbf{Df Model:}         &           9      & \\textbf{                     }          &               \\\\\n\\textbf{Covariance Type:}  &    nonrobust     & \\textbf{                     }          &               \\\\\n\\bottomrule\n\\end{tabular}\n\\begin{tabular}{lcccccc}\n            & \\textbf{coef} & \\textbf{std err} & \\textbf{t} & \\textbf{P$> |$t$|$} & \\textbf{[0.025} & \\textbf{0.975]}  \\\\\n\\midrule\n\\textbf{0}  &    2058.8663  &       98.851     &    20.828  &         0.000        &     1865.093    &     2252.640     \\\\\n\\textbf{1}  &    1144.3533  &       98.874     &    11.574  &         0.000        &      950.534    &     1338.172     \\\\\n\\textbf{2}  &   -1721.8677  &       98.887     &   -17.412  &         0.000        &    -1915.712    &    -1528.023     \\\\\n\\textbf{39} &     870.6904  &      104.905     &     8.300  &         0.000        &      665.049    &     1076.332     \\\\\n\\textbf{40} &     424.7570  &      104.928     &     4.048  &         0.000        &      219.072    &      630.442     \\\\\n\\textbf{42} &    -704.7793  &      114.306     &    -6.166  &         0.000        &     -928.848    &     -480.711     \\\\\n\\textbf{43} &    -702.0780  &      114.397     &    -6.137  &         0.000        &     -926.327    &     -477.829     \\\\\n\\textbf{19} &       2.7806  &       99.179     &     0.028  &         0.978        &     -191.636    &      197.197     \\\\\n\\textbf{31} &       2.3320  &       99.170     &     0.024  &         0.981        &     -192.067    &      196.731     \\\\\n\\bottomrule\n\\end{tabular}\n\\begin{tabular}{lclc}\n\\textbf{Omnibus:}       & 15488.124 & \\textbf{  Durbin-Watson:     } &      0.000    \\\\\n\\textbf{Prob(Omnibus):} &    0.000  & \\textbf{  Jarque-Bera (JB):  } & 26712196.783  \\\\\n\\textbf{Skew:}          &   15.382  & \\textbf{  Prob(JB):          } &       0.00    \\\\\n\\textbf{Kurtosis:}      &  284.407  & \\textbf{  Cond. No.          } &       1.75    \\\\\n\\bottomrule\n\\end{tabular}\n%\\caption{OLS Regression Results}\n\\end{center}\n\nNotes: \\newline\n [1] R² is computed without centering (uncentered) since the model does not contain a constant. \\newline\n [2] Standard Errors assume that the covariance matrix of the errors is correctly specified."
     },
     "execution_count": 338,
     "metadata": {},
     "output_type": "execute_result"
    }
   ],
   "execution_count": 338
  },
  {
   "metadata": {},
   "cell_type": "markdown",
   "source": "#  Results",
   "id": "6492122930937014"
  },
  {
   "metadata": {
    "ExecuteTime": {
     "end_time": "2025-03-09T17:02:06.768983Z",
     "start_time": "2025-03-09T17:02:06.758745Z"
    }
   },
   "cell_type": "code",
   "source": [
    "for i,j in Results.items():\n",
    "    print(f'{i}: MSE: {j[0]} R2: {j[1]}')"
   ],
   "id": "b9e463b6d04a58cb",
   "outputs": [
    {
     "name": "stdout",
     "output_type": "stream",
     "text": [
      "All Variables: MSE: 4213.587770470056 R2: 0.9995413937681955\n",
      "Backward Elimination: MSE: 4177.848329952681 R2: 0.9995452836432936\n",
      "Forward Selection: MSE: 4213.587770469663 R2: 0.9995413937681955\n",
      "Bidirectional Elimination: MSE: 77911807.57864165 R2: -7.4799089120990665\n"
     ]
    }
   ],
   "execution_count": 339
  },
  {
   "metadata": {},
   "cell_type": "markdown",
   "source": [
    "## Key Findings:\n",
    "- The models using all variables, backward elimination, and forward selection perform exceptionally well, with R² values close to 1, indicating that the models explain almost all the variance in the target variable.\n",
    "\n",
    "- The bidirectional elimination approach did not perform well, suggesting that this method may not be appropriate for this dataset or that the implementation needs further refinement."
   ],
   "id": "ec016cf3747ed2e7"
  },
  {
   "metadata": {},
   "cell_type": "code",
   "outputs": [],
   "execution_count": null,
   "source": "",
   "id": "aa64703e7fcd0470"
  }
 ],
 "metadata": {
  "kernelspec": {
   "display_name": "Python 3",
   "language": "python",
   "name": "python3"
  },
  "language_info": {
   "codemirror_mode": {
    "name": "ipython",
    "version": 2
   },
   "file_extension": ".py",
   "mimetype": "text/x-python",
   "name": "python",
   "nbconvert_exporter": "python",
   "pygments_lexer": "ipython2",
   "version": "2.7.6"
  }
 },
 "nbformat": 4,
 "nbformat_minor": 5
}
