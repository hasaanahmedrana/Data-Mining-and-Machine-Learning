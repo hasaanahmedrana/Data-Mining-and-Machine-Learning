{
 "cells": [
  {
   "cell_type": "code",
   "id": "ce46d065",
   "metadata": {
    "_cell_guid": "b1076dfc-b9ad-4769-8c92-a6c4dae69d19",
    "_uuid": "8f2839f25d086af736a60e9eeb907d3b93b6e0e5",
    "execution": {
     "iopub.execute_input": "2025-02-24T17:37:01.483509Z",
     "iopub.status.busy": "2025-02-24T17:37:01.483087Z",
     "iopub.status.idle": "2025-02-24T17:37:06.078957Z",
     "shell.execute_reply": "2025-02-24T17:37:06.077789Z"
    },
    "papermill": {
     "duration": 4.605313,
     "end_time": "2025-02-24T17:37:06.080645",
     "exception": false,
     "start_time": "2025-02-24T17:37:01.475332",
     "status": "completed"
    },
    "tags": [],
    "ExecuteTime": {
     "end_time": "2025-03-08T21:59:27.697106Z",
     "start_time": "2025-03-08T21:59:16.304324Z"
    }
   },
   "source": [
    "\n",
    "import statsmodels.api as sm\n",
    "from sklearn.preprocessing import OneHotEncoder, LabelEncoder, MinMaxScaler, StandardScaler\n",
    "from sklearn.model_selection import train_test_split\n",
    "from sklearn.linear_model import LinearRegression\n",
    "\n",
    "import warnings\n",
    "warnings.simplefilter(action='ignore', category=FutureWarning)\n",
    "\n",
    "# Input data files are available in the read-only \"../input/\" directory\n",
    "# For example, running this (by clicking run or pressing Shift+Enter) will list all files under the input directory\n",
    "\n",
    "import os\n",
    "for dirname, _, filenames in os.walk('/kaggle/input'):\n",
    "    for filename in filenames:\n",
    "        print(os.path.join(dirname, filename))\n",
    "\n",
    "# You can write up to 20GB to the current directory (/kaggle/working/) that gets preserved as output when you create a version using \"Save & Run All\" \n",
    "# You can also write temporary files to /kaggle/temp/, but they won't be saved outside of the current session"
   ],
   "outputs": [],
   "execution_count": 15
  },
  {
   "cell_type": "markdown",
   "id": "50d3bab4",
   "metadata": {
    "papermill": {
     "duration": 0.005505,
     "end_time": "2025-02-24T17:37:06.092402",
     "exception": false,
     "start_time": "2025-02-24T17:37:06.086897",
     "status": "completed"
    },
    "tags": []
   },
   "source": [
    "# Dataset Overview"
   ]
  },
  {
   "cell_type": "markdown",
   "id": "3b769d0e",
   "metadata": {
    "papermill": {
     "duration": 0.005396,
     "end_time": "2025-02-24T17:37:06.103563",
     "exception": false,
     "start_time": "2025-02-24T17:37:06.098167",
     "status": "completed"
    },
    "tags": []
   },
   "source": [
    "## Header"
   ]
  },
  {
   "cell_type": "code",
   "id": "d9437bab",
   "metadata": {
    "execution": {
     "iopub.execute_input": "2025-02-24T17:37:06.117564Z",
     "iopub.status.busy": "2025-02-24T17:37:06.116937Z",
     "iopub.status.idle": "2025-02-24T17:37:06.178306Z",
     "shell.execute_reply": "2025-02-24T17:37:06.177231Z"
    },
    "papermill": {
     "duration": 0.070716,
     "end_time": "2025-02-24T17:37:06.180241",
     "exception": false,
     "start_time": "2025-02-24T17:37:06.109525",
     "status": "completed"
    },
    "tags": [],
    "ExecuteTime": {
     "end_time": "2025-03-08T21:59:27.773060Z",
     "start_time": "2025-03-08T21:59:27.697106Z"
    }
   },
   "source": [
    "df = pd.read_csv(\"car_price_dataset.csv\")\n",
    "df.head()"
   ],
   "outputs": [
    {
     "data": {
      "text/plain": [
       "        Brand   Model  Year  Engine_Size Fuel_Type    Transmission  Mileage  \\\n",
       "0         Kia     Rio  2020          4.2    Diesel          Manual   289944   \n",
       "1   Chevrolet  Malibu  2012          2.0    Hybrid       Automatic     5356   \n",
       "2    Mercedes     GLA  2020          4.2    Diesel       Automatic   231440   \n",
       "3        Audi      Q5  2023          2.0  Electric          Manual   160971   \n",
       "4  Volkswagen    Golf  2003          2.6    Hybrid  Semi-Automatic   286618   \n",
       "\n",
       "   Doors  Owner_Count  Price  \n",
       "0      3            5   8501  \n",
       "1      2            3  12092  \n",
       "2      4            2  11171  \n",
       "3      2            1  11780  \n",
       "4      3            3   2867  "
      ],
      "text/html": [
       "<div>\n",
       "<style scoped>\n",
       "    .dataframe tbody tr th:only-of-type {\n",
       "        vertical-align: middle;\n",
       "    }\n",
       "\n",
       "    .dataframe tbody tr th {\n",
       "        vertical-align: top;\n",
       "    }\n",
       "\n",
       "    .dataframe thead th {\n",
       "        text-align: right;\n",
       "    }\n",
       "</style>\n",
       "<table border=\"1\" class=\"dataframe\">\n",
       "  <thead>\n",
       "    <tr style=\"text-align: right;\">\n",
       "      <th></th>\n",
       "      <th>Brand</th>\n",
       "      <th>Model</th>\n",
       "      <th>Year</th>\n",
       "      <th>Engine_Size</th>\n",
       "      <th>Fuel_Type</th>\n",
       "      <th>Transmission</th>\n",
       "      <th>Mileage</th>\n",
       "      <th>Doors</th>\n",
       "      <th>Owner_Count</th>\n",
       "      <th>Price</th>\n",
       "    </tr>\n",
       "  </thead>\n",
       "  <tbody>\n",
       "    <tr>\n",
       "      <th>0</th>\n",
       "      <td>Kia</td>\n",
       "      <td>Rio</td>\n",
       "      <td>2020</td>\n",
       "      <td>4.2</td>\n",
       "      <td>Diesel</td>\n",
       "      <td>Manual</td>\n",
       "      <td>289944</td>\n",
       "      <td>3</td>\n",
       "      <td>5</td>\n",
       "      <td>8501</td>\n",
       "    </tr>\n",
       "    <tr>\n",
       "      <th>1</th>\n",
       "      <td>Chevrolet</td>\n",
       "      <td>Malibu</td>\n",
       "      <td>2012</td>\n",
       "      <td>2.0</td>\n",
       "      <td>Hybrid</td>\n",
       "      <td>Automatic</td>\n",
       "      <td>5356</td>\n",
       "      <td>2</td>\n",
       "      <td>3</td>\n",
       "      <td>12092</td>\n",
       "    </tr>\n",
       "    <tr>\n",
       "      <th>2</th>\n",
       "      <td>Mercedes</td>\n",
       "      <td>GLA</td>\n",
       "      <td>2020</td>\n",
       "      <td>4.2</td>\n",
       "      <td>Diesel</td>\n",
       "      <td>Automatic</td>\n",
       "      <td>231440</td>\n",
       "      <td>4</td>\n",
       "      <td>2</td>\n",
       "      <td>11171</td>\n",
       "    </tr>\n",
       "    <tr>\n",
       "      <th>3</th>\n",
       "      <td>Audi</td>\n",
       "      <td>Q5</td>\n",
       "      <td>2023</td>\n",
       "      <td>2.0</td>\n",
       "      <td>Electric</td>\n",
       "      <td>Manual</td>\n",
       "      <td>160971</td>\n",
       "      <td>2</td>\n",
       "      <td>1</td>\n",
       "      <td>11780</td>\n",
       "    </tr>\n",
       "    <tr>\n",
       "      <th>4</th>\n",
       "      <td>Volkswagen</td>\n",
       "      <td>Golf</td>\n",
       "      <td>2003</td>\n",
       "      <td>2.6</td>\n",
       "      <td>Hybrid</td>\n",
       "      <td>Semi-Automatic</td>\n",
       "      <td>286618</td>\n",
       "      <td>3</td>\n",
       "      <td>3</td>\n",
       "      <td>2867</td>\n",
       "    </tr>\n",
       "  </tbody>\n",
       "</table>\n",
       "</div>"
      ]
     },
     "execution_count": 16,
     "metadata": {},
     "output_type": "execute_result"
    }
   ],
   "execution_count": 16
  },
  {
   "cell_type": "code",
   "id": "35d02d11",
   "metadata": {
    "execution": {
     "iopub.execute_input": "2025-02-24T17:37:06.194533Z",
     "iopub.status.busy": "2025-02-24T17:37:06.194134Z",
     "iopub.status.idle": "2025-02-24T17:37:06.200246Z",
     "shell.execute_reply": "2025-02-24T17:37:06.199038Z"
    },
    "papermill": {
     "duration": 0.014788,
     "end_time": "2025-02-24T17:37:06.201932",
     "exception": false,
     "start_time": "2025-02-24T17:37:06.187144",
     "status": "completed"
    },
    "tags": [],
    "ExecuteTime": {
     "end_time": "2025-03-08T21:59:27.791901Z",
     "start_time": "2025-03-08T21:59:27.773060Z"
    }
   },
   "source": [
    "df.shape"
   ],
   "outputs": [
    {
     "data": {
      "text/plain": [
       "(10000, 10)"
      ]
     },
     "execution_count": 17,
     "metadata": {},
     "output_type": "execute_result"
    }
   ],
   "execution_count": 17
  },
  {
   "cell_type": "markdown",
   "id": "a1be8b1e",
   "metadata": {
    "papermill": {
     "duration": 0.00579,
     "end_time": "2025-02-24T17:37:06.214080",
     "exception": false,
     "start_time": "2025-02-24T17:37:06.208290",
     "status": "completed"
    },
    "tags": []
   },
   "source": [
    "## Columns with Datatypes"
   ]
  },
  {
   "cell_type": "code",
   "id": "67809a53",
   "metadata": {
    "execution": {
     "iopub.execute_input": "2025-02-24T17:37:06.227772Z",
     "iopub.status.busy": "2025-02-24T17:37:06.227388Z",
     "iopub.status.idle": "2025-02-24T17:37:06.244335Z",
     "shell.execute_reply": "2025-02-24T17:37:06.243274Z"
    },
    "papermill": {
     "duration": 0.025814,
     "end_time": "2025-02-24T17:37:06.246078",
     "exception": false,
     "start_time": "2025-02-24T17:37:06.220264",
     "status": "completed"
    },
    "tags": [],
    "ExecuteTime": {
     "end_time": "2025-03-08T21:59:27.839209Z",
     "start_time": "2025-03-08T21:59:27.791901Z"
    }
   },
   "source": [
    "df_summary = pd.DataFrame({\n",
    "    \"Column Name\": df.columns,\n",
    "    \"Non-Null Count\": df.count().values,  # Count of non-null values\n",
    "    \"Data Type\": df.dtypes.values\n",
    "})\n",
    "\n",
    "df_summary"
   ],
   "outputs": [
    {
     "data": {
      "text/plain": [
       "    Column Name  Non-Null Count Data Type\n",
       "0         Brand           10000    object\n",
       "1         Model           10000    object\n",
       "2          Year           10000     int64\n",
       "3   Engine_Size           10000   float64\n",
       "4     Fuel_Type           10000    object\n",
       "5  Transmission           10000    object\n",
       "6       Mileage           10000     int64\n",
       "7         Doors           10000     int64\n",
       "8   Owner_Count           10000     int64\n",
       "9         Price           10000     int64"
      ],
      "text/html": [
       "<div>\n",
       "<style scoped>\n",
       "    .dataframe tbody tr th:only-of-type {\n",
       "        vertical-align: middle;\n",
       "    }\n",
       "\n",
       "    .dataframe tbody tr th {\n",
       "        vertical-align: top;\n",
       "    }\n",
       "\n",
       "    .dataframe thead th {\n",
       "        text-align: right;\n",
       "    }\n",
       "</style>\n",
       "<table border=\"1\" class=\"dataframe\">\n",
       "  <thead>\n",
       "    <tr style=\"text-align: right;\">\n",
       "      <th></th>\n",
       "      <th>Column Name</th>\n",
       "      <th>Non-Null Count</th>\n",
       "      <th>Data Type</th>\n",
       "    </tr>\n",
       "  </thead>\n",
       "  <tbody>\n",
       "    <tr>\n",
       "      <th>0</th>\n",
       "      <td>Brand</td>\n",
       "      <td>10000</td>\n",
       "      <td>object</td>\n",
       "    </tr>\n",
       "    <tr>\n",
       "      <th>1</th>\n",
       "      <td>Model</td>\n",
       "      <td>10000</td>\n",
       "      <td>object</td>\n",
       "    </tr>\n",
       "    <tr>\n",
       "      <th>2</th>\n",
       "      <td>Year</td>\n",
       "      <td>10000</td>\n",
       "      <td>int64</td>\n",
       "    </tr>\n",
       "    <tr>\n",
       "      <th>3</th>\n",
       "      <td>Engine_Size</td>\n",
       "      <td>10000</td>\n",
       "      <td>float64</td>\n",
       "    </tr>\n",
       "    <tr>\n",
       "      <th>4</th>\n",
       "      <td>Fuel_Type</td>\n",
       "      <td>10000</td>\n",
       "      <td>object</td>\n",
       "    </tr>\n",
       "    <tr>\n",
       "      <th>5</th>\n",
       "      <td>Transmission</td>\n",
       "      <td>10000</td>\n",
       "      <td>object</td>\n",
       "    </tr>\n",
       "    <tr>\n",
       "      <th>6</th>\n",
       "      <td>Mileage</td>\n",
       "      <td>10000</td>\n",
       "      <td>int64</td>\n",
       "    </tr>\n",
       "    <tr>\n",
       "      <th>7</th>\n",
       "      <td>Doors</td>\n",
       "      <td>10000</td>\n",
       "      <td>int64</td>\n",
       "    </tr>\n",
       "    <tr>\n",
       "      <th>8</th>\n",
       "      <td>Owner_Count</td>\n",
       "      <td>10000</td>\n",
       "      <td>int64</td>\n",
       "    </tr>\n",
       "    <tr>\n",
       "      <th>9</th>\n",
       "      <td>Price</td>\n",
       "      <td>10000</td>\n",
       "      <td>int64</td>\n",
       "    </tr>\n",
       "  </tbody>\n",
       "</table>\n",
       "</div>"
      ]
     },
     "execution_count": 18,
     "metadata": {},
     "output_type": "execute_result"
    }
   ],
   "execution_count": 18
  },
  {
   "cell_type": "markdown",
   "id": "da0efd35",
   "metadata": {
    "papermill": {
     "duration": 0.006134,
     "end_time": "2025-02-24T17:37:06.258709",
     "exception": false,
     "start_time": "2025-02-24T17:37:06.252575",
     "status": "completed"
    },
    "tags": []
   },
   "source": [
    "## Missing Values in each column"
   ]
  },
  {
   "cell_type": "code",
   "id": "1eb56fb1",
   "metadata": {
    "execution": {
     "iopub.execute_input": "2025-02-24T17:37:06.272712Z",
     "iopub.status.busy": "2025-02-24T17:37:06.272321Z",
     "iopub.status.idle": "2025-02-24T17:37:06.284528Z",
     "shell.execute_reply": "2025-02-24T17:37:06.283524Z"
    },
    "papermill": {
     "duration": 0.021377,
     "end_time": "2025-02-24T17:37:06.286408",
     "exception": false,
     "start_time": "2025-02-24T17:37:06.265031",
     "status": "completed"
    },
    "tags": [],
    "ExecuteTime": {
     "end_time": "2025-03-08T21:59:27.876475Z",
     "start_time": "2025-03-08T21:59:27.839209Z"
    }
   },
   "source": [
    "empty = pd.DataFrame(df.isna().sum())\n",
    "empty.rename(columns={0:\"Count of Empty Values\"})"
   ],
   "outputs": [
    {
     "data": {
      "text/plain": [
       "              Count of Empty Values\n",
       "Brand                             0\n",
       "Model                             0\n",
       "Year                              0\n",
       "Engine_Size                       0\n",
       "Fuel_Type                         0\n",
       "Transmission                      0\n",
       "Mileage                           0\n",
       "Doors                             0\n",
       "Owner_Count                       0\n",
       "Price                             0"
      ],
      "text/html": [
       "<div>\n",
       "<style scoped>\n",
       "    .dataframe tbody tr th:only-of-type {\n",
       "        vertical-align: middle;\n",
       "    }\n",
       "\n",
       "    .dataframe tbody tr th {\n",
       "        vertical-align: top;\n",
       "    }\n",
       "\n",
       "    .dataframe thead th {\n",
       "        text-align: right;\n",
       "    }\n",
       "</style>\n",
       "<table border=\"1\" class=\"dataframe\">\n",
       "  <thead>\n",
       "    <tr style=\"text-align: right;\">\n",
       "      <th></th>\n",
       "      <th>Count of Empty Values</th>\n",
       "    </tr>\n",
       "  </thead>\n",
       "  <tbody>\n",
       "    <tr>\n",
       "      <th>Brand</th>\n",
       "      <td>0</td>\n",
       "    </tr>\n",
       "    <tr>\n",
       "      <th>Model</th>\n",
       "      <td>0</td>\n",
       "    </tr>\n",
       "    <tr>\n",
       "      <th>Year</th>\n",
       "      <td>0</td>\n",
       "    </tr>\n",
       "    <tr>\n",
       "      <th>Engine_Size</th>\n",
       "      <td>0</td>\n",
       "    </tr>\n",
       "    <tr>\n",
       "      <th>Fuel_Type</th>\n",
       "      <td>0</td>\n",
       "    </tr>\n",
       "    <tr>\n",
       "      <th>Transmission</th>\n",
       "      <td>0</td>\n",
       "    </tr>\n",
       "    <tr>\n",
       "      <th>Mileage</th>\n",
       "      <td>0</td>\n",
       "    </tr>\n",
       "    <tr>\n",
       "      <th>Doors</th>\n",
       "      <td>0</td>\n",
       "    </tr>\n",
       "    <tr>\n",
       "      <th>Owner_Count</th>\n",
       "      <td>0</td>\n",
       "    </tr>\n",
       "    <tr>\n",
       "      <th>Price</th>\n",
       "      <td>0</td>\n",
       "    </tr>\n",
       "  </tbody>\n",
       "</table>\n",
       "</div>"
      ]
     },
     "execution_count": 19,
     "metadata": {},
     "output_type": "execute_result"
    }
   ],
   "execution_count": 19
  },
  {
   "cell_type": "markdown",
   "id": "ecb76592",
   "metadata": {
    "papermill": {
     "duration": 0.006402,
     "end_time": "2025-02-24T17:37:06.299392",
     "exception": false,
     "start_time": "2025-02-24T17:37:06.292990",
     "status": "completed"
    },
    "tags": []
   },
   "source": [
    "# Pre-Processing"
   ]
  },
  {
   "cell_type": "markdown",
   "id": "825e8a24",
   "metadata": {
    "papermill": {
     "duration": 0.006209,
     "end_time": "2025-02-24T17:37:06.312601",
     "exception": false,
     "start_time": "2025-02-24T17:37:06.306392",
     "status": "completed"
    },
    "tags": []
   },
   "source": [
    "## Replacing Missing values\n",
    "There are no missing values in the dataset."
   ]
  },
  {
   "cell_type": "markdown",
   "id": "9ff83d36",
   "metadata": {
    "papermill": {
     "duration": 0.006274,
     "end_time": "2025-02-24T17:37:06.325547",
     "exception": false,
     "start_time": "2025-02-24T17:37:06.319273",
     "status": "completed"
    },
    "tags": []
   },
   "source": [
    "## One-hot encoding transformation of categorical columns"
   ]
  },
  {
   "cell_type": "code",
   "id": "f5f777f2",
   "metadata": {
    "execution": {
     "iopub.execute_input": "2025-02-24T17:37:06.339952Z",
     "iopub.status.busy": "2025-02-24T17:37:06.339601Z",
     "iopub.status.idle": "2025-02-24T17:37:06.454543Z",
     "shell.execute_reply": "2025-02-24T17:37:06.453392Z"
    },
    "papermill": {
     "duration": 0.124097,
     "end_time": "2025-02-24T17:37:06.456230",
     "exception": false,
     "start_time": "2025-02-24T17:37:06.332133",
     "status": "completed"
    },
    "tags": [],
    "ExecuteTime": {
     "end_time": "2025-03-08T21:59:28.705646Z",
     "start_time": "2025-03-08T21:59:27.876475Z"
    }
   },
   "source": [
    "\n",
    "\n",
    "# Select categorical columns\n",
    "categorical_cols = df.select_dtypes(include=['object']).columns\n",
    "\n",
    "# Separate binary and multi-class categorical columns\n",
    "binary_cols = [col for col in categorical_cols if df[col].nunique() == 2]\n",
    "multi_class_cols = [col for col in categorical_cols if df[col].nunique() > 2]\n",
    "\n",
    "# Apply Label Encoding to binary columns (convert to 0 and 1)\n",
    "for col in binary_cols:\n",
    "    le = LabelEncoder()\n",
    "    df[col] = le.fit_transform(df[col])\n",
    "\n",
    "# Reduce number of categories for high-cardinality features\n",
    "top_n = 20  # Keep only top 20 categories\n",
    "for col in multi_class_cols:\n",
    "    top_categories = df[col].value_counts().nlargest(top_n).index\n",
    "    df[col] = df[col].apply(lambda x: x if x in top_categories else \"Other\")\n",
    "\n",
    "# Apply One-Hot Encoding with sparse output\n",
    "encoder = OneHotEncoder(drop='first', sparse=True, handle_unknown='ignore')  \n",
    "encoded_array = encoder.fit_transform(df[multi_class_cols])\n",
    "\n",
    "# Convert sparse matrix to DataFrame\n",
    "encoded_df = pd.DataFrame(encoded_array.toarray(), columns=encoder.get_feature_names_out(multi_class_cols))\n",
    "\n",
    "# Merge encoded data with original dataframe (drop original multi-class categorical columns)\n",
    "df_final = df.drop(columns=multi_class_cols).reset_index(drop=True).join(encoded_df)\n",
    "\n",
    "df_final.head()\n"
   ],
   "outputs": [
    {
     "ename": "TypeError",
     "evalue": "OneHotEncoder.__init__() got an unexpected keyword argument 'sparse'",
     "output_type": "error",
     "traceback": [
      "\u001B[1;31m---------------------------------------------------------------------------\u001B[0m",
      "\u001B[1;31mTypeError\u001B[0m                                 Traceback (most recent call last)",
      "Cell \u001B[1;32mIn[20], line 20\u001B[0m\n\u001B[0;32m     17\u001B[0m     df[col] \u001B[38;5;241m=\u001B[39m df[col]\u001B[38;5;241m.\u001B[39mapply(\u001B[38;5;28;01mlambda\u001B[39;00m x: x \u001B[38;5;28;01mif\u001B[39;00m x \u001B[38;5;129;01min\u001B[39;00m top_categories \u001B[38;5;28;01melse\u001B[39;00m \u001B[38;5;124m\"\u001B[39m\u001B[38;5;124mOther\u001B[39m\u001B[38;5;124m\"\u001B[39m)\n\u001B[0;32m     19\u001B[0m \u001B[38;5;66;03m# Apply One-Hot Encoding with sparse output\u001B[39;00m\n\u001B[1;32m---> 20\u001B[0m encoder \u001B[38;5;241m=\u001B[39m \u001B[43mOneHotEncoder\u001B[49m\u001B[43m(\u001B[49m\u001B[43mdrop\u001B[49m\u001B[38;5;241;43m=\u001B[39;49m\u001B[38;5;124;43m'\u001B[39;49m\u001B[38;5;124;43mfirst\u001B[39;49m\u001B[38;5;124;43m'\u001B[39;49m\u001B[43m,\u001B[49m\u001B[43m \u001B[49m\u001B[43msparse\u001B[49m\u001B[38;5;241;43m=\u001B[39;49m\u001B[38;5;28;43;01mTrue\u001B[39;49;00m\u001B[43m,\u001B[49m\u001B[43m \u001B[49m\u001B[43mhandle_unknown\u001B[49m\u001B[38;5;241;43m=\u001B[39;49m\u001B[38;5;124;43m'\u001B[39;49m\u001B[38;5;124;43mignore\u001B[39;49m\u001B[38;5;124;43m'\u001B[39;49m\u001B[43m)\u001B[49m  \n\u001B[0;32m     21\u001B[0m encoded_array \u001B[38;5;241m=\u001B[39m encoder\u001B[38;5;241m.\u001B[39mfit_transform(df[multi_class_cols])\n\u001B[0;32m     23\u001B[0m \u001B[38;5;66;03m# Convert sparse matrix to DataFrame\u001B[39;00m\n",
      "\u001B[1;31mTypeError\u001B[0m: OneHotEncoder.__init__() got an unexpected keyword argument 'sparse'"
     ]
    }
   ],
   "execution_count": 20
  },
  {
   "cell_type": "markdown",
   "id": "beba6277",
   "metadata": {
    "papermill": {
     "duration": 0.006409,
     "end_time": "2025-02-24T17:37:06.469777",
     "exception": false,
     "start_time": "2025-02-24T17:37:06.463368",
     "status": "completed"
    },
    "tags": []
   },
   "source": [
    "## Applying Scaling"
   ]
  },
  {
   "cell_type": "code",
   "id": "befd0942",
   "metadata": {
    "execution": {
     "iopub.execute_input": "2025-02-24T17:37:06.484669Z",
     "iopub.status.busy": "2025-02-24T17:37:06.484308Z",
     "iopub.status.idle": "2025-02-24T17:37:06.543294Z",
     "shell.execute_reply": "2025-02-24T17:37:06.542258Z"
    },
    "papermill": {
     "duration": 0.068389,
     "end_time": "2025-02-24T17:37:06.544924",
     "exception": false,
     "start_time": "2025-02-24T17:37:06.476535",
     "status": "completed"
    },
    "tags": []
   },
   "source": [
    "# Choose the scaler\n",
    "scaler = StandardScaler()  \n",
    "\n",
    "# Fit and transform the dataset\n",
    "df_scaled = pd.DataFrame(scaler.fit_transform(df_final), columns=df_final.columns)\n",
    "\n",
    "df_scaled.head()\n"
   ],
   "outputs": [],
   "execution_count": null
  },
  {
   "cell_type": "markdown",
   "id": "963026ac",
   "metadata": {
    "papermill": {
     "duration": 0.006644,
     "end_time": "2025-02-24T17:37:06.558592",
     "exception": false,
     "start_time": "2025-02-24T17:37:06.551948",
     "status": "completed"
    },
    "tags": []
   },
   "source": [
    "# Applying Multiple Regression"
   ]
  },
  {
   "cell_type": "markdown",
   "id": "7756f4bd",
   "metadata": {
    "papermill": {
     "duration": 0.00678,
     "end_time": "2025-02-24T17:37:06.573539",
     "exception": false,
     "start_time": "2025-02-24T17:37:06.566759",
     "status": "completed"
    },
    "tags": []
   },
   "source": [
    "## Split Data into Train & Test Sets"
   ]
  },
  {
   "cell_type": "code",
   "id": "e28324be",
   "metadata": {
    "execution": {
     "iopub.execute_input": "2025-02-24T17:37:06.588791Z",
     "iopub.status.busy": "2025-02-24T17:37:06.588422Z",
     "iopub.status.idle": "2025-02-24T17:37:06.600374Z",
     "shell.execute_reply": "2025-02-24T17:37:06.599233Z"
    },
    "papermill": {
     "duration": 0.021695,
     "end_time": "2025-02-24T17:37:06.602238",
     "exception": false,
     "start_time": "2025-02-24T17:37:06.580543",
     "status": "completed"
    },
    "tags": []
   },
   "source": [
    "X = df_scaled.drop(columns=['Price'])  # Replace 'target' with your actual target variable\n",
    "y = df_scaled['Price']\n",
    "\n",
    "X_train, X_test, y_train, y_test = train_test_split(X, y, test_size=0.2, random_state=42)"
   ],
   "outputs": [],
   "execution_count": null
  },
  {
   "cell_type": "markdown",
   "id": "899926ad",
   "metadata": {
    "papermill": {
     "duration": 0.006685,
     "end_time": "2025-02-24T17:37:06.616216",
     "exception": false,
     "start_time": "2025-02-24T17:37:06.609531",
     "status": "completed"
    },
    "tags": []
   },
   "source": [
    "## Function to evaluate model"
   ]
  },
  {
   "cell_type": "code",
   "id": "7bdcca26",
   "metadata": {
    "execution": {
     "iopub.execute_input": "2025-02-24T17:37:06.632117Z",
     "iopub.status.busy": "2025-02-24T17:37:06.631737Z",
     "iopub.status.idle": "2025-02-24T17:37:06.636389Z",
     "shell.execute_reply": "2025-02-24T17:37:06.635348Z"
    },
    "papermill": {
     "duration": 0.014495,
     "end_time": "2025-02-24T17:37:06.638345",
     "exception": false,
     "start_time": "2025-02-24T17:37:06.623850",
     "status": "completed"
    },
    "tags": []
   },
   "source": [
    "def evaluate_model(model, X, y, method_name):\n",
    "    y_pred = model.predict(X)\n",
    "    mse = mean_squared_error(y, y_pred)\n",
    "    print(f\"{method_name} - Mean Squared Error: {mse}\")\n",
    "    return mse"
   ],
   "outputs": [],
   "execution_count": null
  },
  {
   "cell_type": "markdown",
   "id": "26cb9358",
   "metadata": {
    "papermill": {
     "duration": 0.008275,
     "end_time": "2025-02-24T17:37:06.654103",
     "exception": false,
     "start_time": "2025-02-24T17:37:06.645828",
     "status": "completed"
    },
    "tags": []
   },
   "source": [
    "## 📌 No Elimination (Keep All Variables)"
   ]
  },
  {
   "cell_type": "code",
   "id": "8a740e8b",
   "metadata": {
    "execution": {
     "iopub.execute_input": "2025-02-24T17:37:06.669413Z",
     "iopub.status.busy": "2025-02-24T17:37:06.669021Z",
     "iopub.status.idle": "2025-02-24T17:37:06.751390Z",
     "shell.execute_reply": "2025-02-24T17:37:06.750221Z"
    },
    "papermill": {
     "duration": 0.092211,
     "end_time": "2025-02-24T17:37:06.753323",
     "exception": false,
     "start_time": "2025-02-24T17:37:06.661112",
     "status": "completed"
    },
    "tags": []
   },
   "source": [
    "model_all = LinearRegression()\n",
    "model_all.fit(X_train, y_train)\n",
    "evaluate_model(model_all, X_test, y_test, \"All Variables\")\n",
    "all_features = X.columns.tolist()\n"
   ],
   "outputs": [],
   "execution_count": null
  },
  {
   "cell_type": "markdown",
   "id": "0581edb1",
   "metadata": {
    "papermill": {
     "duration": 0.006973,
     "end_time": "2025-02-24T17:37:06.767678",
     "exception": false,
     "start_time": "2025-02-24T17:37:06.760705",
     "status": "completed"
    },
    "tags": []
   },
   "source": [
    "## 📌 Backward Elimination"
   ]
  },
  {
   "cell_type": "code",
   "id": "2b89930a",
   "metadata": {
    "execution": {
     "iopub.execute_input": "2025-02-24T17:37:06.783501Z",
     "iopub.status.busy": "2025-02-24T17:37:06.783097Z",
     "iopub.status.idle": "2025-02-24T17:37:07.246002Z",
     "shell.execute_reply": "2025-02-24T17:37:07.244599Z"
    },
    "papermill": {
     "duration": 0.472787,
     "end_time": "2025-02-24T17:37:07.247644",
     "exception": false,
     "start_time": "2025-02-24T17:37:06.774857",
     "status": "completed"
    },
    "tags": []
   },
   "source": [
    "X_train_const = sm.add_constant(X_train)  # Add intercept term\n",
    "X_test_const = sm.add_constant(X_test)\n",
    "\n",
    "# Run OLS Regression\n",
    "X_train_const = sm.add_constant(X_train)\n",
    "X_test_const = sm.add_constant(X_test)\n",
    "model_ols = sm.OLS(y_train, X_train_const).fit()\n",
    "p_values = model_ols.pvalues.copy()  # Copy p-values to avoid modifying original data\n",
    "\n",
    "# Keep track of selected features\n",
    "selected_features = X_train.columns.tolist()\n",
    "\n",
    "while len(selected_features) > 0:  # Ensure the loop stops when no features remain\n",
    "    max_p_value = p_values.max()  # Get the highest p-value\n",
    "    if max_p_value > 0.05:  # If it is greater than 0.05, remove the feature\n",
    "        worst_feature = p_values.idxmax()  # Find the feature with max p-value\n",
    "        if worst_feature in selected_features:  # Check if it's still in the list\n",
    "            selected_features.remove(worst_feature)\n",
    "        else:\n",
    "            break  # Stop if feature is already removed (prevents the error)\n",
    "\n",
    "        # Re-run OLS without the removed feature\n",
    "        X_train_const = sm.add_constant(X_train[selected_features])\n",
    "        X_test_const = sm.add_constant(X_test[selected_features])\n",
    "        model_ols = sm.OLS(y_train, X_train_const).fit()\n",
    "        p_values = model_ols.pvalues.copy()  # Update p-values\n",
    "    else:\n",
    "        break  # Stop when all remaining p-values are below 0.05\n",
    "\n",
    "# Train final model with selected features\n",
    "model_backward = LinearRegression()\n",
    "model_backward.fit(X_train[selected_features], y_train)\n",
    "evaluate_model(model_backward, X_test[selected_features], y_test, \"Backward Elimination\")\n"
   ],
   "outputs": [],
   "execution_count": null
  },
  {
   "cell_type": "markdown",
   "id": "bd1589f6",
   "metadata": {
    "papermill": {
     "duration": 0.007055,
     "end_time": "2025-02-24T17:37:07.262050",
     "exception": false,
     "start_time": "2025-02-24T17:37:07.254995",
     "status": "completed"
    },
    "tags": []
   },
   "source": [
    "## 📌 Forward Selection"
   ]
  },
  {
   "cell_type": "code",
   "id": "64c965e3",
   "metadata": {
    "execution": {
     "iopub.execute_input": "2025-02-24T17:37:07.278290Z",
     "iopub.status.busy": "2025-02-24T17:37:07.277842Z",
     "iopub.status.idle": "2025-02-24T17:37:14.281180Z",
     "shell.execute_reply": "2025-02-24T17:37:14.280111Z"
    },
    "papermill": {
     "duration": 7.013289,
     "end_time": "2025-02-24T17:37:14.282693",
     "exception": false,
     "start_time": "2025-02-24T17:37:07.269404",
     "status": "completed"
    },
    "tags": []
   },
   "source": [
    "selected_features = []\n",
    "remaining_features = list(X_train.columns)\n",
    "\n",
    "while len(remaining_features) > 0:\n",
    "    best_feature = None\n",
    "    best_score = float('inf')\n",
    "    \n",
    "    for feature in remaining_features:\n",
    "        temp_features = selected_features + [feature]\n",
    "        model_temp = LinearRegression()\n",
    "        model_temp.fit(X_train[temp_features], y_train)\n",
    "        mse = mean_squared_error(y_test, model_temp.predict(X_test[temp_features]))\n",
    "        \n",
    "        if mse < best_score:\n",
    "            best_score = mse\n",
    "            best_feature = feature\n",
    "\n",
    "    if best_feature:\n",
    "        selected_features.append(best_feature)\n",
    "        remaining_features.remove(best_feature)\n",
    "    else:\n",
    "        break\n",
    "\n",
    "# Train final forward selection model\n",
    "model_forward = LinearRegression()\n",
    "model_forward.fit(X_train[selected_features], y_train)\n",
    "evaluate_model(model_forward, X_test[selected_features], y_test, \"Forward Selection\")\n"
   ],
   "outputs": [],
   "execution_count": null
  },
  {
   "cell_type": "markdown",
   "id": "f011f4bc",
   "metadata": {
    "papermill": {
     "duration": 0.007304,
     "end_time": "2025-02-24T17:37:14.297487",
     "exception": false,
     "start_time": "2025-02-24T17:37:14.290183",
     "status": "completed"
    },
    "tags": []
   },
   "source": [
    "## 📌 Stepwise Selection (Combination of Forward & Backward)"
   ]
  },
  {
   "cell_type": "code",
   "id": "8eb2b8d5",
   "metadata": {
    "execution": {
     "iopub.execute_input": "2025-02-24T17:37:14.313549Z",
     "iopub.status.busy": "2025-02-24T17:37:14.313215Z",
     "iopub.status.idle": "2025-02-24T17:37:16.679472Z",
     "shell.execute_reply": "2025-02-24T17:37:16.678258Z"
    },
    "papermill": {
     "duration": 2.376399,
     "end_time": "2025-02-24T17:37:16.681338",
     "exception": false,
     "start_time": "2025-02-24T17:37:14.304939",
     "status": "completed"
    },
    "tags": [],
    "ExecuteTime": {
     "end_time": "2025-03-08T21:59:28.732894Z",
     "start_time": "2025-03-08T21:59:28.732894Z"
    }
   },
   "source": [
    "X = df_scaled.drop(columns=[\"Price\"])\n",
    "y = df_scaled[\"Price\"]\n",
    "\n",
    "# Initialize\n",
    "selected_features = []  # Stores selected features (Forward Selection)\n",
    "candidate_features = list(X.columns)  # Features that can be added\n",
    "best_mse = float('inf')  # Best model MSE\n",
    "\n",
    "# Forward and Backward Selection\n",
    "while candidate_features:\n",
    "    improved = False\n",
    "    best_feature = None\n",
    "    \n",
    "    # Forward Selection: Try adding each feature\n",
    "    for feature in candidate_features:\n",
    "        temp_features = selected_features + [feature]\n",
    "        X_temp = X[temp_features]\n",
    "        model = LinearRegression().fit(X_temp, y)\n",
    "        y_pred = model.predict(X_temp)\n",
    "        mse = mean_squared_error(y, y_pred)\n",
    "        \n",
    "        if mse < best_mse:\n",
    "            best_mse = mse\n",
    "            best_feature = feature\n",
    "            improved = True\n",
    "    \n",
    "    if improved and best_feature:\n",
    "        selected_features.append(best_feature)\n",
    "        candidate_features.remove(best_feature)\n",
    "    else:\n",
    "        break  # Stop if no improvement\n",
    "\n",
    "    # Backward Elimination: Remove least significant feature\n",
    "    X_temp = X[selected_features]\n",
    "    X_temp = sm.add_constant(X_temp)\n",
    "    model = sm.OLS(y, X_temp).fit()\n",
    "    p_values = model.pvalues.iloc[1:]  # Exclude intercept\n",
    "    max_p = p_values.max()\n",
    "    \n",
    "    if max_p > 0.05:  # Threshold for significance\n",
    "        worst_feature = p_values.idxmax()\n",
    "        selected_features.remove(worst_feature)\n",
    "        candidate_features.append(worst_feature)\n",
    "    \n",
    "# Final Model with Selected Features\n",
    "X_final = sm.add_constant(X[selected_features])\n",
    "final_model = sm.OLS(y, X_final).fit()\n",
    "print(final_model.summary())\n"
   ],
   "outputs": [],
   "execution_count": null
  },
  {
   "cell_type": "code",
   "id": "2c66b48d",
   "metadata": {
    "execution": {
     "iopub.execute_input": "2025-02-24T17:37:16.697942Z",
     "iopub.status.busy": "2025-02-24T17:37:16.697560Z",
     "iopub.status.idle": "2025-02-24T17:37:16.701605Z",
     "shell.execute_reply": "2025-02-24T17:37:16.700674Z"
    },
    "papermill": {
     "duration": 0.01419,
     "end_time": "2025-02-24T17:37:16.703243",
     "exception": false,
     "start_time": "2025-02-24T17:37:16.689053",
     "status": "completed"
    },
    "tags": []
   },
   "source": [
    "## 📌 Compare the Selected Features"
   ],
   "outputs": [],
   "execution_count": null
  },
  {
   "cell_type": "code",
   "id": "d2d106fb",
   "metadata": {
    "execution": {
     "iopub.execute_input": "2025-02-24T17:37:16.719789Z",
     "iopub.status.busy": "2025-02-24T17:37:16.719422Z",
     "iopub.status.idle": "2025-02-24T17:37:16.726799Z",
     "shell.execute_reply": "2025-02-24T17:37:16.725714Z"
    },
    "papermill": {
     "duration": 0.017748,
     "end_time": "2025-02-24T17:37:16.728562",
     "exception": false,
     "start_time": "2025-02-24T17:37:16.710814",
     "status": "completed"
    },
    "tags": [],
    "ExecuteTime": {
     "end_time": "2025-03-08T21:59:28.732894Z",
     "start_time": "2025-03-08T21:59:28.732894Z"
    }
   },
   "source": [
    "print(\"\\nFeature Comparison:\")\n",
    "print()\n",
    "print(f\"All Features: {all_features}\")\n",
    "print()\n",
    "print(f\"Backward Elimination Selected: {selected_features}\")\n",
    "print()\n",
    "print(f\"Forward Selection Selected: {selected_features}\")\n",
    "print()\n",
    "print(f\"Stepwise Selection Selected: {selected_features}\")"
   ],
   "outputs": [],
   "execution_count": null
  },
  {
   "cell_type": "code",
   "id": "74c309c0",
   "metadata": {
    "papermill": {
     "duration": 0.007411,
     "end_time": "2025-02-24T17:37:16.743846",
     "exception": false,
     "start_time": "2025-02-24T17:37:16.736435",
     "status": "completed"
    },
    "tags": [],
    "ExecuteTime": {
     "end_time": "2025-03-08T21:59:28.748612Z",
     "start_time": "2025-03-08T21:59:28.732894Z"
    }
   },
   "source": [],
   "outputs": [],
   "execution_count": null
  }
 ],
 "metadata": {
  "kaggle": {
   "accelerator": "none",
   "dataSources": [
    {
     "datasetId": 6552734,
     "sourceId": 10587923,
     "sourceType": "datasetVersion"
    }
   ],
   "dockerImageVersionId": 30918,
   "isGpuEnabled": false,
   "isInternetEnabled": true,
   "language": "python",
   "sourceType": "notebook"
  },
  "kernelspec": {
   "display_name": "Python 3",
   "language": "python",
   "name": "python3"
  },
  "language_info": {
   "codemirror_mode": {
    "name": "ipython",
    "version": 3
   },
   "file_extension": ".py",
   "mimetype": "text/x-python",
   "name": "python",
   "nbconvert_exporter": "python",
   "pygments_lexer": "ipython3",
   "version": "3.10.12"
  },
  "papermill": {
   "default_parameters": {},
   "duration": 18.904674,
   "end_time": "2025-02-24T17:37:17.472208",
   "environment_variables": {},
   "exception": null,
   "input_path": "__notebook__.ipynb",
   "output_path": "__notebook__.ipynb",
   "parameters": {},
   "start_time": "2025-02-24T17:36:58.567534",
   "version": "2.6.0"
  }
 },
 "nbformat": 4,
 "nbformat_minor": 5
}
