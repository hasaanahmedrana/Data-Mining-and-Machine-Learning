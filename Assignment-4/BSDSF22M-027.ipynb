{
 "cells": [
  {
   "cell_type": "code",
   "id": "initial_id",
   "metadata": {
    "collapsed": true,
    "ExecuteTime": {
     "end_time": "2025-03-10T14:58:55.985804Z",
     "start_time": "2025-03-10T14:58:55.909879Z"
    }
   },
   "source": [
    "import pandas as pd\n",
    "import numpy as np\n",
    "from sklearn.model_selection import train_test_split\n",
    "from sklearn.preprocessing import PolynomialFeatures\n",
    "from sklearn.linear_model import LinearRegression\n",
    "import statsmodels.api as sm\n",
    "from sklearn.preprocessing import OneHotEncoder, StandardScaler\n",
    "from sklearn.metrics import mean_absolute_error, mean_squared_error, r2_score\n",
    "import warnings\n",
    "warnings.filterwarnings(\"ignore\")\n"
   ],
   "outputs": [],
   "execution_count": 94
  },
  {
   "metadata": {},
   "cell_type": "markdown",
   "source": "Link to Dataset: https://www.kaggle.com/datasets/vipullrathod/fish-market",
   "id": "450a11180f221d17"
  },
  {
   "metadata": {
    "ExecuteTime": {
     "end_time": "2025-03-10T14:58:56.447459Z",
     "start_time": "2025-03-10T14:58:55.994452Z"
    }
   },
   "cell_type": "code",
   "source": "data = pd.read_csv('Fish.csv') ",
   "id": "4049900c03b15ab",
   "outputs": [],
   "execution_count": 95
  },
  {
   "metadata": {},
   "cell_type": "markdown",
   "source": "# Analysis And Preprocessing",
   "id": "4fb8e67dbcf32efd"
  },
  {
   "metadata": {
    "ExecuteTime": {
     "end_time": "2025-03-10T14:58:56.611386Z",
     "start_time": "2025-03-10T14:58:56.454176Z"
    }
   },
   "cell_type": "code",
   "source": "data.head()",
   "id": "a05163d6ddaf5e94",
   "outputs": [
    {
     "data": {
      "text/plain": [
       "  Species  Weight  Length1  Length2  Length3   Height   Width\n",
       "0   Bream   242.0     23.2     25.4     30.0  11.5200  4.0200\n",
       "1   Bream   290.0     24.0     26.3     31.2  12.4800  4.3056\n",
       "2   Bream   340.0     23.9     26.5     31.1  12.3778  4.6961\n",
       "3   Bream   363.0     26.3     29.0     33.5  12.7300  4.4555\n",
       "4   Bream   430.0     26.5     29.0     34.0  12.4440  5.1340"
      ],
      "text/html": [
       "<div>\n",
       "<style scoped>\n",
       "    .dataframe tbody tr th:only-of-type {\n",
       "        vertical-align: middle;\n",
       "    }\n",
       "\n",
       "    .dataframe tbody tr th {\n",
       "        vertical-align: top;\n",
       "    }\n",
       "\n",
       "    .dataframe thead th {\n",
       "        text-align: right;\n",
       "    }\n",
       "</style>\n",
       "<table border=\"1\" class=\"dataframe\">\n",
       "  <thead>\n",
       "    <tr style=\"text-align: right;\">\n",
       "      <th></th>\n",
       "      <th>Species</th>\n",
       "      <th>Weight</th>\n",
       "      <th>Length1</th>\n",
       "      <th>Length2</th>\n",
       "      <th>Length3</th>\n",
       "      <th>Height</th>\n",
       "      <th>Width</th>\n",
       "    </tr>\n",
       "  </thead>\n",
       "  <tbody>\n",
       "    <tr>\n",
       "      <th>0</th>\n",
       "      <td>Bream</td>\n",
       "      <td>242.0</td>\n",
       "      <td>23.2</td>\n",
       "      <td>25.4</td>\n",
       "      <td>30.0</td>\n",
       "      <td>11.5200</td>\n",
       "      <td>4.0200</td>\n",
       "    </tr>\n",
       "    <tr>\n",
       "      <th>1</th>\n",
       "      <td>Bream</td>\n",
       "      <td>290.0</td>\n",
       "      <td>24.0</td>\n",
       "      <td>26.3</td>\n",
       "      <td>31.2</td>\n",
       "      <td>12.4800</td>\n",
       "      <td>4.3056</td>\n",
       "    </tr>\n",
       "    <tr>\n",
       "      <th>2</th>\n",
       "      <td>Bream</td>\n",
       "      <td>340.0</td>\n",
       "      <td>23.9</td>\n",
       "      <td>26.5</td>\n",
       "      <td>31.1</td>\n",
       "      <td>12.3778</td>\n",
       "      <td>4.6961</td>\n",
       "    </tr>\n",
       "    <tr>\n",
       "      <th>3</th>\n",
       "      <td>Bream</td>\n",
       "      <td>363.0</td>\n",
       "      <td>26.3</td>\n",
       "      <td>29.0</td>\n",
       "      <td>33.5</td>\n",
       "      <td>12.7300</td>\n",
       "      <td>4.4555</td>\n",
       "    </tr>\n",
       "    <tr>\n",
       "      <th>4</th>\n",
       "      <td>Bream</td>\n",
       "      <td>430.0</td>\n",
       "      <td>26.5</td>\n",
       "      <td>29.0</td>\n",
       "      <td>34.0</td>\n",
       "      <td>12.4440</td>\n",
       "      <td>5.1340</td>\n",
       "    </tr>\n",
       "  </tbody>\n",
       "</table>\n",
       "</div>"
      ]
     },
     "execution_count": 96,
     "metadata": {},
     "output_type": "execute_result"
    }
   ],
   "execution_count": 96
  },
  {
   "metadata": {
    "ExecuteTime": {
     "end_time": "2025-03-10T14:58:56.631189Z",
     "start_time": "2025-03-10T14:58:56.614581Z"
    }
   },
   "cell_type": "code",
   "source": "data.shape",
   "id": "e4bd177d97310bc6",
   "outputs": [
    {
     "data": {
      "text/plain": [
       "(159, 7)"
      ]
     },
     "execution_count": 97,
     "metadata": {},
     "output_type": "execute_result"
    }
   ],
   "execution_count": 97
  },
  {
   "metadata": {
    "ExecuteTime": {
     "end_time": "2025-03-10T14:58:56.797932Z",
     "start_time": "2025-03-10T14:58:56.634421Z"
    }
   },
   "cell_type": "code",
   "source": "data.info()",
   "id": "785d76c920e0d857",
   "outputs": [
    {
     "name": "stdout",
     "output_type": "stream",
     "text": [
      "<class 'pandas.core.frame.DataFrame'>\n",
      "RangeIndex: 159 entries, 0 to 158\n",
      "Data columns (total 7 columns):\n",
      " #   Column   Non-Null Count  Dtype  \n",
      "---  ------   --------------  -----  \n",
      " 0   Species  159 non-null    object \n",
      " 1   Weight   159 non-null    float64\n",
      " 2   Length1  159 non-null    float64\n",
      " 3   Length2  159 non-null    float64\n",
      " 4   Length3  159 non-null    float64\n",
      " 5   Height   159 non-null    float64\n",
      " 6   Width    159 non-null    float64\n",
      "dtypes: float64(6), object(1)\n",
      "memory usage: 8.8+ KB\n"
     ]
    }
   ],
   "execution_count": 98
  },
  {
   "metadata": {},
   "cell_type": "markdown",
   "source": "#### Step 1: Checking Missing Values.",
   "id": "30e1e7cea51840a8"
  },
  {
   "metadata": {
    "ExecuteTime": {
     "end_time": "2025-03-10T14:58:56.826726Z",
     "start_time": "2025-03-10T14:58:56.797932Z"
    }
   },
   "cell_type": "code",
   "source": "data.isnull().sum()",
   "id": "a3a0777fe81abf8",
   "outputs": [
    {
     "data": {
      "text/plain": [
       "Species    0\n",
       "Weight     0\n",
       "Length1    0\n",
       "Length2    0\n",
       "Length3    0\n",
       "Height     0\n",
       "Width      0\n",
       "dtype: int64"
      ]
     },
     "execution_count": 99,
     "metadata": {},
     "output_type": "execute_result"
    }
   ],
   "execution_count": 99
  },
  {
   "metadata": {},
   "cell_type": "markdown",
   "source": "#### Step 2: Handling Missing Values.",
   "id": "b2f6bcb246bc3744"
  },
  {
   "metadata": {},
   "cell_type": "markdown",
   "source": "As it contains no missing value. No need to handle it.",
   "id": "828d0567dadf2959"
  },
  {
   "metadata": {},
   "cell_type": "markdown",
   "source": "#### Step 3: Preparing for Categorical Encoding",
   "id": "9390a1ddba6da85c"
  },
  {
   "metadata": {
    "ExecuteTime": {
     "end_time": "2025-03-10T14:58:56.865194Z",
     "start_time": "2025-03-10T14:58:56.826726Z"
    }
   },
   "cell_type": "code",
   "source": [
    "numericals = data.select_dtypes(include=['int64', 'float64']).columns.tolist()\n",
    "categoricals = data.select_dtypes(include=['object']).columns.tolist()"
   ],
   "id": "59ba266287749dc2",
   "outputs": [],
   "execution_count": 100
  },
  {
   "metadata": {
    "ExecuteTime": {
     "end_time": "2025-03-10T14:58:56.894296Z",
     "start_time": "2025-03-10T14:58:56.874374Z"
    }
   },
   "cell_type": "code",
   "source": [
    "print(\"Categorical Columns:\", categoricals)\n",
    "print(\"Numerical Columns:\", numericals)"
   ],
   "id": "4294b88d5e96802e",
   "outputs": [
    {
     "name": "stdout",
     "output_type": "stream",
     "text": [
      "Categorical Columns: ['Species']\n",
      "Numerical Columns: ['Weight', 'Length1', 'Length2', 'Length3', 'Height', 'Width']\n"
     ]
    }
   ],
   "execution_count": 101
  },
  {
   "metadata": {
    "ExecuteTime": {
     "end_time": "2025-03-10T14:58:57.211498Z",
     "start_time": "2025-03-10T14:58:57.169437Z"
    }
   },
   "cell_type": "code",
   "source": "data = data[(data['Weight'] > 0) & (data['Height'] > 0)]",
   "id": "f1ca8360f364c7ab",
   "outputs": [],
   "execution_count": 102
  },
  {
   "metadata": {
    "ExecuteTime": {
     "end_time": "2025-03-10T14:58:57.955050Z",
     "start_time": "2025-03-10T14:58:57.934188Z"
    }
   },
   "cell_type": "code",
   "source": "data.shape",
   "id": "6686eb6432a7359e",
   "outputs": [
    {
     "data": {
      "text/plain": [
       "(158, 7)"
      ]
     },
     "execution_count": 103,
     "metadata": {},
     "output_type": "execute_result"
    }
   ],
   "execution_count": 103
  },
  {
   "metadata": {
    "ExecuteTime": {
     "end_time": "2025-03-10T14:59:00.301745Z",
     "start_time": "2025-03-10T14:59:00.284599Z"
    }
   },
   "cell_type": "code",
   "source": "data.columns",
   "id": "38d5b26cf73d8d89",
   "outputs": [
    {
     "data": {
      "text/plain": [
       "Index(['Species', 'Weight', 'Length1', 'Length2', 'Length3', 'Height',\n",
       "       'Width'],\n",
       "      dtype='object')"
      ]
     },
     "execution_count": 104,
     "metadata": {},
     "output_type": "execute_result"
    }
   ],
   "execution_count": 104
  },
  {
   "metadata": {},
   "cell_type": "markdown",
   "source": "#### Step 4: Handling Outliers",
   "id": "14b3863d1084346b"
  },
  {
   "metadata": {
    "ExecuteTime": {
     "end_time": "2025-03-10T14:59:01.082361Z",
     "start_time": "2025-03-10T14:59:01.064247Z"
    }
   },
   "cell_type": "code",
   "source": [
    "numerical = data.select_dtypes(include=['float64', 'int64']).columns\n",
    "def outliers(data):\n",
    "    outliers = {}\n",
    "    for column in data.columns:\n",
    "        if column in numerical:\n",
    "            Q1 = data[column].quantile(0.25)\n",
    "            Q3 = data[column].quantile(0.75)\n",
    "            IQR = Q3 - Q1\n",
    "            lower_bound = Q1 - 1.5 * IQR\n",
    "            upper_bound = Q3 + 1.5 * IQR\n",
    "            outliers[column] = data[(data[column] < lower_bound) | (data[column] > upper_bound)].index.tolist()\n",
    "\n",
    "    return outliers"
   ],
   "id": "6b087318edc7f693",
   "outputs": [],
   "execution_count": 105
  },
  {
   "metadata": {
    "ExecuteTime": {
     "end_time": "2025-03-10T14:59:01.759447Z",
     "start_time": "2025-03-10T14:59:01.694496Z"
    }
   },
   "cell_type": "code",
   "source": "outliers_dict = outliers(data)",
   "id": "c3d62b966fc52240",
   "outputs": [],
   "execution_count": 106
  },
  {
   "metadata": {
    "ExecuteTime": {
     "end_time": "2025-03-10T14:59:01.974416Z",
     "start_time": "2025-03-10T14:59:01.954613Z"
    }
   },
   "cell_type": "code",
   "source": [
    "columns_with_outliers = [column for column, indices in outliers_dict.items() if len(indices) > 0]\n",
    "\n",
    "if len(columns_with_outliers) == 0:\n",
    "    print(\"Data have no outliers.\")\n",
    "else:\n",
    "    print(f\"Outliers exists in: \",columns_with_outliers )"
   ],
   "id": "ddb00a385f9c6a5c",
   "outputs": [
    {
     "name": "stdout",
     "output_type": "stream",
     "text": [
      "Outliers exists in:  ['Weight', 'Length1', 'Length2', 'Length3']\n"
     ]
    }
   ],
   "execution_count": 107
  },
  {
   "metadata": {
    "ExecuteTime": {
     "end_time": "2025-03-10T14:59:02.324503Z",
     "start_time": "2025-03-10T14:59:02.274587Z"
    }
   },
   "cell_type": "code",
   "source": [
    "outliers_indices = outliers_dict.get('Weight', [])\n",
    "print(f\"Indices of outliers in the 'Weight' column: {', '.join(map(str, outliers_indices))}\")\n",
    "outliers_weight_values = data.loc[outliers_indices, 'Weight']\n",
    "\n",
    "if not outliers_weight_values.empty:\n",
    "    print(f\"Values of outliers in the 'Weight' column:\\n{outliers_weight_values}\")"
   ],
   "id": "e9722f5c8f522e6c",
   "outputs": [
    {
     "name": "stdout",
     "output_type": "stream",
     "text": [
      "Indices of outliers in the 'Weight' column: 142, 143, 144\n",
      "Values of outliers in the 'Weight' column:\n",
      "142    1600.0\n",
      "143    1550.0\n",
      "144    1650.0\n",
      "Name: Weight, dtype: float64\n"
     ]
    }
   ],
   "execution_count": 108
  },
  {
   "metadata": {
    "ExecuteTime": {
     "end_time": "2025-03-10T14:59:02.817645Z",
     "start_time": "2025-03-10T14:59:02.794455Z"
    }
   },
   "cell_type": "code",
   "source": [
    "for column in ['Length1', 'Length2', 'Length3']:\n",
    "    outliers_indices = outliers_dict.get(column, [])\n",
    "    print(f\"Indices of outliers in the '{column}' column: {', '.join(map(str, outliers_indices))}\")\n",
    "    outliers_length_values = data.loc[outliers_indices, column]\n",
    "    if not outliers_length_values.empty:\n",
    "        print(f\"Values of outliers in the '{column}' column:\\n{outliers_length_values}\")"
   ],
   "id": "fc0a83e2ee16e05c",
   "outputs": [
    {
     "name": "stdout",
     "output_type": "stream",
     "text": [
      "Indices of outliers in the 'Length1' column: 142, 143, 144\n",
      "Values of outliers in the 'Length1' column:\n",
      "142    56.0\n",
      "143    56.0\n",
      "144    59.0\n",
      "Name: Length1, dtype: float64\n",
      "Indices of outliers in the 'Length2' column: 142, 143, 144\n",
      "Values of outliers in the 'Length2' column:\n",
      "142    60.0\n",
      "143    60.0\n",
      "144    63.4\n",
      "Name: Length2, dtype: float64\n",
      "Indices of outliers in the 'Length3' column: 144\n",
      "Values of outliers in the 'Length3' column:\n",
      "144    68.0\n",
      "Name: Length3, dtype: float64\n"
     ]
    }
   ],
   "execution_count": 109
  },
  {
   "metadata": {
    "ExecuteTime": {
     "end_time": "2025-03-10T14:59:03.188327Z",
     "start_time": "2025-03-10T14:59:03.164146Z"
    }
   },
   "cell_type": "code",
   "source": "data = data.drop([142, 143, 144])",
   "id": "ff2db96e78829e1",
   "outputs": [],
   "execution_count": 110
  },
  {
   "metadata": {},
   "cell_type": "markdown",
   "source": "# Applying Model",
   "id": "932181ca8d3c7781"
  },
  {
   "metadata": {
    "ExecuteTime": {
     "end_time": "2025-03-10T14:59:03.935291Z",
     "start_time": "2025-03-10T14:59:03.914591Z"
    }
   },
   "cell_type": "code",
   "source": [
    "X = data[['Length1', 'Length2', 'Length3', 'Height', 'Width']]\n",
    "y = data['Weight']"
   ],
   "id": "eb8394c5d8ce98c3",
   "outputs": [],
   "execution_count": 111
  },
  {
   "metadata": {
    "ExecuteTime": {
     "end_time": "2025-03-10T14:59:04.899624Z",
     "start_time": "2025-03-10T14:59:04.764544Z"
    }
   },
   "cell_type": "code",
   "source": [
    "scaler = StandardScaler()\n",
    "X = scaler.fit_transform(X)"
   ],
   "id": "b1ad2d18678f2c57",
   "outputs": [],
   "execution_count": 112
  },
  {
   "metadata": {
    "ExecuteTime": {
     "end_time": "2025-03-10T14:59:05.434618Z",
     "start_time": "2025-03-10T14:59:05.374621Z"
    }
   },
   "cell_type": "code",
   "source": "X_train, X_test, y_train, y_test = train_test_split(X, y, test_size=0.2, random_state=42)",
   "id": "56dbeb9deaecbfeb",
   "outputs": [],
   "execution_count": 113
  },
  {
   "metadata": {
    "ExecuteTime": {
     "end_time": "2025-03-10T15:07:20.299451Z",
     "start_time": "2025-03-10T15:07:13.431187Z"
    }
   },
   "cell_type": "code",
   "source": [
    "def adjusted_r2(r2, n, p):\n",
    "    return 1 - (1 - r2) * (n - 1) / (n - p - 1)\n",
    "\n",
    "def backward_elimination(X, y, significance_level=0.05):  \n",
    "    X = sm.add_constant(X, has_constant=\"add\")  \n",
    "    features = list(X.columns)\n",
    "    \n",
    "    while len(features) > 1:  \n",
    "        model = sm.OLS(y, X[features]).fit()\n",
    "        p_values = model.pvalues.iloc[1:]  \n",
    "        max_p_value = p_values.max()\n",
    "        if max_p_value > significance_level:\n",
    "            feature_to_remove = p_values.idxmax()\n",
    "            features.remove(feature_to_remove)\n",
    "        else:\n",
    "            break\n",
    "    return X[features]\n",
    "\n",
    "def forward_selection(X, y, significance_level=0.05):\n",
    "    X = sm.add_constant(X, has_constant=\"add\")  # Ensure intercept\n",
    "    selected_features = ['const'] if 'const' in X.columns else []  # Fix intercept handling\n",
    "    remaining_features = list(X.columns)\n",
    "\n",
    "    while remaining_features:\n",
    "        best_feature = None\n",
    "        best_p_value = significance_level\n",
    "\n",
    "        for feature in remaining_features:\n",
    "            if feature not in selected_features:\n",
    "                model = sm.OLS(y, X[selected_features + [feature]]).fit()\n",
    "                p_value = model.pvalues[feature]\n",
    "                if p_value < best_p_value:\n",
    "                    best_feature = feature\n",
    "                    best_p_value = p_value\n",
    "\n",
    "        if best_feature:\n",
    "            selected_features.append(best_feature)\n",
    "            remaining_features.remove(best_feature)\n",
    "        else:\n",
    "            break\n",
    "\n",
    "    return X[selected_features]\n",
    "\n",
    "def bidirectional_selection(X, y, significance_level=0.05):\n",
    "    X = sm.add_constant(X, has_constant=\"add\")\n",
    "    selected_features = forward_selection(X, y, significance_level).columns.tolist()\n",
    "    return backward_elimination(X[selected_features], y, significance_level)\n"
   ],
   "id": "c26acfcf2839ad4b",
   "outputs": [
    {
     "data": {
      "text/plain": [
       "{'Backward Elimination': {'R²': 0.9766853119589314,\n",
       "  'Adjusted R²': 0.9562849599229963},\n",
       " 'Forward Selection': {'R²': 0.9685965555566534,\n",
       "  'Adjusted R²': 0.9623158666679841},\n",
       " 'Bidirectional Selection': {'R²': 0.9685965555566534,\n",
       "  'Adjusted R²': 0.9623158666679841},\n",
       " 'All Variables': {'R²': 0.9732097359774904,\n",
       "  'Adjusted R²': 0.9196292079324712}}"
      ]
     },
     "execution_count": 118,
     "metadata": {},
     "output_type": "execute_result"
    }
   ],
   "execution_count": 118
  },
  {
   "metadata": {
    "ExecuteTime": {
     "end_time": "2025-03-10T15:10:36.728282Z",
     "start_time": "2025-03-10T15:10:32.316779Z"
    }
   },
   "cell_type": "code",
   "source": [
    "X_train = sm.add_constant(X_train, has_constant=\"add\")  \n",
    "X_test = sm.add_constant(X_test, has_constant=\"add\")\n",
    "\n",
    "X_backward = backward_elimination(X_train, y_train)\n",
    "X_forward = forward_selection(X_train, y_train)\n",
    "X_bidirectional = bidirectional_selection(X_train, y_train)\n",
    "\n",
    "results = {}\n",
    "\n",
    "for method, X_selected in zip([\"Backward Elimination\", \"Forward Selection\", \"Bidirectional Selection\", \"All Variables\"],\n",
    "                               [X_backward, X_forward, X_bidirectional, X_train]):\n",
    "\n",
    "    # Remove intercept if present\n",
    "    if 'const' in X_selected.columns:\n",
    "        X_selected = X_selected.drop(columns=['const'])\n",
    "\n",
    "\n",
    "    poly = PolynomialFeatures(degree=2, include_bias=False)  \n",
    "    X_train_poly = poly.fit_transform(X_selected)\n",
    "    X_test_poly = poly.transform(X_test[X_selected.columns])\n",
    "\n",
    " \n",
    "    model = LinearRegression()\n",
    "    model.fit(X_train_poly, y_train)    \n",
    "    y_pred = model.predict(X_test_poly)\n",
    "\n",
    "    r2 = r2_score(y_test, y_pred)\n",
    "    adj_r2 = adjusted_r2(r2, X_test.shape[0], X_train_poly.shape[1])\n",
    "    results[method] = {\"R²\": r2, \"Adjusted R²\": adj_r2}"
   ],
   "id": "a6b761e393999e85",
   "outputs": [
    {
     "name": "stdout",
     "output_type": "stream",
     "text": [
      "                               R²  Adjusted R²\n",
      "Backward Elimination     0.976685     0.956285\n",
      "Forward Selection        0.968597     0.962316\n",
      "Bidirectional Selection  0.968597     0.962316\n",
      "All Variables            0.973210     0.919629\n"
     ]
    }
   ],
   "execution_count": 119
  },
  {
   "metadata": {
    "ExecuteTime": {
     "end_time": "2025-03-10T15:10:58.456357Z",
     "start_time": "2025-03-10T15:10:58.395068Z"
    }
   },
   "cell_type": "code",
   "source": [
    "results_df = pd.DataFrame.from_dict(results, orient=\"index\")\n",
    "print(results_df)"
   ],
   "id": "35f438a237220dcb",
   "outputs": [
    {
     "name": "stdout",
     "output_type": "stream",
     "text": [
      "                               R²  Adjusted R²\n",
      "Backward Elimination     0.976685     0.956285\n",
      "Forward Selection        0.968597     0.962316\n",
      "Bidirectional Selection  0.968597     0.962316\n",
      "All Variables            0.973210     0.919629\n"
     ]
    }
   ],
   "execution_count": 120
  },
  {
   "metadata": {},
   "cell_type": "markdown",
   "source": [
    "#### Observations:\n",
    "- Backward Elimination performed best in terms of R² but slightly lower Adjusted R².\n",
    "- Forward and Bidirectional Selection resulted in similar performance.\n",
    "- All Variables Model has a lower Adjusted R², suggesting possible overfitting."
   ],
   "id": "df7091608515aa17"
  }
 ],
 "metadata": {
  "kernelspec": {
   "display_name": "Python 3",
   "language": "python",
   "name": "python3"
  },
  "language_info": {
   "codemirror_mode": {
    "name": "ipython",
    "version": 2
   },
   "file_extension": ".py",
   "mimetype": "text/x-python",
   "name": "python",
   "nbconvert_exporter": "python",
   "pygments_lexer": "ipython2",
   "version": "2.7.6"
  }
 },
 "nbformat": 4,
 "nbformat_minor": 5
}
