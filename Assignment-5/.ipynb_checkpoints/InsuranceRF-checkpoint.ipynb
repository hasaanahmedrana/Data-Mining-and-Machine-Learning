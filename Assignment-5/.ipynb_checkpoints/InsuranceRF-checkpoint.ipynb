{
 "cells": [
  {
   "cell_type": "code",
   "id": "678c381b",
   "metadata": {
    "jupyter": {
     "is_executing": true
    }
   },
   "source": [
    "import numpy as np\n",
    "import pandas as pd\n",
    "from sklearn.model_selection import train_test_split\n",
    "from sklearn.tree import DecisionTreeRegressor\n",
    "from sklearn.ensemble import RandomForestRegressor\n",
    "from sklearn.svm import SVR\n",
    "from sklearn.preprocessing import LabelEncoder, StandardScaler, OrdinalEncoder, OneHotEncoder\n",
    "from sklearn.compose import ColumnTransformer\n",
    "from sklearn.metrics import mean_squared_error, r2_score, mean_absolute_error\n",
    "import matplotlib.pyplot as plt\n",
    "import warnings\n",
    "warnings.simplefilter(action='ignore', category=FutureWarning)"
   ],
   "outputs": [],
   "execution_count": null
  },
  {
   "cell_type": "markdown",
   "id": "d7311569d9fc18ed",
   "metadata": {},
   "source": [
    "Kaggle Dataset Link: https://www.kaggle.com/datasets/mirichoi0218/insurance/data"
   ]
  },
  {
   "metadata": {},
   "cell_type": "markdown",
   "source": "# Data Analysis and Preprocessing",
   "id": "122c33e2e6ac5b13"
  },
  {
   "cell_type": "code",
   "id": "42d09801",
   "metadata": {
    "jupyter": {
     "is_executing": true
    }
   },
   "source": [
    "data = pd.read_csv(\"insurance.csv\")"
   ],
   "outputs": [],
   "execution_count": null
  },
  {
   "cell_type": "code",
   "id": "c171a96e",
   "metadata": {
    "jupyter": {
     "is_executing": true
    }
   },
   "source": "data.shape",
   "outputs": [],
   "execution_count": null
  },
  {
   "cell_type": "code",
   "id": "ba2f219c-bc2c-45e5-b360-4413976bce11",
   "metadata": {
    "jupyter": {
     "is_executing": true
    }
   },
   "source": [
    "data.head()"
   ],
   "outputs": [],
   "execution_count": null
  },
  {
   "cell_type": "code",
   "id": "9a84d735-5758-497c-bbdb-e641751c16f7",
   "metadata": {
    "jupyter": {
     "is_executing": true
    }
   },
   "source": [
    "data.info()"
   ],
   "outputs": [],
   "execution_count": null
  },
  {
   "cell_type": "code",
   "id": "1fe439b7-caf1-4fe3-85e4-a1b3e5ebb668",
   "metadata": {
    "jupyter": {
     "is_executing": true
    }
   },
   "source": [
    "data.describe()"
   ],
   "outputs": [],
   "execution_count": null
  },
  {
   "cell_type": "code",
   "id": "e9adcb19",
   "metadata": {
    "jupyter": {
     "is_executing": true
    }
   },
   "source": [
    "print(\"Missing values in the dataset:\")\n",
    "data.isnull().sum()"
   ],
   "outputs": [],
   "execution_count": null
  },
  {
   "metadata": {},
   "cell_type": "markdown",
   "source": "### Seperating Categorical and Numerical Columns",
   "id": "ca904ec6c6f81be7"
  },
  {
   "cell_type": "code",
   "id": "084bcd70",
   "metadata": {
    "jupyter": {
     "is_executing": true
    }
   },
   "source": [
    "categoricals = data.select_dtypes(include=['object']).columns.tolist()\n",
    "numericals = data.select_dtypes(include=['int64', 'float64']).columns.to_list()\n",
    "categoricals, numericals"
   ],
   "outputs": [],
   "execution_count": null
  },
  {
   "metadata": {},
   "cell_type": "markdown",
   "source": "### Checking for Outliers",
   "id": "87d783e59f77c15a"
  },
  {
   "cell_type": "code",
   "id": "0f3b6226",
   "metadata": {
    "jupyter": {
     "is_executing": true
    }
   },
   "source": [
    "data.shape\n",
    "def remove_outliers_iqr(df, columns):\n",
    "    for col in columns:\n",
    "        Q1 = df[col].quantile(0.25)  # 25th percentile\n",
    "        Q3 = df[col].quantile(0.75)  # 75th percentile\n",
    "        IQR = Q3 - Q1\n",
    "        lower_bound = Q1 - 1.5 * IQR\n",
    "        upper_bound = Q3 + 1.5 * IQR\n",
    "        df = df[(df[col] >= lower_bound) & (df[col] <= upper_bound)]\n",
    "    return df"
   ],
   "outputs": [],
   "execution_count": null
  },
  {
   "metadata": {},
   "cell_type": "markdown",
   "source": "### Removing Outliers",
   "id": "68183d1562723a02"
  },
  {
   "cell_type": "code",
   "id": "2bc837f2",
   "metadata": {
    "jupyter": {
     "is_executing": true
    }
   },
   "source": [
    "data = remove_outliers_iqr(data, ['age', 'children','bmi'])\n",
    "data.shape"
   ],
   "outputs": [],
   "execution_count": null
  },
  {
   "cell_type": "code",
   "id": "33de49ae",
   "metadata": {
    "jupyter": {
     "is_executing": true
    }
   },
   "source": [
    "for each in categoricals:\n",
    "    print(each, len(data[each].unique().tolist()))"
   ],
   "outputs": [],
   "execution_count": null
  },
  {
   "cell_type": "code",
   "id": "dd9b4739",
   "metadata": {
    "jupyter": {
     "is_executing": true
    }
   },
   "source": [
    "threshold = 25\n",
    "data[categoricals] = data[categoricals].apply(\n",
    "    lambda each: each.where(each.isin(each.value_counts().nlargest(threshold).index), \"Other\"))"
   ],
   "outputs": [],
   "execution_count": null
  },
  {
   "cell_type": "code",
   "id": "e706153e",
   "metadata": {
    "jupyter": {
     "is_executing": true
    }
   },
   "source": [
    "data.head()"
   ],
   "outputs": [],
   "execution_count": null
  },
  {
   "metadata": {},
   "cell_type": "markdown",
   "source": "### Encoding Categorical Columns",
   "id": "e3d02051b13632b3"
  },
  {
   "cell_type": "code",
   "id": "b1070e63",
   "metadata": {
    "jupyter": {
     "is_executing": true
    }
   },
   "source": [
    "encoder = LabelEncoder()\n",
    "for each in categoricals:\n",
    "    data[each] = encoder.fit_transform(data[each])"
   ],
   "outputs": [],
   "execution_count": null
  },
  {
   "cell_type": "code",
   "id": "7aa4a126",
   "metadata": {
    "jupyter": {
     "is_executing": true
    }
   },
   "source": [
    "data.head()"
   ],
   "outputs": [],
   "execution_count": null
  },
  {
   "metadata": {},
   "cell_type": "markdown",
   "source": "### Splitting the Data",
   "id": "74ea556b1aa2bdc9"
  },
  {
   "cell_type": "code",
   "id": "a85be748",
   "metadata": {
    "jupyter": {
     "is_executing": true
    }
   },
   "source": [
    "X = data.drop(columns=['charges']) \n",
    "y = data['charges'] \n",
    "numericals.remove('charges')"
   ],
   "outputs": [],
   "execution_count": null
  },
  {
   "cell_type": "code",
   "id": "66b2282c",
   "metadata": {
    "jupyter": {
     "is_executing": true
    }
   },
   "source": [
    "X_train, X_test, y_train, y_test = train_test_split(X, y, test_size=0.2, random_state=42)"
   ],
   "outputs": [],
   "execution_count": null
  },
  {
   "metadata": {},
   "cell_type": "markdown",
   "source": "### Scaling the Numerical Columns",
   "id": "c5fb3c5402e0287a"
  },
  {
   "cell_type": "code",
   "id": "bd4c55fb",
   "metadata": {
    "jupyter": {
     "is_executing": true
    }
   },
   "source": [
    "scaler = StandardScaler()\n",
    "X_train[numericals] = scaler.fit_transform(X_train[numericals])\n",
    "X_test[numericals]  = scaler.transform(X_test[numericals])"
   ],
   "outputs": [],
   "execution_count": null
  },
  {
   "metadata": {},
   "cell_type": "markdown",
   "source": "# Model Building",
   "id": "5ba2d68f67da8525"
  },
  {
   "metadata": {},
   "cell_type": "markdown",
   "source": "### Decision Tree Regressor",
   "id": "278ef4749b7f7589"
  },
  {
   "cell_type": "code",
   "id": "64345dc5",
   "metadata": {
    "jupyter": {
     "is_executing": true
    }
   },
   "source": [
    "dt_model = DecisionTreeRegressor(max_depth=5, random_state=62)\n",
    "dt_model.fit(X_train, y_train)\n",
    "dt_pred = dt_model.predict(X_test)"
   ],
   "outputs": [],
   "execution_count": null
  },
  {
   "metadata": {},
   "cell_type": "markdown",
   "source": "### Random Forest Regressor",
   "id": "b363678be289fb33"
  },
  {
   "metadata": {
    "jupyter": {
     "is_executing": true
    }
   },
   "cell_type": "code",
   "source": [
    "rf_model = RandomForestRegressor(n_estimators=250, max_depth=5, random_state=33)\n",
    "rf_model.fit(X_train, y_train)\n",
    "rf_pred = rf_model.predict(X_test)"
   ],
   "id": "1bda03fc3a981c25",
   "outputs": [],
   "execution_count": null
  },
  {
   "metadata": {},
   "cell_type": "markdown",
   "source": "### Support Vector Regressor",
   "id": "cabd39568d116aaa"
  },
  {
   "metadata": {
    "jupyter": {
     "is_executing": true
    }
   },
   "cell_type": "code",
   "source": [
    "svm_model = SVR(kernel='poly', C=10, gamma=10)\n",
    "svm_model.fit(X_train, y_train)\n",
    "svm_pred = svm_model.predict(X_test)"
   ],
   "id": "e2f98e7bf564d137",
   "outputs": [],
   "execution_count": null
  },
  {
   "metadata": {},
   "cell_type": "markdown",
   "source": "# Model Evaluation",
   "id": "4adfa8babda4c4ce"
  },
  {
   "metadata": {
    "jupyter": {
     "is_executing": true
    }
   },
   "cell_type": "code",
   "source": [
    "def evaluate_model(name, y_test, y_pred):\n",
    "    mse = mean_squared_error(y_test, y_pred)\n",
    "    mae = mean_absolute_error(y_test, y_pred)\n",
    "    r2 = r2_score(y_test, y_pred)\n",
    "    print(f\"{name} Performance:\")\n",
    "    print(f\"MSE: {mse:.4f}, MAE: {mae:.4f}, R²: {r2:.4f}\\n\")"
   ],
   "id": "25e4a68428870527",
   "outputs": [],
   "execution_count": null
  },
  {
   "metadata": {},
   "cell_type": "markdown",
   "source": "### Evaluating the Models",
   "id": "295d4f20eceb03fd"
  },
  {
   "metadata": {
    "jupyter": {
     "is_executing": true
    }
   },
   "cell_type": "code",
   "source": [
    "evaluate_model(\"Decision Tree\", y_test, dt_pred)\n",
    "evaluate_model(\"Random Forest\", y_test, rf_pred)\n",
    "evaluate_model(\"SVM\", y_test, svm_pred)"
   ],
   "id": "b096f2642c2e8a98",
   "outputs": [],
   "execution_count": null
  },
  {
   "metadata": {},
   "cell_type": "markdown",
   "source": "# Visualize Predictions",
   "id": "3b494b6db003bd9f"
  },
  {
   "metadata": {
    "jupyter": {
     "is_executing": true
    }
   },
   "cell_type": "code",
   "source": [
    "sorted_idx = np.argsort(y_test.values)\n",
    "y_test_sorted = y_test.values[sorted_idx]\n",
    "dt_pred_sorted = dt_pred[sorted_idx]\n",
    "rf_pred_sorted = rf_pred[sorted_idx]\n",
    "svm_pred_sorted = svm_pred[sorted_idx]"
   ],
   "id": "a3b380b256382b74",
   "outputs": [],
   "execution_count": null
  },
  {
   "metadata": {
    "jupyter": {
     "is_executing": true
    }
   },
   "cell_type": "code",
   "source": [
    "plt.figure(figsize=(10, 6))\n",
    "plt.plot(y_test_sorted, label=\"Actual Charges\", color=\"black\", linestyle=\"-\", linewidth=2)\n",
    "plt.plot(dt_pred_sorted, label=\"Decision Tree\", color=\"blue\", linestyle=\"--\")\n",
    "plt.plot(rf_pred_sorted, label=\"Random Forest\", color=\"red\", linestyle=\":\")\n",
    "plt.plot(svm_pred_sorted, label=\"SVM\", color=\"green\", linestyle=\"-.\" )\n",
    "plt.xlabel(\"Test Samples (Sorted)\")\n",
    "plt.ylabel(\"Charges\")\n",
    "plt.title(\"Actual vs Predicted Charges for Decision Tree, Random Forest & SVM\")\n",
    "plt.legend()\n",
    "plt.show()"
   ],
   "id": "1214fa91b10e4e74",
   "outputs": [],
   "execution_count": null
  }
 ],
 "metadata": {
  "kernelspec": {
   "display_name": "Python 3 (ipykernel)",
   "language": "python",
   "name": "python3"
  },
  "language_info": {
   "codemirror_mode": {
    "name": "ipython",
    "version": 3
   },
   "file_extension": ".py",
   "mimetype": "text/x-python",
   "name": "python",
   "nbconvert_exporter": "python",
   "pygments_lexer": "ipython3",
   "version": "3.12.7"
  }
 },
 "nbformat": 4,
 "nbformat_minor": 5
}
