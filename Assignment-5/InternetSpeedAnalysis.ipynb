{
 "cells": [
  {
   "cell_type": "markdown",
   "id": "6753337c",
   "metadata": {},
   "source": [
    "# Internet Speed Prediction\n",
    "This notebook analyzes internet speed using Decision Tree, Random Forest, and SVM models."
   ]
  },
  {
   "cell_type": "code",
   "id": "41ece380",
   "metadata": {
    "ExecuteTime": {
     "end_time": "2025-03-14T03:01:01.499355Z",
     "start_time": "2025-03-14T03:00:57.950440Z"
    }
   },
   "source": [
    "\n",
    "import numpy as np\n",
    "import pandas as pd\n",
    "from sklearn.model_selection import train_test_split\n",
    "from sklearn.tree import DecisionTreeRegressor\n",
    "from sklearn.ensemble import RandomForestRegressor\n",
    "from sklearn.svm import SVR\n",
    "from sklearn.preprocessing import StandardScaler\n",
    "from sklearn.metrics import mean_squared_error, r2_score, mean_absolute_error\n",
    "import matplotlib.pyplot as plt\n",
    "import warnings\n",
    "warnings.simplefilter(action='ignore', category=FutureWarning)\n",
    "    "
   ],
   "outputs": [],
   "execution_count": 1
  },
  {
   "cell_type": "markdown",
   "id": "0d997264",
   "metadata": {},
   "source": [
    "## Load the Dataset"
   ]
  },
  {
   "cell_type": "code",
   "id": "643c7f3c",
   "metadata": {
    "ExecuteTime": {
     "end_time": "2025-03-14T03:01:01.527829Z",
     "start_time": "2025-03-14T03:01:01.500488Z"
    }
   },
   "source": "data = pd.read_csv(\"internet.csv\")",
   "outputs": [],
   "execution_count": 2
  },
  {
   "metadata": {
    "ExecuteTime": {
     "end_time": "2025-03-14T03:01:01.561273Z",
     "start_time": "2025-03-14T03:01:01.527829Z"
    }
   },
   "cell_type": "code",
   "source": "data.head()",
   "id": "addba5b2ea79ba91",
   "outputs": [
    {
     "data": {
      "text/plain": [
       "   Ping_latency  Download_speed  Upload_speed  Packet_loss_rate  \\\n",
       "0     21.854305       42.395374     19.934759          0.999340   \n",
       "1     47.782144       49.976388     17.979781          1.493494   \n",
       "2     37.939727       86.182002     10.455388          1.125334   \n",
       "3     31.939632       37.300417     31.148800          0.166605   \n",
       "4     12.020839       87.616720     24.877960          0.371160   \n",
       "\n",
       "   Router_distance  Network_congestion  ISP_quality  Connection_type_DSL  \\\n",
       "0         7.569985            1.369483     7.467012             0.000000   \n",
       "1         2.660608            1.243015     6.215047             2.373401   \n",
       "2         4.119757            3.416768     9.751490             1.509861   \n",
       "3         6.969526            4.864465     4.532849             0.000000   \n",
       "4         5.338804            3.010885     7.114995             1.241954   \n",
       "\n",
       "   Connection_type_Cable  Connection_type_Fiber  Signal_strength  \\\n",
       "0                    0.0               0.000000        76.190258   \n",
       "1                    0.0               3.869607        70.945684   \n",
       "2                    0.0               2.332773        83.994324   \n",
       "3                    0.0               1.608198        92.278904   \n",
       "4                    0.0               2.693502        80.535702   \n",
       "\n",
       "   Weather_conditions  Internet_speed  \n",
       "0            2.552049      730.336287  \n",
       "1            2.788454      994.148168  \n",
       "2            3.098587     2551.867438  \n",
       "3            4.479742      621.336539  \n",
       "4            4.190802     2612.315499  "
      ],
      "text/html": [
       "<div>\n",
       "<style scoped>\n",
       "    .dataframe tbody tr th:only-of-type {\n",
       "        vertical-align: middle;\n",
       "    }\n",
       "\n",
       "    .dataframe tbody tr th {\n",
       "        vertical-align: top;\n",
       "    }\n",
       "\n",
       "    .dataframe thead th {\n",
       "        text-align: right;\n",
       "    }\n",
       "</style>\n",
       "<table border=\"1\" class=\"dataframe\">\n",
       "  <thead>\n",
       "    <tr style=\"text-align: right;\">\n",
       "      <th></th>\n",
       "      <th>Ping_latency</th>\n",
       "      <th>Download_speed</th>\n",
       "      <th>Upload_speed</th>\n",
       "      <th>Packet_loss_rate</th>\n",
       "      <th>Router_distance</th>\n",
       "      <th>Network_congestion</th>\n",
       "      <th>ISP_quality</th>\n",
       "      <th>Connection_type_DSL</th>\n",
       "      <th>Connection_type_Cable</th>\n",
       "      <th>Connection_type_Fiber</th>\n",
       "      <th>Signal_strength</th>\n",
       "      <th>Weather_conditions</th>\n",
       "      <th>Internet_speed</th>\n",
       "    </tr>\n",
       "  </thead>\n",
       "  <tbody>\n",
       "    <tr>\n",
       "      <th>0</th>\n",
       "      <td>21.854305</td>\n",
       "      <td>42.395374</td>\n",
       "      <td>19.934759</td>\n",
       "      <td>0.999340</td>\n",
       "      <td>7.569985</td>\n",
       "      <td>1.369483</td>\n",
       "      <td>7.467012</td>\n",
       "      <td>0.000000</td>\n",
       "      <td>0.0</td>\n",
       "      <td>0.000000</td>\n",
       "      <td>76.190258</td>\n",
       "      <td>2.552049</td>\n",
       "      <td>730.336287</td>\n",
       "    </tr>\n",
       "    <tr>\n",
       "      <th>1</th>\n",
       "      <td>47.782144</td>\n",
       "      <td>49.976388</td>\n",
       "      <td>17.979781</td>\n",
       "      <td>1.493494</td>\n",
       "      <td>2.660608</td>\n",
       "      <td>1.243015</td>\n",
       "      <td>6.215047</td>\n",
       "      <td>2.373401</td>\n",
       "      <td>0.0</td>\n",
       "      <td>3.869607</td>\n",
       "      <td>70.945684</td>\n",
       "      <td>2.788454</td>\n",
       "      <td>994.148168</td>\n",
       "    </tr>\n",
       "    <tr>\n",
       "      <th>2</th>\n",
       "      <td>37.939727</td>\n",
       "      <td>86.182002</td>\n",
       "      <td>10.455388</td>\n",
       "      <td>1.125334</td>\n",
       "      <td>4.119757</td>\n",
       "      <td>3.416768</td>\n",
       "      <td>9.751490</td>\n",
       "      <td>1.509861</td>\n",
       "      <td>0.0</td>\n",
       "      <td>2.332773</td>\n",
       "      <td>83.994324</td>\n",
       "      <td>3.098587</td>\n",
       "      <td>2551.867438</td>\n",
       "    </tr>\n",
       "    <tr>\n",
       "      <th>3</th>\n",
       "      <td>31.939632</td>\n",
       "      <td>37.300417</td>\n",
       "      <td>31.148800</td>\n",
       "      <td>0.166605</td>\n",
       "      <td>6.969526</td>\n",
       "      <td>4.864465</td>\n",
       "      <td>4.532849</td>\n",
       "      <td>0.000000</td>\n",
       "      <td>0.0</td>\n",
       "      <td>1.608198</td>\n",
       "      <td>92.278904</td>\n",
       "      <td>4.479742</td>\n",
       "      <td>621.336539</td>\n",
       "    </tr>\n",
       "    <tr>\n",
       "      <th>4</th>\n",
       "      <td>12.020839</td>\n",
       "      <td>87.616720</td>\n",
       "      <td>24.877960</td>\n",
       "      <td>0.371160</td>\n",
       "      <td>5.338804</td>\n",
       "      <td>3.010885</td>\n",
       "      <td>7.114995</td>\n",
       "      <td>1.241954</td>\n",
       "      <td>0.0</td>\n",
       "      <td>2.693502</td>\n",
       "      <td>80.535702</td>\n",
       "      <td>4.190802</td>\n",
       "      <td>2612.315499</td>\n",
       "    </tr>\n",
       "  </tbody>\n",
       "</table>\n",
       "</div>"
      ]
     },
     "execution_count": 3,
     "metadata": {},
     "output_type": "execute_result"
    }
   ],
   "execution_count": 3
  },
  {
   "cell_type": "markdown",
   "id": "52b00d13",
   "metadata": {},
   "source": [
    "## Data Preprocessing"
   ]
  },
  {
   "metadata": {
    "ExecuteTime": {
     "end_time": "2025-03-14T03:01:01.571434Z",
     "start_time": "2025-03-14T03:01:01.561273Z"
    }
   },
   "cell_type": "code",
   "source": "data.shape",
   "id": "834c809e2b9ec3a0",
   "outputs": [
    {
     "data": {
      "text/plain": [
       "(5000, 13)"
      ]
     },
     "execution_count": 4,
     "metadata": {},
     "output_type": "execute_result"
    }
   ],
   "execution_count": 4
  },
  {
   "metadata": {
    "ExecuteTime": {
     "end_time": "2025-03-14T03:01:01.614111Z",
     "start_time": "2025-03-14T03:01:01.571434Z"
    }
   },
   "cell_type": "code",
   "source": "data.describe()",
   "id": "d5ffab60c361b238",
   "outputs": [
    {
     "data": {
      "text/plain": [
       "       Ping_latency  Download_speed  Upload_speed  Packet_loss_rate  \\\n",
       "count   5000.000000     5000.000000   5000.000000       5000.000000   \n",
       "mean      27.357440       51.691277     26.066003          1.015369   \n",
       "std       13.033514       27.133568     13.956951          0.575612   \n",
       "min        5.000524        5.005019      2.007572          0.000505   \n",
       "25%       15.973826       28.478861     13.864032          0.525459   \n",
       "50%       27.500388       51.167300     25.817462          1.024899   \n",
       "75%       38.664539       74.670302     38.509712          1.502211   \n",
       "max       49.987295       99.952993     49.990647          1.999850   \n",
       "\n",
       "       Router_distance  Network_congestion  ISP_quality  Connection_type_DSL  \\\n",
       "count      5000.000000         5000.000000  5000.000000          5000.000000   \n",
       "mean          5.578994            2.965295     6.504300             1.272947   \n",
       "std           2.598671            1.138216     2.018279             1.637940   \n",
       "min           1.000433            1.000441     3.000039             0.000000   \n",
       "25%           3.330062            1.988582     4.732669             0.000000   \n",
       "50%           5.620063            2.963910     6.513309             0.032340   \n",
       "75%           7.819270            3.928608     8.237586             2.537834   \n",
       "max           9.999109            4.998928     9.998526             4.999453   \n",
       "\n",
       "       Connection_type_Cable  Connection_type_Fiber  Signal_strength  \\\n",
       "count            5000.000000            5000.000000      5000.000000   \n",
       "mean                1.256751               1.273640        84.948302   \n",
       "std                 1.625825               1.631132         8.609663   \n",
       "min                 0.000000               0.000000        70.001406   \n",
       "25%                 0.000000               0.000000        77.742714   \n",
       "50%                 0.002561               0.031585        84.822169   \n",
       "75%                 2.507974               2.547957        92.345908   \n",
       "max                 4.999785               4.998248        99.998191   \n",
       "\n",
       "       Weather_conditions  Internet_speed  \n",
       "count         5000.000000     5000.000000  \n",
       "mean             2.499880     1257.296163  \n",
       "std              1.438197      927.617450  \n",
       "min              0.003471       80.606669  \n",
       "25%              1.244065      430.808067  \n",
       "50%              2.511349     1018.976847  \n",
       "75%              3.771796     1951.295923  \n",
       "max              4.998094     3364.871190  "
      ],
      "text/html": [
       "<div>\n",
       "<style scoped>\n",
       "    .dataframe tbody tr th:only-of-type {\n",
       "        vertical-align: middle;\n",
       "    }\n",
       "\n",
       "    .dataframe tbody tr th {\n",
       "        vertical-align: top;\n",
       "    }\n",
       "\n",
       "    .dataframe thead th {\n",
       "        text-align: right;\n",
       "    }\n",
       "</style>\n",
       "<table border=\"1\" class=\"dataframe\">\n",
       "  <thead>\n",
       "    <tr style=\"text-align: right;\">\n",
       "      <th></th>\n",
       "      <th>Ping_latency</th>\n",
       "      <th>Download_speed</th>\n",
       "      <th>Upload_speed</th>\n",
       "      <th>Packet_loss_rate</th>\n",
       "      <th>Router_distance</th>\n",
       "      <th>Network_congestion</th>\n",
       "      <th>ISP_quality</th>\n",
       "      <th>Connection_type_DSL</th>\n",
       "      <th>Connection_type_Cable</th>\n",
       "      <th>Connection_type_Fiber</th>\n",
       "      <th>Signal_strength</th>\n",
       "      <th>Weather_conditions</th>\n",
       "      <th>Internet_speed</th>\n",
       "    </tr>\n",
       "  </thead>\n",
       "  <tbody>\n",
       "    <tr>\n",
       "      <th>count</th>\n",
       "      <td>5000.000000</td>\n",
       "      <td>5000.000000</td>\n",
       "      <td>5000.000000</td>\n",
       "      <td>5000.000000</td>\n",
       "      <td>5000.000000</td>\n",
       "      <td>5000.000000</td>\n",
       "      <td>5000.000000</td>\n",
       "      <td>5000.000000</td>\n",
       "      <td>5000.000000</td>\n",
       "      <td>5000.000000</td>\n",
       "      <td>5000.000000</td>\n",
       "      <td>5000.000000</td>\n",
       "      <td>5000.000000</td>\n",
       "    </tr>\n",
       "    <tr>\n",
       "      <th>mean</th>\n",
       "      <td>27.357440</td>\n",
       "      <td>51.691277</td>\n",
       "      <td>26.066003</td>\n",
       "      <td>1.015369</td>\n",
       "      <td>5.578994</td>\n",
       "      <td>2.965295</td>\n",
       "      <td>6.504300</td>\n",
       "      <td>1.272947</td>\n",
       "      <td>1.256751</td>\n",
       "      <td>1.273640</td>\n",
       "      <td>84.948302</td>\n",
       "      <td>2.499880</td>\n",
       "      <td>1257.296163</td>\n",
       "    </tr>\n",
       "    <tr>\n",
       "      <th>std</th>\n",
       "      <td>13.033514</td>\n",
       "      <td>27.133568</td>\n",
       "      <td>13.956951</td>\n",
       "      <td>0.575612</td>\n",
       "      <td>2.598671</td>\n",
       "      <td>1.138216</td>\n",
       "      <td>2.018279</td>\n",
       "      <td>1.637940</td>\n",
       "      <td>1.625825</td>\n",
       "      <td>1.631132</td>\n",
       "      <td>8.609663</td>\n",
       "      <td>1.438197</td>\n",
       "      <td>927.617450</td>\n",
       "    </tr>\n",
       "    <tr>\n",
       "      <th>min</th>\n",
       "      <td>5.000524</td>\n",
       "      <td>5.005019</td>\n",
       "      <td>2.007572</td>\n",
       "      <td>0.000505</td>\n",
       "      <td>1.000433</td>\n",
       "      <td>1.000441</td>\n",
       "      <td>3.000039</td>\n",
       "      <td>0.000000</td>\n",
       "      <td>0.000000</td>\n",
       "      <td>0.000000</td>\n",
       "      <td>70.001406</td>\n",
       "      <td>0.003471</td>\n",
       "      <td>80.606669</td>\n",
       "    </tr>\n",
       "    <tr>\n",
       "      <th>25%</th>\n",
       "      <td>15.973826</td>\n",
       "      <td>28.478861</td>\n",
       "      <td>13.864032</td>\n",
       "      <td>0.525459</td>\n",
       "      <td>3.330062</td>\n",
       "      <td>1.988582</td>\n",
       "      <td>4.732669</td>\n",
       "      <td>0.000000</td>\n",
       "      <td>0.000000</td>\n",
       "      <td>0.000000</td>\n",
       "      <td>77.742714</td>\n",
       "      <td>1.244065</td>\n",
       "      <td>430.808067</td>\n",
       "    </tr>\n",
       "    <tr>\n",
       "      <th>50%</th>\n",
       "      <td>27.500388</td>\n",
       "      <td>51.167300</td>\n",
       "      <td>25.817462</td>\n",
       "      <td>1.024899</td>\n",
       "      <td>5.620063</td>\n",
       "      <td>2.963910</td>\n",
       "      <td>6.513309</td>\n",
       "      <td>0.032340</td>\n",
       "      <td>0.002561</td>\n",
       "      <td>0.031585</td>\n",
       "      <td>84.822169</td>\n",
       "      <td>2.511349</td>\n",
       "      <td>1018.976847</td>\n",
       "    </tr>\n",
       "    <tr>\n",
       "      <th>75%</th>\n",
       "      <td>38.664539</td>\n",
       "      <td>74.670302</td>\n",
       "      <td>38.509712</td>\n",
       "      <td>1.502211</td>\n",
       "      <td>7.819270</td>\n",
       "      <td>3.928608</td>\n",
       "      <td>8.237586</td>\n",
       "      <td>2.537834</td>\n",
       "      <td>2.507974</td>\n",
       "      <td>2.547957</td>\n",
       "      <td>92.345908</td>\n",
       "      <td>3.771796</td>\n",
       "      <td>1951.295923</td>\n",
       "    </tr>\n",
       "    <tr>\n",
       "      <th>max</th>\n",
       "      <td>49.987295</td>\n",
       "      <td>99.952993</td>\n",
       "      <td>49.990647</td>\n",
       "      <td>1.999850</td>\n",
       "      <td>9.999109</td>\n",
       "      <td>4.998928</td>\n",
       "      <td>9.998526</td>\n",
       "      <td>4.999453</td>\n",
       "      <td>4.999785</td>\n",
       "      <td>4.998248</td>\n",
       "      <td>99.998191</td>\n",
       "      <td>4.998094</td>\n",
       "      <td>3364.871190</td>\n",
       "    </tr>\n",
       "  </tbody>\n",
       "</table>\n",
       "</div>"
      ]
     },
     "execution_count": 5,
     "metadata": {},
     "output_type": "execute_result"
    }
   ],
   "execution_count": 5
  },
  {
   "metadata": {
    "ExecuteTime": {
     "end_time": "2025-03-14T03:01:01.655614Z",
     "start_time": "2025-03-14T03:01:01.614587Z"
    }
   },
   "cell_type": "code",
   "source": "data.info()",
   "id": "e39739d8771a275d",
   "outputs": [
    {
     "name": "stdout",
     "output_type": "stream",
     "text": [
      "<class 'pandas.core.frame.DataFrame'>\n",
      "RangeIndex: 5000 entries, 0 to 4999\n",
      "Data columns (total 13 columns):\n",
      " #   Column                 Non-Null Count  Dtype  \n",
      "---  ------                 --------------  -----  \n",
      " 0   Ping_latency           5000 non-null   float64\n",
      " 1   Download_speed         5000 non-null   float64\n",
      " 2   Upload_speed           5000 non-null   float64\n",
      " 3   Packet_loss_rate       5000 non-null   float64\n",
      " 4   Router_distance        5000 non-null   float64\n",
      " 5   Network_congestion     5000 non-null   float64\n",
      " 6   ISP_quality            5000 non-null   float64\n",
      " 7   Connection_type_DSL    5000 non-null   float64\n",
      " 8   Connection_type_Cable  5000 non-null   float64\n",
      " 9   Connection_type_Fiber  5000 non-null   float64\n",
      " 10  Signal_strength        5000 non-null   float64\n",
      " 11  Weather_conditions     5000 non-null   float64\n",
      " 12  Internet_speed         5000 non-null   float64\n",
      "dtypes: float64(13)\n",
      "memory usage: 507.9 KB\n"
     ]
    }
   ],
   "execution_count": 6
  },
  {
   "metadata": {},
   "cell_type": "markdown",
   "source": "### Missing Values",
   "id": "4757a0f9c968b44e"
  },
  {
   "metadata": {
    "ExecuteTime": {
     "end_time": "2025-03-14T03:01:01.669928Z",
     "start_time": "2025-03-14T03:01:01.655614Z"
    }
   },
   "cell_type": "code",
   "source": [
    "print(\"Missing values in the dataset:\")\n",
    "data.isnull().sum()"
   ],
   "id": "5e3c7d2a6b7b469",
   "outputs": [
    {
     "name": "stdout",
     "output_type": "stream",
     "text": [
      "Missing values in the dataset:\n"
     ]
    },
    {
     "data": {
      "text/plain": [
       "Ping_latency             0\n",
       "Download_speed           0\n",
       "Upload_speed             0\n",
       "Packet_loss_rate         0\n",
       "Router_distance          0\n",
       "Network_congestion       0\n",
       "ISP_quality              0\n",
       "Connection_type_DSL      0\n",
       "Connection_type_Cable    0\n",
       "Connection_type_Fiber    0\n",
       "Signal_strength          0\n",
       "Weather_conditions       0\n",
       "Internet_speed           0\n",
       "dtype: int64"
      ]
     },
     "execution_count": 7,
     "metadata": {},
     "output_type": "execute_result"
    }
   ],
   "execution_count": 7
  },
  {
   "metadata": {},
   "cell_type": "markdown",
   "source": "Theres no missing values in the dataset.",
   "id": "810a200b7e4607aa"
  },
  {
   "metadata": {},
   "cell_type": "markdown",
   "source": "####  Seperate Categorical and Numerical Columns",
   "id": "dfa7f591086c4b9a"
  },
  {
   "cell_type": "code",
   "id": "425cc330",
   "metadata": {
    "ExecuteTime": {
     "end_time": "2025-03-14T03:01:01.684048Z",
     "start_time": "2025-03-14T03:01:01.670002Z"
    }
   },
   "source": [
    "categoricals = data.select_dtypes(include=['object']).columns.tolist()\n",
    "numericals = data.select_dtypes(include=['int64', 'float64']).columns.tolist()\n",
    "categoricals, numericals"
   ],
   "outputs": [
    {
     "data": {
      "text/plain": [
       "([],\n",
       " ['Ping_latency',\n",
       "  'Download_speed',\n",
       "  'Upload_speed',\n",
       "  'Packet_loss_rate',\n",
       "  'Router_distance',\n",
       "  'Network_congestion',\n",
       "  'ISP_quality',\n",
       "  'Connection_type_DSL',\n",
       "  'Connection_type_Cable',\n",
       "  'Connection_type_Fiber',\n",
       "  'Signal_strength',\n",
       "  'Weather_conditions',\n",
       "  'Internet_speed'])"
      ]
     },
     "execution_count": 8,
     "metadata": {},
     "output_type": "execute_result"
    }
   ],
   "execution_count": 8
  },
  {
   "metadata": {},
   "cell_type": "markdown",
   "source": "#### Remove Outliers",
   "id": "87affbbc377d863f"
  },
  {
   "cell_type": "code",
   "id": "ea64d9b0",
   "metadata": {
    "ExecuteTime": {
     "end_time": "2025-03-14T03:01:01.694822Z",
     "start_time": "2025-03-14T03:01:01.684048Z"
    }
   },
   "source": [
    "def remove_outliers_iqr(df, columns):\n",
    "    for col in columns:\n",
    "        Q1 = df[col].quantile(0.25)  \n",
    "        Q3 = df[col].quantile(0.75)  \n",
    "        IQR = Q3 - Q1\n",
    "        lower_bound = Q1 - 1.5 * IQR\n",
    "        upper_bound = Q3 + 1.5 * IQR\n",
    "        df = df[(df[col] >= lower_bound) & (df[col] <= upper_bound)]\n",
    "    return df"
   ],
   "outputs": [],
   "execution_count": 9
  },
  {
   "metadata": {
    "ExecuteTime": {
     "end_time": "2025-03-14T03:01:01.719113Z",
     "start_time": "2025-03-14T03:01:01.694822Z"
    }
   },
   "cell_type": "code",
   "source": [
    "data = remove_outliers_iqr(data, numericals)\n",
    "print(\"New dataset shape:\", data.shape)    "
   ],
   "id": "425308f4dbb25d12",
   "outputs": [
    {
     "name": "stdout",
     "output_type": "stream",
     "text": [
      "New dataset shape: (5000, 13)\n"
     ]
    }
   ],
   "execution_count": 10
  },
  {
   "cell_type": "markdown",
   "id": "23c1857f",
   "metadata": {},
   "source": [
    "## Feature Scaling and Splitting Data"
   ]
  },
  {
   "cell_type": "code",
   "id": "da1fb9d3",
   "metadata": {
    "ExecuteTime": {
     "end_time": "2025-03-14T03:01:01.745159Z",
     "start_time": "2025-03-14T03:01:01.720328Z"
    }
   },
   "source": [
    "X = data.drop(columns=['Internet_speed'])  \n",
    "y = data['Internet_speed']  \n",
    "numericals.remove('Internet_speed')\n",
    "X_train, X_test, y_train, y_test = train_test_split(X, y, test_size=0.2, random_state=42)\n",
    "scaler = StandardScaler()\n",
    "X_train[numericals] = scaler.fit_transform(X_train[numericals])\n",
    "X_test[numericals]  = scaler.transform(X_test[numericals])\n",
    "    "
   ],
   "outputs": [],
   "execution_count": 11
  },
  {
   "cell_type": "markdown",
   "id": "7864b64e",
   "metadata": {},
   "source": "# Model Training"
  },
  {
   "metadata": {},
   "cell_type": "markdown",
   "source": "### Decision Tree Model",
   "id": "682a75fbed2c8fe2"
  },
  {
   "cell_type": "code",
   "id": "a8e6a66a",
   "metadata": {
    "ExecuteTime": {
     "end_time": "2025-03-14T03:01:01.805847Z",
     "start_time": "2025-03-14T03:01:01.745159Z"
    }
   },
   "source": [
    "dt_model = DecisionTreeRegressor(max_depth=10, random_state=62)\n",
    "dt_model.fit(X_train, y_train)\n",
    "dt_pred = dt_model.predict(X_test)\n",
    "    "
   ],
   "outputs": [],
   "execution_count": 12
  },
  {
   "metadata": {},
   "cell_type": "markdown",
   "source": "### Random Forest Model",
   "id": "c29c6f9b2910a2d0"
  },
  {
   "cell_type": "code",
   "id": "b21379c2",
   "metadata": {
    "ExecuteTime": {
     "end_time": "2025-03-14T03:01:09.579350Z",
     "start_time": "2025-03-14T03:01:01.805847Z"
    }
   },
   "source": [
    "rf_model = RandomForestRegressor(n_estimators=250, max_depth=10, random_state=33)\n",
    "rf_model.fit(X_train, y_train)\n",
    "rf_pred = rf_model.predict(X_test)\n"
   ],
   "outputs": [],
   "execution_count": 13
  },
  {
   "metadata": {},
   "cell_type": "markdown",
   "source": "### SVM Model",
   "id": "eeb4897ba54d6dd7"
  },
  {
   "cell_type": "code",
   "id": "eebaadf7",
   "metadata": {
    "ExecuteTime": {
     "end_time": "2025-03-14T03:01:10.349742Z",
     "start_time": "2025-03-14T03:01:09.580480Z"
    }
   },
   "source": [
    "svm_model = SVR(kernel='rbf', C=100, gamma=0.1, epsilon=0.01)\n",
    "svm_model.fit(X_train, y_train)\n",
    "svm_pred = svm_model.predict(X_test)"
   ],
   "outputs": [],
   "execution_count": 14
  },
  {
   "cell_type": "markdown",
   "id": "dc50ac8d",
   "metadata": {},
   "source": [
    "## Model Evaluation"
   ]
  },
  {
   "cell_type": "code",
   "id": "46a2ce83",
   "metadata": {
    "ExecuteTime": {
     "end_time": "2025-03-14T03:01:10.354813Z",
     "start_time": "2025-03-14T03:01:10.350593Z"
    }
   },
   "source": [
    "def evaluate_model(name, y_test, y_pred):\n",
    "    mse = mean_squared_error(y_test, y_pred)\n",
    "    mae = mean_absolute_error(y_test, y_pred)\n",
    "    r2 = r2_score(y_test, y_pred)\n",
    "    print(f\"{name} Performance:\")\n",
    "    print(f\"MSE: {mse:.4f}, MAE: {mae:.4f}, R²: {r2:.4f}\\n\")"
   ],
   "outputs": [],
   "execution_count": 15
  },
  {
   "metadata": {
    "ExecuteTime": {
     "end_time": "2025-03-14T03:01:10.373780Z",
     "start_time": "2025-03-14T03:01:10.354813Z"
    }
   },
   "cell_type": "code",
   "source": [
    "evaluate_model(\"Decision Tree\", y_test, dt_pred)\n",
    "evaluate_model(\"Random Forest\", y_test, rf_pred)\n",
    "evaluate_model(\"SVM\", y_test, svm_pred)"
   ],
   "id": "a56ec0ff7be8ea8b",
   "outputs": [
    {
     "name": "stdout",
     "output_type": "stream",
     "text": [
      "Decision Tree Performance:\n",
      "MSE: 894.4619, MAE: 23.8595, R²: 0.9990\n",
      "\n",
      "Random Forest Performance:\n",
      "MSE: 475.2970, MAE: 17.4905, R²: 0.9995\n",
      "\n",
      "SVM Performance:\n",
      "MSE: 34496.1927, MAE: 112.5188, R²: 0.9601\n",
      "\n"
     ]
    }
   ],
   "execution_count": 16
  },
  {
   "cell_type": "markdown",
   "id": "940d19e5",
   "metadata": {},
   "source": [
    "## Visualization of Results"
   ]
  },
  {
   "cell_type": "code",
   "id": "bf01ff1f",
   "metadata": {
    "ExecuteTime": {
     "end_time": "2025-03-14T03:01:10.386868Z",
     "start_time": "2025-03-14T03:01:10.374882Z"
    }
   },
   "source": [
    "sorted_idx = np.argsort(y_test.values)\n",
    "y_test_sorted = y_test.values[sorted_idx]\n",
    "dt_pred_sorted = dt_pred[sorted_idx]\n",
    "rf_pred_sorted = rf_pred[sorted_idx]\n",
    "svm_pred_sorted = svm_pred[sorted_idx]    "
   ],
   "outputs": [],
   "execution_count": 17
  },
  {
   "metadata": {
    "ExecuteTime": {
     "end_time": "2025-03-14T03:01:10.596468Z",
     "start_time": "2025-03-14T03:01:10.388558Z"
    }
   },
   "cell_type": "code",
   "source": [
    "plt.figure(figsize=(10, 6))\n",
    "plt.plot(y_test_sorted, label=\"Actual Internet Speed\", color=\"black\", linestyle=\"-\", linewidth=2)\n",
    "plt.plot(dt_pred_sorted, label=\"Decision Tree\", color=\"blue\", linestyle=\"--\")\n",
    "plt.plot(rf_pred_sorted, label=\"Random Forest\", color=\"red\", linestyle=\":\")\n",
    "plt.plot(svm_pred_sorted, label=\"SVM\", color=\"green\", linestyle=\"-.\")\n",
    "\n",
    "plt.xlabel(\"Test Samples (Sorted)\")\n",
    "plt.ylabel(\"Internet Speed\")\n",
    "plt.title(\"Actual vs Predicted Internet Speed for Decision Tree, Random Forest & SVM\")\n",
    "plt.legend()\n",
    "plt.show()"
   ],
   "id": "b0e6ccc163ef1aa5",
   "outputs": [
    {
     "data": {
      "text/plain": [
       "<Figure size 1000x600 with 1 Axes>"
      ],
      "image/png": "[encoded data removed]"
     },
     "metadata": {},
     "output_type": "display_data"
    }
   ],
   "execution_count": 18
  }
 ],
 "metadata": {
  "kernelspec": {
   "name": "python3",
   "language": "python",
   "display_name": "Python 3 (ipykernel)"
  }
 },
 "nbformat": 4,
 "nbformat_minor": 5
}
