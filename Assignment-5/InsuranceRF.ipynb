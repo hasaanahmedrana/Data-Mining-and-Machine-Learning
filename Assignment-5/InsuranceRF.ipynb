{
 "cells": [
  {
   "cell_type": "code",
   "execution_count": null,
   "id": "678c381b",
   "metadata": {},
   "outputs": [],
   "source": [
    "import numpy as np\n",
    "import pandas as pd\n",
    "from sklearn.model_selection import train_test_split\n",
    "from sklearn.ensemble import RandomForestRegressor\n",
    "from sklearn.tree import DecisionTreeRegressor\n",
    "from sklearn.metrics import mean_squared_error, mean_absolute_error, r2_score\n",
    "from sklearn.preprocessing import LabelEncoder, StandardScaler, OrdinalEncoder, OneHotEncoder\n",
    "from sklearn.compose import ColumnTransformer\n",
    "from statsmodels import api as sm\n",
    "import warnings\n",
    "warnings.simplefilter(action='ignore', category=FutureWarning)"
   ]
  },
  {
   "cell_type": "markdown",
   "id": "d7311569d9fc18ed",
   "metadata": {},
   "source": [
    "Kaggle Dataset Link: https://www.kaggle.com/datasets/mirichoi0218/insurance/data"
   ]
  },
  {
   "metadata": {},
   "cell_type": "markdown",
   "source": "# Data Analysis and Preprocessing",
   "id": "122c33e2e6ac5b13"
  },
  {
   "cell_type": "code",
   "execution_count": null,
   "id": "42d09801",
   "metadata": {},
   "outputs": [],
   "source": [
    "data = pd.read_csv(\"insurance.csv\")"
   ]
  },
  {
   "cell_type": "code",
   "execution_count": null,
   "id": "c171a96e",
   "metadata": {},
   "outputs": [],
   "source": [
    "data.shape()"
   ]
  },
  {
   "cell_type": "code",
   "execution_count": null,
   "id": "ba2f219c-bc2c-45e5-b360-4413976bce11",
   "metadata": {},
   "outputs": [],
   "source": [
    "data.head()"
   ]
  },
  {
   "cell_type": "code",
   "execution_count": null,
   "id": "9a84d735-5758-497c-bbdb-e641751c16f7",
   "metadata": {},
   "outputs": [],
   "source": [
    "data.info()"
   ]
  },
  {
   "cell_type": "code",
   "execution_count": null,
   "id": "1fe439b7-caf1-4fe3-85e4-a1b3e5ebb668",
   "metadata": {},
   "outputs": [],
   "source": [
    "data.describe()"
   ]
  },
  {
   "cell_type": "code",
   "execution_count": null,
   "id": "e9adcb19",
   "metadata": {},
   "outputs": [],
   "source": [
    "print(\"Missing values in the dataset:\")\n",
    "data.isnull().sum()"
   ]
  },
  {
   "metadata": {},
   "cell_type": "markdown",
   "source": "### Seperating Categorical and Numerical Columns",
   "id": "ca904ec6c6f81be7"
  },
  {
   "cell_type": "code",
   "execution_count": null,
   "id": "084bcd70",
   "metadata": {},
   "outputs": [],
   "source": [
    "categoricals = data.select_dtypes(include=['object']).columns.tolist()\n",
    "numericals = data.select_dtypes(include=['int64', 'float64']).columns.to_list()\n",
    "categoricals, numericals"
   ]
  },
  {
   "metadata": {},
   "cell_type": "markdown",
   "source": "### Checking for Outliers",
   "id": "87d783e59f77c15a"
  },
  {
   "cell_type": "code",
   "execution_count": null,
   "id": "0f3b6226",
   "metadata": {},
   "outputs": [],
   "source": [
    "data.shape()\n",
    "def remove_outliers_iqr(df, columns):\n",
    "    for col in columns:\n",
    "        Q1 = df[col].quantile(0.25)  # 25th percentile\n",
    "        Q3 = df[col].quantile(0.75)  # 75th percentile\n",
    "        IQR = Q3 - Q1\n",
    "        lower_bound = Q1 - 1.5 * IQR\n",
    "        upper_bound = Q3 + 1.5 * IQR\n",
    "        df = df[(df[col] >= lower_bound) & (df[col] <= upper_bound)]\n",
    "    return df"
   ]
  },
  {
   "metadata": {},
   "cell_type": "markdown",
   "source": "### Removing Outliers",
   "id": "68183d1562723a02"
  },
  {
   "cell_type": "code",
   "execution_count": null,
   "id": "2bc837f2",
   "metadata": {},
   "outputs": [],
   "source": [
    "data = remove_outliers_iqr(data, ['age', 'children','bmi'])\n",
    "data.shape()"
   ]
  },
  {
   "cell_type": "code",
   "execution_count": null,
   "id": "33de49ae",
   "metadata": {},
   "outputs": [],
   "source": [
    "for each in categoricals:\n",
    "    print(each, len(data[each].unique().tolist()))"
   ]
  },
  {
   "cell_type": "code",
   "execution_count": null,
   "id": "dd9b4739",
   "metadata": {},
   "outputs": [],
   "source": [
    "threshold = 25\n",
    "data[categoricals] = data[categoricals].apply(\n",
    "    lambda each: each.where(each.isin(each.value_counts().nlargest(threshold).index), \"Other\"))"
   ]
  },
  {
   "cell_type": "code",
   "execution_count": null,
   "id": "e706153e",
   "metadata": {},
   "outputs": [],
   "source": [
    "data.head()"
   ]
  },
  {
   "metadata": {},
   "cell_type": "markdown",
   "source": "### Encoding Categorical Columns",
   "id": "e3d02051b13632b3"
  },
  {
   "cell_type": "code",
   "execution_count": null,
   "id": "b1070e63",
   "metadata": {},
   "outputs": [],
   "source": [
    "encoder = LabelEncoder()\n",
    "for each in categoricals:\n",
    "    data[each] = encoder.fit_transform(data[each])"
   ]
  },
  {
   "cell_type": "code",
   "execution_count": null,
   "id": "7aa4a126",
   "metadata": {},
   "outputs": [],
   "source": [
    "data.head()"
   ]
  },
  {
   "metadata": {},
   "cell_type": "markdown",
   "source": "### Splitting the Data",
   "id": "74ea556b1aa2bdc9"
  },
  {
   "cell_type": "code",
   "execution_count": null,
   "id": "a85be748",
   "metadata": {},
   "outputs": [],
   "source": [
    "X = data.drop(columns=['charges']) \n",
    "y = data['charges'] \n",
    "numericals.remove('charges')"
   ]
  },
  {
   "cell_type": "code",
   "execution_count": null,
   "id": "66b2282c",
   "metadata": {},
   "outputs": [],
   "source": [
    "X_train, X_test, y_train, y_test = train_test_split(X, y, test_size=0.2, random_state=42)"
   ]
  },
  {
   "metadata": {},
   "cell_type": "markdown",
   "source": "### Scaling the Numerical Columns",
   "id": "c5fb3c5402e0287a"
  },
  {
   "cell_type": "code",
   "execution_count": null,
   "id": "bd4c55fb",
   "metadata": {},
   "outputs": [],
   "source": [
    "scaler = StandardScaler()\n",
    "X_train[numericals] = scaler.fit_transform(X_train[numericals])\n",
    "X_test[numericals]  = scaler.transform(X_test[numericals])"
   ]
  },
  {
   "metadata": {},
   "cell_type": "markdown",
   "source": "# Model Building",
   "id": "5ba2d68f67da8525"
  },
  {
   "metadata": {},
   "cell_type": "markdown",
   "source": "### Decision Tree Regressor",
   "id": "278ef4749b7f7589"
  },
  {
   "cell_type": "code",
   "execution_count": null,
   "id": "64345dc5",
   "metadata": {},
   "outputs": [],
   "source": [
    "model = DecisionTreeRegressor( max_depth=4,random_state=62)\n",
    "model.fit(X_train, y_train)"
   ]
  },
  {
   "cell_type": "code",
   "execution_count": null,
   "id": "a296afe1",
   "metadata": {},
   "outputs": [],
   "source": [
    "print('DecisionTreeRegressor Train Score is : ' , model.score(X_train, y_train))\n",
    "print('DecisionTreeRegressor Test Score is : ' , model.score(X_test, y_test))\n",
    "print('-'*70)"
   ]
  },
  {
   "cell_type": "code",
   "execution_count": null,
   "id": "77da1d29",
   "metadata": {},
   "outputs": [],
   "source": [
    "y_pred = model.predict(X_test)\n",
    "mse = mean_squared_error(y_test, y_pred,multioutput='uniform_average')\n",
    "print(f\"Mean Squared Error (MSE): {mse}\")\n",
    "mae = mean_absolute_error(y_test, y_pred)\n",
    "print(f\"Mean Absolute Error (MAE): {mae}\")\n",
    "r2 = r2_score(y_test, y_pred)\n",
    "print(f\"R-squared (R²): {r2}\")"
   ]
  },
  {
   "cell_type": "code",
   "execution_count": null,
   "id": "34738da8",
   "metadata": {},
   "outputs": [],
   "source": [
    "model = RandomForestRegressor(n_estimators=100,max_depth=7, random_state=33)\n",
    "model.fit(X_train, y_train)\n",
    "print('Random Forest Regressor Train Score is : ' , model.score(X_train, y_train))\n",
    "print('Random Forest Regressor Test Score is : ' , model.score(X_test, y_test))\n",
    "print('-'*70)"
   ]
  },
  {
   "cell_type": "code",
   "execution_count": null,
   "id": "63686250",
   "metadata": {},
   "outputs": [],
   "source": [
    "y_pred = model.predict(X_test)\n",
    "mse = mean_squared_error(y_test, y_pred,multioutput='uniform_average')\n",
    "print(f\"Mean Squared Error (MSE): {mse}\")\n",
    "mae = mean_absolute_error(y_test, y_pred)\n",
    "print(f\"Mean Absolute Error (MAE): {mae}\")\n",
    "r2 = r2_score(y_test, y_pred)\n",
    "print(f\"R-squared (R²): {r2}\")"
   ]
  }
 ],
 "metadata": {
  "kernelspec": {
   "display_name": "Python 3 (ipykernel)",
   "language": "python",
   "name": "python3"
  },
  "language_info": {
   "codemirror_mode": {
    "name": "ipython",
    "version": 3
   },
   "file_extension": ".py",
   "mimetype": "text/x-python",
   "name": "python",
   "nbconvert_exporter": "python",
   "pygments_lexer": "ipython3",
   "version": "3.12.7"
  }
 },
 "nbformat": 4,
 "nbformat_minor": 5
}
