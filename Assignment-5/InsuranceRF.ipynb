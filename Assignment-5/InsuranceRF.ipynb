{
 "cells": [
  {
   "cell_type": "code",
   "id": "678c381b",
   "metadata": {
    "ExecuteTime": {
     "end_time": "2025-03-14T01:34:17.886546Z",
     "start_time": "2025-03-14T01:34:17.874199Z"
    }
   },
   "source": [
    "import numpy as np\n",
    "import pandas as pd\n",
    "from sklearn.model_selection import train_test_split\n",
    "from sklearn.tree import DecisionTreeRegressor\n",
    "from sklearn.ensemble import RandomForestRegressor\n",
    "from sklearn.svm import SVR\n",
    "from sklearn.preprocessing import LabelEncoder, StandardScaler, OrdinalEncoder, OneHotEncoder\n",
    "from sklearn.compose import ColumnTransformer\n",
    "from sklearn.metrics import mean_squared_error, r2_score, mean_absolute_error\n",
    "import matplotlib.pyplot as plt\n",
    "import warnings\n",
    "warnings.simplefilter(action='ignore', category=FutureWarning)"
   ],
   "outputs": [],
   "execution_count": 510
  },
  {
   "cell_type": "markdown",
   "id": "d7311569d9fc18ed",
   "metadata": {},
   "source": [
    "Kaggle Dataset Link: https://www.kaggle.com/datasets/mirichoi0218/insurance/data"
   ]
  },
  {
   "metadata": {},
   "cell_type": "markdown",
   "source": "# Data Analysis and Preprocessing",
   "id": "122c33e2e6ac5b13"
  },
  {
   "cell_type": "code",
   "id": "42d09801",
   "metadata": {
    "ExecuteTime": {
     "end_time": "2025-03-14T01:34:18.021911Z",
     "start_time": "2025-03-14T01:34:17.989271Z"
    }
   },
   "source": [
    "data = pd.read_csv(\"insurance.csv\")"
   ],
   "outputs": [],
   "execution_count": 511
  },
  {
   "cell_type": "code",
   "id": "c171a96e",
   "metadata": {
    "ExecuteTime": {
     "end_time": "2025-03-14T01:34:18.032140Z",
     "start_time": "2025-03-14T01:34:18.021911Z"
    }
   },
   "source": "data.shape",
   "outputs": [
    {
     "data": {
      "text/plain": [
       "(1338, 7)"
      ]
     },
     "execution_count": 512,
     "metadata": {},
     "output_type": "execute_result"
    }
   ],
   "execution_count": 512
  },
  {
   "cell_type": "code",
   "id": "ba2f219c-bc2c-45e5-b360-4413976bce11",
   "metadata": {
    "ExecuteTime": {
     "end_time": "2025-03-14T01:34:18.062036Z",
     "start_time": "2025-03-14T01:34:18.042657Z"
    }
   },
   "source": [
    "data.head()"
   ],
   "outputs": [
    {
     "data": {
      "text/plain": [
       "   age     sex     bmi  children smoker     region      charges\n",
       "0   19  female  27.900         0    yes  southwest  16884.92400\n",
       "1   18    male  33.770         1     no  southeast   1725.55230\n",
       "2   28    male  33.000         3     no  southeast   4449.46200\n",
       "3   33    male  22.705         0     no  northwest  21984.47061\n",
       "4   32    male  28.880         0     no  northwest   3866.85520"
      ],
      "text/html": [
       "<div>\n",
       "<style scoped>\n",
       "    .dataframe tbody tr th:only-of-type {\n",
       "        vertical-align: middle;\n",
       "    }\n",
       "\n",
       "    .dataframe tbody tr th {\n",
       "        vertical-align: top;\n",
       "    }\n",
       "\n",
       "    .dataframe thead th {\n",
       "        text-align: right;\n",
       "    }\n",
       "</style>\n",
       "<table border=\"1\" class=\"dataframe\">\n",
       "  <thead>\n",
       "    <tr style=\"text-align: right;\">\n",
       "      <th></th>\n",
       "      <th>age</th>\n",
       "      <th>sex</th>\n",
       "      <th>bmi</th>\n",
       "      <th>children</th>\n",
       "      <th>smoker</th>\n",
       "      <th>region</th>\n",
       "      <th>charges</th>\n",
       "    </tr>\n",
       "  </thead>\n",
       "  <tbody>\n",
       "    <tr>\n",
       "      <th>0</th>\n",
       "      <td>19</td>\n",
       "      <td>female</td>\n",
       "      <td>27.900</td>\n",
       "      <td>0</td>\n",
       "      <td>yes</td>\n",
       "      <td>southwest</td>\n",
       "      <td>16884.92400</td>\n",
       "    </tr>\n",
       "    <tr>\n",
       "      <th>1</th>\n",
       "      <td>18</td>\n",
       "      <td>male</td>\n",
       "      <td>33.770</td>\n",
       "      <td>1</td>\n",
       "      <td>no</td>\n",
       "      <td>southeast</td>\n",
       "      <td>1725.55230</td>\n",
       "    </tr>\n",
       "    <tr>\n",
       "      <th>2</th>\n",
       "      <td>28</td>\n",
       "      <td>male</td>\n",
       "      <td>33.000</td>\n",
       "      <td>3</td>\n",
       "      <td>no</td>\n",
       "      <td>southeast</td>\n",
       "      <td>4449.46200</td>\n",
       "    </tr>\n",
       "    <tr>\n",
       "      <th>3</th>\n",
       "      <td>33</td>\n",
       "      <td>male</td>\n",
       "      <td>22.705</td>\n",
       "      <td>0</td>\n",
       "      <td>no</td>\n",
       "      <td>northwest</td>\n",
       "      <td>21984.47061</td>\n",
       "    </tr>\n",
       "    <tr>\n",
       "      <th>4</th>\n",
       "      <td>32</td>\n",
       "      <td>male</td>\n",
       "      <td>28.880</td>\n",
       "      <td>0</td>\n",
       "      <td>no</td>\n",
       "      <td>northwest</td>\n",
       "      <td>3866.85520</td>\n",
       "    </tr>\n",
       "  </tbody>\n",
       "</table>\n",
       "</div>"
      ]
     },
     "execution_count": 513,
     "metadata": {},
     "output_type": "execute_result"
    }
   ],
   "execution_count": 513
  },
  {
   "cell_type": "code",
   "id": "9a84d735-5758-497c-bbdb-e641751c16f7",
   "metadata": {
    "ExecuteTime": {
     "end_time": "2025-03-14T01:34:18.140082Z",
     "start_time": "2025-03-14T01:34:18.108927Z"
    }
   },
   "source": [
    "data.info()"
   ],
   "outputs": [
    {
     "name": "stdout",
     "output_type": "stream",
     "text": [
      "<class 'pandas.core.frame.DataFrame'>\n",
      "RangeIndex: 1338 entries, 0 to 1337\n",
      "Data columns (total 7 columns):\n",
      " #   Column    Non-Null Count  Dtype  \n",
      "---  ------    --------------  -----  \n",
      " 0   age       1338 non-null   int64  \n",
      " 1   sex       1338 non-null   object \n",
      " 2   bmi       1338 non-null   float64\n",
      " 3   children  1338 non-null   int64  \n",
      " 4   smoker    1338 non-null   object \n",
      " 5   region    1338 non-null   object \n",
      " 6   charges   1338 non-null   float64\n",
      "dtypes: float64(2), int64(2), object(3)\n",
      "memory usage: 73.3+ KB\n"
     ]
    }
   ],
   "execution_count": 514
  },
  {
   "cell_type": "code",
   "id": "1fe439b7-caf1-4fe3-85e4-a1b3e5ebb668",
   "metadata": {
    "ExecuteTime": {
     "end_time": "2025-03-14T01:34:18.177733Z",
     "start_time": "2025-03-14T01:34:18.143113Z"
    }
   },
   "source": [
    "data.describe()"
   ],
   "outputs": [
    {
     "data": {
      "text/plain": [
       "               age          bmi     children       charges\n",
       "count  1338.000000  1338.000000  1338.000000   1338.000000\n",
       "mean     39.207025    30.663397     1.094918  13270.422265\n",
       "std      14.049960     6.098187     1.205493  12110.011237\n",
       "min      18.000000    15.960000     0.000000   1121.873900\n",
       "25%      27.000000    26.296250     0.000000   4740.287150\n",
       "50%      39.000000    30.400000     1.000000   9382.033000\n",
       "75%      51.000000    34.693750     2.000000  16639.912515\n",
       "max      64.000000    53.130000     5.000000  63770.428010"
      ],
      "text/html": [
       "<div>\n",
       "<style scoped>\n",
       "    .dataframe tbody tr th:only-of-type {\n",
       "        vertical-align: middle;\n",
       "    }\n",
       "\n",
       "    .dataframe tbody tr th {\n",
       "        vertical-align: top;\n",
       "    }\n",
       "\n",
       "    .dataframe thead th {\n",
       "        text-align: right;\n",
       "    }\n",
       "</style>\n",
       "<table border=\"1\" class=\"dataframe\">\n",
       "  <thead>\n",
       "    <tr style=\"text-align: right;\">\n",
       "      <th></th>\n",
       "      <th>age</th>\n",
       "      <th>bmi</th>\n",
       "      <th>children</th>\n",
       "      <th>charges</th>\n",
       "    </tr>\n",
       "  </thead>\n",
       "  <tbody>\n",
       "    <tr>\n",
       "      <th>count</th>\n",
       "      <td>1338.000000</td>\n",
       "      <td>1338.000000</td>\n",
       "      <td>1338.000000</td>\n",
       "      <td>1338.000000</td>\n",
       "    </tr>\n",
       "    <tr>\n",
       "      <th>mean</th>\n",
       "      <td>39.207025</td>\n",
       "      <td>30.663397</td>\n",
       "      <td>1.094918</td>\n",
       "      <td>13270.422265</td>\n",
       "    </tr>\n",
       "    <tr>\n",
       "      <th>std</th>\n",
       "      <td>14.049960</td>\n",
       "      <td>6.098187</td>\n",
       "      <td>1.205493</td>\n",
       "      <td>12110.011237</td>\n",
       "    </tr>\n",
       "    <tr>\n",
       "      <th>min</th>\n",
       "      <td>18.000000</td>\n",
       "      <td>15.960000</td>\n",
       "      <td>0.000000</td>\n",
       "      <td>1121.873900</td>\n",
       "    </tr>\n",
       "    <tr>\n",
       "      <th>25%</th>\n",
       "      <td>27.000000</td>\n",
       "      <td>26.296250</td>\n",
       "      <td>0.000000</td>\n",
       "      <td>4740.287150</td>\n",
       "    </tr>\n",
       "    <tr>\n",
       "      <th>50%</th>\n",
       "      <td>39.000000</td>\n",
       "      <td>30.400000</td>\n",
       "      <td>1.000000</td>\n",
       "      <td>9382.033000</td>\n",
       "    </tr>\n",
       "    <tr>\n",
       "      <th>75%</th>\n",
       "      <td>51.000000</td>\n",
       "      <td>34.693750</td>\n",
       "      <td>2.000000</td>\n",
       "      <td>16639.912515</td>\n",
       "    </tr>\n",
       "    <tr>\n",
       "      <th>max</th>\n",
       "      <td>64.000000</td>\n",
       "      <td>53.130000</td>\n",
       "      <td>5.000000</td>\n",
       "      <td>63770.428010</td>\n",
       "    </tr>\n",
       "  </tbody>\n",
       "</table>\n",
       "</div>"
      ]
     },
     "execution_count": 515,
     "metadata": {},
     "output_type": "execute_result"
    }
   ],
   "execution_count": 515
  },
  {
   "cell_type": "code",
   "id": "e9adcb19",
   "metadata": {
    "ExecuteTime": {
     "end_time": "2025-03-14T01:34:18.253650Z",
     "start_time": "2025-03-14T01:34:18.243288Z"
    }
   },
   "source": [
    "print(\"Missing values in the dataset:\")\n",
    "data.isnull().sum()"
   ],
   "outputs": [
    {
     "name": "stdout",
     "output_type": "stream",
     "text": [
      "Missing values in the dataset:\n"
     ]
    },
    {
     "data": {
      "text/plain": [
       "age         0\n",
       "sex         0\n",
       "bmi         0\n",
       "children    0\n",
       "smoker      0\n",
       "region      0\n",
       "charges     0\n",
       "dtype: int64"
      ]
     },
     "execution_count": 516,
     "metadata": {},
     "output_type": "execute_result"
    }
   ],
   "execution_count": 516
  },
  {
   "metadata": {},
   "cell_type": "markdown",
   "source": "### Seperating Categorical and Numerical Columns",
   "id": "ca904ec6c6f81be7"
  },
  {
   "cell_type": "code",
   "id": "084bcd70",
   "metadata": {
    "ExecuteTime": {
     "end_time": "2025-03-14T01:34:18.326323Z",
     "start_time": "2025-03-14T01:34:18.303917Z"
    }
   },
   "source": [
    "categoricals = data.select_dtypes(include=['object']).columns.tolist()\n",
    "numericals = data.select_dtypes(include=['int64', 'float64']).columns.to_list()\n",
    "categoricals, numericals"
   ],
   "outputs": [
    {
     "data": {
      "text/plain": [
       "(['sex', 'smoker', 'region'], ['age', 'bmi', 'children', 'charges'])"
      ]
     },
     "execution_count": 517,
     "metadata": {},
     "output_type": "execute_result"
    }
   ],
   "execution_count": 517
  },
  {
   "metadata": {},
   "cell_type": "markdown",
   "source": "### Checking for Outliers",
   "id": "87d783e59f77c15a"
  },
  {
   "cell_type": "code",
   "id": "0f3b6226",
   "metadata": {
    "ExecuteTime": {
     "end_time": "2025-03-14T01:34:18.506739Z",
     "start_time": "2025-03-14T01:34:18.490232Z"
    }
   },
   "source": [
    "data.shape\n",
    "def remove_outliers_iqr(df, columns):\n",
    "    for col in columns:\n",
    "        Q1 = df[col].quantile(0.25)  # 25th percentile\n",
    "        Q3 = df[col].quantile(0.75)  # 75th percentile\n",
    "        IQR = Q3 - Q1\n",
    "        lower_bound = Q1 - 1.5 * IQR\n",
    "        upper_bound = Q3 + 1.5 * IQR\n",
    "        df = df[(df[col] >= lower_bound) & (df[col] <= upper_bound)]\n",
    "    return df"
   ],
   "outputs": [],
   "execution_count": 518
  },
  {
   "metadata": {},
   "cell_type": "markdown",
   "source": "### Removing Outliers",
   "id": "68183d1562723a02"
  },
  {
   "cell_type": "code",
   "id": "2bc837f2",
   "metadata": {
    "ExecuteTime": {
     "end_time": "2025-03-14T01:34:18.620487Z",
     "start_time": "2025-03-14T01:34:18.590502Z"
    }
   },
   "source": [
    "data = remove_outliers_iqr(data, ['age', 'children','bmi'])\n",
    "data.shape"
   ],
   "outputs": [
    {
     "data": {
      "text/plain": [
       "(1329, 7)"
      ]
     },
     "execution_count": 519,
     "metadata": {},
     "output_type": "execute_result"
    }
   ],
   "execution_count": 519
  },
  {
   "cell_type": "code",
   "id": "33de49ae",
   "metadata": {
    "ExecuteTime": {
     "end_time": "2025-03-14T01:34:18.762145Z",
     "start_time": "2025-03-14T01:34:18.748330Z"
    }
   },
   "source": [
    "for each in categoricals:\n",
    "    print(each, len(data[each].unique().tolist()))"
   ],
   "outputs": [
    {
     "name": "stdout",
     "output_type": "stream",
     "text": [
      "sex 2\n",
      "smoker 2\n",
      "region 4\n"
     ]
    }
   ],
   "execution_count": 520
  },
  {
   "cell_type": "code",
   "id": "dd9b4739",
   "metadata": {
    "ExecuteTime": {
     "end_time": "2025-03-14T01:34:18.790126Z",
     "start_time": "2025-03-14T01:34:18.768027Z"
    }
   },
   "source": [
    "threshold = 25\n",
    "data[categoricals] = data[categoricals].apply(\n",
    "    lambda each: each.where(each.isin(each.value_counts().nlargest(threshold).index), \"Other\"))"
   ],
   "outputs": [],
   "execution_count": 521
  },
  {
   "cell_type": "code",
   "id": "e706153e",
   "metadata": {
    "ExecuteTime": {
     "end_time": "2025-03-14T01:34:18.823129Z",
     "start_time": "2025-03-14T01:34:18.806346Z"
    }
   },
   "source": [
    "data.head()"
   ],
   "outputs": [
    {
     "data": {
      "text/plain": [
       "   age     sex     bmi  children smoker     region      charges\n",
       "0   19  female  27.900         0    yes  southwest  16884.92400\n",
       "1   18    male  33.770         1     no  southeast   1725.55230\n",
       "2   28    male  33.000         3     no  southeast   4449.46200\n",
       "3   33    male  22.705         0     no  northwest  21984.47061\n",
       "4   32    male  28.880         0     no  northwest   3866.85520"
      ],
      "text/html": [
       "<div>\n",
       "<style scoped>\n",
       "    .dataframe tbody tr th:only-of-type {\n",
       "        vertical-align: middle;\n",
       "    }\n",
       "\n",
       "    .dataframe tbody tr th {\n",
       "        vertical-align: top;\n",
       "    }\n",
       "\n",
       "    .dataframe thead th {\n",
       "        text-align: right;\n",
       "    }\n",
       "</style>\n",
       "<table border=\"1\" class=\"dataframe\">\n",
       "  <thead>\n",
       "    <tr style=\"text-align: right;\">\n",
       "      <th></th>\n",
       "      <th>age</th>\n",
       "      <th>sex</th>\n",
       "      <th>bmi</th>\n",
       "      <th>children</th>\n",
       "      <th>smoker</th>\n",
       "      <th>region</th>\n",
       "      <th>charges</th>\n",
       "    </tr>\n",
       "  </thead>\n",
       "  <tbody>\n",
       "    <tr>\n",
       "      <th>0</th>\n",
       "      <td>19</td>\n",
       "      <td>female</td>\n",
       "      <td>27.900</td>\n",
       "      <td>0</td>\n",
       "      <td>yes</td>\n",
       "      <td>southwest</td>\n",
       "      <td>16884.92400</td>\n",
       "    </tr>\n",
       "    <tr>\n",
       "      <th>1</th>\n",
       "      <td>18</td>\n",
       "      <td>male</td>\n",
       "      <td>33.770</td>\n",
       "      <td>1</td>\n",
       "      <td>no</td>\n",
       "      <td>southeast</td>\n",
       "      <td>1725.55230</td>\n",
       "    </tr>\n",
       "    <tr>\n",
       "      <th>2</th>\n",
       "      <td>28</td>\n",
       "      <td>male</td>\n",
       "      <td>33.000</td>\n",
       "      <td>3</td>\n",
       "      <td>no</td>\n",
       "      <td>southeast</td>\n",
       "      <td>4449.46200</td>\n",
       "    </tr>\n",
       "    <tr>\n",
       "      <th>3</th>\n",
       "      <td>33</td>\n",
       "      <td>male</td>\n",
       "      <td>22.705</td>\n",
       "      <td>0</td>\n",
       "      <td>no</td>\n",
       "      <td>northwest</td>\n",
       "      <td>21984.47061</td>\n",
       "    </tr>\n",
       "    <tr>\n",
       "      <th>4</th>\n",
       "      <td>32</td>\n",
       "      <td>male</td>\n",
       "      <td>28.880</td>\n",
       "      <td>0</td>\n",
       "      <td>no</td>\n",
       "      <td>northwest</td>\n",
       "      <td>3866.85520</td>\n",
       "    </tr>\n",
       "  </tbody>\n",
       "</table>\n",
       "</div>"
      ]
     },
     "execution_count": 522,
     "metadata": {},
     "output_type": "execute_result"
    }
   ],
   "execution_count": 522
  },
  {
   "metadata": {},
   "cell_type": "markdown",
   "source": "### Encoding Categorical Columns",
   "id": "e3d02051b13632b3"
  },
  {
   "cell_type": "code",
   "id": "b1070e63",
   "metadata": {
    "ExecuteTime": {
     "end_time": "2025-03-14T01:34:18.898496Z",
     "start_time": "2025-03-14T01:34:18.875571Z"
    }
   },
   "source": [
    "encoder = LabelEncoder()\n",
    "for each in categoricals:\n",
    "    data[each] = encoder.fit_transform(data[each])"
   ],
   "outputs": [],
   "execution_count": 523
  },
  {
   "cell_type": "code",
   "id": "7aa4a126",
   "metadata": {
    "ExecuteTime": {
     "end_time": "2025-03-14T01:34:18.925108Z",
     "start_time": "2025-03-14T01:34:18.914137Z"
    }
   },
   "source": [
    "data.head()"
   ],
   "outputs": [
    {
     "data": {
      "text/plain": [
       "   age  sex     bmi  children  smoker  region      charges\n",
       "0   19    0  27.900         0       1       3  16884.92400\n",
       "1   18    1  33.770         1       0       2   1725.55230\n",
       "2   28    1  33.000         3       0       2   4449.46200\n",
       "3   33    1  22.705         0       0       1  21984.47061\n",
       "4   32    1  28.880         0       0       1   3866.85520"
      ],
      "text/html": [
       "<div>\n",
       "<style scoped>\n",
       "    .dataframe tbody tr th:only-of-type {\n",
       "        vertical-align: middle;\n",
       "    }\n",
       "\n",
       "    .dataframe tbody tr th {\n",
       "        vertical-align: top;\n",
       "    }\n",
       "\n",
       "    .dataframe thead th {\n",
       "        text-align: right;\n",
       "    }\n",
       "</style>\n",
       "<table border=\"1\" class=\"dataframe\">\n",
       "  <thead>\n",
       "    <tr style=\"text-align: right;\">\n",
       "      <th></th>\n",
       "      <th>age</th>\n",
       "      <th>sex</th>\n",
       "      <th>bmi</th>\n",
       "      <th>children</th>\n",
       "      <th>smoker</th>\n",
       "      <th>region</th>\n",
       "      <th>charges</th>\n",
       "    </tr>\n",
       "  </thead>\n",
       "  <tbody>\n",
       "    <tr>\n",
       "      <th>0</th>\n",
       "      <td>19</td>\n",
       "      <td>0</td>\n",
       "      <td>27.900</td>\n",
       "      <td>0</td>\n",
       "      <td>1</td>\n",
       "      <td>3</td>\n",
       "      <td>16884.92400</td>\n",
       "    </tr>\n",
       "    <tr>\n",
       "      <th>1</th>\n",
       "      <td>18</td>\n",
       "      <td>1</td>\n",
       "      <td>33.770</td>\n",
       "      <td>1</td>\n",
       "      <td>0</td>\n",
       "      <td>2</td>\n",
       "      <td>1725.55230</td>\n",
       "    </tr>\n",
       "    <tr>\n",
       "      <th>2</th>\n",
       "      <td>28</td>\n",
       "      <td>1</td>\n",
       "      <td>33.000</td>\n",
       "      <td>3</td>\n",
       "      <td>0</td>\n",
       "      <td>2</td>\n",
       "      <td>4449.46200</td>\n",
       "    </tr>\n",
       "    <tr>\n",
       "      <th>3</th>\n",
       "      <td>33</td>\n",
       "      <td>1</td>\n",
       "      <td>22.705</td>\n",
       "      <td>0</td>\n",
       "      <td>0</td>\n",
       "      <td>1</td>\n",
       "      <td>21984.47061</td>\n",
       "    </tr>\n",
       "    <tr>\n",
       "      <th>4</th>\n",
       "      <td>32</td>\n",
       "      <td>1</td>\n",
       "      <td>28.880</td>\n",
       "      <td>0</td>\n",
       "      <td>0</td>\n",
       "      <td>1</td>\n",
       "      <td>3866.85520</td>\n",
       "    </tr>\n",
       "  </tbody>\n",
       "</table>\n",
       "</div>"
      ]
     },
     "execution_count": 524,
     "metadata": {},
     "output_type": "execute_result"
    }
   ],
   "execution_count": 524
  },
  {
   "metadata": {},
   "cell_type": "markdown",
   "source": "### Splitting the Data",
   "id": "74ea556b1aa2bdc9"
  },
  {
   "cell_type": "code",
   "id": "a85be748",
   "metadata": {
    "ExecuteTime": {
     "end_time": "2025-03-14T01:34:18.967889Z",
     "start_time": "2025-03-14T01:34:18.959910Z"
    }
   },
   "source": [
    "X = data.drop(columns=['charges']) \n",
    "y = data['charges'] \n",
    "numericals.remove('charges')"
   ],
   "outputs": [],
   "execution_count": 525
  },
  {
   "cell_type": "code",
   "id": "66b2282c",
   "metadata": {
    "ExecuteTime": {
     "end_time": "2025-03-14T01:34:19.004057Z",
     "start_time": "2025-03-14T01:34:18.983528Z"
    }
   },
   "source": [
    "X_train, X_test, y_train, y_test = train_test_split(X, y, test_size=0.2, random_state=42)"
   ],
   "outputs": [],
   "execution_count": 526
  },
  {
   "metadata": {},
   "cell_type": "markdown",
   "source": "### Scaling the Numerical Columns",
   "id": "c5fb3c5402e0287a"
  },
  {
   "cell_type": "code",
   "id": "bd4c55fb",
   "metadata": {
    "ExecuteTime": {
     "end_time": "2025-03-14T01:34:19.169874Z",
     "start_time": "2025-03-14T01:34:19.144436Z"
    }
   },
   "source": [
    "scaler = StandardScaler()\n",
    "X_train[numericals] = scaler.fit_transform(X_train[numericals])\n",
    "X_test[numericals]  = scaler.transform(X_test[numericals])"
   ],
   "outputs": [],
   "execution_count": 527
  },
  {
   "metadata": {},
   "cell_type": "markdown",
   "source": "# Model Building",
   "id": "5ba2d68f67da8525"
  },
  {
   "metadata": {},
   "cell_type": "markdown",
   "source": "### Decision Tree Regressor",
   "id": "278ef4749b7f7589"
  },
  {
   "cell_type": "code",
   "id": "64345dc5",
   "metadata": {
    "ExecuteTime": {
     "end_time": "2025-03-14T01:34:19.240179Z",
     "start_time": "2025-03-14T01:34:19.225014Z"
    }
   },
   "source": [
    "dt_model = DecisionTreeRegressor(max_depth=5, random_state=62)\n",
    "dt_model.fit(X_train, y_train)\n",
    "dt_pred = dt_model.predict(X_test)"
   ],
   "outputs": [],
   "execution_count": 528
  },
  {
   "metadata": {},
   "cell_type": "markdown",
   "source": "### Random Forest Regressor",
   "id": "b363678be289fb33"
  },
  {
   "metadata": {
    "ExecuteTime": {
     "end_time": "2025-03-14T01:34:19.999681Z",
     "start_time": "2025-03-14T01:34:19.360624Z"
    }
   },
   "cell_type": "code",
   "source": [
    "rf_model = RandomForestRegressor(n_estimators=250, max_depth=5, random_state=33)\n",
    "rf_model.fit(X_train, y_train)\n",
    "rf_pred = rf_model.predict(X_test)"
   ],
   "id": "1bda03fc3a981c25",
   "outputs": [],
   "execution_count": 529
  },
  {
   "metadata": {},
   "cell_type": "markdown",
   "source": "### Support Vector Regressor",
   "id": "cabd39568d116aaa"
  },
  {
   "metadata": {
    "ExecuteTime": {
     "end_time": "2025-03-14T01:34:20.455982Z",
     "start_time": "2025-03-14T01:34:19.999681Z"
    }
   },
   "cell_type": "code",
   "source": [
    "svm_model = SVR(kernel='poly', C=10, gamma=10,degree=2)\n",
    "svm_model.fit(X_train, y_train)\n",
    "svm_pred = svm_model.predict(X_test)"
   ],
   "id": "e2f98e7bf564d137",
   "outputs": [],
   "execution_count": 530
  },
  {
   "metadata": {},
   "cell_type": "markdown",
   "source": "# Model Evaluation",
   "id": "4adfa8babda4c4ce"
  },
  {
   "metadata": {
    "ExecuteTime": {
     "end_time": "2025-03-14T01:34:20.464183Z",
     "start_time": "2025-03-14T01:34:20.455982Z"
    }
   },
   "cell_type": "code",
   "source": [
    "def evaluate_model(name, y_test, y_pred):\n",
    "    mse = mean_squared_error(y_test, y_pred)\n",
    "    mae = mean_absolute_error(y_test, y_pred)\n",
    "    r2 = r2_score(y_test, y_pred)\n",
    "    print(f\"{name} Performance:\")\n",
    "    print(f\"MSE: {mse:.4f}, MAE: {mae:.4f}, R²: {r2:.4f}\\n\")"
   ],
   "id": "25e4a68428870527",
   "outputs": [],
   "execution_count": 531
  },
  {
   "metadata": {},
   "cell_type": "markdown",
   "source": "### Evaluating the Models",
   "id": "295d4f20eceb03fd"
  },
  {
   "metadata": {
    "ExecuteTime": {
     "end_time": "2025-03-14T01:34:20.484642Z",
     "start_time": "2025-03-14T01:34:20.464183Z"
    }
   },
   "cell_type": "code",
   "source": [
    "evaluate_model(\"Decision Tree\", y_test, dt_pred)\n",
    "evaluate_model(\"Random Forest\", y_test, rf_pred)\n",
    "evaluate_model(\"SVM\", y_test, svm_pred)"
   ],
   "id": "b096f2642c2e8a98",
   "outputs": [
    {
     "name": "stdout",
     "output_type": "stream",
     "text": [
      "Decision Tree Performance:\n",
      "MSE: 24429759.0577, MAE: 2681.9900, R²: 0.8351\n",
      "\n",
      "Random Forest Performance:\n",
      "MSE: 20155392.5244, MAE: 2381.5949, R²: 0.8639\n",
      "\n",
      "SVM Performance:\n",
      "MSE: 25966840.1320, MAE: 2904.4499, R²: 0.8247\n",
      "\n"
     ]
    }
   ],
   "execution_count": 532
  },
  {
   "metadata": {},
   "cell_type": "markdown",
   "source": "# Visualize Predictions",
   "id": "3b494b6db003bd9f"
  },
  {
   "metadata": {
    "ExecuteTime": {
     "end_time": "2025-03-14T01:34:20.492195Z",
     "start_time": "2025-03-14T01:34:20.484642Z"
    }
   },
   "cell_type": "code",
   "source": [
    "sorted_idx = np.argsort(y_test.values)\n",
    "y_test_sorted = y_test.values[sorted_idx]\n",
    "dt_pred_sorted = dt_pred[sorted_idx]\n",
    "rf_pred_sorted = rf_pred[sorted_idx]\n",
    "svm_pred_sorted = svm_pred[sorted_idx]"
   ],
   "id": "a3b380b256382b74",
   "outputs": [],
   "execution_count": 533
  },
  {
   "metadata": {
    "ExecuteTime": {
     "end_time": "2025-03-14T01:34:20.760541Z",
     "start_time": "2025-03-14T01:34:20.494229Z"
    }
   },
   "cell_type": "code",
   "source": [
    "plt.figure(figsize=(10, 6))\n",
    "plt.plot(y_test_sorted, label=\"Actual Charges\", color=\"black\", linestyle=\"-\", linewidth=2)\n",
    "plt.plot(dt_pred_sorted, label=\"Decision Tree\", color=\"blue\", linestyle=\"--\")\n",
    "plt.plot(rf_pred_sorted, label=\"Random Forest\", color=\"red\", linestyle=\":\")\n",
    "plt.plot(svm_pred_sorted, label=\"SVM\", color=\"green\", linestyle=\"-.\" )\n",
    "plt.xlabel(\"Test Samples (Sorted)\")\n",
    "plt.ylabel(\"Charges\")\n",
    "plt.title(\"Actual vs Predicted Charges for Decision Tree, Random Forest & SVM\")\n",
    "plt.legend()\n",
    "plt.show()"
   ],
   "id": "1214fa91b10e4e74",
   "outputs": [
    {
     "data": {
      "text/plain": [
       "<Figure size 1000x600 with 1 Axes>"
      ],
      "image/png": "[encoded data removed]"
     },
     "metadata": {},
     "output_type": "display_data"
    }
   ],
   "execution_count": 534
  }
 ],
 "metadata": {
  "kernelspec": {
   "display_name": "Python 3 (ipykernel)",
   "language": "python",
   "name": "python3"
  },
  "language_info": {
   "codemirror_mode": {
    "name": "ipython",
    "version": 3
   },
   "file_extension": ".py",
   "mimetype": "text/x-python",
   "name": "python",
   "nbconvert_exporter": "python",
   "pygments_lexer": "ipython3",
   "version": "3.12.7"
  }
 },
 "nbformat": 4,
 "nbformat_minor": 5
}
