{
 "cells": [
  {
   "cell_type": "code",
   "id": "b5b77a38",
   "metadata": {
    "ExecuteTime": {
     "end_time": "2025-03-14T00:20:15.871462Z",
     "start_time": "2025-03-14T00:20:15.863861Z"
    }
   },
   "source": [
    "import numpy as np\n",
    "import pandas as pd\n",
    "from sklearn.model_selection import train_test_split\n",
    "from sklearn.tree import DecisionTreeRegressor\n",
    "from sklearn.ensemble import RandomForestRegressor\n",
    "from sklearn.svm import SVR\n",
    "from sklearn.preprocessing import LabelEncoder, StandardScaler, OrdinalEncoder, OneHotEncoder\n",
    "from sklearn.compose import ColumnTransformer\n",
    "from sklearn.metrics import mean_squared_error, r2_score, mean_absolute_error\n",
    "import matplotlib.pyplot as plt\n",
    "import warnings\n",
    "warnings.simplefilter(action='ignore', category=FutureWarning)"
   ],
   "outputs": [],
   "execution_count": 38
  },
  {
   "metadata": {},
   "cell_type": "markdown",
   "source": "Kaggle Dataset Link:  https://www.kaggle.com/datasets/altruistdelhite04/gold-price-data/data",
   "id": "a8b25c2c683f7cb7"
  },
  {
   "metadata": {},
   "cell_type": "markdown",
   "source": "# Load the Data",
   "id": "2c1253630f094ba9"
  },
  {
   "cell_type": "code",
   "id": "da8da326",
   "metadata": {
    "ExecuteTime": {
     "end_time": "2025-03-14T00:20:15.956057Z",
     "start_time": "2025-03-14T00:20:15.948483Z"
    }
   },
   "source": "data = pd.read_csv(\"gold.csv\")",
   "outputs": [],
   "execution_count": 39
  },
  {
   "metadata": {},
   "cell_type": "markdown",
   "source": "# Data Exploration",
   "id": "24a11d0244505d0b"
  },
  {
   "cell_type": "code",
   "id": "9c120fb9",
   "metadata": {
    "ExecuteTime": {
     "end_time": "2025-03-14T00:20:15.981924Z",
     "start_time": "2025-03-14T00:20:15.971880Z"
    }
   },
   "source": "data.shape",
   "outputs": [
    {
     "data": {
      "text/plain": [
       "(2290, 6)"
      ]
     },
     "execution_count": 40,
     "metadata": {},
     "output_type": "execute_result"
    }
   ],
   "execution_count": 40
  },
  {
   "cell_type": "code",
   "id": "ac1de01e",
   "metadata": {
    "ExecuteTime": {
     "end_time": "2025-03-14T00:20:16.034578Z",
     "start_time": "2025-03-14T00:20:16.018924Z"
    }
   },
   "source": "data.head()",
   "outputs": [
    {
     "data": {
      "text/plain": [
       "       Date          SPX        GLD        USO     SLV   EUR/USD\n",
       "0  1/2/2008  1447.160034  84.860001  78.470001  15.180  1.471692\n",
       "1  1/3/2008  1447.160034  85.570000  78.370003  15.285  1.474491\n",
       "2  1/4/2008  1411.630005  85.129997  77.309998  15.167  1.475492\n",
       "3  1/7/2008  1416.180054  84.769997  75.500000  15.053  1.468299\n",
       "4  1/8/2008  1390.189941  86.779999  76.059998  15.590  1.557099"
      ],
      "text/html": [
       "<div>\n",
       "<style scoped>\n",
       "    .dataframe tbody tr th:only-of-type {\n",
       "        vertical-align: middle;\n",
       "    }\n",
       "\n",
       "    .dataframe tbody tr th {\n",
       "        vertical-align: top;\n",
       "    }\n",
       "\n",
       "    .dataframe thead th {\n",
       "        text-align: right;\n",
       "    }\n",
       "</style>\n",
       "<table border=\"1\" class=\"dataframe\">\n",
       "  <thead>\n",
       "    <tr style=\"text-align: right;\">\n",
       "      <th></th>\n",
       "      <th>Date</th>\n",
       "      <th>SPX</th>\n",
       "      <th>GLD</th>\n",
       "      <th>USO</th>\n",
       "      <th>SLV</th>\n",
       "      <th>EUR/USD</th>\n",
       "    </tr>\n",
       "  </thead>\n",
       "  <tbody>\n",
       "    <tr>\n",
       "      <th>0</th>\n",
       "      <td>1/2/2008</td>\n",
       "      <td>1447.160034</td>\n",
       "      <td>84.860001</td>\n",
       "      <td>78.470001</td>\n",
       "      <td>15.180</td>\n",
       "      <td>1.471692</td>\n",
       "    </tr>\n",
       "    <tr>\n",
       "      <th>1</th>\n",
       "      <td>1/3/2008</td>\n",
       "      <td>1447.160034</td>\n",
       "      <td>85.570000</td>\n",
       "      <td>78.370003</td>\n",
       "      <td>15.285</td>\n",
       "      <td>1.474491</td>\n",
       "    </tr>\n",
       "    <tr>\n",
       "      <th>2</th>\n",
       "      <td>1/4/2008</td>\n",
       "      <td>1411.630005</td>\n",
       "      <td>85.129997</td>\n",
       "      <td>77.309998</td>\n",
       "      <td>15.167</td>\n",
       "      <td>1.475492</td>\n",
       "    </tr>\n",
       "    <tr>\n",
       "      <th>3</th>\n",
       "      <td>1/7/2008</td>\n",
       "      <td>1416.180054</td>\n",
       "      <td>84.769997</td>\n",
       "      <td>75.500000</td>\n",
       "      <td>15.053</td>\n",
       "      <td>1.468299</td>\n",
       "    </tr>\n",
       "    <tr>\n",
       "      <th>4</th>\n",
       "      <td>1/8/2008</td>\n",
       "      <td>1390.189941</td>\n",
       "      <td>86.779999</td>\n",
       "      <td>76.059998</td>\n",
       "      <td>15.590</td>\n",
       "      <td>1.557099</td>\n",
       "    </tr>\n",
       "  </tbody>\n",
       "</table>\n",
       "</div>"
      ]
     },
     "execution_count": 41,
     "metadata": {},
     "output_type": "execute_result"
    }
   ],
   "execution_count": 41
  },
  {
   "metadata": {},
   "cell_type": "markdown",
   "source": [
    "\n",
    "## Columns Description:\n",
    "  -  Date - date (MM/dd/yyyy format)\n",
    "  -   SPX - stands for The Standard and Poor's 500 index, or simply the S&P 500. It is a stock  market index used for tracking the stock performance of 500 of the largest companies listed on stock exchanges in USA\n",
    "  -  GLD - gold price\n",
    "  - USO - stands for \"The United States Oil Fund ® LP (USO)\". It is an exchange-traded security whose shares may be purchased and sold on the NYSE Arca\n",
    "  -  SLV - silver price\n",
    "  - EUR/USD - Euro to US dollar exchange ratio"
   ],
   "id": "637c10776a82f593"
  },
  {
   "cell_type": "code",
   "id": "e7062ae6",
   "metadata": {
    "ExecuteTime": {
     "end_time": "2025-03-14T00:20:16.048537Z",
     "start_time": "2025-03-14T00:20:16.034578Z"
    }
   },
   "source": "data.info()",
   "outputs": [
    {
     "name": "stdout",
     "output_type": "stream",
     "text": [
      "<class 'pandas.core.frame.DataFrame'>\n",
      "RangeIndex: 2290 entries, 0 to 2289\n",
      "Data columns (total 6 columns):\n",
      " #   Column   Non-Null Count  Dtype  \n",
      "---  ------   --------------  -----  \n",
      " 0   Date     2290 non-null   object \n",
      " 1   SPX      2290 non-null   float64\n",
      " 2   GLD      2290 non-null   float64\n",
      " 3   USO      2290 non-null   float64\n",
      " 4   SLV      2290 non-null   float64\n",
      " 5   EUR/USD  2290 non-null   float64\n",
      "dtypes: float64(5), object(1)\n",
      "memory usage: 107.5+ KB\n"
     ]
    }
   ],
   "execution_count": 42
  },
  {
   "cell_type": "code",
   "id": "adcab17c",
   "metadata": {
    "ExecuteTime": {
     "end_time": "2025-03-14T00:20:16.067446Z",
     "start_time": "2025-03-14T00:20:16.048537Z"
    }
   },
   "source": "data.describe()",
   "outputs": [
    {
     "data": {
      "text/plain": [
       "               SPX          GLD          USO          SLV      EUR/USD\n",
       "count  2290.000000  2290.000000  2290.000000  2290.000000  2290.000000\n",
       "mean   1654.315776   122.732875    31.842221    20.084997     1.283653\n",
       "std     519.111540    23.283346    19.523517     7.092566     0.131547\n",
       "min     676.530029    70.000000     7.960000     8.850000     1.039047\n",
       "25%    1239.874969   109.725000    14.380000    15.570000     1.171313\n",
       "50%    1551.434998   120.580002    33.869999    17.268500     1.303297\n",
       "75%    2073.010070   132.840004    37.827501    22.882500     1.369971\n",
       "max    2872.870117   184.589996   117.480003    47.259998     1.598798"
      ],
      "text/html": [
       "<div>\n",
       "<style scoped>\n",
       "    .dataframe tbody tr th:only-of-type {\n",
       "        vertical-align: middle;\n",
       "    }\n",
       "\n",
       "    .dataframe tbody tr th {\n",
       "        vertical-align: top;\n",
       "    }\n",
       "\n",
       "    .dataframe thead th {\n",
       "        text-align: right;\n",
       "    }\n",
       "</style>\n",
       "<table border=\"1\" class=\"dataframe\">\n",
       "  <thead>\n",
       "    <tr style=\"text-align: right;\">\n",
       "      <th></th>\n",
       "      <th>SPX</th>\n",
       "      <th>GLD</th>\n",
       "      <th>USO</th>\n",
       "      <th>SLV</th>\n",
       "      <th>EUR/USD</th>\n",
       "    </tr>\n",
       "  </thead>\n",
       "  <tbody>\n",
       "    <tr>\n",
       "      <th>count</th>\n",
       "      <td>2290.000000</td>\n",
       "      <td>2290.000000</td>\n",
       "      <td>2290.000000</td>\n",
       "      <td>2290.000000</td>\n",
       "      <td>2290.000000</td>\n",
       "    </tr>\n",
       "    <tr>\n",
       "      <th>mean</th>\n",
       "      <td>1654.315776</td>\n",
       "      <td>122.732875</td>\n",
       "      <td>31.842221</td>\n",
       "      <td>20.084997</td>\n",
       "      <td>1.283653</td>\n",
       "    </tr>\n",
       "    <tr>\n",
       "      <th>std</th>\n",
       "      <td>519.111540</td>\n",
       "      <td>23.283346</td>\n",
       "      <td>19.523517</td>\n",
       "      <td>7.092566</td>\n",
       "      <td>0.131547</td>\n",
       "    </tr>\n",
       "    <tr>\n",
       "      <th>min</th>\n",
       "      <td>676.530029</td>\n",
       "      <td>70.000000</td>\n",
       "      <td>7.960000</td>\n",
       "      <td>8.850000</td>\n",
       "      <td>1.039047</td>\n",
       "    </tr>\n",
       "    <tr>\n",
       "      <th>25%</th>\n",
       "      <td>1239.874969</td>\n",
       "      <td>109.725000</td>\n",
       "      <td>14.380000</td>\n",
       "      <td>15.570000</td>\n",
       "      <td>1.171313</td>\n",
       "    </tr>\n",
       "    <tr>\n",
       "      <th>50%</th>\n",
       "      <td>1551.434998</td>\n",
       "      <td>120.580002</td>\n",
       "      <td>33.869999</td>\n",
       "      <td>17.268500</td>\n",
       "      <td>1.303297</td>\n",
       "    </tr>\n",
       "    <tr>\n",
       "      <th>75%</th>\n",
       "      <td>2073.010070</td>\n",
       "      <td>132.840004</td>\n",
       "      <td>37.827501</td>\n",
       "      <td>22.882500</td>\n",
       "      <td>1.369971</td>\n",
       "    </tr>\n",
       "    <tr>\n",
       "      <th>max</th>\n",
       "      <td>2872.870117</td>\n",
       "      <td>184.589996</td>\n",
       "      <td>117.480003</td>\n",
       "      <td>47.259998</td>\n",
       "      <td>1.598798</td>\n",
       "    </tr>\n",
       "  </tbody>\n",
       "</table>\n",
       "</div>"
      ]
     },
     "execution_count": 43,
     "metadata": {},
     "output_type": "execute_result"
    }
   ],
   "execution_count": 43
  },
  {
   "metadata": {},
   "cell_type": "markdown",
   "source": "# Missing Values",
   "id": "c3cbd239c0684902"
  },
  {
   "cell_type": "code",
   "id": "c27de690",
   "metadata": {
    "ExecuteTime": {
     "end_time": "2025-03-14T00:20:16.083231Z",
     "start_time": "2025-03-14T00:20:16.067446Z"
    }
   },
   "source": [
    "print(\"\\nMissing values in the dataset:\")\n",
    "data.isnull().sum()"
   ],
   "outputs": [
    {
     "name": "stdout",
     "output_type": "stream",
     "text": [
      "\n",
      "Missing values in the dataset:\n"
     ]
    },
    {
     "data": {
      "text/plain": [
       "Date       0\n",
       "SPX        0\n",
       "GLD        0\n",
       "USO        0\n",
       "SLV        0\n",
       "EUR/USD    0\n",
       "dtype: int64"
      ]
     },
     "execution_count": 44,
     "metadata": {},
     "output_type": "execute_result"
    }
   ],
   "execution_count": 44
  },
  {
   "metadata": {},
   "cell_type": "markdown",
   "source": "There are no missing values in the dataset.",
   "id": "8f74ea74e9f393f1"
  },
  {
   "metadata": {},
   "cell_type": "markdown",
   "source": "### Separate Categorical and Numerical Columns",
   "id": "e5db5a6e00c39620"
  },
  {
   "cell_type": "code",
   "id": "abb3876f",
   "metadata": {
    "ExecuteTime": {
     "end_time": "2025-03-14T00:20:16.094633Z",
     "start_time": "2025-03-14T00:20:16.083231Z"
    }
   },
   "source": [
    "categoricals = data.select_dtypes(include=['object']).columns.tolist()\n",
    "numericals = data.select_dtypes(include=['int64', 'float64']).columns.to_list()\n",
    "categoricals, numericals"
   ],
   "outputs": [
    {
     "data": {
      "text/plain": [
       "(['Date'], ['SPX', 'GLD', 'USO', 'SLV', 'EUR/USD'])"
      ]
     },
     "execution_count": 45,
     "metadata": {},
     "output_type": "execute_result"
    }
   ],
   "execution_count": 45
  },
  {
   "metadata": {},
   "cell_type": "markdown",
   "source": "### Drop Date Column",
   "id": "4be95a2794994ede"
  },
  {
   "cell_type": "code",
   "id": "e97c3373",
   "metadata": {
    "ExecuteTime": {
     "end_time": "2025-03-14T00:20:16.170361Z",
     "start_time": "2025-03-14T00:20:16.150105Z"
    }
   },
   "source": [
    "data = data.drop('Date',axis=1)\n",
    "data.shape"
   ],
   "outputs": [
    {
     "data": {
      "text/plain": [
       "(2290, 5)"
      ]
     },
     "execution_count": 46,
     "metadata": {},
     "output_type": "execute_result"
    }
   ],
   "execution_count": 46
  },
  {
   "metadata": {},
   "cell_type": "markdown",
   "source": "### Outliers Detection",
   "id": "8a5af4914cd3befc"
  },
  {
   "cell_type": "code",
   "id": "504d4730",
   "metadata": {
    "ExecuteTime": {
     "end_time": "2025-03-14T00:20:16.216497Z",
     "start_time": "2025-03-14T00:20:16.203263Z"
    }
   },
   "source": [
    "def remove_outliers_iqr(df, columns):\n",
    "    for col in columns:\n",
    "        Q1 = df[col].quantile(0.25)  # 25th percentile\n",
    "        Q3 = df[col].quantile(0.75)  # 75th percentile\n",
    "        IQR = Q3 - Q1\n",
    "        lower_bound = Q1 - 1.5 * IQR\n",
    "        upper_bound = Q3 + 1.5 * IQR\n",
    "        df = df[(df[col] >= lower_bound) & (df[col] <= upper_bound)]\n",
    "    return df"
   ],
   "outputs": [],
   "execution_count": 47
  },
  {
   "metadata": {},
   "cell_type": "markdown",
   "source": "### Remove Outliers",
   "id": "d0befbb634a5c7bf"
  },
  {
   "metadata": {
    "ExecuteTime": {
     "end_time": "2025-03-14T00:20:16.378202Z",
     "start_time": "2025-03-14T00:20:16.350288Z"
    }
   },
   "cell_type": "code",
   "source": [
    "data = remove_outliers_iqr(data, [each for each in numericals])\n",
    "data.shape"
   ],
   "id": "4c3bbf81fd8742df",
   "outputs": [
    {
     "data": {
      "text/plain": [
       "(1909, 5)"
      ]
     },
     "execution_count": 48,
     "metadata": {},
     "output_type": "execute_result"
    }
   ],
   "execution_count": 48
  },
  {
   "cell_type": "code",
   "id": "388f241d",
   "metadata": {
    "ExecuteTime": {
     "end_time": "2025-03-14T00:20:16.493582Z",
     "start_time": "2025-03-14T00:20:16.476117Z"
    }
   },
   "source": "data.head()",
   "outputs": [
    {
     "data": {
      "text/plain": [
       "            SPX        GLD        USO        SLV   EUR/USD\n",
       "6   1420.329956  88.250000  74.019997  16.061001  1.480100\n",
       "7   1401.020020  88.580002  73.089996  16.077000  1.479006\n",
       "9   1380.949951  87.989998  72.779999  15.834000  1.480210\n",
       "10  1373.199951  86.699997  71.849998  15.654000  1.466405\n",
       "11  1333.250000  86.500000  71.029999  15.717000  1.464000"
      ],
      "text/html": [
       "<div>\n",
       "<style scoped>\n",
       "    .dataframe tbody tr th:only-of-type {\n",
       "        vertical-align: middle;\n",
       "    }\n",
       "\n",
       "    .dataframe tbody tr th {\n",
       "        vertical-align: top;\n",
       "    }\n",
       "\n",
       "    .dataframe thead th {\n",
       "        text-align: right;\n",
       "    }\n",
       "</style>\n",
       "<table border=\"1\" class=\"dataframe\">\n",
       "  <thead>\n",
       "    <tr style=\"text-align: right;\">\n",
       "      <th></th>\n",
       "      <th>SPX</th>\n",
       "      <th>GLD</th>\n",
       "      <th>USO</th>\n",
       "      <th>SLV</th>\n",
       "      <th>EUR/USD</th>\n",
       "    </tr>\n",
       "  </thead>\n",
       "  <tbody>\n",
       "    <tr>\n",
       "      <th>6</th>\n",
       "      <td>1420.329956</td>\n",
       "      <td>88.250000</td>\n",
       "      <td>74.019997</td>\n",
       "      <td>16.061001</td>\n",
       "      <td>1.480100</td>\n",
       "    </tr>\n",
       "    <tr>\n",
       "      <th>7</th>\n",
       "      <td>1401.020020</td>\n",
       "      <td>88.580002</td>\n",
       "      <td>73.089996</td>\n",
       "      <td>16.077000</td>\n",
       "      <td>1.479006</td>\n",
       "    </tr>\n",
       "    <tr>\n",
       "      <th>9</th>\n",
       "      <td>1380.949951</td>\n",
       "      <td>87.989998</td>\n",
       "      <td>72.779999</td>\n",
       "      <td>15.834000</td>\n",
       "      <td>1.480210</td>\n",
       "    </tr>\n",
       "    <tr>\n",
       "      <th>10</th>\n",
       "      <td>1373.199951</td>\n",
       "      <td>86.699997</td>\n",
       "      <td>71.849998</td>\n",
       "      <td>15.654000</td>\n",
       "      <td>1.466405</td>\n",
       "    </tr>\n",
       "    <tr>\n",
       "      <th>11</th>\n",
       "      <td>1333.250000</td>\n",
       "      <td>86.500000</td>\n",
       "      <td>71.029999</td>\n",
       "      <td>15.717000</td>\n",
       "      <td>1.464000</td>\n",
       "    </tr>\n",
       "  </tbody>\n",
       "</table>\n",
       "</div>"
      ]
     },
     "execution_count": 49,
     "metadata": {},
     "output_type": "execute_result"
    }
   ],
   "execution_count": 49
  },
  {
   "metadata": {},
   "cell_type": "markdown",
   "source": "### Split Data into Features and Target",
   "id": "197916735108bc70"
  },
  {
   "cell_type": "code",
   "id": "08d8868b",
   "metadata": {
    "ExecuteTime": {
     "end_time": "2025-03-14T00:20:16.663041Z",
     "start_time": "2025-03-14T00:20:16.646892Z"
    }
   },
   "source": [
    "X = data.drop(columns=['GLD']) # All columns except Target column\n",
    "y = data['GLD'] # Target column\n",
    "numericals.remove('GLD')"
   ],
   "outputs": [],
   "execution_count": 50
  },
  {
   "metadata": {},
   "cell_type": "markdown",
   "source": "### Train Test Split",
   "id": "2a08e2d4a09641c3"
  },
  {
   "cell_type": "code",
   "id": "7543e1c8",
   "metadata": {
    "ExecuteTime": {
     "end_time": "2025-03-14T00:20:16.746538Z",
     "start_time": "2025-03-14T00:20:16.735191Z"
    }
   },
   "source": "X_train, X_test, y_train, y_test = train_test_split(X, y, test_size=0.2, random_state=42)",
   "outputs": [],
   "execution_count": 51
  },
  {
   "metadata": {},
   "cell_type": "markdown",
   "source": "### Standardize Numerical Features",
   "id": "55cd89e315623e96"
  },
  {
   "cell_type": "code",
   "id": "04ff43b7",
   "metadata": {
    "ExecuteTime": {
     "end_time": "2025-03-14T00:20:16.810284Z",
     "start_time": "2025-03-14T00:20:16.793486Z"
    }
   },
   "source": [
    "scaler = StandardScaler()\n",
    "X_train[numericals] = scaler.fit_transform(X_train[numericals])\n",
    "X_test[numericals]  = scaler.transform(X_test[numericals])"
   ],
   "outputs": [],
   "execution_count": 52
  },
  {
   "metadata": {},
   "cell_type": "markdown",
   "source": "# Model Building",
   "id": "d5584b4901b1cbd2"
  },
  {
   "metadata": {},
   "cell_type": "markdown",
   "source": "### Decision Tree Regressor",
   "id": "d726ef378f4796eb"
  },
  {
   "cell_type": "code",
   "id": "c117751a",
   "metadata": {
    "ExecuteTime": {
     "end_time": "2025-03-14T00:20:16.940239Z",
     "start_time": "2025-03-14T00:20:16.919995Z"
    }
   },
   "source": [
    "dt_model = DecisionTreeRegressor(max_depth=5, random_state=62)\n",
    "dt_model.fit(X_train, y_train)\n",
    "dt_pred = dt_model.predict(X_test)"
   ],
   "outputs": [],
   "execution_count": 53
  },
  {
   "metadata": {},
   "cell_type": "markdown",
   "source": "### Random Forest Regressor",
   "id": "6a389600be41852b"
  },
  {
   "cell_type": "code",
   "id": "1c837a77",
   "metadata": {
    "ExecuteTime": {
     "end_time": "2025-03-14T00:20:17.851657Z",
     "start_time": "2025-03-14T00:20:16.940239Z"
    }
   },
   "source": [
    "rf_model = RandomForestRegressor(n_estimators=250, max_depth=5, random_state=33)\n",
    "rf_model.fit(X_train, y_train)\n",
    "rf_pred = rf_model.predict(X_test)"
   ],
   "outputs": [],
   "execution_count": 54
  },
  {
   "metadata": {},
   "cell_type": "markdown",
   "source": "### Support Vector Machine Regressor",
   "id": "f24ea9097297f8b1"
  },
  {
   "cell_type": "code",
   "id": "a54ac3ec",
   "metadata": {
    "ExecuteTime": {
     "end_time": "2025-03-14T00:20:17.992384Z",
     "start_time": "2025-03-14T00:20:17.852249Z"
    }
   },
   "source": [
    "svm_model = SVR(kernel='rbf', C=100, gamma=0.1)\n",
    "svm_model.fit(X_train, y_train)\n",
    "svm_pred = svm_model.predict(X_test)"
   ],
   "outputs": [],
   "execution_count": 55
  },
  {
   "metadata": {},
   "cell_type": "markdown",
   "source": "# Evaluate Models",
   "id": "1bed0221cd11b75b"
  },
  {
   "cell_type": "code",
   "id": "919315e4",
   "metadata": {
    "ExecuteTime": {
     "end_time": "2025-03-14T00:20:18.006278Z",
     "start_time": "2025-03-14T00:20:17.992384Z"
    }
   },
   "source": [
    "def evaluate_model(name, y_test, y_pred):\n",
    "\n",
    "    mse = mean_squared_error(y_test, y_pred)\n",
    "\n",
    "    mae = mean_absolute_error(y_test, y_pred)\n",
    "\n",
    "    r2 = r2_score(y_test, y_pred)\n",
    "\n",
    "    print(f\"{name} Performance:\")\n",
    "\n",
    "    print(f\"MSE: {mse:.4f}, MAE: {mae:.4f}, R²: {r2:.4f}\\n\")\n",
    "\n",
    "\n"
   ],
   "outputs": [],
   "execution_count": 56
  },
  {
   "cell_type": "code",
   "id": "eb1e43e6",
   "metadata": {
    "ExecuteTime": {
     "end_time": "2025-03-14T00:20:18.082791Z",
     "start_time": "2025-03-14T00:20:18.009888Z"
    }
   },
   "source": [
    "evaluate_model(\"Decision Tree\", y_test, dt_pred)\n",
    "evaluate_model(\"Random Forest\", y_test, rf_pred)\n",
    "evaluate_model(\"SVM\", y_test, svm_pred)"
   ],
   "outputs": [
    {
     "name": "stdout",
     "output_type": "stream",
     "text": [
      "Decision Tree Performance:\n",
      "MSE: 24.4408, MAE: 3.6255, R²: 0.9332\n",
      "\n",
      "Random Forest Performance:\n",
      "MSE: 16.2949, MAE: 3.1036, R²: 0.9554\n",
      "\n",
      "SVM Performance:\n",
      "MSE: 17.4821, MAE: 2.3646, R²: 0.9522\n",
      "\n"
     ]
    }
   ],
   "execution_count": 57
  },
  {
   "metadata": {},
   "cell_type": "markdown",
   "source": "# Visualize Predictions",
   "id": "bd54b8cb0c25c603"
  },
  {
   "cell_type": "code",
   "id": "b6797aa0",
   "metadata": {
    "ExecuteTime": {
     "end_time": "2025-03-14T00:20:18.095870Z",
     "start_time": "2025-03-14T00:20:18.082791Z"
    }
   },
   "source": [
    "sorted_idx = np.argsort(y_test.values)\n",
    "y_test_sorted = y_test.values[sorted_idx]\n",
    "dt_pred_sorted = dt_pred[sorted_idx]\n",
    "rf_pred_sorted = rf_pred[sorted_idx]\n",
    "svm_pred_sorted = svm_pred[sorted_idx]"
   ],
   "outputs": [],
   "execution_count": 58
  },
  {
   "cell_type": "code",
   "id": "ca5a45d6",
   "metadata": {
    "ExecuteTime": {
     "end_time": "2025-03-14T00:20:18.245338Z",
     "start_time": "2025-03-14T00:20:18.095870Z"
    }
   },
   "source": [
    "plt.figure(figsize=(10, 6))\n",
    "plt.plot(y_test_sorted, label=\"Actual Gold Price\", color=\"black\", linestyle=\"-\", linewidth=2)\n",
    "plt.plot(dt_pred_sorted, label=\"Decision Tree\", color=\"blue\", linestyle=\"--\")\n",
    "plt.plot(rf_pred_sorted, label=\"Random Forest\", color=\"red\", linestyle=\":\")\n",
    "plt.plot(svm_pred_sorted, label=\"SVM\", color=\"green\", linestyle=\"-.\" )\n",
    "plt.xlabel(\"Test Samples (Sorted)\")\n",
    "plt.ylabel(\"Gold Price\")\n",
    "plt.title(\"Actual vs Predicted Gold Price for Decision Tree, Random Forest & SVM\")\n",
    "plt.legend()\n",
    "plt.show()"
   ],
   "outputs": [
    {
     "data": {
      "text/plain": [
       "<Figure size 1000x600 with 1 Axes>"
      ],
      "image/png": "[encoded data removed]"
     },
     "metadata": {},
     "output_type": "display_data"
    }
   ],
   "execution_count": 59
  },
  {
   "metadata": {},
   "cell_type": "markdown",
   "source": [
    "\n",
    "# Conclusion:\n",
    "- SVM provides the best overall performance, as it follows the actual price with the least fluctuation.\n",
    "- Decision Tree struggles with overfitting, making it unreliable for stable predictions.\n",
    "- Random Forest balances stability and flexibility, making it a strong contender."
   ],
   "id": "c435d763d759db4d"
  }
 ],
 "metadata": {
  "kernelspec": {
   "name": "python3",
   "language": "python",
   "display_name": "Python 3 (ipykernel)"
  }
 },
 "nbformat": 4,
 "nbformat_minor": 5
}
