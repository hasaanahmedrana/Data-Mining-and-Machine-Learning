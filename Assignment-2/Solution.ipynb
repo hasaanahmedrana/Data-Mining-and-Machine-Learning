{
 "cells": [
  {
   "metadata": {
    "ExecuteTime": {
     "end_time": "2025-02-17T18:52:11.450840Z",
     "start_time": "2025-02-17T18:52:11.443410Z"
    }
   },
   "cell_type": "code",
   "source": [
    "import pandas as pd\n",
    "import numpy as np\n",
    "import matplotlib.pyplot as plt\n",
    "import seaborn as sns\n",
    "from sklearn.model_selection import train_test_split\n",
    "from sklearn.linear_model import LinearRegression\n",
    "from sklearn.metrics import mean_squared_error, r2_score\n",
    "from sklearn.preprocessing import StandardScaler"
   ],
   "id": "db167fb10d438352",
   "execution_count": 87,
   "outputs": []
  },
  {
   "metadata": {},
   "cell_type": "markdown",
   "source": "#### Link to the Dataset: https://www.kaggle.com/datasets/prokshitha/home-value-insights/data",
   "id": "3b667eb6f052b893"
  },
  {
   "metadata": {},
   "cell_type": "markdown",
   "source": "# Load the dataset",
   "id": "5044ff30031df51a"
  },
  {
   "metadata": {
    "ExecuteTime": {
     "end_time": "2025-02-17T18:52:11.517903Z",
     "start_time": "2025-02-17T18:52:11.495748Z"
    }
   },
   "cell_type": "code",
   "source": "df=pd.read_csv('house_price_regression_dataset.csv')",
   "id": "86cd2c72915158fb",
   "execution_count": 88,
   "outputs": []
  },
  {
   "metadata": {},
   "cell_type": "markdown",
   "source": "# Understand the dataset",
   "id": "d5dc41b825702e5d"
  },
  {
   "metadata": {
    "ExecuteTime": {
     "end_time": "2025-02-17T18:52:11.525164Z",
     "start_time": "2025-02-17T18:52:11.517903Z"
    }
   },
   "cell_type": "code",
   "source": "df.shape",
   "id": "a54f60b271db5386",
   "execution_count": 89,
   "outputs": []
  },
  {
   "metadata": {
    "ExecuteTime": {
     "end_time": "2025-02-17T18:52:11.537004Z",
     "start_time": "2025-02-17T18:52:11.525164Z"
    }
   },
   "cell_type": "code",
   "source": "df.head()",
   "id": "a4acf5a610363fe6",
   "execution_count": 90,
   "outputs": []
  },
  {
   "metadata": {
    "ExecuteTime": {
     "end_time": "2025-02-17T18:52:11.546037Z",
     "start_time": "2025-02-17T18:52:11.537004Z"
    }
   },
   "cell_type": "code",
   "source": "df.info()",
   "id": "fd7f6a2253de7472",
   "execution_count": 91,
   "outputs": []
  },
  {
   "metadata": {
    "ExecuteTime": {
     "end_time": "2025-02-17T18:52:11.567801Z",
     "start_time": "2025-02-17T18:52:11.546037Z"
    }
   },
   "cell_type": "code",
   "source": "df.describe()",
   "id": "a81e2f2b5dbe7d5d",
   "execution_count": 92,
   "outputs": []
  },
  {
   "metadata": {
    "ExecuteTime": {
     "end_time": "2025-02-17T18:52:11.574347Z",
     "start_time": "2025-02-17T18:52:11.567801Z"
    }
   },
   "cell_type": "code",
   "source": "df.isnull().sum()",
   "id": "cafbf7167d796929",
   "execution_count": 93,
   "outputs": []
  },
  {
   "metadata": {
    "ExecuteTime": {
     "end_time": "2025-02-17T18:52:11.585811Z",
     "start_time": "2025-02-17T18:52:11.574347Z"
    }
   },
   "cell_type": "code",
   "source": "df.duplicated().sum()",
   "id": "35ce8dd3d07b1386",
   "execution_count": 94,
   "outputs": []
  },
  {
   "metadata": {
    "ExecuteTime": {
     "end_time": "2025-02-17T18:52:11.592807Z",
     "start_time": "2025-02-17T18:52:11.585811Z"
    }
   },
   "cell_type": "code",
   "source": [
    "scaler = StandardScaler()\n",
    "X_scaled = scaler.fit_transform(X)\n",
    "\n",
    "train_sizes = [0.5, 0.75]  \n",
    "test_size = 0.3\n",
    "random_seed = 42"
   ],
   "id": "42927c2090864d49",
   "execution_count": 95,
   "outputs": []
  },
  {
   "metadata": {},
   "cell_type": "markdown",
   "source": "# Train Test Split",
   "id": "646aa53ac4d5cc24"
  },
  {
   "metadata": {
    "ExecuteTime": {
     "end_time": "2025-02-17T18:52:11.625082Z",
     "start_time": "2025-02-17T18:52:11.610373Z"
    }
   },
   "cell_type": "code",
   "source": [
    "target = 'House_Price'\n",
    "features = [col for col in df.columns if col != target]"
   ],
   "id": "9d933bd3ab02422f",
   "execution_count": 96,
   "outputs": []
  },
  {
   "metadata": {
    "ExecuteTime": {
     "end_time": "2025-02-17T18:52:11.687872Z",
     "start_time": "2025-02-17T18:52:11.674912Z"
    }
   },
   "cell_type": "code",
   "source": [
    "X = df[features]\n",
    "y = df[target]"
   ],
   "id": "6ba7147e42e73bde",
   "execution_count": 97,
   "outputs": []
  },
  {
   "metadata": {
    "ExecuteTime": {
     "end_time": "2025-02-17T18:52:11.821524Z",
     "start_time": "2025-02-17T18:52:11.809864Z"
    }
   },
   "cell_type": "code",
   "source": [
    "def evaluate_model(X, y, test_size, random_seed, dataset_fraction):\n",
    "    # Reduce dataset size if needed\n",
    "    X_sample, _, y_sample, _ = train_test_split(X, y, train_size=dataset_fraction, random_state=random_seed)\n",
    "\n",
    "    # Split into training and testing sets\n",
    "    X_train, X_test, y_train, y_test = train_test_split(X_sample, y_sample, test_size=test_size,\n",
    "                                                        random_state=random_seed)\n",
    "\n",
    "    # Train the model\n",
    "    model = LinearRegression()\n",
    "    model.fit(X_train, y_train)\n",
    "\n",
    "    # Predictions\n",
    "    y_pred = model.predict(X_test)\n",
    "\n",
    "    # Evaluation metrics\n",
    "    mse = mean_squared_error(y_test, y_pred)\n",
    "    r2 = r2_score(y_test, y_pred)\n",
    "\n",
    "    # Print evaluation results\n",
    "    print(f\"\\nTrain Size: {dataset_fraction * 100}% | Test Size: {test_size * 100}% | Random Seed: {random_seed}\")\n",
    "    print(f\"Mean Squared Error: {mse:.2f}\")\n",
    "    print(f\"R² Score: {r2:.4f}\")\n",
    "\n",
    "    return mse, r2"
   ],
   "id": "91de41fa3b08c372",
   "execution_count": 98,
   "outputs": []
  },
  {
   "metadata": {
    "ExecuteTime": {
     "end_time": "2025-02-17T18:52:11.836265Z",
     "start_time": "2025-02-17T18:52:11.828033Z"
    }
   },
   "cell_type": "code",
   "source": "",
   "id": "2b9bdc1ad5bfd748",
   "execution_count": 98,
   "outputs": []
  },
  {
   "metadata": {},
   "cell_type": "markdown",
   "source": "# Evaluate the model",
   "id": "e5e0dab442046071"
  },
  {
   "metadata": {
    "ExecuteTime": {
     "end_time": "2025-02-17T18:52:11.855930Z",
     "start_time": "2025-02-17T18:52:11.851964Z"
    }
   },
   "cell_type": "code",
   "source": [
    "train_test_splits = [0.3, 0.2, 0.1]  \n",
    "random_seeds = [42, 7, 21]  \n",
    "dataset_sizes = [0.25, 0.5, 0.75, 1.0]  "
   ],
   "id": "689e1e76ebce0f59",
   "execution_count": 99,
   "outputs": []
  },
  {
   "metadata": {
    "ExecuteTime": {
     "end_time": "2025-02-17T18:52:11.922165Z",
     "start_time": "2025-02-17T18:52:11.861950Z"
    }
   },
   "cell_type": "code",
   "source": [
    "results = []\n",
    "\n",
    "for test_size in train_test_splits:\n",
    "    for seed in random_seeds:\n",
    "        for size in dataset_sizes:\n",
    "            mse, r2 = evaluate_model(X, y, test_size, seed, size)\n",
    "            results.append((size, test_size, seed, mse, r2))"
   ],
   "id": "3c063cd5c0e4cb16",
   "execution_count": 100,
   "outputs": []
  },
  {
   "metadata": {},
   "cell_type": "markdown",
   "source": "Run last two cells seperately to get the results",
   "id": "92ddedd9a74b5fcf"
  },
  {
   "metadata": {
    "ExecuteTime": {
     "end_time": "2025-02-17T18:52:11.922165Z",
     "start_time": "2025-02-17T18:52:11.922165Z"
    }
   },
   "cell_type": "code",
   "source": [
    "results_df = pd.DataFrame(results, columns=['Dataset Size', 'Test Size', 'Random Seed', 'MSE', 'R2 Score'])\n",
    "print(\"\\nFinal Results Summary:\\n\", results_df)\n"
   ],
   "id": "fbf8876b5f4ea83d",
   "execution_count": null,
   "outputs": []
  },
  {
   "metadata": {
    "ExecuteTime": {
     "end_time": "2025-02-17T18:52:11.922165Z",
     "start_time": "2025-02-17T18:52:11.922165Z"
    }
   },
   "cell_type": "code",
   "source": [
    "plt.figure(figsize=(10, 6))\n",
    "sns.lineplot(data=results_df, x=\"Dataset Size\", y=\"R2 Score\", hue=\"Test Size\", marker=\"o\")\n",
    "plt.title(\"Effect of Dataset Size on Model Performance\")\n",
    "plt.xlabel(\"Dataset Size\")\n",
    "plt.ylabel(\"R² Score\")\n",
    "plt.legend(title=\"Test Size\")\n",
    "plt.grid(True)\n",
    "plt.show()"
   ],
   "id": "d2e81d770fe7d48d",
   "execution_count": null,
   "outputs": []
  },
  {
   "metadata": {
    "ExecuteTime": {
     "end_time": "2025-02-17T18:52:11.926737Z",
     "start_time": "2025-02-17T18:52:11.926737Z"
    }
   },
   "cell_type": "code",
   "source": "",
   "id": "2a5dd8215021986b",
   "execution_count": null,
   "outputs": []
  }
 ],
 "metadata": {
  "kernelspec": {
   "display_name": "Python 3",
   "language": "python",
   "name": "python3"
  },
  "language_info": {
   "codemirror_mode": {
    "name": "ipython",
    "version": 2
   },
   "file_extension": ".py",
   "mimetype": "text/x-python",
   "name": "python",
   "nbconvert_exporter": "python",
   "pygments_lexer": "ipython2",
   "version": "2.7.6"
  }
 },
 "nbformat": 4,
 "nbformat_minor": 5
}
