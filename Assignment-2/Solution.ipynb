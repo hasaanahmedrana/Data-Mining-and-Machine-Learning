{
 "cells": [
  {
   "metadata": {
    "ExecuteTime": {
     "end_time": "2025-02-17T18:48:55.027085Z",
     "start_time": "2025-02-17T18:48:55.009581Z"
    }
   },
   "cell_type": "code",
   "source": [
    "import pandas as pd\n",
    "import numpy as np\n",
    "import matplotlib.pyplot as plt\n",
    "import seaborn as sns\n",
    "from sklearn.model_selection import train_test_split\n",
    "from sklearn.linear_model import LinearRegression\n",
    "from sklearn.metrics import mean_squared_error, r2_score\n",
    "from sklearn.preprocessing import StandardScaler"
   ],
   "id": "db167fb10d438352",
   "outputs": [],
   "execution_count": 53
  },
  {
   "metadata": {
    "ExecuteTime": {
     "end_time": "2025-02-17T18:48:55.053304Z",
     "start_time": "2025-02-17T18:48:55.047279Z"
    }
   },
   "cell_type": "code",
   "source": "# Load the dataset",
   "id": "f6b8539e05928105",
   "outputs": [],
   "execution_count": 54
  },
  {
   "metadata": {
    "ExecuteTime": {
     "end_time": "2025-02-17T18:48:55.091642Z",
     "start_time": "2025-02-17T18:48:55.071125Z"
    }
   },
   "cell_type": "code",
   "source": "df=pd.read_csv('house_price_regression_dataset.csv')",
   "id": "86cd2c72915158fb",
   "outputs": [],
   "execution_count": 55
  },
  {
   "metadata": {
    "ExecuteTime": {
     "end_time": "2025-02-17T18:48:55.098744Z",
     "start_time": "2025-02-17T18:48:55.091642Z"
    }
   },
   "cell_type": "code",
   "source": "# Understand the dataset",
   "id": "de283c433915940b",
   "outputs": [],
   "execution_count": 56
  },
  {
   "metadata": {
    "ExecuteTime": {
     "end_time": "2025-02-17T18:48:55.106594Z",
     "start_time": "2025-02-17T18:48:55.098744Z"
    }
   },
   "cell_type": "code",
   "source": "df.shape",
   "id": "a54f60b271db5386",
   "outputs": [
    {
     "data": {
      "text/plain": [
       "(1000, 8)"
      ]
     },
     "execution_count": 57,
     "metadata": {},
     "output_type": "execute_result"
    }
   ],
   "execution_count": 57
  },
  {
   "metadata": {
    "ExecuteTime": {
     "end_time": "2025-02-17T18:48:55.117110Z",
     "start_time": "2025-02-17T18:48:55.106594Z"
    }
   },
   "cell_type": "code",
   "source": "df.head()",
   "id": "a4acf5a610363fe6",
   "outputs": [
    {
     "data": {
      "text/plain": [
       "   Square_Footage  Num_Bedrooms  Num_Bathrooms  Year_Built  Lot_Size  \\\n",
       "0            1360             2              1        1981  0.599637   \n",
       "1            4272             3              3        2016  4.753014   \n",
       "2            3592             1              2        2016  3.634823   \n",
       "3             966             1              2        1977  2.730667   \n",
       "4            4926             2              1        1993  4.699073   \n",
       "\n",
       "   Garage_Size  Neighborhood_Quality   House_Price  \n",
       "0            0                     5  2.623829e+05  \n",
       "1            1                     6  9.852609e+05  \n",
       "2            0                     9  7.779774e+05  \n",
       "3            1                     8  2.296989e+05  \n",
       "4            0                     8  1.041741e+06  "
      ],
      "text/html": [
       "<div>\n",
       "<style scoped>\n",
       "    .dataframe tbody tr th:only-of-type {\n",
       "        vertical-align: middle;\n",
       "    }\n",
       "\n",
       "    .dataframe tbody tr th {\n",
       "        vertical-align: top;\n",
       "    }\n",
       "\n",
       "    .dataframe thead th {\n",
       "        text-align: right;\n",
       "    }\n",
       "</style>\n",
       "<table border=\"1\" class=\"dataframe\">\n",
       "  <thead>\n",
       "    <tr style=\"text-align: right;\">\n",
       "      <th></th>\n",
       "      <th>Square_Footage</th>\n",
       "      <th>Num_Bedrooms</th>\n",
       "      <th>Num_Bathrooms</th>\n",
       "      <th>Year_Built</th>\n",
       "      <th>Lot_Size</th>\n",
       "      <th>Garage_Size</th>\n",
       "      <th>Neighborhood_Quality</th>\n",
       "      <th>House_Price</th>\n",
       "    </tr>\n",
       "  </thead>\n",
       "  <tbody>\n",
       "    <tr>\n",
       "      <th>0</th>\n",
       "      <td>1360</td>\n",
       "      <td>2</td>\n",
       "      <td>1</td>\n",
       "      <td>1981</td>\n",
       "      <td>0.599637</td>\n",
       "      <td>0</td>\n",
       "      <td>5</td>\n",
       "      <td>2.623829e+05</td>\n",
       "    </tr>\n",
       "    <tr>\n",
       "      <th>1</th>\n",
       "      <td>4272</td>\n",
       "      <td>3</td>\n",
       "      <td>3</td>\n",
       "      <td>2016</td>\n",
       "      <td>4.753014</td>\n",
       "      <td>1</td>\n",
       "      <td>6</td>\n",
       "      <td>9.852609e+05</td>\n",
       "    </tr>\n",
       "    <tr>\n",
       "      <th>2</th>\n",
       "      <td>3592</td>\n",
       "      <td>1</td>\n",
       "      <td>2</td>\n",
       "      <td>2016</td>\n",
       "      <td>3.634823</td>\n",
       "      <td>0</td>\n",
       "      <td>9</td>\n",
       "      <td>7.779774e+05</td>\n",
       "    </tr>\n",
       "    <tr>\n",
       "      <th>3</th>\n",
       "      <td>966</td>\n",
       "      <td>1</td>\n",
       "      <td>2</td>\n",
       "      <td>1977</td>\n",
       "      <td>2.730667</td>\n",
       "      <td>1</td>\n",
       "      <td>8</td>\n",
       "      <td>2.296989e+05</td>\n",
       "    </tr>\n",
       "    <tr>\n",
       "      <th>4</th>\n",
       "      <td>4926</td>\n",
       "      <td>2</td>\n",
       "      <td>1</td>\n",
       "      <td>1993</td>\n",
       "      <td>4.699073</td>\n",
       "      <td>0</td>\n",
       "      <td>8</td>\n",
       "      <td>1.041741e+06</td>\n",
       "    </tr>\n",
       "  </tbody>\n",
       "</table>\n",
       "</div>"
      ]
     },
     "execution_count": 58,
     "metadata": {},
     "output_type": "execute_result"
    }
   ],
   "execution_count": 58
  },
  {
   "metadata": {
    "ExecuteTime": {
     "end_time": "2025-02-17T18:48:55.124642Z",
     "start_time": "2025-02-17T18:48:55.117110Z"
    }
   },
   "cell_type": "code",
   "source": "df.info()",
   "id": "fd7f6a2253de7472",
   "outputs": [
    {
     "name": "stdout",
     "output_type": "stream",
     "text": [
      "<class 'pandas.core.frame.DataFrame'>\n",
      "RangeIndex: 1000 entries, 0 to 999\n",
      "Data columns (total 8 columns):\n",
      " #   Column                Non-Null Count  Dtype  \n",
      "---  ------                --------------  -----  \n",
      " 0   Square_Footage        1000 non-null   int64  \n",
      " 1   Num_Bedrooms          1000 non-null   int64  \n",
      " 2   Num_Bathrooms         1000 non-null   int64  \n",
      " 3   Year_Built            1000 non-null   int64  \n",
      " 4   Lot_Size              1000 non-null   float64\n",
      " 5   Garage_Size           1000 non-null   int64  \n",
      " 6   Neighborhood_Quality  1000 non-null   int64  \n",
      " 7   House_Price           1000 non-null   float64\n",
      "dtypes: float64(2), int64(6)\n",
      "memory usage: 62.6 KB\n"
     ]
    }
   ],
   "execution_count": 59
  },
  {
   "metadata": {
    "ExecuteTime": {
     "end_time": "2025-02-17T18:48:55.167052Z",
     "start_time": "2025-02-17T18:48:55.147315Z"
    }
   },
   "cell_type": "code",
   "source": "df.describe()",
   "id": "a81e2f2b5dbe7d5d",
   "outputs": [
    {
     "data": {
      "text/plain": [
       "       Square_Footage  Num_Bedrooms  Num_Bathrooms   Year_Built     Lot_Size  \\\n",
       "count     1000.000000   1000.000000    1000.000000  1000.000000  1000.000000   \n",
       "mean      2815.422000      2.990000       1.973000  1986.550000     2.778087   \n",
       "std       1255.514921      1.427564       0.820332    20.632916     1.297903   \n",
       "min        503.000000      1.000000       1.000000  1950.000000     0.506058   \n",
       "25%       1749.500000      2.000000       1.000000  1969.000000     1.665946   \n",
       "50%       2862.500000      3.000000       2.000000  1986.000000     2.809740   \n",
       "75%       3849.500000      4.000000       3.000000  2004.250000     3.923317   \n",
       "max       4999.000000      5.000000       3.000000  2022.000000     4.989303   \n",
       "\n",
       "       Garage_Size  Neighborhood_Quality   House_Price  \n",
       "count  1000.000000           1000.000000  1.000000e+03  \n",
       "mean      1.022000              5.615000  6.188610e+05  \n",
       "std       0.814973              2.887059  2.535681e+05  \n",
       "min       0.000000              1.000000  1.116269e+05  \n",
       "25%       0.000000              3.000000  4.016482e+05  \n",
       "50%       1.000000              6.000000  6.282673e+05  \n",
       "75%       2.000000              8.000000  8.271413e+05  \n",
       "max       2.000000             10.000000  1.108237e+06  "
      ],
      "text/html": [
       "<div>\n",
       "<style scoped>\n",
       "    .dataframe tbody tr th:only-of-type {\n",
       "        vertical-align: middle;\n",
       "    }\n",
       "\n",
       "    .dataframe tbody tr th {\n",
       "        vertical-align: top;\n",
       "    }\n",
       "\n",
       "    .dataframe thead th {\n",
       "        text-align: right;\n",
       "    }\n",
       "</style>\n",
       "<table border=\"1\" class=\"dataframe\">\n",
       "  <thead>\n",
       "    <tr style=\"text-align: right;\">\n",
       "      <th></th>\n",
       "      <th>Square_Footage</th>\n",
       "      <th>Num_Bedrooms</th>\n",
       "      <th>Num_Bathrooms</th>\n",
       "      <th>Year_Built</th>\n",
       "      <th>Lot_Size</th>\n",
       "      <th>Garage_Size</th>\n",
       "      <th>Neighborhood_Quality</th>\n",
       "      <th>House_Price</th>\n",
       "    </tr>\n",
       "  </thead>\n",
       "  <tbody>\n",
       "    <tr>\n",
       "      <th>count</th>\n",
       "      <td>1000.000000</td>\n",
       "      <td>1000.000000</td>\n",
       "      <td>1000.000000</td>\n",
       "      <td>1000.000000</td>\n",
       "      <td>1000.000000</td>\n",
       "      <td>1000.000000</td>\n",
       "      <td>1000.000000</td>\n",
       "      <td>1.000000e+03</td>\n",
       "    </tr>\n",
       "    <tr>\n",
       "      <th>mean</th>\n",
       "      <td>2815.422000</td>\n",
       "      <td>2.990000</td>\n",
       "      <td>1.973000</td>\n",
       "      <td>1986.550000</td>\n",
       "      <td>2.778087</td>\n",
       "      <td>1.022000</td>\n",
       "      <td>5.615000</td>\n",
       "      <td>6.188610e+05</td>\n",
       "    </tr>\n",
       "    <tr>\n",
       "      <th>std</th>\n",
       "      <td>1255.514921</td>\n",
       "      <td>1.427564</td>\n",
       "      <td>0.820332</td>\n",
       "      <td>20.632916</td>\n",
       "      <td>1.297903</td>\n",
       "      <td>0.814973</td>\n",
       "      <td>2.887059</td>\n",
       "      <td>2.535681e+05</td>\n",
       "    </tr>\n",
       "    <tr>\n",
       "      <th>min</th>\n",
       "      <td>503.000000</td>\n",
       "      <td>1.000000</td>\n",
       "      <td>1.000000</td>\n",
       "      <td>1950.000000</td>\n",
       "      <td>0.506058</td>\n",
       "      <td>0.000000</td>\n",
       "      <td>1.000000</td>\n",
       "      <td>1.116269e+05</td>\n",
       "    </tr>\n",
       "    <tr>\n",
       "      <th>25%</th>\n",
       "      <td>1749.500000</td>\n",
       "      <td>2.000000</td>\n",
       "      <td>1.000000</td>\n",
       "      <td>1969.000000</td>\n",
       "      <td>1.665946</td>\n",
       "      <td>0.000000</td>\n",
       "      <td>3.000000</td>\n",
       "      <td>4.016482e+05</td>\n",
       "    </tr>\n",
       "    <tr>\n",
       "      <th>50%</th>\n",
       "      <td>2862.500000</td>\n",
       "      <td>3.000000</td>\n",
       "      <td>2.000000</td>\n",
       "      <td>1986.000000</td>\n",
       "      <td>2.809740</td>\n",
       "      <td>1.000000</td>\n",
       "      <td>6.000000</td>\n",
       "      <td>6.282673e+05</td>\n",
       "    </tr>\n",
       "    <tr>\n",
       "      <th>75%</th>\n",
       "      <td>3849.500000</td>\n",
       "      <td>4.000000</td>\n",
       "      <td>3.000000</td>\n",
       "      <td>2004.250000</td>\n",
       "      <td>3.923317</td>\n",
       "      <td>2.000000</td>\n",
       "      <td>8.000000</td>\n",
       "      <td>8.271413e+05</td>\n",
       "    </tr>\n",
       "    <tr>\n",
       "      <th>max</th>\n",
       "      <td>4999.000000</td>\n",
       "      <td>5.000000</td>\n",
       "      <td>3.000000</td>\n",
       "      <td>2022.000000</td>\n",
       "      <td>4.989303</td>\n",
       "      <td>2.000000</td>\n",
       "      <td>10.000000</td>\n",
       "      <td>1.108237e+06</td>\n",
       "    </tr>\n",
       "  </tbody>\n",
       "</table>\n",
       "</div>"
      ]
     },
     "execution_count": 60,
     "metadata": {},
     "output_type": "execute_result"
    }
   ],
   "execution_count": 60
  },
  {
   "metadata": {
    "ExecuteTime": {
     "end_time": "2025-02-17T18:48:55.174338Z",
     "start_time": "2025-02-17T18:48:55.167052Z"
    }
   },
   "cell_type": "code",
   "source": "df.isnull().sum()",
   "id": "cafbf7167d796929",
   "outputs": [
    {
     "data": {
      "text/plain": [
       "Square_Footage          0\n",
       "Num_Bedrooms            0\n",
       "Num_Bathrooms           0\n",
       "Year_Built              0\n",
       "Lot_Size                0\n",
       "Garage_Size             0\n",
       "Neighborhood_Quality    0\n",
       "House_Price             0\n",
       "dtype: int64"
      ]
     },
     "execution_count": 61,
     "metadata": {},
     "output_type": "execute_result"
    }
   ],
   "execution_count": 61
  },
  {
   "metadata": {
    "ExecuteTime": {
     "end_time": "2025-02-17T18:48:55.182395Z",
     "start_time": "2025-02-17T18:48:55.174338Z"
    }
   },
   "cell_type": "code",
   "source": "df.duplicated().sum()",
   "id": "35ce8dd3d07b1386",
   "outputs": [
    {
     "data": {
      "text/plain": [
       "np.int64(0)"
      ]
     },
     "execution_count": 62,
     "metadata": {},
     "output_type": "execute_result"
    }
   ],
   "execution_count": 62
  },
  {
   "metadata": {
    "ExecuteTime": {
     "end_time": "2025-02-17T18:48:55.189804Z",
     "start_time": "2025-02-17T18:48:55.182395Z"
    }
   },
   "cell_type": "code",
   "source": [
    "# Apply Feature Scaling\n",
    "scaler = StandardScaler()\n",
    "X_scaled = scaler.fit_transform(X)\n",
    "\n",
    "# Define train-test split sizes\n",
    "train_sizes = [0.5, 0.75]  # Adjusted to valid float values\n",
    "test_size = 0.3\n",
    "random_seed = 42"
   ],
   "id": "42927c2090864d49",
   "outputs": [],
   "execution_count": 63
  },
  {
   "metadata": {},
   "cell_type": "markdown",
   "source": "# Train Test Split",
   "id": "646aa53ac4d5cc24"
  },
  {
   "metadata": {
    "ExecuteTime": {
     "end_time": "2025-02-17T18:48:55.195679Z",
     "start_time": "2025-02-17T18:48:55.189804Z"
    }
   },
   "cell_type": "code",
   "source": [
    "target = 'House_Price'\n",
    "features = [col for col in df.columns if col != target]"
   ],
   "id": "9d933bd3ab02422f",
   "outputs": [],
   "execution_count": 64
  },
  {
   "metadata": {
    "ExecuteTime": {
     "end_time": "2025-02-17T18:48:55.202355Z",
     "start_time": "2025-02-17T18:48:55.195679Z"
    }
   },
   "cell_type": "code",
   "source": [
    "X = df[features]\n",
    "y = df[target]"
   ],
   "id": "6ba7147e42e73bde",
   "outputs": [],
   "execution_count": 65
  },
  {
   "metadata": {
    "ExecuteTime": {
     "end_time": "2025-02-17T18:48:55.232293Z",
     "start_time": "2025-02-17T18:48:55.219741Z"
    }
   },
   "cell_type": "code",
   "source": [
    "def evaluate_model(X, y, test_size, random_seed, dataset_fraction):\n",
    "    # Reduce dataset size if needed\n",
    "    X_sample, _, y_sample, _ = train_test_split(X, y, train_size=dataset_fraction, random_state=random_seed)\n",
    "\n",
    "    # Split into training and testing sets\n",
    "    X_train, X_test, y_train, y_test = train_test_split(X_sample, y_sample, test_size=test_size,\n",
    "                                                        random_state=random_seed)\n",
    "\n",
    "    # Train the model\n",
    "    model = LinearRegression()\n",
    "    model.fit(X_train, y_train)\n",
    "\n",
    "    # Predictions\n",
    "    y_pred = model.predict(X_test)\n",
    "\n",
    "    # Evaluation metrics\n",
    "    mse = mean_squared_error(y_test, y_pred)\n",
    "    r2 = r2_score(y_test, y_pred)\n",
    "\n",
    "    # Print evaluation results\n",
    "    print(f\"\\nTrain Size: {dataset_fraction * 100}% | Test Size: {test_size * 100}% | Random Seed: {random_seed}\")\n",
    "    print(f\"Mean Squared Error: {mse:.2f}\")\n",
    "    print(f\"R² Score: {r2:.4f}\")\n",
    "\n",
    "    return mse, r2"
   ],
   "id": "91de41fa3b08c372",
   "outputs": [],
   "execution_count": 66
  },
  {
   "metadata": {
    "ExecuteTime": {
     "end_time": "2025-02-17T18:48:55.319819Z",
     "start_time": "2025-02-17T18:48:55.315304Z"
    }
   },
   "cell_type": "code",
   "source": "",
   "id": "2b9bdc1ad5bfd748",
   "outputs": [],
   "execution_count": 66
  },
  {
   "metadata": {},
   "cell_type": "markdown",
   "source": "# Evaluate the model",
   "id": "e5e0dab442046071"
  },
  {
   "metadata": {
    "ExecuteTime": {
     "end_time": "2025-02-17T18:48:55.478976Z",
     "start_time": "2025-02-17T18:48:55.460869Z"
    }
   },
   "cell_type": "code",
   "source": [
    "train_test_splits = [0.3, 0.2, 0.1]  \n",
    "random_seeds = [42, 7, 21]  \n",
    "dataset_sizes = [0.25, 0.5, 0.75, 1.0]  "
   ],
   "id": "689e1e76ebce0f59",
   "outputs": [],
   "execution_count": 67
  },
  {
   "metadata": {
    "ExecuteTime": {
     "end_time": "2025-02-17T18:48:55.531196Z",
     "start_time": "2025-02-17T18:48:55.478976Z"
    }
   },
   "cell_type": "code",
   "source": [
    "results = []\n",
    "\n",
    "for test_size in train_test_splits:\n",
    "    for seed in random_seeds:\n",
    "        for size in dataset_sizes:\n",
    "            mse, r2 = evaluate_model(X, y, test_size, seed, size)\n",
    "            results.append((size, test_size, seed, mse, r2))"
   ],
   "id": "3c063cd5c0e4cb16",
   "outputs": [
    {
     "name": "stdout",
     "output_type": "stream",
     "text": [
      "\n",
      "Train Size: 25.0% | Test Size: 30.0% | Random Seed: 42\n",
      "Mean Squared Error: 61106327.30\n",
      "R² Score: 0.9991\n",
      "\n",
      "Train Size: 50.0% | Test Size: 30.0% | Random Seed: 42\n",
      "Mean Squared Error: 98373292.33\n",
      "R² Score: 0.9985\n",
      "\n",
      "Train Size: 75.0% | Test Size: 30.0% | Random Seed: 42\n",
      "Mean Squared Error: 91276310.99\n",
      "R² Score: 0.9986\n"
     ]
    },
    {
     "ename": "InvalidParameterError",
     "evalue": "The 'train_size' parameter of train_test_split must be a float in the range (0.0, 1.0), an int in the range [1, inf) or None. Got 1.0 instead.",
     "output_type": "error",
     "traceback": [
      "\u001B[1;31m---------------------------------------------------------------------------\u001B[0m",
      "\u001B[1;31mInvalidParameterError\u001B[0m                     Traceback (most recent call last)",
      "Cell \u001B[1;32mIn[68], line 6\u001B[0m\n\u001B[0;32m      4\u001B[0m \u001B[38;5;28;01mfor\u001B[39;00m seed \u001B[38;5;129;01min\u001B[39;00m random_seeds:\n\u001B[0;32m      5\u001B[0m     \u001B[38;5;28;01mfor\u001B[39;00m size \u001B[38;5;129;01min\u001B[39;00m dataset_sizes:\n\u001B[1;32m----> 6\u001B[0m         mse, r2 \u001B[38;5;241m=\u001B[39m \u001B[43mevaluate_model\u001B[49m\u001B[43m(\u001B[49m\u001B[43mX\u001B[49m\u001B[43m,\u001B[49m\u001B[43m \u001B[49m\u001B[43my\u001B[49m\u001B[43m,\u001B[49m\u001B[43m \u001B[49m\u001B[43mtest_size\u001B[49m\u001B[43m,\u001B[49m\u001B[43m \u001B[49m\u001B[43mseed\u001B[49m\u001B[43m,\u001B[49m\u001B[43m \u001B[49m\u001B[43msize\u001B[49m\u001B[43m)\u001B[49m\n\u001B[0;32m      7\u001B[0m         results\u001B[38;5;241m.\u001B[39mappend((size, test_size, seed, mse, r2))\n",
      "Cell \u001B[1;32mIn[66], line 3\u001B[0m, in \u001B[0;36mevaluate_model\u001B[1;34m(X, y, test_size, random_seed, dataset_fraction)\u001B[0m\n\u001B[0;32m      1\u001B[0m \u001B[38;5;28;01mdef\u001B[39;00m \u001B[38;5;21mevaluate_model\u001B[39m(X, y, test_size, random_seed, dataset_fraction):\n\u001B[0;32m      2\u001B[0m     \u001B[38;5;66;03m# Reduce dataset size if needed\u001B[39;00m\n\u001B[1;32m----> 3\u001B[0m     X_sample, _, y_sample, _ \u001B[38;5;241m=\u001B[39m \u001B[43mtrain_test_split\u001B[49m\u001B[43m(\u001B[49m\u001B[43mX\u001B[49m\u001B[43m,\u001B[49m\u001B[43m \u001B[49m\u001B[43my\u001B[49m\u001B[43m,\u001B[49m\u001B[43m \u001B[49m\u001B[43mtrain_size\u001B[49m\u001B[38;5;241;43m=\u001B[39;49m\u001B[43mdataset_fraction\u001B[49m\u001B[43m,\u001B[49m\u001B[43m \u001B[49m\u001B[43mrandom_state\u001B[49m\u001B[38;5;241;43m=\u001B[39;49m\u001B[43mrandom_seed\u001B[49m\u001B[43m)\u001B[49m\n\u001B[0;32m      5\u001B[0m     \u001B[38;5;66;03m# Split into training and testing sets\u001B[39;00m\n\u001B[0;32m      6\u001B[0m     X_train, X_test, y_train, y_test \u001B[38;5;241m=\u001B[39m train_test_split(X_sample, y_sample, test_size\u001B[38;5;241m=\u001B[39mtest_size,\n\u001B[0;32m      7\u001B[0m                                                         random_state\u001B[38;5;241m=\u001B[39mrandom_seed)\n",
      "File \u001B[1;32m~\\AppData\\Local\\Programs\\Python\\Python312\\Lib\\site-packages\\sklearn\\utils\\_param_validation.py:206\u001B[0m, in \u001B[0;36mvalidate_params.<locals>.decorator.<locals>.wrapper\u001B[1;34m(*args, **kwargs)\u001B[0m\n\u001B[0;32m    203\u001B[0m to_ignore \u001B[38;5;241m+\u001B[39m\u001B[38;5;241m=\u001B[39m [\u001B[38;5;124m\"\u001B[39m\u001B[38;5;124mself\u001B[39m\u001B[38;5;124m\"\u001B[39m, \u001B[38;5;124m\"\u001B[39m\u001B[38;5;124mcls\u001B[39m\u001B[38;5;124m\"\u001B[39m]\n\u001B[0;32m    204\u001B[0m params \u001B[38;5;241m=\u001B[39m {k: v \u001B[38;5;28;01mfor\u001B[39;00m k, v \u001B[38;5;129;01min\u001B[39;00m params\u001B[38;5;241m.\u001B[39marguments\u001B[38;5;241m.\u001B[39mitems() \u001B[38;5;28;01mif\u001B[39;00m k \u001B[38;5;129;01mnot\u001B[39;00m \u001B[38;5;129;01min\u001B[39;00m to_ignore}\n\u001B[1;32m--> 206\u001B[0m \u001B[43mvalidate_parameter_constraints\u001B[49m\u001B[43m(\u001B[49m\n\u001B[0;32m    207\u001B[0m \u001B[43m    \u001B[49m\u001B[43mparameter_constraints\u001B[49m\u001B[43m,\u001B[49m\u001B[43m \u001B[49m\u001B[43mparams\u001B[49m\u001B[43m,\u001B[49m\u001B[43m \u001B[49m\u001B[43mcaller_name\u001B[49m\u001B[38;5;241;43m=\u001B[39;49m\u001B[43mfunc\u001B[49m\u001B[38;5;241;43m.\u001B[39;49m\u001B[38;5;18;43m__qualname__\u001B[39;49m\n\u001B[0;32m    208\u001B[0m \u001B[43m\u001B[49m\u001B[43m)\u001B[49m\n\u001B[0;32m    210\u001B[0m \u001B[38;5;28;01mtry\u001B[39;00m:\n\u001B[0;32m    211\u001B[0m     \u001B[38;5;28;01mwith\u001B[39;00m config_context(\n\u001B[0;32m    212\u001B[0m         skip_parameter_validation\u001B[38;5;241m=\u001B[39m(\n\u001B[0;32m    213\u001B[0m             prefer_skip_nested_validation \u001B[38;5;129;01mor\u001B[39;00m global_skip_validation\n\u001B[0;32m    214\u001B[0m         )\n\u001B[0;32m    215\u001B[0m     ):\n",
      "File \u001B[1;32m~\\AppData\\Local\\Programs\\Python\\Python312\\Lib\\site-packages\\sklearn\\utils\\_param_validation.py:98\u001B[0m, in \u001B[0;36mvalidate_parameter_constraints\u001B[1;34m(parameter_constraints, params, caller_name)\u001B[0m\n\u001B[0;32m     92\u001B[0m \u001B[38;5;28;01melse\u001B[39;00m:\n\u001B[0;32m     93\u001B[0m     constraints_str \u001B[38;5;241m=\u001B[39m (\n\u001B[0;32m     94\u001B[0m         \u001B[38;5;124mf\u001B[39m\u001B[38;5;124m\"\u001B[39m\u001B[38;5;132;01m{\u001B[39;00m\u001B[38;5;124m'\u001B[39m\u001B[38;5;124m, \u001B[39m\u001B[38;5;124m'\u001B[39m\u001B[38;5;241m.\u001B[39mjoin([\u001B[38;5;28mstr\u001B[39m(c)\u001B[38;5;250m \u001B[39m\u001B[38;5;28;01mfor\u001B[39;00m\u001B[38;5;250m \u001B[39mc\u001B[38;5;250m \u001B[39m\u001B[38;5;129;01min\u001B[39;00m\u001B[38;5;250m \u001B[39mconstraints[:\u001B[38;5;241m-\u001B[39m\u001B[38;5;241m1\u001B[39m]])\u001B[38;5;132;01m}\u001B[39;00m\u001B[38;5;124m or\u001B[39m\u001B[38;5;124m\"\u001B[39m\n\u001B[0;32m     95\u001B[0m         \u001B[38;5;124mf\u001B[39m\u001B[38;5;124m\"\u001B[39m\u001B[38;5;124m \u001B[39m\u001B[38;5;132;01m{\u001B[39;00mconstraints[\u001B[38;5;241m-\u001B[39m\u001B[38;5;241m1\u001B[39m]\u001B[38;5;132;01m}\u001B[39;00m\u001B[38;5;124m\"\u001B[39m\n\u001B[0;32m     96\u001B[0m     )\n\u001B[1;32m---> 98\u001B[0m \u001B[38;5;28;01mraise\u001B[39;00m InvalidParameterError(\n\u001B[0;32m     99\u001B[0m     \u001B[38;5;124mf\u001B[39m\u001B[38;5;124m\"\u001B[39m\u001B[38;5;124mThe \u001B[39m\u001B[38;5;132;01m{\u001B[39;00mparam_name\u001B[38;5;132;01m!r}\u001B[39;00m\u001B[38;5;124m parameter of \u001B[39m\u001B[38;5;132;01m{\u001B[39;00mcaller_name\u001B[38;5;132;01m}\u001B[39;00m\u001B[38;5;124m must be\u001B[39m\u001B[38;5;124m\"\u001B[39m\n\u001B[0;32m    100\u001B[0m     \u001B[38;5;124mf\u001B[39m\u001B[38;5;124m\"\u001B[39m\u001B[38;5;124m \u001B[39m\u001B[38;5;132;01m{\u001B[39;00mconstraints_str\u001B[38;5;132;01m}\u001B[39;00m\u001B[38;5;124m. Got \u001B[39m\u001B[38;5;132;01m{\u001B[39;00mparam_val\u001B[38;5;132;01m!r}\u001B[39;00m\u001B[38;5;124m instead.\u001B[39m\u001B[38;5;124m\"\u001B[39m\n\u001B[0;32m    101\u001B[0m )\n",
      "\u001B[1;31mInvalidParameterError\u001B[0m: The 'train_size' parameter of train_test_split must be a float in the range (0.0, 1.0), an int in the range [1, inf) or None. Got 1.0 instead."
     ]
    }
   ],
   "execution_count": 68
  },
  {
   "metadata": {
    "ExecuteTime": {
     "end_time": "2025-02-17T18:50:07.891763Z",
     "start_time": "2025-02-17T18:50:07.860105Z"
    }
   },
   "cell_type": "code",
   "source": [
    "results_df = pd.DataFrame(results, columns=['Dataset Size', 'Test Size', 'Random Seed', 'MSE', 'R2 Score'])\n",
    "print(\"\\nFinal Results Summary:\\n\", results_df)\n"
   ],
   "id": "fbf8876b5f4ea83d",
   "outputs": [
    {
     "name": "stdout",
     "output_type": "stream",
     "text": [
      "\n",
      "Final Results Summary:\n",
      "    Dataset Size  Test Size  Random Seed           MSE  R2 Score\n",
      "0          0.25        0.3           42  6.110633e+07  0.999094\n",
      "1          0.50        0.3           42  9.837329e+07  0.998460\n",
      "2          0.75        0.3           42  9.127631e+07  0.998637\n"
     ]
    }
   ],
   "execution_count": 69
  },
  {
   "metadata": {
    "ExecuteTime": {
     "end_time": "2025-02-17T18:50:08.959922Z",
     "start_time": "2025-02-17T18:50:08.783501Z"
    }
   },
   "cell_type": "code",
   "source": [
    "plt.figure(figsize=(10, 6))\n",
    "sns.lineplot(data=results_df, x=\"Dataset Size\", y=\"R2 Score\", hue=\"Test Size\", marker=\"o\")\n",
    "plt.title(\"Effect of Dataset Size on Model Performance\")\n",
    "plt.xlabel(\"Dataset Size\")\n",
    "plt.ylabel(\"R² Score\")\n",
    "plt.legend(title=\"Test Size\")\n",
    "plt.grid(True)\n",
    "plt.show()"
   ],
   "id": "d2e81d770fe7d48d",
   "outputs": [
    {
     "data": {
      "text/plain": [
       "<Figure size 1000x600 with 1 Axes>"
      ],
      "image/png": "[encoded data removed]"
     },
     "metadata": {},
     "output_type": "display_data"
    }
   ],
   "execution_count": 70
  },
  {
   "metadata": {
    "ExecuteTime": {
     "end_time": "2025-02-17T18:48:55.542970Z",
     "start_time": "2025-02-17T18:48:55.538770Z"
    }
   },
   "cell_type": "code",
   "source": "",
   "id": "2a5dd8215021986b",
   "outputs": [],
   "execution_count": 68
  }
 ],
 "metadata": {
  "kernelspec": {
   "display_name": "Python 3",
   "language": "python",
   "name": "python3"
  },
  "language_info": {
   "codemirror_mode": {
    "name": "ipython",
    "version": 2
   },
   "file_extension": ".py",
   "mimetype": "text/x-python",
   "name": "python",
   "nbconvert_exporter": "python",
   "pygments_lexer": "ipython2",
   "version": "2.7.6"
  }
 },
 "nbformat": 4,
 "nbformat_minor": 5
}
